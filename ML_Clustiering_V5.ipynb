{
 "cells": [
  {
   "cell_type": "markdown",
   "id": "eca78285-b8b5-4f3d-a1e4-ecd9c7a65447",
   "metadata": {},
   "source": [
    "# pca clustering / n_clusters = 3"
   ]
  },
  {
   "cell_type": "markdown",
   "id": "1f465a81-7649-4552-bf7d-34550f8514ad",
   "metadata": {},
   "source": [
    "# 라이브러리를 불러옵니다"
   ]
  },
  {
   "cell_type": "code",
   "execution_count": 1,
   "id": "0f62649f-1c1d-4516-a935-81de6a24b924",
   "metadata": {},
   "outputs": [],
   "source": [
    "import pandas as pd\n",
    "import numpy as np\n",
    "import seaborn as sns\n",
    "import matplotlib.pyplot as plt"
   ]
  },
  {
   "cell_type": "code",
   "execution_count": 2,
   "id": "56185f88-5df3-4a6c-bd72-8f3096e91c49",
   "metadata": {},
   "outputs": [],
   "source": [
    "# 핑크색 warning 안내문 방지 \n",
    "import warnings\n",
    "warnings.filterwarnings('ignore')"
   ]
  },
  {
   "cell_type": "markdown",
   "id": "6db3739e-c592-4a85-aa42-62701d911353",
   "metadata": {
    "tags": []
   },
   "source": [
    "# 한글폰트 사용을 위한 세팅"
   ]
  },
  {
   "cell_type": "code",
   "execution_count": 3,
   "id": "ade2b48b-1998-48d9-b98c-4cff267f0b73",
   "metadata": {},
   "outputs": [],
   "source": [
    "def get_font_family():\n",
    "    \"\"\"\n",
    "    시스템 환경에 따른 기본 폰트명을 반환하는 함수\n",
    "    \"\"\"\n",
    "    import platform\n",
    "    system_name = platform.system()\n",
    "\n",
    "    if system_name == \"Darwin\" :\n",
    "        font_family = \"AppleGothic\"\n",
    "    elif system_name == \"Windows\":\n",
    "        font_family = \"Malgun Gothic\"\n",
    "    else:\n",
    "        # Linux(Colab)\n",
    "        !apt-get install fonts-nanum -qq  > /dev/null\n",
    "        !fc-cache -fv\n",
    "\n",
    "        import matplotlib as mpl\n",
    "        mpl.font_manager._rebuild()\n",
    "        findfont = mpl.font_manager.fontManager.findfont\n",
    "        mpl.font_manager.findfont = findfont\n",
    "        mpl.backends.backend_agg.findfont = findfont\n",
    "        \n",
    "        font_family = \"NanumBarunGothic\"\n",
    "    return font_family\n",
    "\n",
    "plt.rc(\"font\", family=get_font_family())\n",
    "plt.rc(\"axes\", unicode_minus=False)"
   ]
  },
  {
   "cell_type": "markdown",
   "id": "8bbe05da-eb21-49ee-9605-038deecac028",
   "metadata": {
    "tags": []
   },
   "source": [
    "# 데이터 셋 로드 "
   ]
  },
  {
   "cell_type": "code",
   "execution_count": 4,
   "id": "06718f5a-8d02-4e95-9e79-bc794083d5df",
   "metadata": {},
   "outputs": [],
   "source": [
    "import glob "
   ]
  },
  {
   "cell_type": "code",
   "execution_count": 5,
   "id": "9a750b0e-8fc5-4d33-b342-a94ab1df9921",
   "metadata": {},
   "outputs": [
    {
     "data": {
      "text/plain": [
       "['pets_cleansed.csv']"
      ]
     },
     "execution_count": 5,
     "metadata": {},
     "output_type": "execute_result"
    }
   ],
   "source": [
    "path = glob.glob('*.csv')\n",
    "path"
   ]
  },
  {
   "cell_type": "code",
   "execution_count": 6,
   "id": "6eb9909e-f4b5-4a90-a742-053d823ea978",
   "metadata": {},
   "outputs": [
    {
     "data": {
      "text/html": [
       "<div>\n",
       "<style scoped>\n",
       "    .dataframe tbody tr th:only-of-type {\n",
       "        vertical-align: middle;\n",
       "    }\n",
       "\n",
       "    .dataframe tbody tr th {\n",
       "        vertical-align: top;\n",
       "    }\n",
       "\n",
       "    .dataframe thead th {\n",
       "        text-align: right;\n",
       "    }\n",
       "</style>\n",
       "<table border=\"1\" class=\"dataframe\">\n",
       "  <thead>\n",
       "    <tr style=\"text-align: right;\">\n",
       "      <th></th>\n",
       "      <th>품종</th>\n",
       "      <th>나이</th>\n",
       "      <th>산책시간(시간)</th>\n",
       "      <th>체중</th>\n",
       "      <th>성별</th>\n",
       "      <th>중성화여부</th>\n",
       "      <th>색상</th>\n",
       "      <th>음수량</th>\n",
       "      <th>성별_라벨링</th>\n",
       "      <th>중성화_라벨링</th>\n",
       "      <th>크기</th>\n",
       "      <th>크기_라벨링</th>\n",
       "    </tr>\n",
       "  </thead>\n",
       "  <tbody>\n",
       "    <tr>\n",
       "      <th>0</th>\n",
       "      <td>골든 리트리버</td>\n",
       "      <td>13</td>\n",
       "      <td>0.5</td>\n",
       "      <td>27.0</td>\n",
       "      <td>M</td>\n",
       "      <td>N</td>\n",
       "      <td>갈색</td>\n",
       "      <td>1755.0</td>\n",
       "      <td>1</td>\n",
       "      <td>0</td>\n",
       "      <td>대</td>\n",
       "      <td>2</td>\n",
       "    </tr>\n",
       "    <tr>\n",
       "      <th>1</th>\n",
       "      <td>골든 리트리버</td>\n",
       "      <td>10</td>\n",
       "      <td>0.5</td>\n",
       "      <td>25.0</td>\n",
       "      <td>F</td>\n",
       "      <td>N</td>\n",
       "      <td>갈색</td>\n",
       "      <td>1625.0</td>\n",
       "      <td>0</td>\n",
       "      <td>0</td>\n",
       "      <td>대</td>\n",
       "      <td>2</td>\n",
       "    </tr>\n",
       "    <tr>\n",
       "      <th>2</th>\n",
       "      <td>골든 리트리버</td>\n",
       "      <td>9</td>\n",
       "      <td>0.5</td>\n",
       "      <td>40.0</td>\n",
       "      <td>M</td>\n",
       "      <td>N</td>\n",
       "      <td>갈색</td>\n",
       "      <td>2600.0</td>\n",
       "      <td>1</td>\n",
       "      <td>0</td>\n",
       "      <td>대</td>\n",
       "      <td>2</td>\n",
       "    </tr>\n",
       "    <tr>\n",
       "      <th>3</th>\n",
       "      <td>골든 리트리버</td>\n",
       "      <td>8</td>\n",
       "      <td>0.5</td>\n",
       "      <td>28.0</td>\n",
       "      <td>F</td>\n",
       "      <td>N</td>\n",
       "      <td>갈색</td>\n",
       "      <td>1820.0</td>\n",
       "      <td>0</td>\n",
       "      <td>0</td>\n",
       "      <td>대</td>\n",
       "      <td>2</td>\n",
       "    </tr>\n",
       "    <tr>\n",
       "      <th>4</th>\n",
       "      <td>골든 리트리버</td>\n",
       "      <td>8</td>\n",
       "      <td>0.5</td>\n",
       "      <td>33.0</td>\n",
       "      <td>M</td>\n",
       "      <td>N</td>\n",
       "      <td>갈색</td>\n",
       "      <td>2145.0</td>\n",
       "      <td>1</td>\n",
       "      <td>0</td>\n",
       "      <td>대</td>\n",
       "      <td>2</td>\n",
       "    </tr>\n",
       "    <tr>\n",
       "      <th>...</th>\n",
       "      <td>...</td>\n",
       "      <td>...</td>\n",
       "      <td>...</td>\n",
       "      <td>...</td>\n",
       "      <td>...</td>\n",
       "      <td>...</td>\n",
       "      <td>...</td>\n",
       "      <td>...</td>\n",
       "      <td>...</td>\n",
       "      <td>...</td>\n",
       "      <td>...</td>\n",
       "      <td>...</td>\n",
       "    </tr>\n",
       "    <tr>\n",
       "      <th>5669</th>\n",
       "      <td>프렌치불독</td>\n",
       "      <td>1</td>\n",
       "      <td>0.8</td>\n",
       "      <td>4.0</td>\n",
       "      <td>M</td>\n",
       "      <td>N</td>\n",
       "      <td>흑</td>\n",
       "      <td>260.0</td>\n",
       "      <td>1</td>\n",
       "      <td>0</td>\n",
       "      <td>소</td>\n",
       "      <td>0</td>\n",
       "    </tr>\n",
       "    <tr>\n",
       "      <th>5670</th>\n",
       "      <td>프렌치불독</td>\n",
       "      <td>0</td>\n",
       "      <td>0.5</td>\n",
       "      <td>3.5</td>\n",
       "      <td>M</td>\n",
       "      <td>N</td>\n",
       "      <td>검정</td>\n",
       "      <td>227.5</td>\n",
       "      <td>1</td>\n",
       "      <td>0</td>\n",
       "      <td>소</td>\n",
       "      <td>0</td>\n",
       "    </tr>\n",
       "    <tr>\n",
       "      <th>5671</th>\n",
       "      <td>프렌치불독</td>\n",
       "      <td>0</td>\n",
       "      <td>0.5</td>\n",
       "      <td>5.2</td>\n",
       "      <td>M</td>\n",
       "      <td>N</td>\n",
       "      <td>백색, 갈색, 흑색</td>\n",
       "      <td>338.0</td>\n",
       "      <td>1</td>\n",
       "      <td>0</td>\n",
       "      <td>소</td>\n",
       "      <td>0</td>\n",
       "    </tr>\n",
       "    <tr>\n",
       "      <th>5672</th>\n",
       "      <td>화이트테리어</td>\n",
       "      <td>13</td>\n",
       "      <td>0.5</td>\n",
       "      <td>7.3</td>\n",
       "      <td>F</td>\n",
       "      <td>Y</td>\n",
       "      <td>흰</td>\n",
       "      <td>474.5</td>\n",
       "      <td>0</td>\n",
       "      <td>1</td>\n",
       "      <td>소</td>\n",
       "      <td>0</td>\n",
       "    </tr>\n",
       "    <tr>\n",
       "      <th>5673</th>\n",
       "      <td>휘펫</td>\n",
       "      <td>2</td>\n",
       "      <td>1.0</td>\n",
       "      <td>14.0</td>\n",
       "      <td>M</td>\n",
       "      <td>N</td>\n",
       "      <td>베이지</td>\n",
       "      <td>910.0</td>\n",
       "      <td>1</td>\n",
       "      <td>0</td>\n",
       "      <td>중</td>\n",
       "      <td>1</td>\n",
       "    </tr>\n",
       "  </tbody>\n",
       "</table>\n",
       "<p>5674 rows × 12 columns</p>\n",
       "</div>"
      ],
      "text/plain": [
       "           품종  나이  산책시간(시간)    체중 성별 중성화여부          색상     음수량  성별_라벨링  \\\n",
       "0     골든 리트리버  13       0.5  27.0  M     N          갈색  1755.0       1   \n",
       "1     골든 리트리버  10       0.5  25.0  F     N          갈색  1625.0       0   \n",
       "2     골든 리트리버   9       0.5  40.0  M     N          갈색  2600.0       1   \n",
       "3     골든 리트리버   8       0.5  28.0  F     N          갈색  1820.0       0   \n",
       "4     골든 리트리버   8       0.5  33.0  M     N          갈색  2145.0       1   \n",
       "...       ...  ..       ...   ... ..   ...         ...     ...     ...   \n",
       "5669    프렌치불독   1       0.8   4.0  M     N           흑   260.0       1   \n",
       "5670    프렌치불독   0       0.5   3.5  M     N          검정   227.5       1   \n",
       "5671    프렌치불독   0       0.5   5.2  M     N  백색, 갈색, 흑색   338.0       1   \n",
       "5672   화이트테리어  13       0.5   7.3  F     Y           흰   474.5       0   \n",
       "5673       휘펫   2       1.0  14.0  M     N         베이지   910.0       1   \n",
       "\n",
       "      중성화_라벨링 크기  크기_라벨링  \n",
       "0           0  대       2  \n",
       "1           0  대       2  \n",
       "2           0  대       2  \n",
       "3           0  대       2  \n",
       "4           0  대       2  \n",
       "...       ... ..     ...  \n",
       "5669        0  소       0  \n",
       "5670        0  소       0  \n",
       "5671        0  소       0  \n",
       "5672        1  소       0  \n",
       "5673        0  중       1  \n",
       "\n",
       "[5674 rows x 12 columns]"
      ]
     },
     "execution_count": 6,
     "metadata": {},
     "output_type": "execute_result"
    }
   ],
   "source": [
    "df = pd.read_csv(path[0], encoding = 'utf-8')\n",
    "df"
   ]
  },
  {
   "cell_type": "markdown",
   "id": "c0260e06-77e2-4f27-96cd-18b957ef2b7d",
   "metadata": {},
   "source": [
    "# 데이터 살펴보기 "
   ]
  },
  {
   "cell_type": "code",
   "execution_count": 7,
   "id": "838d37dd-01d6-4797-972e-cb245e97a241",
   "metadata": {},
   "outputs": [
    {
     "name": "stdout",
     "output_type": "stream",
     "text": [
      "<class 'pandas.core.frame.DataFrame'>\n",
      "RangeIndex: 5674 entries, 0 to 5673\n",
      "Data columns (total 12 columns):\n",
      " #   Column    Non-Null Count  Dtype  \n",
      "---  ------    --------------  -----  \n",
      " 0   품종        5674 non-null   object \n",
      " 1   나이        5674 non-null   int64  \n",
      " 2   산책시간(시간)  5674 non-null   float64\n",
      " 3   체중        5674 non-null   float64\n",
      " 4   성별        5674 non-null   object \n",
      " 5   중성화여부     5674 non-null   object \n",
      " 6   색상        5674 non-null   object \n",
      " 7   음수량       5674 non-null   float64\n",
      " 8   성별_라벨링    5674 non-null   int64  \n",
      " 9   중성화_라벨링   5674 non-null   int64  \n",
      " 10  크기        5674 non-null   object \n",
      " 11  크기_라벨링    5674 non-null   int64  \n",
      "dtypes: float64(3), int64(4), object(5)\n",
      "memory usage: 532.1+ KB\n"
     ]
    }
   ],
   "source": [
    "df.info()"
   ]
  },
  {
   "cell_type": "code",
   "execution_count": 8,
   "id": "19c251d1-2056-4b4c-a14b-92ad0805a8dc",
   "metadata": {},
   "outputs": [
    {
     "data": {
      "text/html": [
       "<div>\n",
       "<style scoped>\n",
       "    .dataframe tbody tr th:only-of-type {\n",
       "        vertical-align: middle;\n",
       "    }\n",
       "\n",
       "    .dataframe tbody tr th {\n",
       "        vertical-align: top;\n",
       "    }\n",
       "\n",
       "    .dataframe thead th {\n",
       "        text-align: right;\n",
       "    }\n",
       "</style>\n",
       "<table border=\"1\" class=\"dataframe\">\n",
       "  <thead>\n",
       "    <tr style=\"text-align: right;\">\n",
       "      <th></th>\n",
       "      <th>나이</th>\n",
       "      <th>산책시간(시간)</th>\n",
       "      <th>체중</th>\n",
       "      <th>음수량</th>\n",
       "      <th>성별_라벨링</th>\n",
       "      <th>중성화_라벨링</th>\n",
       "      <th>크기_라벨링</th>\n",
       "    </tr>\n",
       "  </thead>\n",
       "  <tbody>\n",
       "    <tr>\n",
       "      <th>count</th>\n",
       "      <td>5674.000000</td>\n",
       "      <td>5674.000000</td>\n",
       "      <td>5674.000000</td>\n",
       "      <td>5674.000000</td>\n",
       "      <td>5674.000000</td>\n",
       "      <td>5674.000000</td>\n",
       "      <td>5674.000000</td>\n",
       "    </tr>\n",
       "    <tr>\n",
       "      <th>mean</th>\n",
       "      <td>1.955939</td>\n",
       "      <td>0.892510</td>\n",
       "      <td>7.444949</td>\n",
       "      <td>483.921678</td>\n",
       "      <td>0.649806</td>\n",
       "      <td>0.087769</td>\n",
       "      <td>0.346493</td>\n",
       "    </tr>\n",
       "    <tr>\n",
       "      <th>std</th>\n",
       "      <td>2.603371</td>\n",
       "      <td>0.163133</td>\n",
       "      <td>6.894764</td>\n",
       "      <td>448.159680</td>\n",
       "      <td>0.477073</td>\n",
       "      <td>0.282983</td>\n",
       "      <td>0.610848</td>\n",
       "    </tr>\n",
       "    <tr>\n",
       "      <th>min</th>\n",
       "      <td>0.000000</td>\n",
       "      <td>0.500000</td>\n",
       "      <td>0.040000</td>\n",
       "      <td>2.600000</td>\n",
       "      <td>0.000000</td>\n",
       "      <td>0.000000</td>\n",
       "      <td>0.000000</td>\n",
       "    </tr>\n",
       "    <tr>\n",
       "      <th>25%</th>\n",
       "      <td>0.000000</td>\n",
       "      <td>0.800000</td>\n",
       "      <td>2.655000</td>\n",
       "      <td>172.575000</td>\n",
       "      <td>0.000000</td>\n",
       "      <td>0.000000</td>\n",
       "      <td>0.000000</td>\n",
       "    </tr>\n",
       "    <tr>\n",
       "      <th>50%</th>\n",
       "      <td>1.000000</td>\n",
       "      <td>0.800000</td>\n",
       "      <td>5.000000</td>\n",
       "      <td>325.000000</td>\n",
       "      <td>1.000000</td>\n",
       "      <td>0.000000</td>\n",
       "      <td>0.000000</td>\n",
       "    </tr>\n",
       "    <tr>\n",
       "      <th>75%</th>\n",
       "      <td>3.000000</td>\n",
       "      <td>1.000000</td>\n",
       "      <td>10.000000</td>\n",
       "      <td>650.000000</td>\n",
       "      <td>1.000000</td>\n",
       "      <td>0.000000</td>\n",
       "      <td>1.000000</td>\n",
       "    </tr>\n",
       "    <tr>\n",
       "      <th>max</th>\n",
       "      <td>18.000000</td>\n",
       "      <td>1.500000</td>\n",
       "      <td>60.000000</td>\n",
       "      <td>3900.000000</td>\n",
       "      <td>1.000000</td>\n",
       "      <td>1.000000</td>\n",
       "      <td>2.000000</td>\n",
       "    </tr>\n",
       "  </tbody>\n",
       "</table>\n",
       "</div>"
      ],
      "text/plain": [
       "                나이     산책시간(시간)           체중          음수량       성별_라벨링  \\\n",
       "count  5674.000000  5674.000000  5674.000000  5674.000000  5674.000000   \n",
       "mean      1.955939     0.892510     7.444949   483.921678     0.649806   \n",
       "std       2.603371     0.163133     6.894764   448.159680     0.477073   \n",
       "min       0.000000     0.500000     0.040000     2.600000     0.000000   \n",
       "25%       0.000000     0.800000     2.655000   172.575000     0.000000   \n",
       "50%       1.000000     0.800000     5.000000   325.000000     1.000000   \n",
       "75%       3.000000     1.000000    10.000000   650.000000     1.000000   \n",
       "max      18.000000     1.500000    60.000000  3900.000000     1.000000   \n",
       "\n",
       "           중성화_라벨링       크기_라벨링  \n",
       "count  5674.000000  5674.000000  \n",
       "mean      0.087769     0.346493  \n",
       "std       0.282983     0.610848  \n",
       "min       0.000000     0.000000  \n",
       "25%       0.000000     0.000000  \n",
       "50%       0.000000     0.000000  \n",
       "75%       0.000000     1.000000  \n",
       "max       1.000000     2.000000  "
      ]
     },
     "execution_count": 8,
     "metadata": {},
     "output_type": "execute_result"
    }
   ],
   "source": [
    "df.describe()"
   ]
  },
  {
   "cell_type": "code",
   "execution_count": 9,
   "id": "7b98eea1-36c2-40da-8247-592c3718c2e4",
   "metadata": {},
   "outputs": [
    {
     "data": {
      "image/png": "[encoded data removed]",
      "text/plain": [
       "<Figure size 576x360 with 2 Axes>"
      ]
     },
     "metadata": {
      "needs_background": "light"
     },
     "output_type": "display_data"
    }
   ],
   "source": [
    "#결측치 시각회\n",
    "plt.figure(figsize = (8, 5))\n",
    "sns.heatmap(df.isnull())\n",
    "plt.show()"
   ]
  },
  {
   "cell_type": "markdown",
   "id": "15f76483-4dc5-44a4-bade-4c297217186b",
   "metadata": {},
   "source": [
    "# 각 컬럼 별 히스토그램 그려서 데이터 분포 보기 \n",
    "df.hist(figsize = (12,8))\n",
    "plt.show()"
   ]
  },
  {
   "cell_type": "markdown",
   "id": "4f0730e7-ce7d-478d-84de-2614f2b380a7",
   "metadata": {},
   "source": [
    "# 범주형 변수 제외 - 전처리"
   ]
  },
  {
   "cell_type": "code",
   "execution_count": 10,
   "id": "72b70e56-85cd-495f-a3d3-9a76eef4de44",
   "metadata": {},
   "outputs": [
    {
     "data": {
      "text/plain": [
       "Index(['품종', '나이', '산책시간(시간)', '체중', '성별', '중성화여부', '색상', '음수량', '성별_라벨링',\n",
       "       '중성화_라벨링', '크기', '크기_라벨링'],\n",
       "      dtype='object')"
      ]
     },
     "execution_count": 10,
     "metadata": {},
     "output_type": "execute_result"
    }
   ],
   "source": [
    "df.columns"
   ]
  },
  {
   "cell_type": "code",
   "execution_count": 11,
   "id": "527f5d8a-f28d-4a27-95bb-07850b12265a",
   "metadata": {},
   "outputs": [],
   "source": [
    "#범주형 변수들은 제외하고 새로운 변수로 선언\n",
    "C1 = df[['나이','산책시간(시간)', '체중', '성별_라벨링',\n",
    "       '중성화_라벨링','크기_라벨링', '음수량']]"
   ]
  },
  {
   "cell_type": "code",
   "execution_count": 12,
   "id": "85304532-7419-41ad-8718-8433230f2b8d",
   "metadata": {},
   "outputs": [
    {
     "data": {
      "text/html": [
       "<div>\n",
       "<style scoped>\n",
       "    .dataframe tbody tr th:only-of-type {\n",
       "        vertical-align: middle;\n",
       "    }\n",
       "\n",
       "    .dataframe tbody tr th {\n",
       "        vertical-align: top;\n",
       "    }\n",
       "\n",
       "    .dataframe thead th {\n",
       "        text-align: right;\n",
       "    }\n",
       "</style>\n",
       "<table border=\"1\" class=\"dataframe\">\n",
       "  <thead>\n",
       "    <tr style=\"text-align: right;\">\n",
       "      <th></th>\n",
       "      <th>나이</th>\n",
       "      <th>산책시간(시간)</th>\n",
       "      <th>체중</th>\n",
       "      <th>성별_라벨링</th>\n",
       "      <th>중성화_라벨링</th>\n",
       "      <th>크기_라벨링</th>\n",
       "      <th>음수량</th>\n",
       "    </tr>\n",
       "  </thead>\n",
       "  <tbody>\n",
       "    <tr>\n",
       "      <th>0</th>\n",
       "      <td>13</td>\n",
       "      <td>0.5</td>\n",
       "      <td>27.0</td>\n",
       "      <td>1</td>\n",
       "      <td>0</td>\n",
       "      <td>2</td>\n",
       "      <td>1755.0</td>\n",
       "    </tr>\n",
       "    <tr>\n",
       "      <th>1</th>\n",
       "      <td>10</td>\n",
       "      <td>0.5</td>\n",
       "      <td>25.0</td>\n",
       "      <td>0</td>\n",
       "      <td>0</td>\n",
       "      <td>2</td>\n",
       "      <td>1625.0</td>\n",
       "    </tr>\n",
       "    <tr>\n",
       "      <th>2</th>\n",
       "      <td>9</td>\n",
       "      <td>0.5</td>\n",
       "      <td>40.0</td>\n",
       "      <td>1</td>\n",
       "      <td>0</td>\n",
       "      <td>2</td>\n",
       "      <td>2600.0</td>\n",
       "    </tr>\n",
       "    <tr>\n",
       "      <th>3</th>\n",
       "      <td>8</td>\n",
       "      <td>0.5</td>\n",
       "      <td>28.0</td>\n",
       "      <td>0</td>\n",
       "      <td>0</td>\n",
       "      <td>2</td>\n",
       "      <td>1820.0</td>\n",
       "    </tr>\n",
       "    <tr>\n",
       "      <th>4</th>\n",
       "      <td>8</td>\n",
       "      <td>0.5</td>\n",
       "      <td>33.0</td>\n",
       "      <td>1</td>\n",
       "      <td>0</td>\n",
       "      <td>2</td>\n",
       "      <td>2145.0</td>\n",
       "    </tr>\n",
       "    <tr>\n",
       "      <th>...</th>\n",
       "      <td>...</td>\n",
       "      <td>...</td>\n",
       "      <td>...</td>\n",
       "      <td>...</td>\n",
       "      <td>...</td>\n",
       "      <td>...</td>\n",
       "      <td>...</td>\n",
       "    </tr>\n",
       "    <tr>\n",
       "      <th>5669</th>\n",
       "      <td>1</td>\n",
       "      <td>0.8</td>\n",
       "      <td>4.0</td>\n",
       "      <td>1</td>\n",
       "      <td>0</td>\n",
       "      <td>0</td>\n",
       "      <td>260.0</td>\n",
       "    </tr>\n",
       "    <tr>\n",
       "      <th>5670</th>\n",
       "      <td>0</td>\n",
       "      <td>0.5</td>\n",
       "      <td>3.5</td>\n",
       "      <td>1</td>\n",
       "      <td>0</td>\n",
       "      <td>0</td>\n",
       "      <td>227.5</td>\n",
       "    </tr>\n",
       "    <tr>\n",
       "      <th>5671</th>\n",
       "      <td>0</td>\n",
       "      <td>0.5</td>\n",
       "      <td>5.2</td>\n",
       "      <td>1</td>\n",
       "      <td>0</td>\n",
       "      <td>0</td>\n",
       "      <td>338.0</td>\n",
       "    </tr>\n",
       "    <tr>\n",
       "      <th>5672</th>\n",
       "      <td>13</td>\n",
       "      <td>0.5</td>\n",
       "      <td>7.3</td>\n",
       "      <td>0</td>\n",
       "      <td>1</td>\n",
       "      <td>0</td>\n",
       "      <td>474.5</td>\n",
       "    </tr>\n",
       "    <tr>\n",
       "      <th>5673</th>\n",
       "      <td>2</td>\n",
       "      <td>1.0</td>\n",
       "      <td>14.0</td>\n",
       "      <td>1</td>\n",
       "      <td>0</td>\n",
       "      <td>1</td>\n",
       "      <td>910.0</td>\n",
       "    </tr>\n",
       "  </tbody>\n",
       "</table>\n",
       "<p>5674 rows × 7 columns</p>\n",
       "</div>"
      ],
      "text/plain": [
       "      나이  산책시간(시간)    체중  성별_라벨링  중성화_라벨링  크기_라벨링     음수량\n",
       "0     13       0.5  27.0       1        0       2  1755.0\n",
       "1     10       0.5  25.0       0        0       2  1625.0\n",
       "2      9       0.5  40.0       1        0       2  2600.0\n",
       "3      8       0.5  28.0       0        0       2  1820.0\n",
       "4      8       0.5  33.0       1        0       2  2145.0\n",
       "...   ..       ...   ...     ...      ...     ...     ...\n",
       "5669   1       0.8   4.0       1        0       0   260.0\n",
       "5670   0       0.5   3.5       1        0       0   227.5\n",
       "5671   0       0.5   5.2       1        0       0   338.0\n",
       "5672  13       0.5   7.3       0        1       0   474.5\n",
       "5673   2       1.0  14.0       1        0       1   910.0\n",
       "\n",
       "[5674 rows x 7 columns]"
      ]
     },
     "execution_count": 12,
     "metadata": {},
     "output_type": "execute_result"
    }
   ],
   "source": [
    "#잘 담겨있는지 확인\n",
    "C1"
   ]
  },
  {
   "cell_type": "markdown",
   "id": "9e05f8f2-beee-4b5a-85dd-8872b2802081",
   "metadata": {},
   "source": [
    "# Feature Selection"
   ]
  },
  {
   "cell_type": "markdown",
   "id": "ee5e93b5-9771-4c25-b431-bb7edc254808",
   "metadata": {},
   "source": [
    "## 상관분석"
   ]
  },
  {
   "cell_type": "code",
   "execution_count": 13,
   "id": "6e54397c-cdcb-4410-9937-65cd39bd2652",
   "metadata": {},
   "outputs": [
    {
     "data": {
      "text/html": [
       "<div>\n",
       "<style scoped>\n",
       "    .dataframe tbody tr th:only-of-type {\n",
       "        vertical-align: middle;\n",
       "    }\n",
       "\n",
       "    .dataframe tbody tr th {\n",
       "        vertical-align: top;\n",
       "    }\n",
       "\n",
       "    .dataframe thead th {\n",
       "        text-align: right;\n",
       "    }\n",
       "</style>\n",
       "<table border=\"1\" class=\"dataframe\">\n",
       "  <thead>\n",
       "    <tr style=\"text-align: right;\">\n",
       "      <th></th>\n",
       "      <th>나이</th>\n",
       "      <th>산책시간(시간)</th>\n",
       "      <th>체중</th>\n",
       "      <th>성별_라벨링</th>\n",
       "      <th>중성화_라벨링</th>\n",
       "      <th>크기_라벨링</th>\n",
       "      <th>음수량</th>\n",
       "    </tr>\n",
       "  </thead>\n",
       "  <tbody>\n",
       "    <tr>\n",
       "      <th>나이</th>\n",
       "      <td>1.000000</td>\n",
       "      <td>-0.056727</td>\n",
       "      <td>0.283098</td>\n",
       "      <td>0.097001</td>\n",
       "      <td>0.366550</td>\n",
       "      <td>0.202140</td>\n",
       "      <td>0.283098</td>\n",
       "    </tr>\n",
       "    <tr>\n",
       "      <th>산책시간(시간)</th>\n",
       "      <td>-0.056727</td>\n",
       "      <td>1.000000</td>\n",
       "      <td>0.537268</td>\n",
       "      <td>0.047376</td>\n",
       "      <td>-0.064798</td>\n",
       "      <td>0.477659</td>\n",
       "      <td>0.537268</td>\n",
       "    </tr>\n",
       "    <tr>\n",
       "      <th>체중</th>\n",
       "      <td>0.283098</td>\n",
       "      <td>0.537268</td>\n",
       "      <td>1.000000</td>\n",
       "      <td>0.127471</td>\n",
       "      <td>0.012856</td>\n",
       "      <td>0.916428</td>\n",
       "      <td>1.000000</td>\n",
       "    </tr>\n",
       "    <tr>\n",
       "      <th>성별_라벨링</th>\n",
       "      <td>0.097001</td>\n",
       "      <td>0.047376</td>\n",
       "      <td>0.127471</td>\n",
       "      <td>1.000000</td>\n",
       "      <td>0.183315</td>\n",
       "      <td>0.110984</td>\n",
       "      <td>0.127471</td>\n",
       "    </tr>\n",
       "    <tr>\n",
       "      <th>중성화_라벨링</th>\n",
       "      <td>0.366550</td>\n",
       "      <td>-0.064798</td>\n",
       "      <td>0.012856</td>\n",
       "      <td>0.183315</td>\n",
       "      <td>1.000000</td>\n",
       "      <td>-0.034216</td>\n",
       "      <td>0.012856</td>\n",
       "    </tr>\n",
       "    <tr>\n",
       "      <th>크기_라벨링</th>\n",
       "      <td>0.202140</td>\n",
       "      <td>0.477659</td>\n",
       "      <td>0.916428</td>\n",
       "      <td>0.110984</td>\n",
       "      <td>-0.034216</td>\n",
       "      <td>1.000000</td>\n",
       "      <td>0.916428</td>\n",
       "    </tr>\n",
       "    <tr>\n",
       "      <th>음수량</th>\n",
       "      <td>0.283098</td>\n",
       "      <td>0.537268</td>\n",
       "      <td>1.000000</td>\n",
       "      <td>0.127471</td>\n",
       "      <td>0.012856</td>\n",
       "      <td>0.916428</td>\n",
       "      <td>1.000000</td>\n",
       "    </tr>\n",
       "  </tbody>\n",
       "</table>\n",
       "</div>"
      ],
      "text/plain": [
       "                나이  산책시간(시간)        체중    성별_라벨링   중성화_라벨링    크기_라벨링       음수량\n",
       "나이        1.000000 -0.056727  0.283098  0.097001  0.366550  0.202140  0.283098\n",
       "산책시간(시간) -0.056727  1.000000  0.537268  0.047376 -0.064798  0.477659  0.537268\n",
       "체중        0.283098  0.537268  1.000000  0.127471  0.012856  0.916428  1.000000\n",
       "성별_라벨링    0.097001  0.047376  0.127471  1.000000  0.183315  0.110984  0.127471\n",
       "중성화_라벨링   0.366550 -0.064798  0.012856  0.183315  1.000000 -0.034216  0.012856\n",
       "크기_라벨링    0.202140  0.477659  0.916428  0.110984 -0.034216  1.000000  0.916428\n",
       "음수량       0.283098  0.537268  1.000000  0.127471  0.012856  0.916428  1.000000"
      ]
     },
     "execution_count": 13,
     "metadata": {},
     "output_type": "execute_result"
    }
   ],
   "source": [
    "C1.corr()"
   ]
  },
  {
   "cell_type": "code",
   "execution_count": 14,
   "id": "b1dee094-c38f-44d7-94cc-158614e81602",
   "metadata": {},
   "outputs": [
    {
     "data": {
      "text/plain": [
       "<AxesSubplot:>"
      ]
     },
     "execution_count": 14,
     "metadata": {},
     "output_type": "execute_result"
    },
    {
     "data": {
      "image/png": "[encoded data removed]",
      "text/plain": [
       "<Figure size 1152x648 with 2 Axes>"
      ]
     },
     "metadata": {
      "needs_background": "light"
     },
     "output_type": "display_data"
    }
   ],
   "source": [
    "plt.figure(figsize = (16,9))\n",
    "\n",
    "sns.heatmap(data = C1.corr(),\n",
    "           cmap = 'Blues', \n",
    "           annot = True, fmt = '0.4f')"
   ]
  },
  {
   "cell_type": "code",
   "execution_count": 15,
   "id": "e688d300-7539-4da5-ad58-48387413dd94",
   "metadata": {},
   "outputs": [
    {
     "name": "stdout",
     "output_type": "stream",
     "text": [
      "나이과 크기의 상관관계:0.2021404585500324\n",
      "산책시간(시간)과 크기의 상관관계:0.47765942510271586\n",
      "체중과 크기의 상관관계:0.9164284511703006\n",
      "성별_라벨링과 크기의 상관관계:0.1109842052361599\n",
      "중성화_라벨링과 크기의 상관관계:-0.03421605948347803\n",
      "크기_라벨링과 크기의 상관관계:1.0\n",
      "음수량과 크기의 상관관계:0.9164284511703032\n"
     ]
    }
   ],
   "source": [
    "corr_bar = []\n",
    "\n",
    "for column in C1.columns:\n",
    "    print(f\"{column}과 크기의 상관관계:{C1[column].corr(C1['크기_라벨링'])}\")\n",
    "    corr_bar.append(C1[column].corr(C1['크기_라벨링']))"
   ]
  },
  {
   "cell_type": "code",
   "execution_count": 16,
   "id": "cda9392f-dd9e-4f87-86bf-f9f142b3de61",
   "metadata": {},
   "outputs": [
    {
     "data": {
      "image/png": "[encoded data removed]",
      "text/plain": [
       "<Figure size 1080x576 with 1 Axes>"
      ]
     },
     "metadata": {
      "needs_background": "light"
     },
     "output_type": "display_data"
    }
   ],
   "source": [
    "plt.figure(figsize = (15,8))\n",
    "sns.barplot(C1.columns, corr_bar)\n",
    "plt.show()"
   ]
  },
  {
   "cell_type": "markdown",
   "id": "f6a8e745-667b-4642-a415-7ece4cee00c6",
   "metadata": {
    "tags": []
   },
   "source": [
    "# ElbowPoint"
   ]
  },
  {
   "cell_type": "code",
   "execution_count": 17,
   "id": "71c243d1-cad6-41b3-9bdc-67f9fe68a505",
   "metadata": {},
   "outputs": [],
   "source": [
    "# 군집화 라이브러리 불러오기 .\n",
    "from sklearn.preprocessing import StandardScaler\n",
    "from sklearn.decomposition import PCA\n",
    "from sklearn.cluster import KMeans\n",
    "from sklearn.manifold import TSNE"
   ]
  },
  {
   "cell_type": "code",
   "execution_count": 18,
   "id": "da070faf-28c4-492a-8547-65f64139eae4",
   "metadata": {},
   "outputs": [],
   "source": [
    "data = C1"
   ]
  },
  {
   "cell_type": "code",
   "execution_count": 19,
   "id": "8a3a5f65-6980-40c5-8d35-e365446859d9",
   "metadata": {},
   "outputs": [],
   "source": [
    "x = [] #k가 몇개인지 -\n",
    "y = [] #응집도가 몇인지 \n",
    "\n",
    "# 범위가 1~30인 이유\n",
    "for k in range (1,30): \n",
    "    kmeans = KMeans(n_clusters = k) # 1~ 29개의 군집화 된 객체를 kmeans라고 함   \n",
    "    kmeans.fit(data)               # kmeans에다가 data2를 학습시킬것임 \n",
    "    \n",
    "    x.append(k)\n",
    "    y.append(kmeans.inertia_)\n",
    "\n",
    "    \n",
    "#k가 n개 일 때 응집도는 a라고 이해하면 된다 "
   ]
  },
  {
   "cell_type": "code",
   "execution_count": 20,
   "id": "401f21a8-d123-47d6-95c9-1ca33fdb3255",
   "metadata": {},
   "outputs": [
    {
     "data": {
      "image/png": "[encoded data removed]",
      "text/plain": [
       "<Figure size 1080x576 with 1 Axes>"
      ]
     },
     "metadata": {
      "needs_background": "light"
     },
     "output_type": "display_data"
    }
   ],
   "source": [
    "# 그래프 그리기\n",
    "plt.figure(figsize = (15,8))\n",
    "plt.plot(x, y)\n",
    "plt.show()"
   ]
  },
  {
   "cell_type": "markdown",
   "id": "65851e4c-4798-49b5-988a-68f08e5586a4",
   "metadata": {
    "tags": []
   },
   "source": [
    "# 군집화(k = 3) with pca"
   ]
  },
  {
   "cell_type": "raw",
   "id": "9922c41a-36f5-4800-aaa9-fefbf33c3559",
   "metadata": {},
   "source": [
    "군집화를 통해서 비슷한 성향을 가진 그룹을 찾아보자"
   ]
  },
  {
   "cell_type": "code",
   "execution_count": 21,
   "id": "5864989c-548c-486c-b952-15e62e926182",
   "metadata": {},
   "outputs": [],
   "source": [
    "#정규화 진행 및 객체 생성\n",
    "scaler = StandardScaler()"
   ]
  },
  {
   "cell_type": "code",
   "execution_count": 22,
   "id": "026b0db9-39c8-4adb-a385-ff0fe061d38e",
   "metadata": {},
   "outputs": [
    {
     "data": {
      "text/plain": [
       "StandardScaler()"
      ]
     },
     "execution_count": 22,
     "metadata": {},
     "output_type": "execute_result"
    }
   ],
   "source": [
    "#데이터 학습 \n",
    "scaler.fit(data)"
   ]
  },
  {
   "cell_type": "code",
   "execution_count": 23,
   "id": "be5a7358-e3e1-40bf-9cad-016c97780c44",
   "metadata": {},
   "outputs": [],
   "source": [
    "scaler_data = scaler.transform(data)"
   ]
  },
  {
   "cell_type": "code",
   "execution_count": 24,
   "id": "a1786e4f-4701-4ae6-b889-4653484791ba",
   "metadata": {},
   "outputs": [],
   "source": [
    "#객체생성 (2개의 객체 만들것임)\n",
    "pca = PCA(n_components = 2)"
   ]
  },
  {
   "cell_type": "code",
   "execution_count": 25,
   "id": "eaaf0530-39f1-43e9-9ec9-7d293c66f926",
   "metadata": {},
   "outputs": [
    {
     "data": {
      "text/plain": [
       "PCA(n_components=2)"
      ]
     },
     "execution_count": 25,
     "metadata": {},
     "output_type": "execute_result"
    }
   ],
   "source": [
    "pca.fit(scaler_data)"
   ]
  },
  {
   "cell_type": "code",
   "execution_count": 26,
   "id": "4be45015-8853-45de-b3bd-cd24b9caedcf",
   "metadata": {},
   "outputs": [
    {
     "data": {
      "text/plain": [
       "array([[ 4.39382677,  2.8909703 ],\n",
       "       [ 3.67475571,  1.49538505],\n",
       "       [ 6.15164396,  1.89144286],\n",
       "       ...,\n",
       "       [-1.54345116,  0.29271046],\n",
       "       [-0.47274751,  4.90169183],\n",
       "       [ 1.86602492, -0.23976452]])"
      ]
     },
     "execution_count": 26,
     "metadata": {},
     "output_type": "execute_result"
    }
   ],
   "source": [
    "pca.transform(scaler_data)"
   ]
  },
  {
   "cell_type": "code",
   "execution_count": 27,
   "id": "53951683-44f5-42e5-839b-c4b257f68598",
   "metadata": {},
   "outputs": [
    {
     "data": {
      "text/html": [
       "<div>\n",
       "<style scoped>\n",
       "    .dataframe tbody tr th:only-of-type {\n",
       "        vertical-align: middle;\n",
       "    }\n",
       "\n",
       "    .dataframe tbody tr th {\n",
       "        vertical-align: top;\n",
       "    }\n",
       "\n",
       "    .dataframe thead th {\n",
       "        text-align: right;\n",
       "    }\n",
       "</style>\n",
       "<table border=\"1\" class=\"dataframe\">\n",
       "  <thead>\n",
       "    <tr style=\"text-align: right;\">\n",
       "      <th></th>\n",
       "      <th>pc1</th>\n",
       "      <th>pc2</th>\n",
       "    </tr>\n",
       "  </thead>\n",
       "  <tbody>\n",
       "    <tr>\n",
       "      <th>0</th>\n",
       "      <td>4.393827</td>\n",
       "      <td>2.890970</td>\n",
       "    </tr>\n",
       "    <tr>\n",
       "      <th>1</th>\n",
       "      <td>3.674756</td>\n",
       "      <td>1.495385</td>\n",
       "    </tr>\n",
       "    <tr>\n",
       "      <th>2</th>\n",
       "      <td>6.151644</td>\n",
       "      <td>1.891443</td>\n",
       "    </tr>\n",
       "    <tr>\n",
       "      <th>3</th>\n",
       "      <td>4.008568</td>\n",
       "      <td>1.018277</td>\n",
       "    </tr>\n",
       "    <tr>\n",
       "      <th>4</th>\n",
       "      <td>4.994746</td>\n",
       "      <td>1.707910</td>\n",
       "    </tr>\n",
       "  </tbody>\n",
       "</table>\n",
       "</div>"
      ],
      "text/plain": [
       "        pc1       pc2\n",
       "0  4.393827  2.890970\n",
       "1  3.674756  1.495385\n",
       "2  6.151644  1.891443\n",
       "3  4.008568  1.018277\n",
       "4  4.994746  1.707910"
      ]
     },
     "execution_count": 27,
     "metadata": {},
     "output_type": "execute_result"
    }
   ],
   "source": [
    "#2개의 피쳐로 학습된 데이터를 데이터프레임 형태로 변환해주자 \n",
    "data = pd.DataFrame(data = pca.transform(scaler_data), columns = ['pc1', 'pc2'])\n",
    "data.head()"
   ]
  },
  {
   "cell_type": "code",
   "execution_count": 28,
   "id": "e9c1b888-9128-4f6c-8030-f35b95d8a9d9",
   "metadata": {},
   "outputs": [],
   "source": [
    "x = [] #k가 몇개인지 -\n",
    "y = [] #응집도가 몇인지 \n",
    "\n",
    "# 범위가 1~30인 이유\n",
    "for k in range (1,30): \n",
    "    kmeans = KMeans(n_clusters = k) # 1~ 29개의 군집화 된 객체를 kmeans라고 함   \n",
    "    kmeans.fit(data)               # kmeans에다가 data2를 학습시킬것임 \n",
    "    \n",
    "    x.append(k)\n",
    "    y.append(kmeans.inertia_)\n",
    "\n",
    "    \n",
    "#k가 n개 일 때 응집도는 a라고 이해하면 된다 "
   ]
  },
  {
   "cell_type": "code",
   "execution_count": 29,
   "id": "cbce6dbe-a904-410b-a221-302521326e0e",
   "metadata": {},
   "outputs": [
    {
     "data": {
      "text/plain": [
       "[<matplotlib.lines.Line2D at 0x1903ef91520>]"
      ]
     },
     "execution_count": 29,
     "metadata": {},
     "output_type": "execute_result"
    },
    {
     "data": {
      "image/png": "[encoded data removed]",
      "text/plain": [
       "<Figure size 432x288 with 1 Axes>"
      ]
     },
     "metadata": {
      "needs_background": "light"
     },
     "output_type": "display_data"
    }
   ],
   "source": [
    "#그래프 그리기\n",
    "plt.plot(x,y)"
   ]
  },
  {
   "cell_type": "code",
   "execution_count": 30,
   "id": "07008098-1fed-4689-97fa-23cae1d0cdc4",
   "metadata": {},
   "outputs": [],
   "source": [
    "# 3개로 군집화 된 객체를 생성 \n",
    "kmeans = KMeans(n_clusters = 3)"
   ]
  },
  {
   "cell_type": "code",
   "execution_count": 31,
   "id": "874c73de-67fa-47cb-820f-e86a8a645669",
   "metadata": {},
   "outputs": [
    {
     "data": {
      "text/plain": [
       "KMeans(n_clusters=3)"
      ]
     },
     "execution_count": 31,
     "metadata": {},
     "output_type": "execute_result"
    }
   ],
   "source": [
    "# 군집화 할 데이터 'data'를 학습시키기 \n",
    "kmeans.fit(data)"
   ]
  },
  {
   "cell_type": "code",
   "execution_count": 32,
   "id": "3148f9f4-cbe3-44eb-9591-ea37d0f6b2b9",
   "metadata": {},
   "outputs": [],
   "source": [
    "# 학습된 kmeans의 응집도 확인 (각 데이터로부터 자신이 속한 군집의 중심까지의 거리)\n",
    "# 응집도가 낮을수록 군집화가 더 잘되어있는 것이다"
   ]
  },
  {
   "cell_type": "code",
   "execution_count": 33,
   "id": "d6955b62-3b75-41e0-a40c-bff1551b3f45",
   "metadata": {},
   "outputs": [],
   "source": [
    "# 학습된 데이터를  labels 라는 컬럼에 넣어주자 \n",
    "data['labels'] = kmeans.predict(data)"
   ]
  },
  {
   "cell_type": "code",
   "execution_count": 34,
   "id": "7a5d9afb-d77c-4ba3-ba12-b0e73e3f88b4",
   "metadata": {},
   "outputs": [
    {
     "name": "stdout",
     "output_type": "stream",
     "text": [
      "[ 2.65512192 -0.28603336]\n",
      "[-0.99884838 -0.36823761]\n",
      "[-0.33537423  3.07055932]\n"
     ]
    }
   ],
   "source": [
    "#각 군집 별 중앙 값 \n",
    "print(kmeans.cluster_centers_[0])\n",
    "print(kmeans.cluster_centers_[1])\n",
    "print(kmeans.cluster_centers_[2])"
   ]
  },
  {
   "cell_type": "code",
   "execution_count": 35,
   "id": "20bc2b43-2253-4079-962c-fe36cfc74f5e",
   "metadata": {},
   "outputs": [
    {
     "data": {
      "text/html": [
       "<div>\n",
       "<style scoped>\n",
       "    .dataframe tbody tr th:only-of-type {\n",
       "        vertical-align: middle;\n",
       "    }\n",
       "\n",
       "    .dataframe tbody tr th {\n",
       "        vertical-align: top;\n",
       "    }\n",
       "\n",
       "    .dataframe thead th {\n",
       "        text-align: right;\n",
       "    }\n",
       "</style>\n",
       "<table border=\"1\" class=\"dataframe\">\n",
       "  <thead>\n",
       "    <tr style=\"text-align: right;\">\n",
       "      <th></th>\n",
       "      <th>pc1</th>\n",
       "      <th>pc2</th>\n",
       "      <th>labels</th>\n",
       "    </tr>\n",
       "  </thead>\n",
       "  <tbody>\n",
       "    <tr>\n",
       "      <th>0</th>\n",
       "      <td>4.393827</td>\n",
       "      <td>2.890970</td>\n",
       "      <td>0</td>\n",
       "    </tr>\n",
       "    <tr>\n",
       "      <th>1</th>\n",
       "      <td>3.674756</td>\n",
       "      <td>1.495385</td>\n",
       "      <td>0</td>\n",
       "    </tr>\n",
       "    <tr>\n",
       "      <th>2</th>\n",
       "      <td>6.151644</td>\n",
       "      <td>1.891443</td>\n",
       "      <td>0</td>\n",
       "    </tr>\n",
       "    <tr>\n",
       "      <th>3</th>\n",
       "      <td>4.008568</td>\n",
       "      <td>1.018277</td>\n",
       "      <td>0</td>\n",
       "    </tr>\n",
       "    <tr>\n",
       "      <th>4</th>\n",
       "      <td>4.994746</td>\n",
       "      <td>1.707910</td>\n",
       "      <td>0</td>\n",
       "    </tr>\n",
       "  </tbody>\n",
       "</table>\n",
       "</div>"
      ],
      "text/plain": [
       "        pc1       pc2  labels\n",
       "0  4.393827  2.890970       0\n",
       "1  3.674756  1.495385       0\n",
       "2  6.151644  1.891443       0\n",
       "3  4.008568  1.018277       0\n",
       "4  4.994746  1.707910       0"
      ]
     },
     "execution_count": 35,
     "metadata": {},
     "output_type": "execute_result"
    }
   ],
   "source": [
    "data.head()"
   ]
  },
  {
   "cell_type": "code",
   "execution_count": 36,
   "id": "f3c5aff4-7135-492c-ae6e-812fa1d91a3e",
   "metadata": {},
   "outputs": [],
   "source": [
    "# 위의 값들을 시각화 할거고 그래서 pca를 만든것 "
   ]
  },
  {
   "cell_type": "code",
   "execution_count": 37,
   "id": "261a8bc2-3276-4525-af48-a6871bb165cb",
   "metadata": {},
   "outputs": [
    {
     "data": {
      "text/plain": [
       "<AxesSubplot:xlabel='pc1', ylabel='pc2'>"
      ]
     },
     "execution_count": 37,
     "metadata": {},
     "output_type": "execute_result"
    },
    {
     "data": {
      "image/png": "[encoded data removed]",
      "text/plain": [
       "<Figure size 432x288 with 1 Axes>"
      ]
     },
     "metadata": {
      "needs_background": "light"
     },
     "output_type": "display_data"
    }
   ],
   "source": [
    "sns.scatterplot(x = 'pc1', y = 'pc2', hue = 'labels', data = data)"
   ]
  },
  {
   "cell_type": "markdown",
   "id": "0f14f8d9-7f0c-48e8-bbde-b59f03add0cb",
   "metadata": {
    "tags": []
   },
   "source": [
    "# 결과해석 & 시각화\n",
    "## (1) 앞에 빼놨던 컬럼 붙이기"
   ]
  },
  {
   "cell_type": "code",
   "execution_count": 38,
   "id": "663b5547-9cde-4f98-84d0-8c63f02ea262",
   "metadata": {},
   "outputs": [
    {
     "data": {
      "text/html": [
       "<div>\n",
       "<style scoped>\n",
       "    .dataframe tbody tr th:only-of-type {\n",
       "        vertical-align: middle;\n",
       "    }\n",
       "\n",
       "    .dataframe tbody tr th {\n",
       "        vertical-align: top;\n",
       "    }\n",
       "\n",
       "    .dataframe thead th {\n",
       "        text-align: right;\n",
       "    }\n",
       "</style>\n",
       "<table border=\"1\" class=\"dataframe\">\n",
       "  <thead>\n",
       "    <tr style=\"text-align: right;\">\n",
       "      <th></th>\n",
       "      <th>pc1</th>\n",
       "      <th>pc2</th>\n",
       "      <th>labels</th>\n",
       "    </tr>\n",
       "  </thead>\n",
       "  <tbody>\n",
       "    <tr>\n",
       "      <th>0</th>\n",
       "      <td>4.393827</td>\n",
       "      <td>2.890970</td>\n",
       "      <td>0</td>\n",
       "    </tr>\n",
       "    <tr>\n",
       "      <th>1</th>\n",
       "      <td>3.674756</td>\n",
       "      <td>1.495385</td>\n",
       "      <td>0</td>\n",
       "    </tr>\n",
       "    <tr>\n",
       "      <th>2</th>\n",
       "      <td>6.151644</td>\n",
       "      <td>1.891443</td>\n",
       "      <td>0</td>\n",
       "    </tr>\n",
       "    <tr>\n",
       "      <th>3</th>\n",
       "      <td>4.008568</td>\n",
       "      <td>1.018277</td>\n",
       "      <td>0</td>\n",
       "    </tr>\n",
       "    <tr>\n",
       "      <th>4</th>\n",
       "      <td>4.994746</td>\n",
       "      <td>1.707910</td>\n",
       "      <td>0</td>\n",
       "    </tr>\n",
       "    <tr>\n",
       "      <th>...</th>\n",
       "      <td>...</td>\n",
       "      <td>...</td>\n",
       "      <td>...</td>\n",
       "    </tr>\n",
       "    <tr>\n",
       "      <th>5669</th>\n",
       "      <td>-1.022791</td>\n",
       "      <td>0.040083</td>\n",
       "      <td>1</td>\n",
       "    </tr>\n",
       "    <tr>\n",
       "      <th>5670</th>\n",
       "      <td>-1.808212</td>\n",
       "      <td>0.303715</td>\n",
       "      <td>1</td>\n",
       "    </tr>\n",
       "    <tr>\n",
       "      <th>5671</th>\n",
       "      <td>-1.543451</td>\n",
       "      <td>0.292710</td>\n",
       "      <td>1</td>\n",
       "    </tr>\n",
       "    <tr>\n",
       "      <th>5672</th>\n",
       "      <td>-0.472748</td>\n",
       "      <td>4.901692</td>\n",
       "      <td>2</td>\n",
       "    </tr>\n",
       "    <tr>\n",
       "      <th>5673</th>\n",
       "      <td>1.866025</td>\n",
       "      <td>-0.239765</td>\n",
       "      <td>0</td>\n",
       "    </tr>\n",
       "  </tbody>\n",
       "</table>\n",
       "<p>5674 rows × 3 columns</p>\n",
       "</div>"
      ],
      "text/plain": [
       "           pc1       pc2  labels\n",
       "0     4.393827  2.890970       0\n",
       "1     3.674756  1.495385       0\n",
       "2     6.151644  1.891443       0\n",
       "3     4.008568  1.018277       0\n",
       "4     4.994746  1.707910       0\n",
       "...        ...       ...     ...\n",
       "5669 -1.022791  0.040083       1\n",
       "5670 -1.808212  0.303715       1\n",
       "5671 -1.543451  0.292710       1\n",
       "5672 -0.472748  4.901692       2\n",
       "5673  1.866025 -0.239765       0\n",
       "\n",
       "[5674 rows x 3 columns]"
      ]
     },
     "execution_count": 38,
     "metadata": {},
     "output_type": "execute_result"
    }
   ],
   "source": [
    "data"
   ]
  },
  {
   "cell_type": "code",
   "execution_count": 39,
   "id": "933b8887-5846-45f7-8d93-6c85c0caf7db",
   "metadata": {},
   "outputs": [
    {
     "data": {
      "text/html": [
       "<div>\n",
       "<style scoped>\n",
       "    .dataframe tbody tr th:only-of-type {\n",
       "        vertical-align: middle;\n",
       "    }\n",
       "\n",
       "    .dataframe tbody tr th {\n",
       "        vertical-align: top;\n",
       "    }\n",
       "\n",
       "    .dataframe thead th {\n",
       "        text-align: right;\n",
       "    }\n",
       "</style>\n",
       "<table border=\"1\" class=\"dataframe\">\n",
       "  <thead>\n",
       "    <tr style=\"text-align: right;\">\n",
       "      <th></th>\n",
       "      <th>품종</th>\n",
       "      <th>나이</th>\n",
       "      <th>산책시간(시간)</th>\n",
       "      <th>체중</th>\n",
       "      <th>성별</th>\n",
       "      <th>중성화여부</th>\n",
       "      <th>색상</th>\n",
       "      <th>음수량</th>\n",
       "      <th>성별_라벨링</th>\n",
       "      <th>중성화_라벨링</th>\n",
       "      <th>크기</th>\n",
       "      <th>크기_라벨링</th>\n",
       "    </tr>\n",
       "  </thead>\n",
       "  <tbody>\n",
       "    <tr>\n",
       "      <th>0</th>\n",
       "      <td>골든 리트리버</td>\n",
       "      <td>13</td>\n",
       "      <td>0.5</td>\n",
       "      <td>27.0</td>\n",
       "      <td>M</td>\n",
       "      <td>N</td>\n",
       "      <td>갈색</td>\n",
       "      <td>1755.0</td>\n",
       "      <td>1</td>\n",
       "      <td>0</td>\n",
       "      <td>대</td>\n",
       "      <td>2</td>\n",
       "    </tr>\n",
       "    <tr>\n",
       "      <th>1</th>\n",
       "      <td>골든 리트리버</td>\n",
       "      <td>10</td>\n",
       "      <td>0.5</td>\n",
       "      <td>25.0</td>\n",
       "      <td>F</td>\n",
       "      <td>N</td>\n",
       "      <td>갈색</td>\n",
       "      <td>1625.0</td>\n",
       "      <td>0</td>\n",
       "      <td>0</td>\n",
       "      <td>대</td>\n",
       "      <td>2</td>\n",
       "    </tr>\n",
       "    <tr>\n",
       "      <th>2</th>\n",
       "      <td>골든 리트리버</td>\n",
       "      <td>9</td>\n",
       "      <td>0.5</td>\n",
       "      <td>40.0</td>\n",
       "      <td>M</td>\n",
       "      <td>N</td>\n",
       "      <td>갈색</td>\n",
       "      <td>2600.0</td>\n",
       "      <td>1</td>\n",
       "      <td>0</td>\n",
       "      <td>대</td>\n",
       "      <td>2</td>\n",
       "    </tr>\n",
       "    <tr>\n",
       "      <th>3</th>\n",
       "      <td>골든 리트리버</td>\n",
       "      <td>8</td>\n",
       "      <td>0.5</td>\n",
       "      <td>28.0</td>\n",
       "      <td>F</td>\n",
       "      <td>N</td>\n",
       "      <td>갈색</td>\n",
       "      <td>1820.0</td>\n",
       "      <td>0</td>\n",
       "      <td>0</td>\n",
       "      <td>대</td>\n",
       "      <td>2</td>\n",
       "    </tr>\n",
       "    <tr>\n",
       "      <th>4</th>\n",
       "      <td>골든 리트리버</td>\n",
       "      <td>8</td>\n",
       "      <td>0.5</td>\n",
       "      <td>33.0</td>\n",
       "      <td>M</td>\n",
       "      <td>N</td>\n",
       "      <td>갈색</td>\n",
       "      <td>2145.0</td>\n",
       "      <td>1</td>\n",
       "      <td>0</td>\n",
       "      <td>대</td>\n",
       "      <td>2</td>\n",
       "    </tr>\n",
       "    <tr>\n",
       "      <th>...</th>\n",
       "      <td>...</td>\n",
       "      <td>...</td>\n",
       "      <td>...</td>\n",
       "      <td>...</td>\n",
       "      <td>...</td>\n",
       "      <td>...</td>\n",
       "      <td>...</td>\n",
       "      <td>...</td>\n",
       "      <td>...</td>\n",
       "      <td>...</td>\n",
       "      <td>...</td>\n",
       "      <td>...</td>\n",
       "    </tr>\n",
       "    <tr>\n",
       "      <th>5669</th>\n",
       "      <td>프렌치불독</td>\n",
       "      <td>1</td>\n",
       "      <td>0.8</td>\n",
       "      <td>4.0</td>\n",
       "      <td>M</td>\n",
       "      <td>N</td>\n",
       "      <td>흑</td>\n",
       "      <td>260.0</td>\n",
       "      <td>1</td>\n",
       "      <td>0</td>\n",
       "      <td>소</td>\n",
       "      <td>0</td>\n",
       "    </tr>\n",
       "    <tr>\n",
       "      <th>5670</th>\n",
       "      <td>프렌치불독</td>\n",
       "      <td>0</td>\n",
       "      <td>0.5</td>\n",
       "      <td>3.5</td>\n",
       "      <td>M</td>\n",
       "      <td>N</td>\n",
       "      <td>검정</td>\n",
       "      <td>227.5</td>\n",
       "      <td>1</td>\n",
       "      <td>0</td>\n",
       "      <td>소</td>\n",
       "      <td>0</td>\n",
       "    </tr>\n",
       "    <tr>\n",
       "      <th>5671</th>\n",
       "      <td>프렌치불독</td>\n",
       "      <td>0</td>\n",
       "      <td>0.5</td>\n",
       "      <td>5.2</td>\n",
       "      <td>M</td>\n",
       "      <td>N</td>\n",
       "      <td>백색, 갈색, 흑색</td>\n",
       "      <td>338.0</td>\n",
       "      <td>1</td>\n",
       "      <td>0</td>\n",
       "      <td>소</td>\n",
       "      <td>0</td>\n",
       "    </tr>\n",
       "    <tr>\n",
       "      <th>5672</th>\n",
       "      <td>화이트테리어</td>\n",
       "      <td>13</td>\n",
       "      <td>0.5</td>\n",
       "      <td>7.3</td>\n",
       "      <td>F</td>\n",
       "      <td>Y</td>\n",
       "      <td>흰</td>\n",
       "      <td>474.5</td>\n",
       "      <td>0</td>\n",
       "      <td>1</td>\n",
       "      <td>소</td>\n",
       "      <td>0</td>\n",
       "    </tr>\n",
       "    <tr>\n",
       "      <th>5673</th>\n",
       "      <td>휘펫</td>\n",
       "      <td>2</td>\n",
       "      <td>1.0</td>\n",
       "      <td>14.0</td>\n",
       "      <td>M</td>\n",
       "      <td>N</td>\n",
       "      <td>베이지</td>\n",
       "      <td>910.0</td>\n",
       "      <td>1</td>\n",
       "      <td>0</td>\n",
       "      <td>중</td>\n",
       "      <td>1</td>\n",
       "    </tr>\n",
       "  </tbody>\n",
       "</table>\n",
       "<p>5674 rows × 12 columns</p>\n",
       "</div>"
      ],
      "text/plain": [
       "           품종  나이  산책시간(시간)    체중 성별 중성화여부          색상     음수량  성별_라벨링  \\\n",
       "0     골든 리트리버  13       0.5  27.0  M     N          갈색  1755.0       1   \n",
       "1     골든 리트리버  10       0.5  25.0  F     N          갈색  1625.0       0   \n",
       "2     골든 리트리버   9       0.5  40.0  M     N          갈색  2600.0       1   \n",
       "3     골든 리트리버   8       0.5  28.0  F     N          갈색  1820.0       0   \n",
       "4     골든 리트리버   8       0.5  33.0  M     N          갈색  2145.0       1   \n",
       "...       ...  ..       ...   ... ..   ...         ...     ...     ...   \n",
       "5669    프렌치불독   1       0.8   4.0  M     N           흑   260.0       1   \n",
       "5670    프렌치불독   0       0.5   3.5  M     N          검정   227.5       1   \n",
       "5671    프렌치불독   0       0.5   5.2  M     N  백색, 갈색, 흑색   338.0       1   \n",
       "5672   화이트테리어  13       0.5   7.3  F     Y           흰   474.5       0   \n",
       "5673       휘펫   2       1.0  14.0  M     N         베이지   910.0       1   \n",
       "\n",
       "      중성화_라벨링 크기  크기_라벨링  \n",
       "0           0  대       2  \n",
       "1           0  대       2  \n",
       "2           0  대       2  \n",
       "3           0  대       2  \n",
       "4           0  대       2  \n",
       "...       ... ..     ...  \n",
       "5669        0  소       0  \n",
       "5670        0  소       0  \n",
       "5671        0  소       0  \n",
       "5672        1  소       0  \n",
       "5673        0  중       1  \n",
       "\n",
       "[5674 rows x 12 columns]"
      ]
     },
     "execution_count": 39,
     "metadata": {},
     "output_type": "execute_result"
    }
   ],
   "source": [
    "df"
   ]
  },
  {
   "cell_type": "code",
   "execution_count": 40,
   "id": "6f5f4650-f959-4d99-8ba1-295f5b6412e8",
   "metadata": {},
   "outputs": [],
   "source": [
    "df['labels'] = data['labels']"
   ]
  },
  {
   "cell_type": "code",
   "execution_count": 41,
   "id": "aab924f5-bf4a-43f3-b53d-a9080e3e9788",
   "metadata": {},
   "outputs": [
    {
     "data": {
      "text/html": [
       "<div>\n",
       "<style scoped>\n",
       "    .dataframe tbody tr th:only-of-type {\n",
       "        vertical-align: middle;\n",
       "    }\n",
       "\n",
       "    .dataframe tbody tr th {\n",
       "        vertical-align: top;\n",
       "    }\n",
       "\n",
       "    .dataframe thead th {\n",
       "        text-align: right;\n",
       "    }\n",
       "</style>\n",
       "<table border=\"1\" class=\"dataframe\">\n",
       "  <thead>\n",
       "    <tr style=\"text-align: right;\">\n",
       "      <th></th>\n",
       "      <th>품종</th>\n",
       "      <th>나이</th>\n",
       "      <th>산책시간(시간)</th>\n",
       "      <th>체중</th>\n",
       "      <th>성별</th>\n",
       "      <th>중성화여부</th>\n",
       "      <th>색상</th>\n",
       "      <th>음수량</th>\n",
       "      <th>성별_라벨링</th>\n",
       "      <th>중성화_라벨링</th>\n",
       "      <th>크기</th>\n",
       "      <th>크기_라벨링</th>\n",
       "      <th>labels</th>\n",
       "    </tr>\n",
       "  </thead>\n",
       "  <tbody>\n",
       "    <tr>\n",
       "      <th>0</th>\n",
       "      <td>골든 리트리버</td>\n",
       "      <td>13</td>\n",
       "      <td>0.5</td>\n",
       "      <td>27.0</td>\n",
       "      <td>M</td>\n",
       "      <td>N</td>\n",
       "      <td>갈색</td>\n",
       "      <td>1755.0</td>\n",
       "      <td>1</td>\n",
       "      <td>0</td>\n",
       "      <td>대</td>\n",
       "      <td>2</td>\n",
       "      <td>0</td>\n",
       "    </tr>\n",
       "    <tr>\n",
       "      <th>1</th>\n",
       "      <td>골든 리트리버</td>\n",
       "      <td>10</td>\n",
       "      <td>0.5</td>\n",
       "      <td>25.0</td>\n",
       "      <td>F</td>\n",
       "      <td>N</td>\n",
       "      <td>갈색</td>\n",
       "      <td>1625.0</td>\n",
       "      <td>0</td>\n",
       "      <td>0</td>\n",
       "      <td>대</td>\n",
       "      <td>2</td>\n",
       "      <td>0</td>\n",
       "    </tr>\n",
       "    <tr>\n",
       "      <th>2</th>\n",
       "      <td>골든 리트리버</td>\n",
       "      <td>9</td>\n",
       "      <td>0.5</td>\n",
       "      <td>40.0</td>\n",
       "      <td>M</td>\n",
       "      <td>N</td>\n",
       "      <td>갈색</td>\n",
       "      <td>2600.0</td>\n",
       "      <td>1</td>\n",
       "      <td>0</td>\n",
       "      <td>대</td>\n",
       "      <td>2</td>\n",
       "      <td>0</td>\n",
       "    </tr>\n",
       "    <tr>\n",
       "      <th>3</th>\n",
       "      <td>골든 리트리버</td>\n",
       "      <td>8</td>\n",
       "      <td>0.5</td>\n",
       "      <td>28.0</td>\n",
       "      <td>F</td>\n",
       "      <td>N</td>\n",
       "      <td>갈색</td>\n",
       "      <td>1820.0</td>\n",
       "      <td>0</td>\n",
       "      <td>0</td>\n",
       "      <td>대</td>\n",
       "      <td>2</td>\n",
       "      <td>0</td>\n",
       "    </tr>\n",
       "    <tr>\n",
       "      <th>4</th>\n",
       "      <td>골든 리트리버</td>\n",
       "      <td>8</td>\n",
       "      <td>0.5</td>\n",
       "      <td>33.0</td>\n",
       "      <td>M</td>\n",
       "      <td>N</td>\n",
       "      <td>갈색</td>\n",
       "      <td>2145.0</td>\n",
       "      <td>1</td>\n",
       "      <td>0</td>\n",
       "      <td>대</td>\n",
       "      <td>2</td>\n",
       "      <td>0</td>\n",
       "    </tr>\n",
       "  </tbody>\n",
       "</table>\n",
       "</div>"
      ],
      "text/plain": [
       "        품종  나이  산책시간(시간)    체중 성별 중성화여부  색상     음수량  성별_라벨링  중성화_라벨링 크기  \\\n",
       "0  골든 리트리버  13       0.5  27.0  M     N  갈색  1755.0       1        0  대   \n",
       "1  골든 리트리버  10       0.5  25.0  F     N  갈색  1625.0       0        0  대   \n",
       "2  골든 리트리버   9       0.5  40.0  M     N  갈색  2600.0       1        0  대   \n",
       "3  골든 리트리버   8       0.5  28.0  F     N  갈색  1820.0       0        0  대   \n",
       "4  골든 리트리버   8       0.5  33.0  M     N  갈색  2145.0       1        0  대   \n",
       "\n",
       "   크기_라벨링  labels  \n",
       "0       2       0  \n",
       "1       2       0  \n",
       "2       2       0  \n",
       "3       2       0  \n",
       "4       2       0  "
      ]
     },
     "execution_count": 41,
     "metadata": {},
     "output_type": "execute_result"
    }
   ],
   "source": [
    "df.head()"
   ]
  },
  {
   "cell_type": "markdown",
   "id": "2e0ff0fb-dca6-4678-83c4-04e70a574dbc",
   "metadata": {},
   "source": [
    "## (2) 그룹별 갯수 시각화"
   ]
  },
  {
   "cell_type": "code",
   "execution_count": 42,
   "id": "55acb364-dc02-4a2f-b016-bb8e04b40c77",
   "metadata": {},
   "outputs": [
    {
     "data": {
      "text/plain": [
       "1    64.4\n",
       "0    25.5\n",
       "2    10.1\n",
       "Name: labels, dtype: float64"
      ]
     },
     "execution_count": 42,
     "metadata": {},
     "output_type": "execute_result"
    }
   ],
   "source": [
    "(df['labels'].value_counts(normalize = True)*100).round(1)"
   ]
  },
  {
   "cell_type": "code",
   "execution_count": 43,
   "id": "700c5f08-a671-4e43-b4d6-071da11cd002",
   "metadata": {},
   "outputs": [
    {
     "data": {
      "text/plain": [
       "<AxesSubplot:>"
      ]
     },
     "execution_count": 43,
     "metadata": {},
     "output_type": "execute_result"
    },
    {
     "data": {
      "image/png": "[encoded data removed]",
      "text/plain": [
       "<Figure size 432x288 with 1 Axes>"
      ]
     },
     "metadata": {
      "needs_background": "light"
     },
     "output_type": "display_data"
    }
   ],
   "source": [
    "(df['labels'].value_counts(normalize = True)*100).round(1).plot.bar()"
   ]
  },
  {
   "cell_type": "markdown",
   "id": "6f56abca-28d7-4f6a-b853-59760aa54b3b",
   "metadata": {},
   "source": [
    "## (3) 그룹별 평균 크기 비교"
   ]
  },
  {
   "cell_type": "code",
   "execution_count": 44,
   "id": "f8fc9a39-fd26-4b70-895b-320da7212b5f",
   "metadata": {},
   "outputs": [],
   "source": [
    "# 시각화를 위해서 각 그룹별 size을 따로 변수로 생성\n",
    "size0 = df[df['labels'] == 0]['크기_라벨링'].mean()\n",
    "size1 = df[df['labels'] == 1]['크기_라벨링'].mean()\n",
    "size2 = df[df['labels'] == 2]['크기_라벨링'].mean()"
   ]
  },
  {
   "cell_type": "code",
   "execution_count": 45,
   "id": "12dd3ca8-d08c-4cae-a64e-3896782cebb0",
   "metadata": {},
   "outputs": [
    {
     "data": {
      "image/png": "[encoded data removed]",
      "text/plain": [
       "<Figure size 1080x576 with 1 Axes>"
      ]
     },
     "metadata": {
      "needs_background": "light"
     },
     "output_type": "display_data"
    }
   ],
   "source": [
    "# 주의 모든 과정을 똑같이 하였어도 kmeans의 기본 중심값 설정은 랜덤임\n",
    "plt.figure(figsize = (15,8))\n",
    "sns.barplot(x = ['group_0', 'group_1', 'group_2'], y = [size0, size1, size2] )\n",
    "plt.show()"
   ]
  },
  {
   "cell_type": "markdown",
   "id": "24ffed56-fa87-49a5-9f30-79ae514889ea",
   "metadata": {},
   "source": [
    "## (4) 그룹별 평균 나이 비교"
   ]
  },
  {
   "cell_type": "code",
   "execution_count": 46,
   "id": "79950676-588e-4ad1-bdfe-dd10af1e8337",
   "metadata": {},
   "outputs": [
    {
     "data": {
      "image/png": "[encoded data removed]",
      "text/plain": [
       "<Figure size 1080x576 with 1 Axes>"
      ]
     },
     "metadata": {
      "needs_background": "light"
     },
     "output_type": "display_data"
    }
   ],
   "source": [
    "# 시각화를 위해서 각 그룹별 size을 따로 변수로 생성\n",
    "age0 = df[df['labels'] == 0]['나이'].mean()\n",
    "age1 = df[df['labels'] == 1]['나이'].mean()\n",
    "age2 = df[df['labels'] == 2]['나이'].mean()\n",
    "# 주의 모든 과정을 똑같이 하였어도 kmeans의 기본 중심값 설정은 랜덤임\n",
    "plt.figure(figsize = (15,8))\n",
    "sns.barplot(x = ['group_0', 'group_1', 'group_2'], y = [age0, age1, age2] )\n",
    "plt.show()"
   ]
  },
  {
   "cell_type": "markdown",
   "id": "dabc7033-4d35-4307-a008-deb285c39ab2",
   "metadata": {},
   "source": [
    "## (5) 그룹별 평균 체중비교"
   ]
  },
  {
   "cell_type": "code",
   "execution_count": 47,
   "id": "16230fb3-a27f-41ed-89e6-203f967e4a29",
   "metadata": {},
   "outputs": [
    {
     "data": {
      "image/png": "[encoded data removed]",
      "text/plain": [
       "<Figure size 1080x576 with 1 Axes>"
      ]
     },
     "metadata": {
      "needs_background": "light"
     },
     "output_type": "display_data"
    }
   ],
   "source": [
    "# 시각화를 위해서 각 그룹별 size을 따로 변수로 생성\n",
    "wgt0 = df[df['labels'] == 0]['체중'].mean()\n",
    "wgt1 = df[df['labels'] == 1]['체중'].mean()\n",
    "wgt2 = df[df['labels'] == 2]['체중'].mean()\n",
    "# 주의 모든 과정을 똑같이 하였어도 kmeans의 기본 중심값 설정은 랜덤임\n",
    "plt.figure(figsize = (15,8))\n",
    "sns.barplot(x = ['group_0', 'group_1', 'group_2'], y = [wgt0, wgt1, wgt2] )\n",
    "plt.show()"
   ]
  },
  {
   "cell_type": "markdown",
   "id": "59cafed2-1b8c-4912-a701-d0a21ec7b432",
   "metadata": {},
   "source": [
    "## (6) 그룹별 평균 권장 산책시간 비교"
   ]
  },
  {
   "cell_type": "code",
   "execution_count": 48,
   "id": "4fca3e7f-5cea-4a7d-a2e6-d62ca048effd",
   "metadata": {},
   "outputs": [
    {
     "data": {
      "image/png": "[encoded data removed]",
      "text/plain": [
       "<Figure size 1080x576 with 1 Axes>"
      ]
     },
     "metadata": {
      "needs_background": "light"
     },
     "output_type": "display_data"
    }
   ],
   "source": [
    "# 시각화를 위해서 각 그룹별 size을 따로 변수로 생성\n",
    "recom0 = df[df['labels'] == 0]['산책시간(시간)'].mean()\n",
    "recom1 = df[df['labels'] == 1]['산책시간(시간)'].mean()\n",
    "recom2 = df[df['labels'] == 2]['산책시간(시간)'].mean()\n",
    "# 주의 모든 과정을 똑같이 하였어도 kmeans의 기본 중심값 설정은 랜덤임\n",
    "plt.figure(figsize = (15,8))\n",
    "sns.barplot(x = ['group_0', 'group_1', 'group_2'], y = [recom0, recom1, recom2] )\n",
    "plt.show()"
   ]
  },
  {
   "cell_type": "markdown",
   "id": "4ed4c95d-ea9e-4df4-9993-8011022b04ce",
   "metadata": {},
   "source": [
    "## (7)그룹별 특징\n",
    "- 나이를 기준으로 비교"
   ]
  },
  {
   "cell_type": "code",
   "execution_count": 49,
   "id": "67432dca-74b0-4342-b77d-6dc3a3563494",
   "metadata": {},
   "outputs": [
    {
     "data": {
      "text/html": [
       "<div>\n",
       "<style scoped>\n",
       "    .dataframe tbody tr th:only-of-type {\n",
       "        vertical-align: middle;\n",
       "    }\n",
       "\n",
       "    .dataframe tbody tr th {\n",
       "        vertical-align: top;\n",
       "    }\n",
       "\n",
       "    .dataframe thead th {\n",
       "        text-align: right;\n",
       "    }\n",
       "</style>\n",
       "<table border=\"1\" class=\"dataframe\">\n",
       "  <thead>\n",
       "    <tr style=\"text-align: right;\">\n",
       "      <th></th>\n",
       "      <th>품종</th>\n",
       "      <th>나이</th>\n",
       "      <th>산책시간(시간)</th>\n",
       "      <th>체중</th>\n",
       "      <th>성별</th>\n",
       "      <th>중성화여부</th>\n",
       "      <th>색상</th>\n",
       "      <th>음수량</th>\n",
       "      <th>성별_라벨링</th>\n",
       "      <th>중성화_라벨링</th>\n",
       "      <th>크기</th>\n",
       "      <th>크기_라벨링</th>\n",
       "      <th>labels</th>\n",
       "    </tr>\n",
       "  </thead>\n",
       "  <tbody>\n",
       "    <tr>\n",
       "      <th>0</th>\n",
       "      <td>골든 리트리버</td>\n",
       "      <td>13</td>\n",
       "      <td>0.5</td>\n",
       "      <td>27.0</td>\n",
       "      <td>M</td>\n",
       "      <td>N</td>\n",
       "      <td>갈색</td>\n",
       "      <td>1755.0</td>\n",
       "      <td>1</td>\n",
       "      <td>0</td>\n",
       "      <td>대</td>\n",
       "      <td>2</td>\n",
       "      <td>0</td>\n",
       "    </tr>\n",
       "    <tr>\n",
       "      <th>1</th>\n",
       "      <td>골든 리트리버</td>\n",
       "      <td>10</td>\n",
       "      <td>0.5</td>\n",
       "      <td>25.0</td>\n",
       "      <td>F</td>\n",
       "      <td>N</td>\n",
       "      <td>갈색</td>\n",
       "      <td>1625.0</td>\n",
       "      <td>0</td>\n",
       "      <td>0</td>\n",
       "      <td>대</td>\n",
       "      <td>2</td>\n",
       "      <td>0</td>\n",
       "    </tr>\n",
       "    <tr>\n",
       "      <th>2</th>\n",
       "      <td>골든 리트리버</td>\n",
       "      <td>9</td>\n",
       "      <td>0.5</td>\n",
       "      <td>40.0</td>\n",
       "      <td>M</td>\n",
       "      <td>N</td>\n",
       "      <td>갈색</td>\n",
       "      <td>2600.0</td>\n",
       "      <td>1</td>\n",
       "      <td>0</td>\n",
       "      <td>대</td>\n",
       "      <td>2</td>\n",
       "      <td>0</td>\n",
       "    </tr>\n",
       "    <tr>\n",
       "      <th>3</th>\n",
       "      <td>골든 리트리버</td>\n",
       "      <td>8</td>\n",
       "      <td>0.5</td>\n",
       "      <td>28.0</td>\n",
       "      <td>F</td>\n",
       "      <td>N</td>\n",
       "      <td>갈색</td>\n",
       "      <td>1820.0</td>\n",
       "      <td>0</td>\n",
       "      <td>0</td>\n",
       "      <td>대</td>\n",
       "      <td>2</td>\n",
       "      <td>0</td>\n",
       "    </tr>\n",
       "    <tr>\n",
       "      <th>4</th>\n",
       "      <td>골든 리트리버</td>\n",
       "      <td>8</td>\n",
       "      <td>0.5</td>\n",
       "      <td>33.0</td>\n",
       "      <td>M</td>\n",
       "      <td>N</td>\n",
       "      <td>갈색</td>\n",
       "      <td>2145.0</td>\n",
       "      <td>1</td>\n",
       "      <td>0</td>\n",
       "      <td>대</td>\n",
       "      <td>2</td>\n",
       "      <td>0</td>\n",
       "    </tr>\n",
       "  </tbody>\n",
       "</table>\n",
       "</div>"
      ],
      "text/plain": [
       "        품종  나이  산책시간(시간)    체중 성별 중성화여부  색상     음수량  성별_라벨링  중성화_라벨링 크기  \\\n",
       "0  골든 리트리버  13       0.5  27.0  M     N  갈색  1755.0       1        0  대   \n",
       "1  골든 리트리버  10       0.5  25.0  F     N  갈색  1625.0       0        0  대   \n",
       "2  골든 리트리버   9       0.5  40.0  M     N  갈색  2600.0       1        0  대   \n",
       "3  골든 리트리버   8       0.5  28.0  F     N  갈색  1820.0       0        0  대   \n",
       "4  골든 리트리버   8       0.5  33.0  M     N  갈색  2145.0       1        0  대   \n",
       "\n",
       "   크기_라벨링  labels  \n",
       "0       2       0  \n",
       "1       2       0  \n",
       "2       2       0  \n",
       "3       2       0  \n",
       "4       2       0  "
      ]
     },
     "execution_count": 49,
     "metadata": {},
     "output_type": "execute_result"
    }
   ],
   "source": [
    "df.head()"
   ]
  },
  {
   "cell_type": "code",
   "execution_count": 50,
   "id": "cbbcc727-d6ec-4430-8186-bdbbcfc9a6ac",
   "metadata": {},
   "outputs": [],
   "source": [
    "group = df[(df['labels']==0) | (df['labels']==1) | (df['labels']==2) ]"
   ]
  },
  {
   "cell_type": "code",
   "execution_count": 51,
   "id": "ef4af443-5a2f-4089-a109-bb535cf991ef",
   "metadata": {},
   "outputs": [
    {
     "data": {
      "text/plain": [
       "1    3654\n",
       "0    1447\n",
       "2     573\n",
       "Name: labels, dtype: int64"
      ]
     },
     "execution_count": 51,
     "metadata": {},
     "output_type": "execute_result"
    }
   ],
   "source": [
    "group['labels'].value_counts()"
   ]
  },
  {
   "cell_type": "code",
   "execution_count": 52,
   "id": "e16b6b65-6a17-4abc-a0c3-21166bf932fb",
   "metadata": {},
   "outputs": [
    {
     "data": {
      "text/html": [
       "<div>\n",
       "<style scoped>\n",
       "    .dataframe tbody tr th:only-of-type {\n",
       "        vertical-align: middle;\n",
       "    }\n",
       "\n",
       "    .dataframe tbody tr th {\n",
       "        vertical-align: top;\n",
       "    }\n",
       "\n",
       "    .dataframe thead th {\n",
       "        text-align: right;\n",
       "    }\n",
       "</style>\n",
       "<table border=\"1\" class=\"dataframe\">\n",
       "  <thead>\n",
       "    <tr style=\"text-align: right;\">\n",
       "      <th></th>\n",
       "      <th>labels</th>\n",
       "      <th>나이</th>\n",
       "      <th>산책시간(시간)</th>\n",
       "      <th>체중</th>\n",
       "      <th>음수량</th>\n",
       "      <th>성별_라벨링</th>\n",
       "      <th>중성화_라벨링</th>\n",
       "      <th>크기_라벨링</th>\n",
       "    </tr>\n",
       "  </thead>\n",
       "  <tbody>\n",
       "    <tr>\n",
       "      <th>0</th>\n",
       "      <td>0</td>\n",
       "      <td>2.713200</td>\n",
       "      <td>1.027505</td>\n",
       "      <td>17.218715</td>\n",
       "      <td>1119.216448</td>\n",
       "      <td>0.724257</td>\n",
       "      <td>0.037319</td>\n",
       "      <td>1.281272</td>\n",
       "    </tr>\n",
       "    <tr>\n",
       "      <th>1</th>\n",
       "      <td>1</td>\n",
       "      <td>0.951286</td>\n",
       "      <td>0.861002</td>\n",
       "      <td>3.825030</td>\n",
       "      <td>248.626957</td>\n",
       "      <td>0.585386</td>\n",
       "      <td>0.000821</td>\n",
       "      <td>0.012042</td>\n",
       "    </tr>\n",
       "    <tr>\n",
       "      <th>2</th>\n",
       "      <td>2</td>\n",
       "      <td>6.450262</td>\n",
       "      <td>0.752531</td>\n",
       "      <td>5.847295</td>\n",
       "      <td>380.074171</td>\n",
       "      <td>0.872600</td>\n",
       "      <td>0.769634</td>\n",
       "      <td>0.118674</td>\n",
       "    </tr>\n",
       "  </tbody>\n",
       "</table>\n",
       "</div>"
      ],
      "text/plain": [
       "   labels        나이  산책시간(시간)         체중          음수량    성별_라벨링   중성화_라벨링  \\\n",
       "0       0  2.713200  1.027505  17.218715  1119.216448  0.724257  0.037319   \n",
       "1       1  0.951286  0.861002   3.825030   248.626957  0.585386  0.000821   \n",
       "2       2  6.450262  0.752531   5.847295   380.074171  0.872600  0.769634   \n",
       "\n",
       "     크기_라벨링  \n",
       "0  1.281272  \n",
       "1  0.012042  \n",
       "2  0.118674  "
      ]
     },
     "execution_count": 52,
     "metadata": {},
     "output_type": "execute_result"
    }
   ],
   "source": [
    "group = group.groupby('labels').mean().reset_index()\n",
    "group"
   ]
  },
  {
   "cell_type": "code",
   "execution_count": 53,
   "id": "9d39a16b-6f14-4bea-8e1a-6de332319a99",
   "metadata": {},
   "outputs": [
    {
     "data": {
      "text/plain": [
       "Index(['labels', '나이', '산책시간(시간)', '체중', '음수량', '성별_라벨링', '중성화_라벨링', '크기_라벨링'], dtype='object')"
      ]
     },
     "execution_count": 53,
     "metadata": {},
     "output_type": "execute_result"
    }
   ],
   "source": [
    "column = group.columns\n",
    "column"
   ]
  },
  {
   "cell_type": "code",
   "execution_count": 54,
   "id": "39ac6d70-c79d-489a-bbde-929c45f5e317",
   "metadata": {},
   "outputs": [
    {
     "data": {
      "image/png": "[encoded data removed]",
      "text/plain": [
       "<Figure size 1440x936 with 9 Axes>"
      ]
     },
     "metadata": {
      "needs_background": "light"
     },
     "output_type": "display_data"
    }
   ],
   "source": [
    "# 반복문으로 그림그리기\n",
    "f, ax = plt.subplots(3,3,figsize=(20,13))\n",
    "\n",
    "for i in range(1,8):\n",
    "        sns.barplot(x='labels', y=column[i], data=group, ax = ax[i//3, i%3])\n",
    "\n",
    "# sns.barplot(x='labels', y='크기', data = group, ax = ax[0,0])\n",
    "# sns.barplot(x='labels', y='나이', data = group, ax = ax[0,1])\n",
    "# sns.barplot(x='labels', y='체중', data = group, ax = ax[1,0])\n",
    "\n",
    "plt.show()"
   ]
  },
  {
   "cell_type": "code",
   "execution_count": 55,
   "id": "3d75f358-6f5a-4771-91a4-7327f5847300",
   "metadata": {},
   "outputs": [
    {
     "data": {
      "text/html": [
       "<div>\n",
       "<style scoped>\n",
       "    .dataframe tbody tr th:only-of-type {\n",
       "        vertical-align: middle;\n",
       "    }\n",
       "\n",
       "    .dataframe tbody tr th {\n",
       "        vertical-align: top;\n",
       "    }\n",
       "\n",
       "    .dataframe thead th {\n",
       "        text-align: right;\n",
       "    }\n",
       "</style>\n",
       "<table border=\"1\" class=\"dataframe\">\n",
       "  <thead>\n",
       "    <tr style=\"text-align: right;\">\n",
       "      <th></th>\n",
       "      <th>나이</th>\n",
       "      <th>산책시간(시간)</th>\n",
       "      <th>체중</th>\n",
       "      <th>음수량</th>\n",
       "      <th>성별_라벨링</th>\n",
       "      <th>중성화_라벨링</th>\n",
       "      <th>크기_라벨링</th>\n",
       "      <th>labels</th>\n",
       "    </tr>\n",
       "  </thead>\n",
       "  <tbody>\n",
       "    <tr>\n",
       "      <th>count</th>\n",
       "      <td>1447.000000</td>\n",
       "      <td>1447.000000</td>\n",
       "      <td>1447.000000</td>\n",
       "      <td>1447.000000</td>\n",
       "      <td>1447.000000</td>\n",
       "      <td>1447.000000</td>\n",
       "      <td>1447.000000</td>\n",
       "      <td>1447.0</td>\n",
       "    </tr>\n",
       "    <tr>\n",
       "      <th>mean</th>\n",
       "      <td>2.713200</td>\n",
       "      <td>1.027505</td>\n",
       "      <td>17.218715</td>\n",
       "      <td>1119.216448</td>\n",
       "      <td>0.724257</td>\n",
       "      <td>0.037319</td>\n",
       "      <td>1.281272</td>\n",
       "      <td>0.0</td>\n",
       "    </tr>\n",
       "    <tr>\n",
       "      <th>std</th>\n",
       "      <td>1.695731</td>\n",
       "      <td>0.164113</td>\n",
       "      <td>6.196337</td>\n",
       "      <td>402.761888</td>\n",
       "      <td>0.447042</td>\n",
       "      <td>0.189607</td>\n",
       "      <td>0.461912</td>\n",
       "      <td>0.0</td>\n",
       "    </tr>\n",
       "    <tr>\n",
       "      <th>min</th>\n",
       "      <td>0.000000</td>\n",
       "      <td>0.500000</td>\n",
       "      <td>6.000000</td>\n",
       "      <td>390.000000</td>\n",
       "      <td>0.000000</td>\n",
       "      <td>0.000000</td>\n",
       "      <td>0.000000</td>\n",
       "      <td>0.0</td>\n",
       "    </tr>\n",
       "    <tr>\n",
       "      <th>25%</th>\n",
       "      <td>2.000000</td>\n",
       "      <td>1.000000</td>\n",
       "      <td>13.000000</td>\n",
       "      <td>845.000000</td>\n",
       "      <td>0.000000</td>\n",
       "      <td>0.000000</td>\n",
       "      <td>1.000000</td>\n",
       "      <td>0.0</td>\n",
       "    </tr>\n",
       "    <tr>\n",
       "      <th>50%</th>\n",
       "      <td>2.000000</td>\n",
       "      <td>1.000000</td>\n",
       "      <td>16.000000</td>\n",
       "      <td>1040.000000</td>\n",
       "      <td>1.000000</td>\n",
       "      <td>0.000000</td>\n",
       "      <td>1.000000</td>\n",
       "      <td>0.0</td>\n",
       "    </tr>\n",
       "    <tr>\n",
       "      <th>75%</th>\n",
       "      <td>4.000000</td>\n",
       "      <td>1.000000</td>\n",
       "      <td>20.000000</td>\n",
       "      <td>1300.000000</td>\n",
       "      <td>1.000000</td>\n",
       "      <td>0.000000</td>\n",
       "      <td>2.000000</td>\n",
       "      <td>0.0</td>\n",
       "    </tr>\n",
       "    <tr>\n",
       "      <th>max</th>\n",
       "      <td>14.000000</td>\n",
       "      <td>1.500000</td>\n",
       "      <td>60.000000</td>\n",
       "      <td>3900.000000</td>\n",
       "      <td>1.000000</td>\n",
       "      <td>1.000000</td>\n",
       "      <td>2.000000</td>\n",
       "      <td>0.0</td>\n",
       "    </tr>\n",
       "  </tbody>\n",
       "</table>\n",
       "</div>"
      ],
      "text/plain": [
       "                나이     산책시간(시간)           체중          음수량       성별_라벨링  \\\n",
       "count  1447.000000  1447.000000  1447.000000  1447.000000  1447.000000   \n",
       "mean      2.713200     1.027505    17.218715  1119.216448     0.724257   \n",
       "std       1.695731     0.164113     6.196337   402.761888     0.447042   \n",
       "min       0.000000     0.500000     6.000000   390.000000     0.000000   \n",
       "25%       2.000000     1.000000    13.000000   845.000000     0.000000   \n",
       "50%       2.000000     1.000000    16.000000  1040.000000     1.000000   \n",
       "75%       4.000000     1.000000    20.000000  1300.000000     1.000000   \n",
       "max      14.000000     1.500000    60.000000  3900.000000     1.000000   \n",
       "\n",
       "           중성화_라벨링       크기_라벨링  labels  \n",
       "count  1447.000000  1447.000000  1447.0  \n",
       "mean      0.037319     1.281272     0.0  \n",
       "std       0.189607     0.461912     0.0  \n",
       "min       0.000000     0.000000     0.0  \n",
       "25%       0.000000     1.000000     0.0  \n",
       "50%       0.000000     1.000000     0.0  \n",
       "75%       0.000000     2.000000     0.0  \n",
       "max       1.000000     2.000000     0.0  "
      ]
     },
     "execution_count": 55,
     "metadata": {},
     "output_type": "execute_result"
    }
   ],
   "source": [
    "df[df['labels']==0].describe()"
   ]
  },
  {
   "cell_type": "code",
   "execution_count": 56,
   "id": "5affae91-c7ef-452b-b6fc-46b126e661e0",
   "metadata": {},
   "outputs": [
    {
     "data": {
      "text/html": [
       "<div>\n",
       "<style scoped>\n",
       "    .dataframe tbody tr th:only-of-type {\n",
       "        vertical-align: middle;\n",
       "    }\n",
       "\n",
       "    .dataframe tbody tr th {\n",
       "        vertical-align: top;\n",
       "    }\n",
       "\n",
       "    .dataframe thead th {\n",
       "        text-align: right;\n",
       "    }\n",
       "</style>\n",
       "<table border=\"1\" class=\"dataframe\">\n",
       "  <thead>\n",
       "    <tr style=\"text-align: right;\">\n",
       "      <th></th>\n",
       "      <th>나이</th>\n",
       "      <th>산책시간(시간)</th>\n",
       "      <th>체중</th>\n",
       "      <th>음수량</th>\n",
       "      <th>성별_라벨링</th>\n",
       "      <th>중성화_라벨링</th>\n",
       "      <th>크기_라벨링</th>\n",
       "      <th>labels</th>\n",
       "    </tr>\n",
       "  </thead>\n",
       "  <tbody>\n",
       "    <tr>\n",
       "      <th>count</th>\n",
       "      <td>3654.000000</td>\n",
       "      <td>3654.000000</td>\n",
       "      <td>3654.000000</td>\n",
       "      <td>3654.000000</td>\n",
       "      <td>3654.000000</td>\n",
       "      <td>3654.000000</td>\n",
       "      <td>3654.000000</td>\n",
       "      <td>3654.0</td>\n",
       "    </tr>\n",
       "    <tr>\n",
       "      <th>mean</th>\n",
       "      <td>0.951286</td>\n",
       "      <td>0.861002</td>\n",
       "      <td>3.825030</td>\n",
       "      <td>248.626957</td>\n",
       "      <td>0.585386</td>\n",
       "      <td>0.000821</td>\n",
       "      <td>0.012042</td>\n",
       "      <td>1.0</td>\n",
       "    </tr>\n",
       "    <tr>\n",
       "      <th>std</th>\n",
       "      <td>1.643520</td>\n",
       "      <td>0.105076</td>\n",
       "      <td>2.386501</td>\n",
       "      <td>155.122589</td>\n",
       "      <td>0.492723</td>\n",
       "      <td>0.028646</td>\n",
       "      <td>0.109086</td>\n",
       "      <td>0.0</td>\n",
       "    </tr>\n",
       "    <tr>\n",
       "      <th>min</th>\n",
       "      <td>0.000000</td>\n",
       "      <td>0.500000</td>\n",
       "      <td>0.040000</td>\n",
       "      <td>2.600000</td>\n",
       "      <td>0.000000</td>\n",
       "      <td>0.000000</td>\n",
       "      <td>0.000000</td>\n",
       "      <td>1.0</td>\n",
       "    </tr>\n",
       "    <tr>\n",
       "      <th>25%</th>\n",
       "      <td>0.000000</td>\n",
       "      <td>0.800000</td>\n",
       "      <td>2.000000</td>\n",
       "      <td>130.000000</td>\n",
       "      <td>0.000000</td>\n",
       "      <td>0.000000</td>\n",
       "      <td>0.000000</td>\n",
       "      <td>1.0</td>\n",
       "    </tr>\n",
       "    <tr>\n",
       "      <th>50%</th>\n",
       "      <td>0.000000</td>\n",
       "      <td>0.800000</td>\n",
       "      <td>3.200000</td>\n",
       "      <td>208.000000</td>\n",
       "      <td>1.000000</td>\n",
       "      <td>0.000000</td>\n",
       "      <td>0.000000</td>\n",
       "      <td>1.0</td>\n",
       "    </tr>\n",
       "    <tr>\n",
       "      <th>75%</th>\n",
       "      <td>1.000000</td>\n",
       "      <td>1.000000</td>\n",
       "      <td>5.100000</td>\n",
       "      <td>331.500000</td>\n",
       "      <td>1.000000</td>\n",
       "      <td>0.000000</td>\n",
       "      <td>0.000000</td>\n",
       "      <td>1.0</td>\n",
       "    </tr>\n",
       "    <tr>\n",
       "      <th>max</th>\n",
       "      <td>8.000000</td>\n",
       "      <td>1.500000</td>\n",
       "      <td>12.000000</td>\n",
       "      <td>780.000000</td>\n",
       "      <td>1.000000</td>\n",
       "      <td>1.000000</td>\n",
       "      <td>1.000000</td>\n",
       "      <td>1.0</td>\n",
       "    </tr>\n",
       "  </tbody>\n",
       "</table>\n",
       "</div>"
      ],
      "text/plain": [
       "                나이     산책시간(시간)           체중          음수량       성별_라벨링  \\\n",
       "count  3654.000000  3654.000000  3654.000000  3654.000000  3654.000000   \n",
       "mean      0.951286     0.861002     3.825030   248.626957     0.585386   \n",
       "std       1.643520     0.105076     2.386501   155.122589     0.492723   \n",
       "min       0.000000     0.500000     0.040000     2.600000     0.000000   \n",
       "25%       0.000000     0.800000     2.000000   130.000000     0.000000   \n",
       "50%       0.000000     0.800000     3.200000   208.000000     1.000000   \n",
       "75%       1.000000     1.000000     5.100000   331.500000     1.000000   \n",
       "max       8.000000     1.500000    12.000000   780.000000     1.000000   \n",
       "\n",
       "           중성화_라벨링       크기_라벨링  labels  \n",
       "count  3654.000000  3654.000000  3654.0  \n",
       "mean      0.000821     0.012042     1.0  \n",
       "std       0.028646     0.109086     0.0  \n",
       "min       0.000000     0.000000     1.0  \n",
       "25%       0.000000     0.000000     1.0  \n",
       "50%       0.000000     0.000000     1.0  \n",
       "75%       0.000000     0.000000     1.0  \n",
       "max       1.000000     1.000000     1.0  "
      ]
     },
     "execution_count": 56,
     "metadata": {},
     "output_type": "execute_result"
    }
   ],
   "source": [
    "df[df['labels']==1].describe()"
   ]
  },
  {
   "cell_type": "code",
   "execution_count": 57,
   "id": "2943d0c3-619e-4db1-99ff-9bdefd321de4",
   "metadata": {},
   "outputs": [
    {
     "data": {
      "text/html": [
       "<div>\n",
       "<style scoped>\n",
       "    .dataframe tbody tr th:only-of-type {\n",
       "        vertical-align: middle;\n",
       "    }\n",
       "\n",
       "    .dataframe tbody tr th {\n",
       "        vertical-align: top;\n",
       "    }\n",
       "\n",
       "    .dataframe thead th {\n",
       "        text-align: right;\n",
       "    }\n",
       "</style>\n",
       "<table border=\"1\" class=\"dataframe\">\n",
       "  <thead>\n",
       "    <tr style=\"text-align: right;\">\n",
       "      <th></th>\n",
       "      <th>나이</th>\n",
       "      <th>산책시간(시간)</th>\n",
       "      <th>체중</th>\n",
       "      <th>음수량</th>\n",
       "      <th>성별_라벨링</th>\n",
       "      <th>중성화_라벨링</th>\n",
       "      <th>크기_라벨링</th>\n",
       "      <th>labels</th>\n",
       "    </tr>\n",
       "  </thead>\n",
       "  <tbody>\n",
       "    <tr>\n",
       "      <th>count</th>\n",
       "      <td>573.000000</td>\n",
       "      <td>573.000000</td>\n",
       "      <td>573.000000</td>\n",
       "      <td>573.000000</td>\n",
       "      <td>573.000000</td>\n",
       "      <td>573.000000</td>\n",
       "      <td>573.000000</td>\n",
       "      <td>573.0</td>\n",
       "    </tr>\n",
       "    <tr>\n",
       "      <th>mean</th>\n",
       "      <td>6.450262</td>\n",
       "      <td>0.752531</td>\n",
       "      <td>5.847295</td>\n",
       "      <td>380.074171</td>\n",
       "      <td>0.872600</td>\n",
       "      <td>0.769634</td>\n",
       "      <td>0.118674</td>\n",
       "      <td>2.0</td>\n",
       "    </tr>\n",
       "    <tr>\n",
       "      <th>std</th>\n",
       "      <td>3.816561</td>\n",
       "      <td>0.230797</td>\n",
       "      <td>3.180804</td>\n",
       "      <td>206.752232</td>\n",
       "      <td>0.333711</td>\n",
       "      <td>0.421435</td>\n",
       "      <td>0.329043</td>\n",
       "      <td>0.0</td>\n",
       "    </tr>\n",
       "    <tr>\n",
       "      <th>min</th>\n",
       "      <td>0.000000</td>\n",
       "      <td>0.500000</td>\n",
       "      <td>1.200000</td>\n",
       "      <td>78.000000</td>\n",
       "      <td>0.000000</td>\n",
       "      <td>0.000000</td>\n",
       "      <td>0.000000</td>\n",
       "      <td>2.0</td>\n",
       "    </tr>\n",
       "    <tr>\n",
       "      <th>25%</th>\n",
       "      <td>3.000000</td>\n",
       "      <td>0.500000</td>\n",
       "      <td>3.600000</td>\n",
       "      <td>234.000000</td>\n",
       "      <td>1.000000</td>\n",
       "      <td>1.000000</td>\n",
       "      <td>0.000000</td>\n",
       "      <td>2.0</td>\n",
       "    </tr>\n",
       "    <tr>\n",
       "      <th>50%</th>\n",
       "      <td>6.000000</td>\n",
       "      <td>0.800000</td>\n",
       "      <td>5.000000</td>\n",
       "      <td>325.000000</td>\n",
       "      <td>1.000000</td>\n",
       "      <td>1.000000</td>\n",
       "      <td>0.000000</td>\n",
       "      <td>2.0</td>\n",
       "    </tr>\n",
       "    <tr>\n",
       "      <th>75%</th>\n",
       "      <td>10.000000</td>\n",
       "      <td>1.000000</td>\n",
       "      <td>7.300000</td>\n",
       "      <td>474.500000</td>\n",
       "      <td>1.000000</td>\n",
       "      <td>1.000000</td>\n",
       "      <td>0.000000</td>\n",
       "      <td>2.0</td>\n",
       "    </tr>\n",
       "    <tr>\n",
       "      <th>max</th>\n",
       "      <td>18.000000</td>\n",
       "      <td>1.500000</td>\n",
       "      <td>22.000000</td>\n",
       "      <td>1430.000000</td>\n",
       "      <td>1.000000</td>\n",
       "      <td>1.000000</td>\n",
       "      <td>2.000000</td>\n",
       "      <td>2.0</td>\n",
       "    </tr>\n",
       "  </tbody>\n",
       "</table>\n",
       "</div>"
      ],
      "text/plain": [
       "               나이    산책시간(시간)          체중          음수량      성별_라벨링  \\\n",
       "count  573.000000  573.000000  573.000000   573.000000  573.000000   \n",
       "mean     6.450262    0.752531    5.847295   380.074171    0.872600   \n",
       "std      3.816561    0.230797    3.180804   206.752232    0.333711   \n",
       "min      0.000000    0.500000    1.200000    78.000000    0.000000   \n",
       "25%      3.000000    0.500000    3.600000   234.000000    1.000000   \n",
       "50%      6.000000    0.800000    5.000000   325.000000    1.000000   \n",
       "75%     10.000000    1.000000    7.300000   474.500000    1.000000   \n",
       "max     18.000000    1.500000   22.000000  1430.000000    1.000000   \n",
       "\n",
       "          중성화_라벨링      크기_라벨링  labels  \n",
       "count  573.000000  573.000000   573.0  \n",
       "mean     0.769634    0.118674     2.0  \n",
       "std      0.421435    0.329043     0.0  \n",
       "min      0.000000    0.000000     2.0  \n",
       "25%      1.000000    0.000000     2.0  \n",
       "50%      1.000000    0.000000     2.0  \n",
       "75%      1.000000    0.000000     2.0  \n",
       "max      1.000000    2.000000     2.0  "
      ]
     },
     "execution_count": 57,
     "metadata": {},
     "output_type": "execute_result"
    }
   ],
   "source": [
    "df[df['labels']==2].describe()"
   ]
  },
  {
   "cell_type": "code",
   "execution_count": 58,
   "id": "11a77c3a-79ff-46ad-9852-874ea224c362",
   "metadata": {},
   "outputs": [
    {
     "data": {
      "text/html": [
       "<div>\n",
       "<style scoped>\n",
       "    .dataframe tbody tr th:only-of-type {\n",
       "        vertical-align: middle;\n",
       "    }\n",
       "\n",
       "    .dataframe tbody tr th {\n",
       "        vertical-align: top;\n",
       "    }\n",
       "\n",
       "    .dataframe thead th {\n",
       "        text-align: right;\n",
       "    }\n",
       "</style>\n",
       "<table border=\"1\" class=\"dataframe\">\n",
       "  <thead>\n",
       "    <tr style=\"text-align: right;\">\n",
       "      <th></th>\n",
       "      <th>나이</th>\n",
       "      <th>산책시간(시간)</th>\n",
       "      <th>체중</th>\n",
       "      <th>음수량</th>\n",
       "      <th>성별_라벨링</th>\n",
       "      <th>중성화_라벨링</th>\n",
       "      <th>크기_라벨링</th>\n",
       "      <th>labels</th>\n",
       "    </tr>\n",
       "  </thead>\n",
       "  <tbody>\n",
       "    <tr>\n",
       "      <th>count</th>\n",
       "      <td>0.0</td>\n",
       "      <td>0.0</td>\n",
       "      <td>0.0</td>\n",
       "      <td>0.0</td>\n",
       "      <td>0.0</td>\n",
       "      <td>0.0</td>\n",
       "      <td>0.0</td>\n",
       "      <td>0.0</td>\n",
       "    </tr>\n",
       "    <tr>\n",
       "      <th>mean</th>\n",
       "      <td>NaN</td>\n",
       "      <td>NaN</td>\n",
       "      <td>NaN</td>\n",
       "      <td>NaN</td>\n",
       "      <td>NaN</td>\n",
       "      <td>NaN</td>\n",
       "      <td>NaN</td>\n",
       "      <td>NaN</td>\n",
       "    </tr>\n",
       "    <tr>\n",
       "      <th>std</th>\n",
       "      <td>NaN</td>\n",
       "      <td>NaN</td>\n",
       "      <td>NaN</td>\n",
       "      <td>NaN</td>\n",
       "      <td>NaN</td>\n",
       "      <td>NaN</td>\n",
       "      <td>NaN</td>\n",
       "      <td>NaN</td>\n",
       "    </tr>\n",
       "    <tr>\n",
       "      <th>min</th>\n",
       "      <td>NaN</td>\n",
       "      <td>NaN</td>\n",
       "      <td>NaN</td>\n",
       "      <td>NaN</td>\n",
       "      <td>NaN</td>\n",
       "      <td>NaN</td>\n",
       "      <td>NaN</td>\n",
       "      <td>NaN</td>\n",
       "    </tr>\n",
       "    <tr>\n",
       "      <th>25%</th>\n",
       "      <td>NaN</td>\n",
       "      <td>NaN</td>\n",
       "      <td>NaN</td>\n",
       "      <td>NaN</td>\n",
       "      <td>NaN</td>\n",
       "      <td>NaN</td>\n",
       "      <td>NaN</td>\n",
       "      <td>NaN</td>\n",
       "    </tr>\n",
       "    <tr>\n",
       "      <th>50%</th>\n",
       "      <td>NaN</td>\n",
       "      <td>NaN</td>\n",
       "      <td>NaN</td>\n",
       "      <td>NaN</td>\n",
       "      <td>NaN</td>\n",
       "      <td>NaN</td>\n",
       "      <td>NaN</td>\n",
       "      <td>NaN</td>\n",
       "    </tr>\n",
       "    <tr>\n",
       "      <th>75%</th>\n",
       "      <td>NaN</td>\n",
       "      <td>NaN</td>\n",
       "      <td>NaN</td>\n",
       "      <td>NaN</td>\n",
       "      <td>NaN</td>\n",
       "      <td>NaN</td>\n",
       "      <td>NaN</td>\n",
       "      <td>NaN</td>\n",
       "    </tr>\n",
       "    <tr>\n",
       "      <th>max</th>\n",
       "      <td>NaN</td>\n",
       "      <td>NaN</td>\n",
       "      <td>NaN</td>\n",
       "      <td>NaN</td>\n",
       "      <td>NaN</td>\n",
       "      <td>NaN</td>\n",
       "      <td>NaN</td>\n",
       "      <td>NaN</td>\n",
       "    </tr>\n",
       "  </tbody>\n",
       "</table>\n",
       "</div>"
      ],
      "text/plain": [
       "        나이  산책시간(시간)   체중  음수량  성별_라벨링  중성화_라벨링  크기_라벨링  labels\n",
       "count  0.0       0.0  0.0  0.0     0.0      0.0     0.0     0.0\n",
       "mean   NaN       NaN  NaN  NaN     NaN      NaN     NaN     NaN\n",
       "std    NaN       NaN  NaN  NaN     NaN      NaN     NaN     NaN\n",
       "min    NaN       NaN  NaN  NaN     NaN      NaN     NaN     NaN\n",
       "25%    NaN       NaN  NaN  NaN     NaN      NaN     NaN     NaN\n",
       "50%    NaN       NaN  NaN  NaN     NaN      NaN     NaN     NaN\n",
       "75%    NaN       NaN  NaN  NaN     NaN      NaN     NaN     NaN\n",
       "max    NaN       NaN  NaN  NaN     NaN      NaN     NaN     NaN"
      ]
     },
     "execution_count": 58,
     "metadata": {},
     "output_type": "execute_result"
    }
   ],
   "source": [
    "df[df['labels']==3].describe()"
   ]
  },
  {
   "cell_type": "code",
   "execution_count": 59,
   "id": "8c60a074-e9cc-476f-b3e1-39bff02b19e0",
   "metadata": {},
   "outputs": [
    {
     "data": {
      "text/html": [
       "<div>\n",
       "<style scoped>\n",
       "    .dataframe tbody tr th:only-of-type {\n",
       "        vertical-align: middle;\n",
       "    }\n",
       "\n",
       "    .dataframe tbody tr th {\n",
       "        vertical-align: top;\n",
       "    }\n",
       "\n",
       "    .dataframe thead th {\n",
       "        text-align: right;\n",
       "    }\n",
       "</style>\n",
       "<table border=\"1\" class=\"dataframe\">\n",
       "  <thead>\n",
       "    <tr style=\"text-align: right;\">\n",
       "      <th></th>\n",
       "      <th>품종</th>\n",
       "      <th>나이</th>\n",
       "      <th>산책시간(시간)</th>\n",
       "      <th>체중</th>\n",
       "      <th>성별</th>\n",
       "      <th>중성화여부</th>\n",
       "      <th>색상</th>\n",
       "      <th>음수량</th>\n",
       "      <th>성별_라벨링</th>\n",
       "      <th>중성화_라벨링</th>\n",
       "      <th>크기</th>\n",
       "      <th>크기_라벨링</th>\n",
       "      <th>labels</th>\n",
       "    </tr>\n",
       "  </thead>\n",
       "  <tbody>\n",
       "    <tr>\n",
       "      <th>0</th>\n",
       "      <td>골든 리트리버</td>\n",
       "      <td>13</td>\n",
       "      <td>0.5</td>\n",
       "      <td>27.0</td>\n",
       "      <td>M</td>\n",
       "      <td>N</td>\n",
       "      <td>갈색</td>\n",
       "      <td>1755.0</td>\n",
       "      <td>1</td>\n",
       "      <td>0</td>\n",
       "      <td>대</td>\n",
       "      <td>2</td>\n",
       "      <td>0</td>\n",
       "    </tr>\n",
       "    <tr>\n",
       "      <th>1</th>\n",
       "      <td>골든 리트리버</td>\n",
       "      <td>10</td>\n",
       "      <td>0.5</td>\n",
       "      <td>25.0</td>\n",
       "      <td>F</td>\n",
       "      <td>N</td>\n",
       "      <td>갈색</td>\n",
       "      <td>1625.0</td>\n",
       "      <td>0</td>\n",
       "      <td>0</td>\n",
       "      <td>대</td>\n",
       "      <td>2</td>\n",
       "      <td>0</td>\n",
       "    </tr>\n",
       "    <tr>\n",
       "      <th>2</th>\n",
       "      <td>골든 리트리버</td>\n",
       "      <td>9</td>\n",
       "      <td>0.5</td>\n",
       "      <td>40.0</td>\n",
       "      <td>M</td>\n",
       "      <td>N</td>\n",
       "      <td>갈색</td>\n",
       "      <td>2600.0</td>\n",
       "      <td>1</td>\n",
       "      <td>0</td>\n",
       "      <td>대</td>\n",
       "      <td>2</td>\n",
       "      <td>0</td>\n",
       "    </tr>\n",
       "    <tr>\n",
       "      <th>3</th>\n",
       "      <td>골든 리트리버</td>\n",
       "      <td>8</td>\n",
       "      <td>0.5</td>\n",
       "      <td>28.0</td>\n",
       "      <td>F</td>\n",
       "      <td>N</td>\n",
       "      <td>갈색</td>\n",
       "      <td>1820.0</td>\n",
       "      <td>0</td>\n",
       "      <td>0</td>\n",
       "      <td>대</td>\n",
       "      <td>2</td>\n",
       "      <td>0</td>\n",
       "    </tr>\n",
       "    <tr>\n",
       "      <th>4</th>\n",
       "      <td>골든 리트리버</td>\n",
       "      <td>8</td>\n",
       "      <td>0.5</td>\n",
       "      <td>33.0</td>\n",
       "      <td>M</td>\n",
       "      <td>N</td>\n",
       "      <td>갈색</td>\n",
       "      <td>2145.0</td>\n",
       "      <td>1</td>\n",
       "      <td>0</td>\n",
       "      <td>대</td>\n",
       "      <td>2</td>\n",
       "      <td>0</td>\n",
       "    </tr>\n",
       "  </tbody>\n",
       "</table>\n",
       "</div>"
      ],
      "text/plain": [
       "        품종  나이  산책시간(시간)    체중 성별 중성화여부  색상     음수량  성별_라벨링  중성화_라벨링 크기  \\\n",
       "0  골든 리트리버  13       0.5  27.0  M     N  갈색  1755.0       1        0  대   \n",
       "1  골든 리트리버  10       0.5  25.0  F     N  갈색  1625.0       0        0  대   \n",
       "2  골든 리트리버   9       0.5  40.0  M     N  갈색  2600.0       1        0  대   \n",
       "3  골든 리트리버   8       0.5  28.0  F     N  갈색  1820.0       0        0  대   \n",
       "4  골든 리트리버   8       0.5  33.0  M     N  갈색  2145.0       1        0  대   \n",
       "\n",
       "   크기_라벨링  labels  \n",
       "0       2       0  \n",
       "1       2       0  \n",
       "2       2       0  \n",
       "3       2       0  \n",
       "4       2       0  "
      ]
     },
     "execution_count": 59,
     "metadata": {},
     "output_type": "execute_result"
    }
   ],
   "source": [
    "df.head()"
   ]
  },
  {
   "cell_type": "code",
   "execution_count": 60,
   "id": "670d6418-95c5-431d-85d0-9a8c8c1fa3d6",
   "metadata": {},
   "outputs": [
    {
     "data": {
      "text/plain": [
       "<AxesSubplot:>"
      ]
     },
     "execution_count": 60,
     "metadata": {},
     "output_type": "execute_result"
    },
    {
     "data": {
      "image/png": "[encoded data removed]",
      "text/plain": [
       "<Figure size 432x288 with 1 Axes>"
      ]
     },
     "metadata": {
      "needs_background": "light"
     },
     "output_type": "display_data"
    }
   ],
   "source": [
    "df[df['labels']==0].std().plot()"
   ]
  },
  {
   "cell_type": "code",
   "execution_count": 61,
   "id": "2f31f201-4478-4b72-bc29-8a4477d24dbd",
   "metadata": {},
   "outputs": [
    {
     "data": {
      "text/html": [
       "<div>\n",
       "<style scoped>\n",
       "    .dataframe tbody tr th:only-of-type {\n",
       "        vertical-align: middle;\n",
       "    }\n",
       "\n",
       "    .dataframe tbody tr th {\n",
       "        vertical-align: top;\n",
       "    }\n",
       "\n",
       "    .dataframe thead th {\n",
       "        text-align: right;\n",
       "    }\n",
       "</style>\n",
       "<table border=\"1\" class=\"dataframe\">\n",
       "  <thead>\n",
       "    <tr style=\"text-align: right;\">\n",
       "      <th></th>\n",
       "      <th>나이</th>\n",
       "      <th>산책시간(시간)</th>\n",
       "      <th>체중</th>\n",
       "      <th>음수량</th>\n",
       "      <th>성별_라벨링</th>\n",
       "      <th>중성화_라벨링</th>\n",
       "      <th>크기_라벨링</th>\n",
       "      <th>labels</th>\n",
       "    </tr>\n",
       "  </thead>\n",
       "  <tbody>\n",
       "    <tr>\n",
       "      <th>count</th>\n",
       "      <td>5674.000000</td>\n",
       "      <td>5674.000000</td>\n",
       "      <td>5674.000000</td>\n",
       "      <td>5674.000000</td>\n",
       "      <td>5674.000000</td>\n",
       "      <td>5674.000000</td>\n",
       "      <td>5674.000000</td>\n",
       "      <td>5674.000000</td>\n",
       "    </tr>\n",
       "    <tr>\n",
       "      <th>mean</th>\n",
       "      <td>1.955939</td>\n",
       "      <td>0.892510</td>\n",
       "      <td>7.444949</td>\n",
       "      <td>483.921678</td>\n",
       "      <td>0.649806</td>\n",
       "      <td>0.087769</td>\n",
       "      <td>0.346493</td>\n",
       "      <td>0.845964</td>\n",
       "    </tr>\n",
       "    <tr>\n",
       "      <th>std</th>\n",
       "      <td>2.603371</td>\n",
       "      <td>0.163133</td>\n",
       "      <td>6.894764</td>\n",
       "      <td>448.159680</td>\n",
       "      <td>0.477073</td>\n",
       "      <td>0.282983</td>\n",
       "      <td>0.610848</td>\n",
       "      <td>0.576491</td>\n",
       "    </tr>\n",
       "    <tr>\n",
       "      <th>min</th>\n",
       "      <td>0.000000</td>\n",
       "      <td>0.500000</td>\n",
       "      <td>0.040000</td>\n",
       "      <td>2.600000</td>\n",
       "      <td>0.000000</td>\n",
       "      <td>0.000000</td>\n",
       "      <td>0.000000</td>\n",
       "      <td>0.000000</td>\n",
       "    </tr>\n",
       "    <tr>\n",
       "      <th>25%</th>\n",
       "      <td>0.000000</td>\n",
       "      <td>0.800000</td>\n",
       "      <td>2.655000</td>\n",
       "      <td>172.575000</td>\n",
       "      <td>0.000000</td>\n",
       "      <td>0.000000</td>\n",
       "      <td>0.000000</td>\n",
       "      <td>0.000000</td>\n",
       "    </tr>\n",
       "    <tr>\n",
       "      <th>50%</th>\n",
       "      <td>1.000000</td>\n",
       "      <td>0.800000</td>\n",
       "      <td>5.000000</td>\n",
       "      <td>325.000000</td>\n",
       "      <td>1.000000</td>\n",
       "      <td>0.000000</td>\n",
       "      <td>0.000000</td>\n",
       "      <td>1.000000</td>\n",
       "    </tr>\n",
       "    <tr>\n",
       "      <th>75%</th>\n",
       "      <td>3.000000</td>\n",
       "      <td>1.000000</td>\n",
       "      <td>10.000000</td>\n",
       "      <td>650.000000</td>\n",
       "      <td>1.000000</td>\n",
       "      <td>0.000000</td>\n",
       "      <td>1.000000</td>\n",
       "      <td>1.000000</td>\n",
       "    </tr>\n",
       "    <tr>\n",
       "      <th>max</th>\n",
       "      <td>18.000000</td>\n",
       "      <td>1.500000</td>\n",
       "      <td>60.000000</td>\n",
       "      <td>3900.000000</td>\n",
       "      <td>1.000000</td>\n",
       "      <td>1.000000</td>\n",
       "      <td>2.000000</td>\n",
       "      <td>2.000000</td>\n",
       "    </tr>\n",
       "  </tbody>\n",
       "</table>\n",
       "</div>"
      ],
      "text/plain": [
       "                나이     산책시간(시간)           체중          음수량       성별_라벨링  \\\n",
       "count  5674.000000  5674.000000  5674.000000  5674.000000  5674.000000   \n",
       "mean      1.955939     0.892510     7.444949   483.921678     0.649806   \n",
       "std       2.603371     0.163133     6.894764   448.159680     0.477073   \n",
       "min       0.000000     0.500000     0.040000     2.600000     0.000000   \n",
       "25%       0.000000     0.800000     2.655000   172.575000     0.000000   \n",
       "50%       1.000000     0.800000     5.000000   325.000000     1.000000   \n",
       "75%       3.000000     1.000000    10.000000   650.000000     1.000000   \n",
       "max      18.000000     1.500000    60.000000  3900.000000     1.000000   \n",
       "\n",
       "           중성화_라벨링       크기_라벨링       labels  \n",
       "count  5674.000000  5674.000000  5674.000000  \n",
       "mean      0.087769     0.346493     0.845964  \n",
       "std       0.282983     0.610848     0.576491  \n",
       "min       0.000000     0.000000     0.000000  \n",
       "25%       0.000000     0.000000     0.000000  \n",
       "50%       0.000000     0.000000     1.000000  \n",
       "75%       0.000000     1.000000     1.000000  \n",
       "max       1.000000     2.000000     2.000000  "
      ]
     },
     "execution_count": 61,
     "metadata": {},
     "output_type": "execute_result"
    }
   ],
   "source": [
    "df.describe()"
   ]
  },
  {
   "cell_type": "code",
   "execution_count": 62,
   "id": "f9d06734-5ead-4028-a1a6-747bdf81bef2",
   "metadata": {},
   "outputs": [
    {
     "data": {
      "image/png": "[encoded data removed]",
      "text/plain": [
       "<Figure size 864x576 with 1 Axes>"
      ]
     },
     "metadata": {
      "needs_background": "light"
     },
     "output_type": "display_data"
    }
   ],
   "source": [
    "plt.figure(figsize=(12,8))\n",
    "df[df['labels']==0]['체중'].hist()\n",
    "plt.show()"
   ]
  },
  {
   "cell_type": "code",
   "execution_count": 63,
   "id": "f8b628d6-addc-4b66-bfdd-b14e6c0555c5",
   "metadata": {},
   "outputs": [
    {
     "data": {
      "image/png": "[encoded data removed]",
      "text/plain": [
       "<Figure size 864x576 with 1 Axes>"
      ]
     },
     "metadata": {
      "needs_background": "light"
     },
     "output_type": "display_data"
    }
   ],
   "source": [
    "plt.figure(figsize=(12,8))\n",
    "df[df['labels']==1]['체중'].hist()\n",
    "plt.show()"
   ]
  },
  {
   "cell_type": "code",
   "execution_count": 64,
   "id": "7e404e08-c014-427b-971b-4f24c2565d1e",
   "metadata": {},
   "outputs": [
    {
     "data": {
      "image/png": "[encoded data removed]",
      "text/plain": [
       "<Figure size 864x576 with 1 Axes>"
      ]
     },
     "metadata": {
      "needs_background": "light"
     },
     "output_type": "display_data"
    }
   ],
   "source": [
    "plt.figure(figsize=(12,8))\n",
    "df[df['labels']==2]['체중'].hist()\n",
    "plt.show()\n"
   ]
  },
  {
   "cell_type": "code",
   "execution_count": 65,
   "id": "48294a71-2436-4862-a68e-c70602269353",
   "metadata": {},
   "outputs": [
    {
     "data": {
      "image/png": "[encoded data removed]",
      "text/plain": [
       "<Figure size 864x576 with 1 Axes>"
      ]
     },
     "metadata": {
      "needs_background": "light"
     },
     "output_type": "display_data"
    }
   ],
   "source": [
    "plt.figure(figsize=(12,8))\n",
    "df[df['labels']==3]['체중'].hist()\n",
    "plt.show()"
   ]
  },
  {
   "cell_type": "code",
   "execution_count": null,
   "id": "a491a0ec-21e5-48e8-a192-f06997ba0641",
   "metadata": {},
   "outputs": [],
   "source": []
  },
  {
   "cell_type": "code",
   "execution_count": null,
   "id": "e768c109-4eba-4fda-969e-8ff59df4c60f",
   "metadata": {},
   "outputs": [],
   "source": []
  },
  {
   "cell_type": "code",
   "execution_count": null,
   "id": "6090ee1b-ad3e-4d88-b5d0-68a928017f02",
   "metadata": {},
   "outputs": [],
   "source": []
  }
 ],
 "metadata": {
  "kernelspec": {
   "display_name": "Python 3 (ipykernel)",
   "language": "python",
   "name": "python3"
  },
  "language_info": {
   "codemirror_mode": {
    "name": "ipython",
    "version": 3
   },
   "file_extension": ".py",
   "mimetype": "text/x-python",
   "name": "python",
   "nbconvert_exporter": "python",
   "pygments_lexer": "ipython3",
   "version": "3.9.7"
  }
 },
 "nbformat": 4,
 "nbformat_minor": 5
}
