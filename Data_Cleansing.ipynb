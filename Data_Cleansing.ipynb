{
 "cells": [
  {
   "cell_type": "markdown",
   "id": "08aaa18d-d133-4796-a4f3-617e50a44c11",
   "metadata": {},
   "source": [
    "# 1 라이브러리 로드"
   ]
  },
  {
   "cell_type": "code",
   "execution_count": 1,
   "id": "08a83044-6c30-472b-a78b-c387633ebad7",
   "metadata": {},
   "outputs": [],
   "source": [
    "import pandas as pd\n",
    "import numpy as np\n",
    "import seaborn as sns\n",
    "import matplotlib.pyplot as plt"
   ]
  },
  {
   "cell_type": "code",
   "execution_count": 2,
   "id": "ed16bc74-a015-41b1-a54a-80778ae37e51",
   "metadata": {},
   "outputs": [],
   "source": [
    "# 핑크색 warning 안내문 방지 \n",
    "import warnings\n",
    "warnings.filterwarnings('ignore')"
   ]
  },
  {
   "cell_type": "markdown",
   "id": "c841e2e8-2189-44bb-8c1f-2a64913d1935",
   "metadata": {},
   "source": [
    "# 2 한글폰트 사용을 위한 세팅"
   ]
  },
  {
   "cell_type": "code",
   "execution_count": 3,
   "id": "dd065526-94bb-484d-a05e-e157e10ac995",
   "metadata": {
    "tags": []
   },
   "outputs": [],
   "source": [
    "def get_font_family():\n",
    "    \"\"\"\n",
    "    시스템 환경에 따른 기본 폰트명을 반환하는 함수\n",
    "    \"\"\"\n",
    "    import platform\n",
    "    system_name = platform.system()\n",
    "\n",
    "    if system_name == \"Darwin\" :\n",
    "        font_family = \"AppleGothic\"\n",
    "    elif system_name == \"Windows\":\n",
    "        font_family = \"Malgun Gothic\"\n",
    "    else:\n",
    "        # Linux(Colab)\n",
    "        !apt-get install fonts-nanum -qq  > /dev/null\n",
    "        !fc-cache -fv\n",
    "\n",
    "        import matplotlib as mpl\n",
    "        mpl.font_manager._rebuild()\n",
    "        findfont = mpl.font_manager.fontManager.findfont\n",
    "        mpl.font_manager.findfont = findfont\n",
    "        mpl.backends.backend_agg.findfont = findfont\n",
    "        \n",
    "        font_family = \"NanumBarunGothic\"\n",
    "    return font_family\n",
    "\n",
    "plt.rc(\"font\", family=get_font_family())\n",
    "plt.rc(\"axes\", unicode_minus=False)"
   ]
  },
  {
   "cell_type": "markdown",
   "id": "e46adce6-4450-466d-b6d2-919a97b6624b",
   "metadata": {
    "tags": []
   },
   "source": [
    "# 3 데이터 셋 로드 "
   ]
  },
  {
   "cell_type": "code",
   "execution_count": 4,
   "id": "276aca15-59b5-4c82-bc8f-8ece910b7feb",
   "metadata": {},
   "outputs": [],
   "source": [
    "import glob "
   ]
  },
  {
   "cell_type": "code",
   "execution_count": 5,
   "id": "a378a662-b859-40f4-a1ec-b33b1bfa4343",
   "metadata": {},
   "outputs": [
    {
     "data": {
      "text/plain": [
       "['data\\\\animal_raw.csv',\n",
       " 'data\\\\dirty_data.csv',\n",
       " 'data\\\\관광지.csv',\n",
       " 'data\\\\반려견정보.csv']"
      ]
     },
     "execution_count": 5,
     "metadata": {},
     "output_type": "execute_result"
    }
   ],
   "source": [
    "path = glob.glob('data/*.csv')\n",
    "path"
   ]
  },
  {
   "cell_type": "code",
   "execution_count": 6,
   "id": "0b2a9d81-fafc-43ba-8937-451212bb1297",
   "metadata": {},
   "outputs": [
    {
     "data": {
      "text/html": [
       "<div>\n",
       "<style scoped>\n",
       "    .dataframe tbody tr th:only-of-type {\n",
       "        vertical-align: middle;\n",
       "    }\n",
       "\n",
       "    .dataframe tbody tr th {\n",
       "        vertical-align: top;\n",
       "    }\n",
       "\n",
       "    .dataframe thead th {\n",
       "        text-align: right;\n",
       "    }\n",
       "</style>\n",
       "<table border=\"1\" class=\"dataframe\">\n",
       "  <thead>\n",
       "    <tr style=\"text-align: right;\">\n",
       "      <th></th>\n",
       "      <th>품종</th>\n",
       "      <th>나이</th>\n",
       "      <th>산책시간(시간)</th>\n",
       "      <th>체중</th>\n",
       "      <th>성별</th>\n",
       "      <th>중성화여부</th>\n",
       "      <th>색상</th>\n",
       "    </tr>\n",
       "  </thead>\n",
       "  <tbody>\n",
       "    <tr>\n",
       "      <th>0</th>\n",
       "      <td>골든 리트리버</td>\n",
       "      <td>13</td>\n",
       "      <td>0.5</td>\n",
       "      <td>27.0</td>\n",
       "      <td>M</td>\n",
       "      <td>N</td>\n",
       "      <td>갈색</td>\n",
       "    </tr>\n",
       "    <tr>\n",
       "      <th>1</th>\n",
       "      <td>골든 리트리버</td>\n",
       "      <td>10</td>\n",
       "      <td>0.5</td>\n",
       "      <td>25.0</td>\n",
       "      <td>F</td>\n",
       "      <td>N</td>\n",
       "      <td>갈색</td>\n",
       "    </tr>\n",
       "    <tr>\n",
       "      <th>2</th>\n",
       "      <td>골든 리트리버</td>\n",
       "      <td>9</td>\n",
       "      <td>0.5</td>\n",
       "      <td>40.0</td>\n",
       "      <td>M</td>\n",
       "      <td>N</td>\n",
       "      <td>갈색</td>\n",
       "    </tr>\n",
       "    <tr>\n",
       "      <th>3</th>\n",
       "      <td>골든 리트리버</td>\n",
       "      <td>8</td>\n",
       "      <td>0.5</td>\n",
       "      <td>28.0</td>\n",
       "      <td>F</td>\n",
       "      <td>N</td>\n",
       "      <td>갈색</td>\n",
       "    </tr>\n",
       "    <tr>\n",
       "      <th>4</th>\n",
       "      <td>골든 리트리버</td>\n",
       "      <td>8</td>\n",
       "      <td>0.5</td>\n",
       "      <td>33.0</td>\n",
       "      <td>M</td>\n",
       "      <td>N</td>\n",
       "      <td>갈색</td>\n",
       "    </tr>\n",
       "    <tr>\n",
       "      <th>...</th>\n",
       "      <td>...</td>\n",
       "      <td>...</td>\n",
       "      <td>...</td>\n",
       "      <td>...</td>\n",
       "      <td>...</td>\n",
       "      <td>...</td>\n",
       "      <td>...</td>\n",
       "    </tr>\n",
       "    <tr>\n",
       "      <th>7821</th>\n",
       "      <td>핏불테리어</td>\n",
       "      <td>2</td>\n",
       "      <td>1.5</td>\n",
       "      <td>25.0</td>\n",
       "      <td>F</td>\n",
       "      <td>U</td>\n",
       "      <td>검은색</td>\n",
       "    </tr>\n",
       "    <tr>\n",
       "      <th>7822</th>\n",
       "      <td>화이트테리어</td>\n",
       "      <td>13</td>\n",
       "      <td>0.5</td>\n",
       "      <td>7.3</td>\n",
       "      <td>F</td>\n",
       "      <td>Y</td>\n",
       "      <td>흰</td>\n",
       "    </tr>\n",
       "    <tr>\n",
       "      <th>7823</th>\n",
       "      <td>화이트테리어</td>\n",
       "      <td>5</td>\n",
       "      <td>1.5</td>\n",
       "      <td>5.0</td>\n",
       "      <td>F</td>\n",
       "      <td>U</td>\n",
       "      <td>흰색</td>\n",
       "    </tr>\n",
       "    <tr>\n",
       "      <th>7824</th>\n",
       "      <td>휘펫</td>\n",
       "      <td>2</td>\n",
       "      <td>1.0</td>\n",
       "      <td>14.0</td>\n",
       "      <td>M</td>\n",
       "      <td>N</td>\n",
       "      <td>베이지</td>\n",
       "    </tr>\n",
       "    <tr>\n",
       "      <th>7825</th>\n",
       "      <td>휘펫</td>\n",
       "      <td>2</td>\n",
       "      <td>1.0</td>\n",
       "      <td>19.5</td>\n",
       "      <td>F</td>\n",
       "      <td>U</td>\n",
       "      <td>검/갈/흰</td>\n",
       "    </tr>\n",
       "  </tbody>\n",
       "</table>\n",
       "<p>7826 rows × 7 columns</p>\n",
       "</div>"
      ],
      "text/plain": [
       "           품종  나이  산책시간(시간)    체중 성별 중성화여부     색상\n",
       "0     골든 리트리버  13       0.5  27.0  M     N     갈색\n",
       "1     골든 리트리버  10       0.5  25.0  F     N     갈색\n",
       "2     골든 리트리버   9       0.5  40.0  M     N     갈색\n",
       "3     골든 리트리버   8       0.5  28.0  F     N     갈색\n",
       "4     골든 리트리버   8       0.5  33.0  M     N     갈색\n",
       "...       ...  ..       ...   ... ..   ...    ...\n",
       "7821    핏불테리어   2       1.5  25.0  F     U    검은색\n",
       "7822   화이트테리어  13       0.5   7.3  F     Y      흰\n",
       "7823   화이트테리어   5       1.5   5.0  F     U     흰색\n",
       "7824       휘펫   2       1.0  14.0  M     N    베이지\n",
       "7825       휘펫   2       1.0  19.5  F     U  검/갈/흰\n",
       "\n",
       "[7826 rows x 7 columns]"
      ]
     },
     "execution_count": 6,
     "metadata": {},
     "output_type": "execute_result"
    }
   ],
   "source": [
    "df = pd.read_csv(path[1], encoding = 'utf-8')\n",
    "df"
   ]
  },
  {
   "cell_type": "code",
   "execution_count": 7,
   "id": "df50d056-9a80-4531-bd5d-3ac4117f690d",
   "metadata": {},
   "outputs": [],
   "source": [
    "df_1 = df.copy()"
   ]
  },
  {
   "cell_type": "markdown",
   "id": "c1416f0a-0245-4ead-a85f-3abe008ba26a",
   "metadata": {},
   "source": [
    "# 4 데이터 살펴보기 "
   ]
  },
  {
   "cell_type": "code",
   "execution_count": 8,
   "id": "a01cfc06-2196-4cb2-b426-e7b0f819ee81",
   "metadata": {},
   "outputs": [
    {
     "data": {
      "text/html": [
       "<div>\n",
       "<style scoped>\n",
       "    .dataframe tbody tr th:only-of-type {\n",
       "        vertical-align: middle;\n",
       "    }\n",
       "\n",
       "    .dataframe tbody tr th {\n",
       "        vertical-align: top;\n",
       "    }\n",
       "\n",
       "    .dataframe thead th {\n",
       "        text-align: right;\n",
       "    }\n",
       "</style>\n",
       "<table border=\"1\" class=\"dataframe\">\n",
       "  <thead>\n",
       "    <tr style=\"text-align: right;\">\n",
       "      <th></th>\n",
       "      <th>품종</th>\n",
       "      <th>나이</th>\n",
       "      <th>산책시간(시간)</th>\n",
       "      <th>체중</th>\n",
       "      <th>성별</th>\n",
       "      <th>중성화여부</th>\n",
       "      <th>색상</th>\n",
       "    </tr>\n",
       "  </thead>\n",
       "  <tbody>\n",
       "    <tr>\n",
       "      <th>0</th>\n",
       "      <td>골든 리트리버</td>\n",
       "      <td>13</td>\n",
       "      <td>0.5</td>\n",
       "      <td>27.0</td>\n",
       "      <td>M</td>\n",
       "      <td>N</td>\n",
       "      <td>갈색</td>\n",
       "    </tr>\n",
       "    <tr>\n",
       "      <th>1</th>\n",
       "      <td>골든 리트리버</td>\n",
       "      <td>10</td>\n",
       "      <td>0.5</td>\n",
       "      <td>25.0</td>\n",
       "      <td>F</td>\n",
       "      <td>N</td>\n",
       "      <td>갈색</td>\n",
       "    </tr>\n",
       "    <tr>\n",
       "      <th>2</th>\n",
       "      <td>골든 리트리버</td>\n",
       "      <td>9</td>\n",
       "      <td>0.5</td>\n",
       "      <td>40.0</td>\n",
       "      <td>M</td>\n",
       "      <td>N</td>\n",
       "      <td>갈색</td>\n",
       "    </tr>\n",
       "    <tr>\n",
       "      <th>3</th>\n",
       "      <td>골든 리트리버</td>\n",
       "      <td>8</td>\n",
       "      <td>0.5</td>\n",
       "      <td>28.0</td>\n",
       "      <td>F</td>\n",
       "      <td>N</td>\n",
       "      <td>갈색</td>\n",
       "    </tr>\n",
       "    <tr>\n",
       "      <th>4</th>\n",
       "      <td>골든 리트리버</td>\n",
       "      <td>8</td>\n",
       "      <td>0.5</td>\n",
       "      <td>33.0</td>\n",
       "      <td>M</td>\n",
       "      <td>N</td>\n",
       "      <td>갈색</td>\n",
       "    </tr>\n",
       "  </tbody>\n",
       "</table>\n",
       "</div>"
      ],
      "text/plain": [
       "        품종  나이  산책시간(시간)    체중 성별 중성화여부  색상\n",
       "0  골든 리트리버  13       0.5  27.0  M     N  갈색\n",
       "1  골든 리트리버  10       0.5  25.0  F     N  갈색\n",
       "2  골든 리트리버   9       0.5  40.0  M     N  갈색\n",
       "3  골든 리트리버   8       0.5  28.0  F     N  갈색\n",
       "4  골든 리트리버   8       0.5  33.0  M     N  갈색"
      ]
     },
     "execution_count": 8,
     "metadata": {},
     "output_type": "execute_result"
    }
   ],
   "source": [
    "df_1.head()"
   ]
  },
  {
   "cell_type": "code",
   "execution_count": 9,
   "id": "f9890487-c6b9-4f52-93f3-e2c10b8c8a68",
   "metadata": {},
   "outputs": [
    {
     "name": "stdout",
     "output_type": "stream",
     "text": [
      "<class 'pandas.core.frame.DataFrame'>\n",
      "RangeIndex: 7826 entries, 0 to 7825\n",
      "Data columns (total 7 columns):\n",
      " #   Column    Non-Null Count  Dtype  \n",
      "---  ------    --------------  -----  \n",
      " 0   품종        7826 non-null   object \n",
      " 1   나이        7826 non-null   int64  \n",
      " 2   산책시간(시간)  7826 non-null   float64\n",
      " 3   체중        7826 non-null   float64\n",
      " 4   성별        7826 non-null   object \n",
      " 5   중성화여부     7826 non-null   object \n",
      " 6   색상        7826 non-null   object \n",
      "dtypes: float64(2), int64(1), object(4)\n",
      "memory usage: 428.1+ KB\n"
     ]
    }
   ],
   "source": [
    "df_1.info()"
   ]
  },
  {
   "cell_type": "code",
   "execution_count": 10,
   "id": "64cfc1fc-13a2-4bc3-8c0f-ed0a8ccc7ee0",
   "metadata": {},
   "outputs": [
    {
     "data": {
      "text/html": [
       "<div>\n",
       "<style scoped>\n",
       "    .dataframe tbody tr th:only-of-type {\n",
       "        vertical-align: middle;\n",
       "    }\n",
       "\n",
       "    .dataframe tbody tr th {\n",
       "        vertical-align: top;\n",
       "    }\n",
       "\n",
       "    .dataframe thead th {\n",
       "        text-align: right;\n",
       "    }\n",
       "</style>\n",
       "<table border=\"1\" class=\"dataframe\">\n",
       "  <thead>\n",
       "    <tr style=\"text-align: right;\">\n",
       "      <th></th>\n",
       "      <th>나이</th>\n",
       "      <th>산책시간(시간)</th>\n",
       "      <th>체중</th>\n",
       "    </tr>\n",
       "  </thead>\n",
       "  <tbody>\n",
       "    <tr>\n",
       "      <th>count</th>\n",
       "      <td>7826.000000</td>\n",
       "      <td>7826.000000</td>\n",
       "      <td>7826.000000</td>\n",
       "    </tr>\n",
       "    <tr>\n",
       "      <th>mean</th>\n",
       "      <td>2.099540</td>\n",
       "      <td>0.897304</td>\n",
       "      <td>7.794053</td>\n",
       "    </tr>\n",
       "    <tr>\n",
       "      <th>std</th>\n",
       "      <td>2.647694</td>\n",
       "      <td>0.168873</td>\n",
       "      <td>6.967980</td>\n",
       "    </tr>\n",
       "    <tr>\n",
       "      <th>min</th>\n",
       "      <td>0.000000</td>\n",
       "      <td>0.500000</td>\n",
       "      <td>0.040000</td>\n",
       "    </tr>\n",
       "    <tr>\n",
       "      <th>25%</th>\n",
       "      <td>0.000000</td>\n",
       "      <td>0.800000</td>\n",
       "      <td>3.000000</td>\n",
       "    </tr>\n",
       "    <tr>\n",
       "      <th>50%</th>\n",
       "      <td>1.000000</td>\n",
       "      <td>1.000000</td>\n",
       "      <td>5.000000</td>\n",
       "    </tr>\n",
       "    <tr>\n",
       "      <th>75%</th>\n",
       "      <td>3.000000</td>\n",
       "      <td>1.000000</td>\n",
       "      <td>11.000000</td>\n",
       "    </tr>\n",
       "    <tr>\n",
       "      <th>max</th>\n",
       "      <td>18.000000</td>\n",
       "      <td>1.500000</td>\n",
       "      <td>60.000000</td>\n",
       "    </tr>\n",
       "  </tbody>\n",
       "</table>\n",
       "</div>"
      ],
      "text/plain": [
       "                나이     산책시간(시간)           체중\n",
       "count  7826.000000  7826.000000  7826.000000\n",
       "mean      2.099540     0.897304     7.794053\n",
       "std       2.647694     0.168873     6.967980\n",
       "min       0.000000     0.500000     0.040000\n",
       "25%       0.000000     0.800000     3.000000\n",
       "50%       1.000000     1.000000     5.000000\n",
       "75%       3.000000     1.000000    11.000000\n",
       "max      18.000000     1.500000    60.000000"
      ]
     },
     "execution_count": 10,
     "metadata": {},
     "output_type": "execute_result"
    }
   ],
   "source": [
    "df_1.describe()"
   ]
  },
  {
   "cell_type": "code",
   "execution_count": 11,
   "id": "5615eb7c-7a04-4e18-9ed1-ed80b1b952ad",
   "metadata": {},
   "outputs": [
    {
     "data": {
      "text/plain": [
       "품종          0\n",
       "나이          0\n",
       "산책시간(시간)    0\n",
       "체중          0\n",
       "성별          0\n",
       "중성화여부       0\n",
       "색상          0\n",
       "dtype: int64"
      ]
     },
     "execution_count": 11,
     "metadata": {},
     "output_type": "execute_result"
    }
   ],
   "source": [
    "#결측치 확인\n",
    "df_1.isna().sum()"
   ]
  },
  {
   "cell_type": "markdown",
   "id": "9c114006-f635-4c65-822b-d94b0a5f9af6",
   "metadata": {
    "tags": []
   },
   "source": [
    "# 5 데이터 클렌징 "
   ]
  },
  {
   "cell_type": "markdown",
   "id": "d16aeaa8-5b90-42a3-ba18-6d4beaba87a1",
   "metadata": {},
   "source": [
    "## 5-1 연산을 통한 새로운 컬럼 추가 "
   ]
  },
  {
   "cell_type": "code",
   "execution_count": 12,
   "id": "8ceb5b0c-16c7-413d-a057-85fcaffab7a4",
   "metadata": {},
   "outputs": [],
   "source": [
    "#음수량 컬럼 새로 추가 (1kg 당 65ml)\n",
    "df_1['음수량'] = df_1['체중'] * 65"
   ]
  },
  {
   "cell_type": "code",
   "execution_count": 13,
   "id": "3e334735-a1fb-44e9-8014-090734643c59",
   "metadata": {},
   "outputs": [],
   "source": [
    "#성별 컬럼의 데이터 라벨링 해주기 "
   ]
  },
  {
   "cell_type": "markdown",
   "id": "6e107341-127a-4973-aeab-d96108a7b6cb",
   "metadata": {
    "tags": []
   },
   "source": [
    "## 5-2 성별 컬럼 레이블 인코딩 (계층형 아닐땐 이걸로)\n",
    "- 카테고리 피쳐를 숫자형 값으로 변환해주자"
   ]
  },
  {
   "cell_type": "code",
   "execution_count": 14,
   "id": "be591553-b5e9-4bd2-9fa3-d3c03410afc9",
   "metadata": {},
   "outputs": [
    {
     "data": {
      "text/plain": [
       "array(['M', 'F', 'Q'], dtype=object)"
      ]
     },
     "execution_count": 14,
     "metadata": {},
     "output_type": "execute_result"
    }
   ],
   "source": [
    "df_1['성별'].unique()"
   ]
  },
  {
   "cell_type": "code",
   "execution_count": 15,
   "id": "2a317256-5d5f-4a78-940d-84ec64c0b676",
   "metadata": {},
   "outputs": [
    {
     "name": "stdout",
     "output_type": "stream",
     "text": [
      "3980\n",
      "3766\n",
      "80\n"
     ]
    }
   ],
   "source": [
    "print(df_1[df_1['성별'].astype(str).str.contains('M')]['성별'].count())\n",
    "print(df_1[df_1['성별'].astype(str).str.contains('F')]['성별'].count())\n",
    "print(df_1[df_1['성별'].astype(str).str.contains('Q')]['성별'].count())"
   ]
  },
  {
   "cell_type": "code",
   "execution_count": 16,
   "id": "caf66f90-9b4a-4996-9131-03bae069705c",
   "metadata": {},
   "outputs": [],
   "source": [
    "# 레이블 인코딩에 필요한 라이브러리 로드\n",
    "from sklearn.preprocessing import LabelEncoder"
   ]
  },
  {
   "cell_type": "code",
   "execution_count": 17,
   "id": "e76a78ea-416a-4e52-b54c-51f4eff108e5",
   "metadata": {},
   "outputs": [],
   "source": [
    "#성별 컬럼 은 레이블 인코딩으로 변환을 진행해주자 \n",
    "# LabelEncoder를 객체로 생성한 후 , fit( ) 과 transform( ) 으로 label 인코딩 수행\n",
    "le = LabelEncoder()\n",
    "le.fit(df_1['성별'])\n",
    "le.transform(df_1['성별'])\n",
    "df_1['성별_라벨링'] = le.transform(df_1['성별'])"
   ]
  },
  {
   "cell_type": "code",
   "execution_count": 18,
   "id": "1e3693e3-8fef-43aa-a710-ab083527dc54",
   "metadata": {},
   "outputs": [
    {
     "data": {
      "text/plain": [
       "array([1, 0, 2])"
      ]
     },
     "execution_count": 18,
     "metadata": {},
     "output_type": "execute_result"
    }
   ],
   "source": [
    "# 잘 변환 되었는지 확인해주기 \n",
    "df_1['성별_라벨링'].unique()"
   ]
  },
  {
   "cell_type": "code",
   "execution_count": 19,
   "id": "f106a2a5-26be-41c5-8fd1-cb143d4ef36f",
   "metadata": {},
   "outputs": [
    {
     "data": {
      "text/plain": [
       "0       1\n",
       "1       0\n",
       "2       1\n",
       "3       0\n",
       "4       1\n",
       "       ..\n",
       "7821    0\n",
       "7822    0\n",
       "7823    0\n",
       "7824    1\n",
       "7825    0\n",
       "Name: 성별_라벨링, Length: 7826, dtype: int32"
      ]
     },
     "execution_count": 19,
     "metadata": {},
     "output_type": "execute_result"
    }
   ],
   "source": [
    "# 1 : M / 0 : F / 2 : Q(확인불가능)\n",
    "df_1['성별_라벨링']"
   ]
  },
  {
   "cell_type": "code",
   "execution_count": 20,
   "id": "05d93c25-7d93-4486-bfb8-8a8cf20377bd",
   "metadata": {},
   "outputs": [
    {
     "data": {
      "text/plain": [
       "False    7746\n",
       "True       80\n",
       "Name: 성별_라벨링, dtype: int64"
      ]
     },
     "execution_count": 20,
     "metadata": {},
     "output_type": "execute_result"
    }
   ],
   "source": [
    "#성별을 알 수 없는 애들이 80마리나 ㅠㅠ 전체의 1 퍼센트 ... 이상치라고 생각하고 버리고 갈까 ..? \n",
    "df_1['성별_라벨링'].astype(str).str.contains('2').value_counts()"
   ]
  },
  {
   "cell_type": "code",
   "execution_count": 21,
   "id": "83f79e7c-c2c9-4eb5-811b-79150112588f",
   "metadata": {},
   "outputs": [
    {
     "data": {
      "text/html": [
       "<div>\n",
       "<style scoped>\n",
       "    .dataframe tbody tr th:only-of-type {\n",
       "        vertical-align: middle;\n",
       "    }\n",
       "\n",
       "    .dataframe tbody tr th {\n",
       "        vertical-align: top;\n",
       "    }\n",
       "\n",
       "    .dataframe thead th {\n",
       "        text-align: right;\n",
       "    }\n",
       "</style>\n",
       "<table border=\"1\" class=\"dataframe\">\n",
       "  <thead>\n",
       "    <tr style=\"text-align: right;\">\n",
       "      <th></th>\n",
       "      <th>품종</th>\n",
       "      <th>나이</th>\n",
       "      <th>산책시간(시간)</th>\n",
       "      <th>체중</th>\n",
       "      <th>성별</th>\n",
       "      <th>중성화여부</th>\n",
       "      <th>색상</th>\n",
       "      <th>음수량</th>\n",
       "      <th>성별_라벨링</th>\n",
       "    </tr>\n",
       "  </thead>\n",
       "  <tbody>\n",
       "    <tr>\n",
       "      <th>0</th>\n",
       "      <td>골든 리트리버</td>\n",
       "      <td>13</td>\n",
       "      <td>0.5</td>\n",
       "      <td>27.0</td>\n",
       "      <td>M</td>\n",
       "      <td>N</td>\n",
       "      <td>갈색</td>\n",
       "      <td>1755.0</td>\n",
       "      <td>1</td>\n",
       "    </tr>\n",
       "    <tr>\n",
       "      <th>1</th>\n",
       "      <td>골든 리트리버</td>\n",
       "      <td>10</td>\n",
       "      <td>0.5</td>\n",
       "      <td>25.0</td>\n",
       "      <td>F</td>\n",
       "      <td>N</td>\n",
       "      <td>갈색</td>\n",
       "      <td>1625.0</td>\n",
       "      <td>0</td>\n",
       "    </tr>\n",
       "    <tr>\n",
       "      <th>2</th>\n",
       "      <td>골든 리트리버</td>\n",
       "      <td>9</td>\n",
       "      <td>0.5</td>\n",
       "      <td>40.0</td>\n",
       "      <td>M</td>\n",
       "      <td>N</td>\n",
       "      <td>갈색</td>\n",
       "      <td>2600.0</td>\n",
       "      <td>1</td>\n",
       "    </tr>\n",
       "    <tr>\n",
       "      <th>3</th>\n",
       "      <td>골든 리트리버</td>\n",
       "      <td>8</td>\n",
       "      <td>0.5</td>\n",
       "      <td>28.0</td>\n",
       "      <td>F</td>\n",
       "      <td>N</td>\n",
       "      <td>갈색</td>\n",
       "      <td>1820.0</td>\n",
       "      <td>0</td>\n",
       "    </tr>\n",
       "    <tr>\n",
       "      <th>4</th>\n",
       "      <td>골든 리트리버</td>\n",
       "      <td>8</td>\n",
       "      <td>0.5</td>\n",
       "      <td>33.0</td>\n",
       "      <td>M</td>\n",
       "      <td>N</td>\n",
       "      <td>갈색</td>\n",
       "      <td>2145.0</td>\n",
       "      <td>1</td>\n",
       "    </tr>\n",
       "  </tbody>\n",
       "</table>\n",
       "</div>"
      ],
      "text/plain": [
       "        품종  나이  산책시간(시간)    체중 성별 중성화여부  색상     음수량  성별_라벨링\n",
       "0  골든 리트리버  13       0.5  27.0  M     N  갈색  1755.0       1\n",
       "1  골든 리트리버  10       0.5  25.0  F     N  갈색  1625.0       0\n",
       "2  골든 리트리버   9       0.5  40.0  M     N  갈색  2600.0       1\n",
       "3  골든 리트리버   8       0.5  28.0  F     N  갈색  1820.0       0\n",
       "4  골든 리트리버   8       0.5  33.0  M     N  갈색  2145.0       1"
      ]
     },
     "execution_count": 21,
     "metadata": {},
     "output_type": "execute_result"
    }
   ],
   "source": [
    "#성별을 알 수 없는 아이들은 분석에서 제외하고 df_valid 라는 새로운 변수로 선언해준다\n",
    "df_valid = df_1[df_1['성별_라벨링'].astype(str).str.contains('0') | df_1['성별_라벨링'].astype(str).str.contains('1')]\n",
    "df_valid.head()"
   ]
  },
  {
   "cell_type": "markdown",
   "id": "f4d3bf3e-7a8d-4ca5-b6e2-fc65f73704c7",
   "metadata": {
    "tags": []
   },
   "source": [
    "## 5-3 중성화여부 컬럼 레이블 인코딩 (계층형 아닐땐 이걸로)\n",
    "- 카테고리 피쳐를 숫자형 값으로 변환해주자"
   ]
  },
  {
   "cell_type": "code",
   "execution_count": 22,
   "id": "0dcad88e-db25-4703-8544-3a8e48cb10ba",
   "metadata": {},
   "outputs": [
    {
     "data": {
      "text/plain": [
       "array(['N', 'Y', 'U'], dtype=object)"
      ]
     },
     "execution_count": 22,
     "metadata": {},
     "output_type": "execute_result"
    }
   ],
   "source": [
    "df_valid['중성화여부'].unique()"
   ]
  },
  {
   "cell_type": "code",
   "execution_count": 23,
   "id": "e77bd847-9eb2-4ce8-b712-1b0fac36d5d3",
   "metadata": {},
   "outputs": [
    {
     "name": "stdout",
     "output_type": "stream",
     "text": [
      "5176\n",
      "498\n",
      "2072\n"
     ]
    }
   ],
   "source": [
    "print(df_valid[df_valid['중성화여부'].astype(str).str.contains('N')]['중성화여부'].count())\n",
    "print(df_valid[df_valid['중성화여부'].astype(str).str.contains('Y')]['중성화여부'].count())\n",
    "print(df_valid[df_valid['중성화여부'].astype(str).str.contains('U')]['중성화여부'].count())"
   ]
  },
  {
   "cell_type": "code",
   "execution_count": 24,
   "id": "a8ea653d-8841-4cda-864d-f336dc6d86de",
   "metadata": {},
   "outputs": [],
   "source": [
    "#중성화여부 컬럼 은 레이블 인코딩으로 변환을 진행해주자 \n",
    "# LabelEncoder를 객체로 생성한 후 , fit( ) 과 transform( ) 으로 label 인코딩 수행\n",
    "le = LabelEncoder()\n",
    "le.fit(df_valid['중성화여부'])\n",
    "le.transform(df_valid['중성화여부'])\n",
    "df_valid['중성화_라벨링'] = le.transform(df_valid['중성화여부'])"
   ]
  },
  {
   "cell_type": "code",
   "execution_count": 25,
   "id": "1cf67a6a-5a20-4012-8975-7fd6bf7fe8a0",
   "metadata": {},
   "outputs": [
    {
     "data": {
      "text/plain": [
       "array([0, 2, 1])"
      ]
     },
     "execution_count": 25,
     "metadata": {},
     "output_type": "execute_result"
    }
   ],
   "source": [
    "# 잘 변환 되었는지 확인해주기 \n",
    "df_valid['중성화_라벨링'].unique()"
   ]
  },
  {
   "cell_type": "code",
   "execution_count": 26,
   "id": "737ead97-c0fc-497d-b4b0-18b624cc8601",
   "metadata": {},
   "outputs": [
    {
     "data": {
      "text/plain": [
       "0       0\n",
       "1       0\n",
       "2       0\n",
       "3       0\n",
       "4       0\n",
       "       ..\n",
       "7821    1\n",
       "7822    2\n",
       "7823    1\n",
       "7824    0\n",
       "7825    1\n",
       "Name: 중성화_라벨링, Length: 7746, dtype: int32"
      ]
     },
     "execution_count": 26,
     "metadata": {},
     "output_type": "execute_result"
    }
   ],
   "source": [
    "# 0 : N / 1 : U / 2 : Y\n",
    "df_valid['중성화_라벨링']"
   ]
  },
  {
   "cell_type": "code",
   "execution_count": 27,
   "id": "3465bef9-bc50-482c-b55b-042dbefdd5e2",
   "metadata": {},
   "outputs": [
    {
     "data": {
      "text/plain": [
       "False    5674\n",
       "True     2072\n",
       "Name: 중성화_라벨링, dtype: int64"
      ]
     },
     "execution_count": 27,
     "metadata": {},
     "output_type": "execute_result"
    }
   ],
   "source": [
    "#중성화여부를 알 수 없는 애들이 2072마리나 ㅠㅠ 전체의 30 퍼센트 ... 이상치라고 생각하고 버리고 갈까 ..? \n",
    "df_valid['중성화_라벨링'].astype(str).str.contains('1').value_counts()"
   ]
  },
  {
   "cell_type": "code",
   "execution_count": 28,
   "id": "f74b8285-13cf-4a4a-986e-8312aaa555c5",
   "metadata": {},
   "outputs": [
    {
     "data": {
      "text/html": [
       "<div>\n",
       "<style scoped>\n",
       "    .dataframe tbody tr th:only-of-type {\n",
       "        vertical-align: middle;\n",
       "    }\n",
       "\n",
       "    .dataframe tbody tr th {\n",
       "        vertical-align: top;\n",
       "    }\n",
       "\n",
       "    .dataframe thead th {\n",
       "        text-align: right;\n",
       "    }\n",
       "</style>\n",
       "<table border=\"1\" class=\"dataframe\">\n",
       "  <thead>\n",
       "    <tr style=\"text-align: right;\">\n",
       "      <th></th>\n",
       "      <th>품종</th>\n",
       "      <th>나이</th>\n",
       "      <th>산책시간(시간)</th>\n",
       "      <th>체중</th>\n",
       "      <th>성별</th>\n",
       "      <th>중성화여부</th>\n",
       "      <th>색상</th>\n",
       "      <th>음수량</th>\n",
       "      <th>성별_라벨링</th>\n",
       "      <th>중성화_라벨링</th>\n",
       "    </tr>\n",
       "  </thead>\n",
       "  <tbody>\n",
       "    <tr>\n",
       "      <th>0</th>\n",
       "      <td>골든 리트리버</td>\n",
       "      <td>13</td>\n",
       "      <td>0.5</td>\n",
       "      <td>27.0</td>\n",
       "      <td>M</td>\n",
       "      <td>N</td>\n",
       "      <td>갈색</td>\n",
       "      <td>1755.0</td>\n",
       "      <td>1</td>\n",
       "      <td>0</td>\n",
       "    </tr>\n",
       "    <tr>\n",
       "      <th>1</th>\n",
       "      <td>골든 리트리버</td>\n",
       "      <td>10</td>\n",
       "      <td>0.5</td>\n",
       "      <td>25.0</td>\n",
       "      <td>F</td>\n",
       "      <td>N</td>\n",
       "      <td>갈색</td>\n",
       "      <td>1625.0</td>\n",
       "      <td>0</td>\n",
       "      <td>0</td>\n",
       "    </tr>\n",
       "    <tr>\n",
       "      <th>2</th>\n",
       "      <td>골든 리트리버</td>\n",
       "      <td>9</td>\n",
       "      <td>0.5</td>\n",
       "      <td>40.0</td>\n",
       "      <td>M</td>\n",
       "      <td>N</td>\n",
       "      <td>갈색</td>\n",
       "      <td>2600.0</td>\n",
       "      <td>1</td>\n",
       "      <td>0</td>\n",
       "    </tr>\n",
       "    <tr>\n",
       "      <th>3</th>\n",
       "      <td>골든 리트리버</td>\n",
       "      <td>8</td>\n",
       "      <td>0.5</td>\n",
       "      <td>28.0</td>\n",
       "      <td>F</td>\n",
       "      <td>N</td>\n",
       "      <td>갈색</td>\n",
       "      <td>1820.0</td>\n",
       "      <td>0</td>\n",
       "      <td>0</td>\n",
       "    </tr>\n",
       "    <tr>\n",
       "      <th>4</th>\n",
       "      <td>골든 리트리버</td>\n",
       "      <td>8</td>\n",
       "      <td>0.5</td>\n",
       "      <td>33.0</td>\n",
       "      <td>M</td>\n",
       "      <td>N</td>\n",
       "      <td>갈색</td>\n",
       "      <td>2145.0</td>\n",
       "      <td>1</td>\n",
       "      <td>0</td>\n",
       "    </tr>\n",
       "  </tbody>\n",
       "</table>\n",
       "</div>"
      ],
      "text/plain": [
       "        품종  나이  산책시간(시간)    체중 성별 중성화여부  색상     음수량  성별_라벨링  중성화_라벨링\n",
       "0  골든 리트리버  13       0.5  27.0  M     N  갈색  1755.0       1        0\n",
       "1  골든 리트리버  10       0.5  25.0  F     N  갈색  1625.0       0        0\n",
       "2  골든 리트리버   9       0.5  40.0  M     N  갈색  2600.0       1        0\n",
       "3  골든 리트리버   8       0.5  28.0  F     N  갈색  1820.0       0        0\n",
       "4  골든 리트리버   8       0.5  33.0  M     N  갈색  2145.0       1        0"
      ]
     },
     "execution_count": 28,
     "metadata": {},
     "output_type": "execute_result"
    }
   ],
   "source": [
    "#중성화여부를 알 수 없는 아이들은 분석에서 제외하고 pets 라는 새로운 변수로 선언해준다\n",
    "pets = df_valid[df_valid['중성화_라벨링'].astype(str).str.contains('0') | df_valid['중성화_라벨링'].astype(str).str.contains('2')]\n",
    "pets.head()"
   ]
  },
  {
   "cell_type": "code",
   "execution_count": 29,
   "id": "73b538cd-026a-4767-86ac-2ad13923c460",
   "metadata": {},
   "outputs": [
    {
     "data": {
      "text/plain": [
       "array([0, 2])"
      ]
     },
     "execution_count": 29,
     "metadata": {},
     "output_type": "execute_result"
    }
   ],
   "source": [
    "pets['중성화_라벨링'].unique()"
   ]
  },
  {
   "cell_type": "code",
   "execution_count": 30,
   "id": "f9207884-b032-4f27-9cdb-c4b52d62d666",
   "metadata": {},
   "outputs": [],
   "source": [
    "#0과 2 보다는 0과 1이 나으니 변경해주자\n",
    "pets['중성화_라벨링'] = pets['중성화_라벨링'].astype(str).str.replace('2','1')"
   ]
  },
  {
   "cell_type": "code",
   "execution_count": 31,
   "id": "468994c1-4130-4b1f-91db-d2230b1ac8fc",
   "metadata": {},
   "outputs": [
    {
     "data": {
      "text/plain": [
       "array(['0', '1'], dtype=object)"
      ]
     },
     "execution_count": 31,
     "metadata": {},
     "output_type": "execute_result"
    }
   ],
   "source": [
    "#2가 1로 잘 변경 되었는지 확인 \n",
    "pets['중성화_라벨링'].unique()"
   ]
  },
  {
   "cell_type": "code",
   "execution_count": 32,
   "id": "16e8b0d7-c93b-4871-a9a6-8080fb3f37ce",
   "metadata": {},
   "outputs": [
    {
     "data": {
      "text/plain": [
       "(5674, 10)"
      ]
     },
     "execution_count": 32,
     "metadata": {},
     "output_type": "execute_result"
    }
   ],
   "source": [
    "pets.shape"
   ]
  },
  {
   "cell_type": "markdown",
   "id": "18544f61-cd42-48d7-b120-395ccd1b914e",
   "metadata": {},
   "source": [
    "## 5-4 체중에 따른 크기 컬럼 레이블인코딩\n",
    "- 카테고리 피쳐를 숫자형 값으로 변환해주자"
   ]
  },
  {
   "cell_type": "markdown",
   "id": "d43bf78f-578b-47f6-b51f-d09e69a1decd",
   "metadata": {
    "tags": []
   },
   "source": [
    "### 삽질"
   ]
  },
  {
   "cell_type": "raw",
   "id": "3b670df0-3e50-4bc0-a336-03c21689ed71",
   "metadata": {},
   "source": [
    "반려견 유형 구분은 다음과 같음 - \n",
    "소형견(10kg미만/체구 40cm 미만), \n",
    "중형견(10kg이상~20kg미만/체구 40cm이상~60cm미만), \n",
    "대형견(20kg이상/체구 60cm이상)"
   ]
  },
  {
   "cell_type": "code",
   "execution_count": 33,
   "id": "ff17fcc0-a22a-4aa7-96ce-80537c7dc267",
   "metadata": {},
   "outputs": [
    {
     "data": {
      "text/plain": [
       "25.0"
      ]
     },
     "execution_count": 33,
     "metadata": {},
     "output_type": "execute_result"
    }
   ],
   "source": [
    "pets['체중'][1]"
   ]
  },
  {
   "cell_type": "code",
   "execution_count": 34,
   "id": "43006efc-993d-4bf1-9a16-13b10b997b63",
   "metadata": {},
   "outputs": [
    {
     "data": {
      "text/plain": [
       "dtype('float64')"
      ]
     },
     "execution_count": 34,
     "metadata": {},
     "output_type": "execute_result"
    }
   ],
   "source": [
    "pets['체중'].dtypes"
   ]
  },
  {
   "cell_type": "code",
   "execution_count": 35,
   "id": "3dc2a892-5ddd-4494-adf3-487afda40280",
   "metadata": {},
   "outputs": [],
   "source": [
    "## FOR 문으로 돌리려 했는데 실패함ㅠ "
   ]
  },
  {
   "cell_type": "raw",
   "id": "df0ead55-68fb-4495-b158-a7f3efbfa648",
   "metadata": {},
   "source": [
    "size = []\n",
    "\n",
    "for i in range(0,7249): \n",
    "    if pets['체중'][i] < 10.0:\n",
    "        size = '소'\n",
    "    elif (pets['체중'][i] >= 10.0) & (pets['체중'][i] < 20.0):\n",
    "        size = '중'\n",
    "    else :\n",
    "        size = '대'\n",
    "print(size)"
   ]
  },
  {
   "cell_type": "raw",
   "id": "7561ee8e-052a-4a42-bd5f-d9dd04a9bb8a",
   "metadata": {},
   "source": [
    "size = []\n",
    "for i in range(0,7249): \n",
    "    if (pets['체중'][i] < 10.0):\n",
    "            size = '소'\n",
    "    else:\n",
    "        size = '노노'\n",
    "        \n",
    "print(size)"
   ]
  },
  {
   "cell_type": "code",
   "execution_count": 36,
   "id": "11d6d4c5-65ea-40d3-9476-48980c1d3699",
   "metadata": {},
   "outputs": [
    {
     "data": {
      "text/html": [
       "<div>\n",
       "<style scoped>\n",
       "    .dataframe tbody tr th:only-of-type {\n",
       "        vertical-align: middle;\n",
       "    }\n",
       "\n",
       "    .dataframe tbody tr th {\n",
       "        vertical-align: top;\n",
       "    }\n",
       "\n",
       "    .dataframe thead th {\n",
       "        text-align: right;\n",
       "    }\n",
       "</style>\n",
       "<table border=\"1\" class=\"dataframe\">\n",
       "  <thead>\n",
       "    <tr style=\"text-align: right;\">\n",
       "      <th></th>\n",
       "      <th>품종</th>\n",
       "      <th>크기(체중에따른)</th>\n",
       "      <th>크기(라벨링)</th>\n",
       "      <th>나이</th>\n",
       "      <th>산책시간(시간)</th>\n",
       "      <th>체중</th>\n",
       "      <th>적정음수량</th>\n",
       "      <th>성별</th>\n",
       "      <th>중성화여부</th>\n",
       "      <th>색상</th>\n",
       "    </tr>\n",
       "  </thead>\n",
       "  <tbody>\n",
       "    <tr>\n",
       "      <th>0</th>\n",
       "      <td>골든 리트리버</td>\n",
       "      <td>대</td>\n",
       "      <td>2</td>\n",
       "      <td>13</td>\n",
       "      <td>0.5</td>\n",
       "      <td>27.0</td>\n",
       "      <td>1755.0</td>\n",
       "      <td>M</td>\n",
       "      <td>N</td>\n",
       "      <td>갈색</td>\n",
       "    </tr>\n",
       "    <tr>\n",
       "      <th>1</th>\n",
       "      <td>골든 리트리버</td>\n",
       "      <td>대</td>\n",
       "      <td>2</td>\n",
       "      <td>10</td>\n",
       "      <td>0.5</td>\n",
       "      <td>25.0</td>\n",
       "      <td>1625.0</td>\n",
       "      <td>F</td>\n",
       "      <td>N</td>\n",
       "      <td>갈색</td>\n",
       "    </tr>\n",
       "    <tr>\n",
       "      <th>2</th>\n",
       "      <td>골든 리트리버</td>\n",
       "      <td>대</td>\n",
       "      <td>2</td>\n",
       "      <td>9</td>\n",
       "      <td>0.5</td>\n",
       "      <td>40.0</td>\n",
       "      <td>2600.0</td>\n",
       "      <td>M</td>\n",
       "      <td>N</td>\n",
       "      <td>갈색</td>\n",
       "    </tr>\n",
       "    <tr>\n",
       "      <th>3</th>\n",
       "      <td>골든 리트리버</td>\n",
       "      <td>대</td>\n",
       "      <td>2</td>\n",
       "      <td>8</td>\n",
       "      <td>0.5</td>\n",
       "      <td>28.0</td>\n",
       "      <td>1820.0</td>\n",
       "      <td>F</td>\n",
       "      <td>N</td>\n",
       "      <td>갈색</td>\n",
       "    </tr>\n",
       "    <tr>\n",
       "      <th>4</th>\n",
       "      <td>골든 리트리버</td>\n",
       "      <td>대</td>\n",
       "      <td>2</td>\n",
       "      <td>8</td>\n",
       "      <td>0.5</td>\n",
       "      <td>33.0</td>\n",
       "      <td>2145.0</td>\n",
       "      <td>M</td>\n",
       "      <td>N</td>\n",
       "      <td>갈색</td>\n",
       "    </tr>\n",
       "    <tr>\n",
       "      <th>...</th>\n",
       "      <td>...</td>\n",
       "      <td>...</td>\n",
       "      <td>...</td>\n",
       "      <td>...</td>\n",
       "      <td>...</td>\n",
       "      <td>...</td>\n",
       "      <td>...</td>\n",
       "      <td>...</td>\n",
       "      <td>...</td>\n",
       "      <td>...</td>\n",
       "    </tr>\n",
       "    <tr>\n",
       "      <th>7821</th>\n",
       "      <td>핏불테리어</td>\n",
       "      <td>대</td>\n",
       "      <td>2</td>\n",
       "      <td>2</td>\n",
       "      <td>1.5</td>\n",
       "      <td>25.0</td>\n",
       "      <td>1625.0</td>\n",
       "      <td>F</td>\n",
       "      <td>U</td>\n",
       "      <td>검은색</td>\n",
       "    </tr>\n",
       "    <tr>\n",
       "      <th>7822</th>\n",
       "      <td>화이트테리어</td>\n",
       "      <td>소</td>\n",
       "      <td>0</td>\n",
       "      <td>13</td>\n",
       "      <td>0.5</td>\n",
       "      <td>7.3</td>\n",
       "      <td>474.5</td>\n",
       "      <td>F</td>\n",
       "      <td>Y</td>\n",
       "      <td>흰</td>\n",
       "    </tr>\n",
       "    <tr>\n",
       "      <th>7823</th>\n",
       "      <td>화이트테리어</td>\n",
       "      <td>소</td>\n",
       "      <td>0</td>\n",
       "      <td>5</td>\n",
       "      <td>1.5</td>\n",
       "      <td>5.0</td>\n",
       "      <td>325.0</td>\n",
       "      <td>F</td>\n",
       "      <td>U</td>\n",
       "      <td>흰색</td>\n",
       "    </tr>\n",
       "    <tr>\n",
       "      <th>7824</th>\n",
       "      <td>휘펫</td>\n",
       "      <td>중</td>\n",
       "      <td>1</td>\n",
       "      <td>2</td>\n",
       "      <td>1.0</td>\n",
       "      <td>14.0</td>\n",
       "      <td>910.0</td>\n",
       "      <td>M</td>\n",
       "      <td>N</td>\n",
       "      <td>베이지</td>\n",
       "    </tr>\n",
       "    <tr>\n",
       "      <th>7825</th>\n",
       "      <td>휘펫</td>\n",
       "      <td>중</td>\n",
       "      <td>1</td>\n",
       "      <td>2</td>\n",
       "      <td>1.0</td>\n",
       "      <td>19.5</td>\n",
       "      <td>1267.5</td>\n",
       "      <td>F</td>\n",
       "      <td>U</td>\n",
       "      <td>검/갈/흰</td>\n",
       "    </tr>\n",
       "  </tbody>\n",
       "</table>\n",
       "<p>7826 rows × 10 columns</p>\n",
       "</div>"
      ],
      "text/plain": [
       "           품종 크기(체중에따른)  크기(라벨링)  나이  산책시간(시간)    체중   적정음수량 성별 중성화여부     색상\n",
       "0     골든 리트리버         대        2  13       0.5  27.0  1755.0  M     N     갈색\n",
       "1     골든 리트리버         대        2  10       0.5  25.0  1625.0  F     N     갈색\n",
       "2     골든 리트리버         대        2   9       0.5  40.0  2600.0  M     N     갈색\n",
       "3     골든 리트리버         대        2   8       0.5  28.0  1820.0  F     N     갈색\n",
       "4     골든 리트리버         대        2   8       0.5  33.0  2145.0  M     N     갈색\n",
       "...       ...       ...      ...  ..       ...   ...     ... ..   ...    ...\n",
       "7821    핏불테리어         대        2   2       1.5  25.0  1625.0  F     U    검은색\n",
       "7822   화이트테리어         소        0  13       0.5   7.3   474.5  F     Y      흰\n",
       "7823   화이트테리어         소        0   5       1.5   5.0   325.0  F     U     흰색\n",
       "7824       휘펫         중        1   2       1.0  14.0   910.0  M     N    베이지\n",
       "7825       휘펫         중        1   2       1.0  19.5  1267.5  F     U  검/갈/흰\n",
       "\n",
       "[7826 rows x 10 columns]"
      ]
     },
     "execution_count": 36,
     "metadata": {},
     "output_type": "execute_result"
    }
   ],
   "source": [
    "# 계속 오류 뜨니까 걍 원래 정제된 컬럼에서 갖고 와야겠다 ㅠ \n",
    "df = pd.read_csv(path[3], encoding = 'utf-8')\n",
    "df"
   ]
  },
  {
   "cell_type": "code",
   "execution_count": 37,
   "id": "9f90568f-8665-4533-a97e-9de5e49eeb92",
   "metadata": {},
   "outputs": [
    {
     "name": "stdout",
     "output_type": "stream",
     "text": [
      "0\n",
      "501\n",
      "5238\n"
     ]
    }
   ],
   "source": [
    "print(df[df['중성화여부'].astype(str).str.contains('Q')]['중성화여부'].count())\n",
    "print(df[df['중성화여부'].astype(str).str.contains('Y')]['중성화여부'].count())\n",
    "print(df[df['중성화여부'].astype(str).str.contains('N')]['중성화여부'].count())"
   ]
  },
  {
   "cell_type": "code",
   "execution_count": 38,
   "id": "96089703-3607-411e-a175-d5eeeb7eb53c",
   "metadata": {},
   "outputs": [],
   "source": [
    "# 중성화여부, 성별 판단 안되는애들 제외하기 \n",
    "df = df[df['성별'].astype(str).str.contains('M') | df['성별'].astype(str).str.contains('F')]\n",
    "df = df[df['중성화여부'].astype(str).str.contains('Y') | df['중성화여부'].astype(str).str.contains('N')]"
   ]
  },
  {
   "cell_type": "code",
   "execution_count": 39,
   "id": "62ccab50-55e1-4bc9-8d02-9a297385a40a",
   "metadata": {},
   "outputs": [
    {
     "data": {
      "text/plain": [
       "(5674, 10)"
      ]
     },
     "execution_count": 39,
     "metadata": {},
     "output_type": "execute_result"
    }
   ],
   "source": [
    "df.shape"
   ]
  },
  {
   "cell_type": "code",
   "execution_count": 40,
   "id": "7fbc9c67-c16a-4eb7-ba07-98462cca99f5",
   "metadata": {},
   "outputs": [],
   "source": [
    "#체중을 기준으로 대/중/소 분류된거 가져와서 pets 데이터프레임에 붙이기 \n",
    "pets['크기'] = df['크기(체중에따른)']"
   ]
  },
  {
   "cell_type": "code",
   "execution_count": 41,
   "id": "3e5e9a7d-b827-4cb7-a7a4-be134cdd421e",
   "metadata": {},
   "outputs": [
    {
     "data": {
      "text/html": [
       "<div>\n",
       "<style scoped>\n",
       "    .dataframe tbody tr th:only-of-type {\n",
       "        vertical-align: middle;\n",
       "    }\n",
       "\n",
       "    .dataframe tbody tr th {\n",
       "        vertical-align: top;\n",
       "    }\n",
       "\n",
       "    .dataframe thead th {\n",
       "        text-align: right;\n",
       "    }\n",
       "</style>\n",
       "<table border=\"1\" class=\"dataframe\">\n",
       "  <thead>\n",
       "    <tr style=\"text-align: right;\">\n",
       "      <th></th>\n",
       "      <th>품종</th>\n",
       "      <th>나이</th>\n",
       "      <th>산책시간(시간)</th>\n",
       "      <th>체중</th>\n",
       "      <th>성별</th>\n",
       "      <th>중성화여부</th>\n",
       "      <th>색상</th>\n",
       "      <th>음수량</th>\n",
       "      <th>성별_라벨링</th>\n",
       "      <th>중성화_라벨링</th>\n",
       "      <th>크기</th>\n",
       "    </tr>\n",
       "  </thead>\n",
       "  <tbody>\n",
       "    <tr>\n",
       "      <th>0</th>\n",
       "      <td>골든 리트리버</td>\n",
       "      <td>13</td>\n",
       "      <td>0.5</td>\n",
       "      <td>27.0</td>\n",
       "      <td>M</td>\n",
       "      <td>N</td>\n",
       "      <td>갈색</td>\n",
       "      <td>1755.0</td>\n",
       "      <td>1</td>\n",
       "      <td>0</td>\n",
       "      <td>대</td>\n",
       "    </tr>\n",
       "    <tr>\n",
       "      <th>1</th>\n",
       "      <td>골든 리트리버</td>\n",
       "      <td>10</td>\n",
       "      <td>0.5</td>\n",
       "      <td>25.0</td>\n",
       "      <td>F</td>\n",
       "      <td>N</td>\n",
       "      <td>갈색</td>\n",
       "      <td>1625.0</td>\n",
       "      <td>0</td>\n",
       "      <td>0</td>\n",
       "      <td>대</td>\n",
       "    </tr>\n",
       "    <tr>\n",
       "      <th>2</th>\n",
       "      <td>골든 리트리버</td>\n",
       "      <td>9</td>\n",
       "      <td>0.5</td>\n",
       "      <td>40.0</td>\n",
       "      <td>M</td>\n",
       "      <td>N</td>\n",
       "      <td>갈색</td>\n",
       "      <td>2600.0</td>\n",
       "      <td>1</td>\n",
       "      <td>0</td>\n",
       "      <td>대</td>\n",
       "    </tr>\n",
       "    <tr>\n",
       "      <th>3</th>\n",
       "      <td>골든 리트리버</td>\n",
       "      <td>8</td>\n",
       "      <td>0.5</td>\n",
       "      <td>28.0</td>\n",
       "      <td>F</td>\n",
       "      <td>N</td>\n",
       "      <td>갈색</td>\n",
       "      <td>1820.0</td>\n",
       "      <td>0</td>\n",
       "      <td>0</td>\n",
       "      <td>대</td>\n",
       "    </tr>\n",
       "    <tr>\n",
       "      <th>4</th>\n",
       "      <td>골든 리트리버</td>\n",
       "      <td>8</td>\n",
       "      <td>0.5</td>\n",
       "      <td>33.0</td>\n",
       "      <td>M</td>\n",
       "      <td>N</td>\n",
       "      <td>갈색</td>\n",
       "      <td>2145.0</td>\n",
       "      <td>1</td>\n",
       "      <td>0</td>\n",
       "      <td>대</td>\n",
       "    </tr>\n",
       "    <tr>\n",
       "      <th>...</th>\n",
       "      <td>...</td>\n",
       "      <td>...</td>\n",
       "      <td>...</td>\n",
       "      <td>...</td>\n",
       "      <td>...</td>\n",
       "      <td>...</td>\n",
       "      <td>...</td>\n",
       "      <td>...</td>\n",
       "      <td>...</td>\n",
       "      <td>...</td>\n",
       "      <td>...</td>\n",
       "    </tr>\n",
       "    <tr>\n",
       "      <th>7818</th>\n",
       "      <td>프렌치불독</td>\n",
       "      <td>1</td>\n",
       "      <td>0.8</td>\n",
       "      <td>4.0</td>\n",
       "      <td>M</td>\n",
       "      <td>N</td>\n",
       "      <td>흑</td>\n",
       "      <td>260.0</td>\n",
       "      <td>1</td>\n",
       "      <td>0</td>\n",
       "      <td>소</td>\n",
       "    </tr>\n",
       "    <tr>\n",
       "      <th>7819</th>\n",
       "      <td>프렌치불독</td>\n",
       "      <td>0</td>\n",
       "      <td>0.5</td>\n",
       "      <td>3.5</td>\n",
       "      <td>M</td>\n",
       "      <td>N</td>\n",
       "      <td>검정</td>\n",
       "      <td>227.5</td>\n",
       "      <td>1</td>\n",
       "      <td>0</td>\n",
       "      <td>소</td>\n",
       "    </tr>\n",
       "    <tr>\n",
       "      <th>7820</th>\n",
       "      <td>프렌치불독</td>\n",
       "      <td>0</td>\n",
       "      <td>0.5</td>\n",
       "      <td>5.2</td>\n",
       "      <td>M</td>\n",
       "      <td>N</td>\n",
       "      <td>백색, 갈색, 흑색</td>\n",
       "      <td>338.0</td>\n",
       "      <td>1</td>\n",
       "      <td>0</td>\n",
       "      <td>소</td>\n",
       "    </tr>\n",
       "    <tr>\n",
       "      <th>7822</th>\n",
       "      <td>화이트테리어</td>\n",
       "      <td>13</td>\n",
       "      <td>0.5</td>\n",
       "      <td>7.3</td>\n",
       "      <td>F</td>\n",
       "      <td>Y</td>\n",
       "      <td>흰</td>\n",
       "      <td>474.5</td>\n",
       "      <td>0</td>\n",
       "      <td>1</td>\n",
       "      <td>소</td>\n",
       "    </tr>\n",
       "    <tr>\n",
       "      <th>7824</th>\n",
       "      <td>휘펫</td>\n",
       "      <td>2</td>\n",
       "      <td>1.0</td>\n",
       "      <td>14.0</td>\n",
       "      <td>M</td>\n",
       "      <td>N</td>\n",
       "      <td>베이지</td>\n",
       "      <td>910.0</td>\n",
       "      <td>1</td>\n",
       "      <td>0</td>\n",
       "      <td>중</td>\n",
       "    </tr>\n",
       "  </tbody>\n",
       "</table>\n",
       "<p>5674 rows × 11 columns</p>\n",
       "</div>"
      ],
      "text/plain": [
       "           품종  나이  산책시간(시간)    체중 성별 중성화여부          색상     음수량  성별_라벨링  \\\n",
       "0     골든 리트리버  13       0.5  27.0  M     N          갈색  1755.0       1   \n",
       "1     골든 리트리버  10       0.5  25.0  F     N          갈색  1625.0       0   \n",
       "2     골든 리트리버   9       0.5  40.0  M     N          갈색  2600.0       1   \n",
       "3     골든 리트리버   8       0.5  28.0  F     N          갈색  1820.0       0   \n",
       "4     골든 리트리버   8       0.5  33.0  M     N          갈색  2145.0       1   \n",
       "...       ...  ..       ...   ... ..   ...         ...     ...     ...   \n",
       "7818    프렌치불독   1       0.8   4.0  M     N           흑   260.0       1   \n",
       "7819    프렌치불독   0       0.5   3.5  M     N          검정   227.5       1   \n",
       "7820    프렌치불독   0       0.5   5.2  M     N  백색, 갈색, 흑색   338.0       1   \n",
       "7822   화이트테리어  13       0.5   7.3  F     Y           흰   474.5       0   \n",
       "7824       휘펫   2       1.0  14.0  M     N         베이지   910.0       1   \n",
       "\n",
       "     중성화_라벨링 크기  \n",
       "0          0  대  \n",
       "1          0  대  \n",
       "2          0  대  \n",
       "3          0  대  \n",
       "4          0  대  \n",
       "...      ... ..  \n",
       "7818       0  소  \n",
       "7819       0  소  \n",
       "7820       0  소  \n",
       "7822       1  소  \n",
       "7824       0  중  \n",
       "\n",
       "[5674 rows x 11 columns]"
      ]
     },
     "execution_count": 41,
     "metadata": {},
     "output_type": "execute_result"
    }
   ],
   "source": [
    "#잘 나왔는지 확인 \n",
    "pets"
   ]
  },
  {
   "cell_type": "markdown",
   "id": "b452633b-6efb-4ae4-8c93-92a405c9ddc4",
   "metadata": {},
   "source": [
    "## 원 핫 인코딩 준비 "
   ]
  },
  {
   "cell_type": "code",
   "execution_count": 42,
   "id": "a94beecc-77ad-442c-9753-f2fb8b82e456",
   "metadata": {},
   "outputs": [
    {
     "data": {
      "text/html": [
       "<div>\n",
       "<style scoped>\n",
       "    .dataframe tbody tr th:only-of-type {\n",
       "        vertical-align: middle;\n",
       "    }\n",
       "\n",
       "    .dataframe tbody tr th {\n",
       "        vertical-align: top;\n",
       "    }\n",
       "\n",
       "    .dataframe thead th {\n",
       "        text-align: right;\n",
       "    }\n",
       "</style>\n",
       "<table border=\"1\" class=\"dataframe\">\n",
       "  <thead>\n",
       "    <tr style=\"text-align: right;\">\n",
       "      <th></th>\n",
       "      <th>품종</th>\n",
       "      <th>나이</th>\n",
       "      <th>산책시간(시간)</th>\n",
       "      <th>체중</th>\n",
       "      <th>성별</th>\n",
       "      <th>중성화여부</th>\n",
       "      <th>색상</th>\n",
       "      <th>음수량</th>\n",
       "      <th>성별_라벨링</th>\n",
       "      <th>중성화_라벨링</th>\n",
       "      <th>크기</th>\n",
       "    </tr>\n",
       "  </thead>\n",
       "  <tbody>\n",
       "    <tr>\n",
       "      <th>0</th>\n",
       "      <td>골든 리트리버</td>\n",
       "      <td>13</td>\n",
       "      <td>0.5</td>\n",
       "      <td>27.0</td>\n",
       "      <td>M</td>\n",
       "      <td>N</td>\n",
       "      <td>갈색</td>\n",
       "      <td>1755.0</td>\n",
       "      <td>1</td>\n",
       "      <td>0</td>\n",
       "      <td>대</td>\n",
       "    </tr>\n",
       "    <tr>\n",
       "      <th>1</th>\n",
       "      <td>골든 리트리버</td>\n",
       "      <td>10</td>\n",
       "      <td>0.5</td>\n",
       "      <td>25.0</td>\n",
       "      <td>F</td>\n",
       "      <td>N</td>\n",
       "      <td>갈색</td>\n",
       "      <td>1625.0</td>\n",
       "      <td>0</td>\n",
       "      <td>0</td>\n",
       "      <td>대</td>\n",
       "    </tr>\n",
       "    <tr>\n",
       "      <th>2</th>\n",
       "      <td>골든 리트리버</td>\n",
       "      <td>9</td>\n",
       "      <td>0.5</td>\n",
       "      <td>40.0</td>\n",
       "      <td>M</td>\n",
       "      <td>N</td>\n",
       "      <td>갈색</td>\n",
       "      <td>2600.0</td>\n",
       "      <td>1</td>\n",
       "      <td>0</td>\n",
       "      <td>대</td>\n",
       "    </tr>\n",
       "    <tr>\n",
       "      <th>3</th>\n",
       "      <td>골든 리트리버</td>\n",
       "      <td>8</td>\n",
       "      <td>0.5</td>\n",
       "      <td>28.0</td>\n",
       "      <td>F</td>\n",
       "      <td>N</td>\n",
       "      <td>갈색</td>\n",
       "      <td>1820.0</td>\n",
       "      <td>0</td>\n",
       "      <td>0</td>\n",
       "      <td>대</td>\n",
       "    </tr>\n",
       "    <tr>\n",
       "      <th>4</th>\n",
       "      <td>골든 리트리버</td>\n",
       "      <td>8</td>\n",
       "      <td>0.5</td>\n",
       "      <td>33.0</td>\n",
       "      <td>M</td>\n",
       "      <td>N</td>\n",
       "      <td>갈색</td>\n",
       "      <td>2145.0</td>\n",
       "      <td>1</td>\n",
       "      <td>0</td>\n",
       "      <td>대</td>\n",
       "    </tr>\n",
       "  </tbody>\n",
       "</table>\n",
       "</div>"
      ],
      "text/plain": [
       "        품종  나이  산책시간(시간)    체중 성별 중성화여부  색상     음수량  성별_라벨링 중성화_라벨링 크기\n",
       "0  골든 리트리버  13       0.5  27.0  M     N  갈색  1755.0       1       0  대\n",
       "1  골든 리트리버  10       0.5  25.0  F     N  갈색  1625.0       0       0  대\n",
       "2  골든 리트리버   9       0.5  40.0  M     N  갈색  2600.0       1       0  대\n",
       "3  골든 리트리버   8       0.5  28.0  F     N  갈색  1820.0       0       0  대\n",
       "4  골든 리트리버   8       0.5  33.0  M     N  갈색  2145.0       1       0  대"
      ]
     },
     "execution_count": 42,
     "metadata": {},
     "output_type": "execute_result"
    }
   ],
   "source": [
    "pets.head()"
   ]
  },
  {
   "cell_type": "code",
   "execution_count": 43,
   "id": "90861033-fd12-4202-ba20-ca486fd7efae",
   "metadata": {},
   "outputs": [
    {
     "data": {
      "text/plain": [
       "array(['대', '중', '소'], dtype=object)"
      ]
     },
     "execution_count": 43,
     "metadata": {},
     "output_type": "execute_result"
    }
   ],
   "source": [
    "pets['크기'].unique()"
   ]
  },
  {
   "cell_type": "code",
   "execution_count": 44,
   "id": "4862f820-2b34-4b34-b9a1-a97044c5586e",
   "metadata": {},
   "outputs": [
    {
     "name": "stdout",
     "output_type": "stream",
     "text": [
      "4124\n",
      "1134\n",
      "416\n"
     ]
    }
   ],
   "source": [
    "print(pets[pets['크기'].astype(str).str.contains('소')]['크기'].count())\n",
    "print(pets[pets['크기'].astype(str).str.contains('중')]['크기'].count())\n",
    "print(pets[pets['크기'].astype(str).str.contains('대')]['크기'].count())"
   ]
  },
  {
   "cell_type": "code",
   "execution_count": 45,
   "id": "52f3b99c-99e7-46f2-bbd1-1e13bd8869dc",
   "metadata": {},
   "outputs": [],
   "source": [
    "#크기 컬럼 은 레이블 인코딩으로 변환을 진행해주자 \n",
    "# LabelEncoder를 객체로 생성한 후 , fit( ) 과 transform( ) 으로 label 인코딩 수행\n",
    "le = LabelEncoder()\n",
    "le.fit(pets['크기'])\n",
    "le.transform(pets['크기'])\n",
    "pets['크기_라벨링'] = le.transform(pets['크기'])"
   ]
  },
  {
   "cell_type": "code",
   "execution_count": 46,
   "id": "01dd6b88-b9c7-4bfe-8b12-1bf6f1f02569",
   "metadata": {},
   "outputs": [
    {
     "data": {
      "text/plain": [
       "array([0, 2, 1])"
      ]
     },
     "execution_count": 46,
     "metadata": {},
     "output_type": "execute_result"
    }
   ],
   "source": [
    "# 잘 변환 되었는지 확인해주기 \n",
    "pets['크기_라벨링'].unique()"
   ]
  },
  {
   "cell_type": "code",
   "execution_count": 47,
   "id": "c3176e67-c4f9-421f-8e6a-957b8916ad22",
   "metadata": {},
   "outputs": [
    {
     "data": {
      "text/plain": [
       "0       0\n",
       "1       0\n",
       "2       0\n",
       "3       0\n",
       "4       0\n",
       "       ..\n",
       "7818    1\n",
       "7819    1\n",
       "7820    1\n",
       "7822    1\n",
       "7824    2\n",
       "Name: 크기_라벨링, Length: 5674, dtype: int32"
      ]
     },
     "execution_count": 47,
     "metadata": {},
     "output_type": "execute_result"
    }
   ],
   "source": [
    "# 0 : 대 / 1 : 소 / 2 : 중\n",
    "pets['크기_라벨링']"
   ]
  },
  {
   "cell_type": "code",
   "execution_count": 48,
   "id": "2852adf2-77c4-4a5a-bf51-34a9ec1a7e29",
   "metadata": {},
   "outputs": [
    {
     "name": "stdout",
     "output_type": "stream",
     "text": [
      "416\n",
      "4124\n",
      "1134\n"
     ]
    }
   ],
   "source": [
    "print(pets[pets['크기_라벨링'].astype(str).str.contains('0')]['크기_라벨링'].count())\n",
    "print(pets[pets['크기_라벨링'].astype(str).str.contains('1')]['크기_라벨링'].count())\n",
    "print(pets[pets['크기_라벨링'].astype(str).str.contains('2')]['크기_라벨링'].count())"
   ]
  },
  {
   "cell_type": "code",
   "execution_count": 49,
   "id": "045c992c-f724-4766-b9c8-6a3b7f44662d",
   "metadata": {},
   "outputs": [
    {
     "data": {
      "text/html": [
       "<div>\n",
       "<style scoped>\n",
       "    .dataframe tbody tr th:only-of-type {\n",
       "        vertical-align: middle;\n",
       "    }\n",
       "\n",
       "    .dataframe tbody tr th {\n",
       "        vertical-align: top;\n",
       "    }\n",
       "\n",
       "    .dataframe thead th {\n",
       "        text-align: right;\n",
       "    }\n",
       "</style>\n",
       "<table border=\"1\" class=\"dataframe\">\n",
       "  <thead>\n",
       "    <tr style=\"text-align: right;\">\n",
       "      <th></th>\n",
       "      <th>품종</th>\n",
       "      <th>나이</th>\n",
       "      <th>산책시간(시간)</th>\n",
       "      <th>체중</th>\n",
       "      <th>성별</th>\n",
       "      <th>중성화여부</th>\n",
       "      <th>색상</th>\n",
       "      <th>음수량</th>\n",
       "      <th>성별_라벨링</th>\n",
       "      <th>중성화_라벨링</th>\n",
       "      <th>크기</th>\n",
       "      <th>크기_라벨링</th>\n",
       "    </tr>\n",
       "  </thead>\n",
       "  <tbody>\n",
       "    <tr>\n",
       "      <th>0</th>\n",
       "      <td>골든 리트리버</td>\n",
       "      <td>13</td>\n",
       "      <td>0.5</td>\n",
       "      <td>27.0</td>\n",
       "      <td>M</td>\n",
       "      <td>N</td>\n",
       "      <td>갈색</td>\n",
       "      <td>1755.0</td>\n",
       "      <td>1</td>\n",
       "      <td>0</td>\n",
       "      <td>대</td>\n",
       "      <td>2</td>\n",
       "    </tr>\n",
       "    <tr>\n",
       "      <th>1</th>\n",
       "      <td>골든 리트리버</td>\n",
       "      <td>10</td>\n",
       "      <td>0.5</td>\n",
       "      <td>25.0</td>\n",
       "      <td>F</td>\n",
       "      <td>N</td>\n",
       "      <td>갈색</td>\n",
       "      <td>1625.0</td>\n",
       "      <td>0</td>\n",
       "      <td>0</td>\n",
       "      <td>대</td>\n",
       "      <td>2</td>\n",
       "    </tr>\n",
       "    <tr>\n",
       "      <th>2</th>\n",
       "      <td>골든 리트리버</td>\n",
       "      <td>9</td>\n",
       "      <td>0.5</td>\n",
       "      <td>40.0</td>\n",
       "      <td>M</td>\n",
       "      <td>N</td>\n",
       "      <td>갈색</td>\n",
       "      <td>2600.0</td>\n",
       "      <td>1</td>\n",
       "      <td>0</td>\n",
       "      <td>대</td>\n",
       "      <td>2</td>\n",
       "    </tr>\n",
       "    <tr>\n",
       "      <th>3</th>\n",
       "      <td>골든 리트리버</td>\n",
       "      <td>8</td>\n",
       "      <td>0.5</td>\n",
       "      <td>28.0</td>\n",
       "      <td>F</td>\n",
       "      <td>N</td>\n",
       "      <td>갈색</td>\n",
       "      <td>1820.0</td>\n",
       "      <td>0</td>\n",
       "      <td>0</td>\n",
       "      <td>대</td>\n",
       "      <td>2</td>\n",
       "    </tr>\n",
       "    <tr>\n",
       "      <th>4</th>\n",
       "      <td>골든 리트리버</td>\n",
       "      <td>8</td>\n",
       "      <td>0.5</td>\n",
       "      <td>33.0</td>\n",
       "      <td>M</td>\n",
       "      <td>N</td>\n",
       "      <td>갈색</td>\n",
       "      <td>2145.0</td>\n",
       "      <td>1</td>\n",
       "      <td>0</td>\n",
       "      <td>대</td>\n",
       "      <td>2</td>\n",
       "    </tr>\n",
       "    <tr>\n",
       "      <th>...</th>\n",
       "      <td>...</td>\n",
       "      <td>...</td>\n",
       "      <td>...</td>\n",
       "      <td>...</td>\n",
       "      <td>...</td>\n",
       "      <td>...</td>\n",
       "      <td>...</td>\n",
       "      <td>...</td>\n",
       "      <td>...</td>\n",
       "      <td>...</td>\n",
       "      <td>...</td>\n",
       "      <td>...</td>\n",
       "    </tr>\n",
       "    <tr>\n",
       "      <th>7818</th>\n",
       "      <td>프렌치불독</td>\n",
       "      <td>1</td>\n",
       "      <td>0.8</td>\n",
       "      <td>4.0</td>\n",
       "      <td>M</td>\n",
       "      <td>N</td>\n",
       "      <td>흑</td>\n",
       "      <td>260.0</td>\n",
       "      <td>1</td>\n",
       "      <td>0</td>\n",
       "      <td>소</td>\n",
       "      <td>0</td>\n",
       "    </tr>\n",
       "    <tr>\n",
       "      <th>7819</th>\n",
       "      <td>프렌치불독</td>\n",
       "      <td>0</td>\n",
       "      <td>0.5</td>\n",
       "      <td>3.5</td>\n",
       "      <td>M</td>\n",
       "      <td>N</td>\n",
       "      <td>검정</td>\n",
       "      <td>227.5</td>\n",
       "      <td>1</td>\n",
       "      <td>0</td>\n",
       "      <td>소</td>\n",
       "      <td>0</td>\n",
       "    </tr>\n",
       "    <tr>\n",
       "      <th>7820</th>\n",
       "      <td>프렌치불독</td>\n",
       "      <td>0</td>\n",
       "      <td>0.5</td>\n",
       "      <td>5.2</td>\n",
       "      <td>M</td>\n",
       "      <td>N</td>\n",
       "      <td>백색, 갈색, 흑색</td>\n",
       "      <td>338.0</td>\n",
       "      <td>1</td>\n",
       "      <td>0</td>\n",
       "      <td>소</td>\n",
       "      <td>0</td>\n",
       "    </tr>\n",
       "    <tr>\n",
       "      <th>7822</th>\n",
       "      <td>화이트테리어</td>\n",
       "      <td>13</td>\n",
       "      <td>0.5</td>\n",
       "      <td>7.3</td>\n",
       "      <td>F</td>\n",
       "      <td>Y</td>\n",
       "      <td>흰</td>\n",
       "      <td>474.5</td>\n",
       "      <td>0</td>\n",
       "      <td>1</td>\n",
       "      <td>소</td>\n",
       "      <td>0</td>\n",
       "    </tr>\n",
       "    <tr>\n",
       "      <th>7824</th>\n",
       "      <td>휘펫</td>\n",
       "      <td>2</td>\n",
       "      <td>1.0</td>\n",
       "      <td>14.0</td>\n",
       "      <td>M</td>\n",
       "      <td>N</td>\n",
       "      <td>베이지</td>\n",
       "      <td>910.0</td>\n",
       "      <td>1</td>\n",
       "      <td>0</td>\n",
       "      <td>중</td>\n",
       "      <td>1</td>\n",
       "    </tr>\n",
       "  </tbody>\n",
       "</table>\n",
       "<p>5674 rows × 12 columns</p>\n",
       "</div>"
      ],
      "text/plain": [
       "           품종  나이  산책시간(시간)    체중 성별 중성화여부          색상     음수량  성별_라벨링  \\\n",
       "0     골든 리트리버  13       0.5  27.0  M     N          갈색  1755.0       1   \n",
       "1     골든 리트리버  10       0.5  25.0  F     N          갈색  1625.0       0   \n",
       "2     골든 리트리버   9       0.5  40.0  M     N          갈색  2600.0       1   \n",
       "3     골든 리트리버   8       0.5  28.0  F     N          갈색  1820.0       0   \n",
       "4     골든 리트리버   8       0.5  33.0  M     N          갈색  2145.0       1   \n",
       "...       ...  ..       ...   ... ..   ...         ...     ...     ...   \n",
       "7818    프렌치불독   1       0.8   4.0  M     N           흑   260.0       1   \n",
       "7819    프렌치불독   0       0.5   3.5  M     N          검정   227.5       1   \n",
       "7820    프렌치불독   0       0.5   5.2  M     N  백색, 갈색, 흑색   338.0       1   \n",
       "7822   화이트테리어  13       0.5   7.3  F     Y           흰   474.5       0   \n",
       "7824       휘펫   2       1.0  14.0  M     N         베이지   910.0       1   \n",
       "\n",
       "     중성화_라벨링 크기  크기_라벨링  \n",
       "0          0  대       2  \n",
       "1          0  대       2  \n",
       "2          0  대       2  \n",
       "3          0  대       2  \n",
       "4          0  대       2  \n",
       "...      ... ..     ...  \n",
       "7818       0  소       0  \n",
       "7819       0  소       0  \n",
       "7820       0  소       0  \n",
       "7822       1  소       0  \n",
       "7824       0  중       1  \n",
       "\n",
       "[5674 rows x 12 columns]"
      ]
     },
     "execution_count": 49,
     "metadata": {},
     "output_type": "execute_result"
    }
   ],
   "source": [
    "# 잘 안됐네 ^^\n",
    "pets['크기_라벨링'] = df['크기(라벨링)']\n",
    "pets"
   ]
  },
  {
   "cell_type": "markdown",
   "id": "ae639e12-28cb-42ae-9900-a4cede72b280",
   "metadata": {},
   "source": [
    "# 6 클렌징한 데이터 저장 "
   ]
  },
  {
   "cell_type": "code",
   "execution_count": 50,
   "id": "c10608ed-8107-445b-8714-a98551f6f7a9",
   "metadata": {},
   "outputs": [],
   "source": [
    "pets.to_csv('pets_cleansed.csv', index = False, encoding = 'utf-8')"
   ]
  },
  {
   "cell_type": "code",
   "execution_count": 51,
   "id": "90a56521-3e37-4b1d-9c95-6aa2bf31e4fd",
   "metadata": {},
   "outputs": [
    {
     "data": {
      "text/html": [
       "<div>\n",
       "<style scoped>\n",
       "    .dataframe tbody tr th:only-of-type {\n",
       "        vertical-align: middle;\n",
       "    }\n",
       "\n",
       "    .dataframe tbody tr th {\n",
       "        vertical-align: top;\n",
       "    }\n",
       "\n",
       "    .dataframe thead th {\n",
       "        text-align: right;\n",
       "    }\n",
       "</style>\n",
       "<table border=\"1\" class=\"dataframe\">\n",
       "  <thead>\n",
       "    <tr style=\"text-align: right;\">\n",
       "      <th></th>\n",
       "      <th>품종</th>\n",
       "      <th>나이</th>\n",
       "      <th>산책시간(시간)</th>\n",
       "      <th>체중</th>\n",
       "      <th>성별</th>\n",
       "      <th>중성화여부</th>\n",
       "      <th>색상</th>\n",
       "      <th>음수량</th>\n",
       "      <th>성별_라벨링</th>\n",
       "      <th>중성화_라벨링</th>\n",
       "      <th>크기</th>\n",
       "      <th>크기_라벨링</th>\n",
       "    </tr>\n",
       "  </thead>\n",
       "  <tbody>\n",
       "    <tr>\n",
       "      <th>0</th>\n",
       "      <td>골든 리트리버</td>\n",
       "      <td>13</td>\n",
       "      <td>0.5</td>\n",
       "      <td>27.0</td>\n",
       "      <td>M</td>\n",
       "      <td>N</td>\n",
       "      <td>갈색</td>\n",
       "      <td>1755.0</td>\n",
       "      <td>1</td>\n",
       "      <td>0</td>\n",
       "      <td>대</td>\n",
       "      <td>2</td>\n",
       "    </tr>\n",
       "    <tr>\n",
       "      <th>1</th>\n",
       "      <td>골든 리트리버</td>\n",
       "      <td>10</td>\n",
       "      <td>0.5</td>\n",
       "      <td>25.0</td>\n",
       "      <td>F</td>\n",
       "      <td>N</td>\n",
       "      <td>갈색</td>\n",
       "      <td>1625.0</td>\n",
       "      <td>0</td>\n",
       "      <td>0</td>\n",
       "      <td>대</td>\n",
       "      <td>2</td>\n",
       "    </tr>\n",
       "    <tr>\n",
       "      <th>2</th>\n",
       "      <td>골든 리트리버</td>\n",
       "      <td>9</td>\n",
       "      <td>0.5</td>\n",
       "      <td>40.0</td>\n",
       "      <td>M</td>\n",
       "      <td>N</td>\n",
       "      <td>갈색</td>\n",
       "      <td>2600.0</td>\n",
       "      <td>1</td>\n",
       "      <td>0</td>\n",
       "      <td>대</td>\n",
       "      <td>2</td>\n",
       "    </tr>\n",
       "    <tr>\n",
       "      <th>3</th>\n",
       "      <td>골든 리트리버</td>\n",
       "      <td>8</td>\n",
       "      <td>0.5</td>\n",
       "      <td>28.0</td>\n",
       "      <td>F</td>\n",
       "      <td>N</td>\n",
       "      <td>갈색</td>\n",
       "      <td>1820.0</td>\n",
       "      <td>0</td>\n",
       "      <td>0</td>\n",
       "      <td>대</td>\n",
       "      <td>2</td>\n",
       "    </tr>\n",
       "    <tr>\n",
       "      <th>4</th>\n",
       "      <td>골든 리트리버</td>\n",
       "      <td>8</td>\n",
       "      <td>0.5</td>\n",
       "      <td>33.0</td>\n",
       "      <td>M</td>\n",
       "      <td>N</td>\n",
       "      <td>갈색</td>\n",
       "      <td>2145.0</td>\n",
       "      <td>1</td>\n",
       "      <td>0</td>\n",
       "      <td>대</td>\n",
       "      <td>2</td>\n",
       "    </tr>\n",
       "    <tr>\n",
       "      <th>...</th>\n",
       "      <td>...</td>\n",
       "      <td>...</td>\n",
       "      <td>...</td>\n",
       "      <td>...</td>\n",
       "      <td>...</td>\n",
       "      <td>...</td>\n",
       "      <td>...</td>\n",
       "      <td>...</td>\n",
       "      <td>...</td>\n",
       "      <td>...</td>\n",
       "      <td>...</td>\n",
       "      <td>...</td>\n",
       "    </tr>\n",
       "    <tr>\n",
       "      <th>5669</th>\n",
       "      <td>프렌치불독</td>\n",
       "      <td>1</td>\n",
       "      <td>0.8</td>\n",
       "      <td>4.0</td>\n",
       "      <td>M</td>\n",
       "      <td>N</td>\n",
       "      <td>흑</td>\n",
       "      <td>260.0</td>\n",
       "      <td>1</td>\n",
       "      <td>0</td>\n",
       "      <td>소</td>\n",
       "      <td>0</td>\n",
       "    </tr>\n",
       "    <tr>\n",
       "      <th>5670</th>\n",
       "      <td>프렌치불독</td>\n",
       "      <td>0</td>\n",
       "      <td>0.5</td>\n",
       "      <td>3.5</td>\n",
       "      <td>M</td>\n",
       "      <td>N</td>\n",
       "      <td>검정</td>\n",
       "      <td>227.5</td>\n",
       "      <td>1</td>\n",
       "      <td>0</td>\n",
       "      <td>소</td>\n",
       "      <td>0</td>\n",
       "    </tr>\n",
       "    <tr>\n",
       "      <th>5671</th>\n",
       "      <td>프렌치불독</td>\n",
       "      <td>0</td>\n",
       "      <td>0.5</td>\n",
       "      <td>5.2</td>\n",
       "      <td>M</td>\n",
       "      <td>N</td>\n",
       "      <td>백색, 갈색, 흑색</td>\n",
       "      <td>338.0</td>\n",
       "      <td>1</td>\n",
       "      <td>0</td>\n",
       "      <td>소</td>\n",
       "      <td>0</td>\n",
       "    </tr>\n",
       "    <tr>\n",
       "      <th>5672</th>\n",
       "      <td>화이트테리어</td>\n",
       "      <td>13</td>\n",
       "      <td>0.5</td>\n",
       "      <td>7.3</td>\n",
       "      <td>F</td>\n",
       "      <td>Y</td>\n",
       "      <td>흰</td>\n",
       "      <td>474.5</td>\n",
       "      <td>0</td>\n",
       "      <td>1</td>\n",
       "      <td>소</td>\n",
       "      <td>0</td>\n",
       "    </tr>\n",
       "    <tr>\n",
       "      <th>5673</th>\n",
       "      <td>휘펫</td>\n",
       "      <td>2</td>\n",
       "      <td>1.0</td>\n",
       "      <td>14.0</td>\n",
       "      <td>M</td>\n",
       "      <td>N</td>\n",
       "      <td>베이지</td>\n",
       "      <td>910.0</td>\n",
       "      <td>1</td>\n",
       "      <td>0</td>\n",
       "      <td>중</td>\n",
       "      <td>1</td>\n",
       "    </tr>\n",
       "  </tbody>\n",
       "</table>\n",
       "<p>5674 rows × 12 columns</p>\n",
       "</div>"
      ],
      "text/plain": [
       "           품종  나이  산책시간(시간)    체중 성별 중성화여부          색상     음수량  성별_라벨링  \\\n",
       "0     골든 리트리버  13       0.5  27.0  M     N          갈색  1755.0       1   \n",
       "1     골든 리트리버  10       0.5  25.0  F     N          갈색  1625.0       0   \n",
       "2     골든 리트리버   9       0.5  40.0  M     N          갈색  2600.0       1   \n",
       "3     골든 리트리버   8       0.5  28.0  F     N          갈색  1820.0       0   \n",
       "4     골든 리트리버   8       0.5  33.0  M     N          갈색  2145.0       1   \n",
       "...       ...  ..       ...   ... ..   ...         ...     ...     ...   \n",
       "5669    프렌치불독   1       0.8   4.0  M     N           흑   260.0       1   \n",
       "5670    프렌치불독   0       0.5   3.5  M     N          검정   227.5       1   \n",
       "5671    프렌치불독   0       0.5   5.2  M     N  백색, 갈색, 흑색   338.0       1   \n",
       "5672   화이트테리어  13       0.5   7.3  F     Y           흰   474.5       0   \n",
       "5673       휘펫   2       1.0  14.0  M     N         베이지   910.0       1   \n",
       "\n",
       "      중성화_라벨링 크기  크기_라벨링  \n",
       "0           0  대       2  \n",
       "1           0  대       2  \n",
       "2           0  대       2  \n",
       "3           0  대       2  \n",
       "4           0  대       2  \n",
       "...       ... ..     ...  \n",
       "5669        0  소       0  \n",
       "5670        0  소       0  \n",
       "5671        0  소       0  \n",
       "5672        1  소       0  \n",
       "5673        0  중       1  \n",
       "\n",
       "[5674 rows x 12 columns]"
      ]
     },
     "execution_count": 51,
     "metadata": {},
     "output_type": "execute_result"
    }
   ],
   "source": [
    "pd.read_csv('pets_cleansed.csv', encoding = 'utf-8')"
   ]
  },
  {
   "cell_type": "code",
   "execution_count": null,
   "id": "2a4fe723-c6a6-4c47-87b9-ebe9310536de",
   "metadata": {},
   "outputs": [],
   "source": []
  },
  {
   "cell_type": "code",
   "execution_count": null,
   "id": "d689b72b-7560-49bb-98a4-fc24444c95b0",
   "metadata": {},
   "outputs": [],
   "source": []
  }
 ],
 "metadata": {
  "kernelspec": {
   "display_name": "Python 3 (ipykernel)",
   "language": "python",
   "name": "python3"
  },
  "language_info": {
   "codemirror_mode": {
    "name": "ipython",
    "version": 3
   },
   "file_extension": ".py",
   "mimetype": "text/x-python",
   "name": "python",
   "nbconvert_exporter": "python",
   "pygments_lexer": "ipython3",
   "version": "3.9.7"
  }
 },
 "nbformat": 4,
 "nbformat_minor": 5
}
