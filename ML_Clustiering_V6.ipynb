{
 "cells": [
  {
   "cell_type": "markdown",
   "id": "8696dc5a-74f6-4657-ae46-43c665539492",
   "metadata": {},
   "source": [
    "# pca clustering / n_clusters = 4"
   ]
  },
  {
   "cell_type": "markdown",
   "id": "1f465a81-7649-4552-bf7d-34550f8514ad",
   "metadata": {},
   "source": [
    "# 라이브러리를 불러옵니다"
   ]
  },
  {
   "cell_type": "code",
   "execution_count": 1,
   "id": "0f62649f-1c1d-4516-a935-81de6a24b924",
   "metadata": {},
   "outputs": [],
   "source": [
    "import pandas as pd\n",
    "import numpy as np\n",
    "import seaborn as sns\n",
    "import matplotlib.pyplot as plt"
   ]
  },
  {
   "cell_type": "code",
   "execution_count": 2,
   "id": "56185f88-5df3-4a6c-bd72-8f3096e91c49",
   "metadata": {},
   "outputs": [],
   "source": [
    "# 핑크색 warning 안내문 방지 \n",
    "import warnings\n",
    "warnings.filterwarnings('ignore')"
   ]
  },
  {
   "cell_type": "markdown",
   "id": "6db3739e-c592-4a85-aa42-62701d911353",
   "metadata": {
    "tags": []
   },
   "source": [
    "# 한글폰트 사용을 위한 세팅"
   ]
  },
  {
   "cell_type": "code",
   "execution_count": 3,
   "id": "ade2b48b-1998-48d9-b98c-4cff267f0b73",
   "metadata": {},
   "outputs": [],
   "source": [
    "def get_font_family():\n",
    "    \"\"\"\n",
    "    시스템 환경에 따른 기본 폰트명을 반환하는 함수\n",
    "    \"\"\"\n",
    "    import platform\n",
    "    system_name = platform.system()\n",
    "\n",
    "    if system_name == \"Darwin\" :\n",
    "        font_family = \"AppleGothic\"\n",
    "    elif system_name == \"Windows\":\n",
    "        font_family = \"Malgun Gothic\"\n",
    "    else:\n",
    "        # Linux(Colab)\n",
    "        !apt-get install fonts-nanum -qq  > /dev/null\n",
    "        !fc-cache -fv\n",
    "\n",
    "        import matplotlib as mpl\n",
    "        mpl.font_manager._rebuild()\n",
    "        findfont = mpl.font_manager.fontManager.findfont\n",
    "        mpl.font_manager.findfont = findfont\n",
    "        mpl.backends.backend_agg.findfont = findfont\n",
    "        \n",
    "        font_family = \"NanumBarunGothic\"\n",
    "    return font_family\n",
    "\n",
    "plt.rc(\"font\", family=get_font_family())\n",
    "plt.rc(\"axes\", unicode_minus=False)"
   ]
  },
  {
   "cell_type": "markdown",
   "id": "8bbe05da-eb21-49ee-9605-038deecac028",
   "metadata": {
    "tags": []
   },
   "source": [
    "# 데이터 셋 로드 "
   ]
  },
  {
   "cell_type": "code",
   "execution_count": 4,
   "id": "06718f5a-8d02-4e95-9e79-bc794083d5df",
   "metadata": {},
   "outputs": [],
   "source": [
    "import glob "
   ]
  },
  {
   "cell_type": "code",
   "execution_count": 5,
   "id": "9a750b0e-8fc5-4d33-b342-a94ab1df9921",
   "metadata": {},
   "outputs": [
    {
     "data": {
      "text/plain": [
       "['pets_cleansed.csv']"
      ]
     },
     "execution_count": 5,
     "metadata": {},
     "output_type": "execute_result"
    }
   ],
   "source": [
    "path = glob.glob('*.csv')\n",
    "path"
   ]
  },
  {
   "cell_type": "code",
   "execution_count": 6,
   "id": "6eb9909e-f4b5-4a90-a742-053d823ea978",
   "metadata": {},
   "outputs": [
    {
     "data": {
      "text/html": [
       "<div>\n",
       "<style scoped>\n",
       "    .dataframe tbody tr th:only-of-type {\n",
       "        vertical-align: middle;\n",
       "    }\n",
       "\n",
       "    .dataframe tbody tr th {\n",
       "        vertical-align: top;\n",
       "    }\n",
       "\n",
       "    .dataframe thead th {\n",
       "        text-align: right;\n",
       "    }\n",
       "</style>\n",
       "<table border=\"1\" class=\"dataframe\">\n",
       "  <thead>\n",
       "    <tr style=\"text-align: right;\">\n",
       "      <th></th>\n",
       "      <th>품종</th>\n",
       "      <th>나이</th>\n",
       "      <th>산책시간(시간)</th>\n",
       "      <th>체중</th>\n",
       "      <th>성별</th>\n",
       "      <th>중성화여부</th>\n",
       "      <th>색상</th>\n",
       "      <th>음수량</th>\n",
       "      <th>성별_라벨링</th>\n",
       "      <th>중성화_라벨링</th>\n",
       "      <th>크기</th>\n",
       "      <th>크기_라벨링</th>\n",
       "    </tr>\n",
       "  </thead>\n",
       "  <tbody>\n",
       "    <tr>\n",
       "      <th>0</th>\n",
       "      <td>골든 리트리버</td>\n",
       "      <td>13</td>\n",
       "      <td>0.5</td>\n",
       "      <td>27.0</td>\n",
       "      <td>M</td>\n",
       "      <td>N</td>\n",
       "      <td>갈색</td>\n",
       "      <td>1755.0</td>\n",
       "      <td>1</td>\n",
       "      <td>0</td>\n",
       "      <td>대</td>\n",
       "      <td>2</td>\n",
       "    </tr>\n",
       "    <tr>\n",
       "      <th>1</th>\n",
       "      <td>골든 리트리버</td>\n",
       "      <td>10</td>\n",
       "      <td>0.5</td>\n",
       "      <td>25.0</td>\n",
       "      <td>F</td>\n",
       "      <td>N</td>\n",
       "      <td>갈색</td>\n",
       "      <td>1625.0</td>\n",
       "      <td>0</td>\n",
       "      <td>0</td>\n",
       "      <td>대</td>\n",
       "      <td>2</td>\n",
       "    </tr>\n",
       "    <tr>\n",
       "      <th>2</th>\n",
       "      <td>골든 리트리버</td>\n",
       "      <td>9</td>\n",
       "      <td>0.5</td>\n",
       "      <td>40.0</td>\n",
       "      <td>M</td>\n",
       "      <td>N</td>\n",
       "      <td>갈색</td>\n",
       "      <td>2600.0</td>\n",
       "      <td>1</td>\n",
       "      <td>0</td>\n",
       "      <td>대</td>\n",
       "      <td>2</td>\n",
       "    </tr>\n",
       "    <tr>\n",
       "      <th>3</th>\n",
       "      <td>골든 리트리버</td>\n",
       "      <td>8</td>\n",
       "      <td>0.5</td>\n",
       "      <td>28.0</td>\n",
       "      <td>F</td>\n",
       "      <td>N</td>\n",
       "      <td>갈색</td>\n",
       "      <td>1820.0</td>\n",
       "      <td>0</td>\n",
       "      <td>0</td>\n",
       "      <td>대</td>\n",
       "      <td>2</td>\n",
       "    </tr>\n",
       "    <tr>\n",
       "      <th>4</th>\n",
       "      <td>골든 리트리버</td>\n",
       "      <td>8</td>\n",
       "      <td>0.5</td>\n",
       "      <td>33.0</td>\n",
       "      <td>M</td>\n",
       "      <td>N</td>\n",
       "      <td>갈색</td>\n",
       "      <td>2145.0</td>\n",
       "      <td>1</td>\n",
       "      <td>0</td>\n",
       "      <td>대</td>\n",
       "      <td>2</td>\n",
       "    </tr>\n",
       "    <tr>\n",
       "      <th>...</th>\n",
       "      <td>...</td>\n",
       "      <td>...</td>\n",
       "      <td>...</td>\n",
       "      <td>...</td>\n",
       "      <td>...</td>\n",
       "      <td>...</td>\n",
       "      <td>...</td>\n",
       "      <td>...</td>\n",
       "      <td>...</td>\n",
       "      <td>...</td>\n",
       "      <td>...</td>\n",
       "      <td>...</td>\n",
       "    </tr>\n",
       "    <tr>\n",
       "      <th>5669</th>\n",
       "      <td>프렌치불독</td>\n",
       "      <td>1</td>\n",
       "      <td>0.8</td>\n",
       "      <td>4.0</td>\n",
       "      <td>M</td>\n",
       "      <td>N</td>\n",
       "      <td>흑</td>\n",
       "      <td>260.0</td>\n",
       "      <td>1</td>\n",
       "      <td>0</td>\n",
       "      <td>소</td>\n",
       "      <td>0</td>\n",
       "    </tr>\n",
       "    <tr>\n",
       "      <th>5670</th>\n",
       "      <td>프렌치불독</td>\n",
       "      <td>0</td>\n",
       "      <td>0.5</td>\n",
       "      <td>3.5</td>\n",
       "      <td>M</td>\n",
       "      <td>N</td>\n",
       "      <td>검정</td>\n",
       "      <td>227.5</td>\n",
       "      <td>1</td>\n",
       "      <td>0</td>\n",
       "      <td>소</td>\n",
       "      <td>0</td>\n",
       "    </tr>\n",
       "    <tr>\n",
       "      <th>5671</th>\n",
       "      <td>프렌치불독</td>\n",
       "      <td>0</td>\n",
       "      <td>0.5</td>\n",
       "      <td>5.2</td>\n",
       "      <td>M</td>\n",
       "      <td>N</td>\n",
       "      <td>백색, 갈색, 흑색</td>\n",
       "      <td>338.0</td>\n",
       "      <td>1</td>\n",
       "      <td>0</td>\n",
       "      <td>소</td>\n",
       "      <td>0</td>\n",
       "    </tr>\n",
       "    <tr>\n",
       "      <th>5672</th>\n",
       "      <td>화이트테리어</td>\n",
       "      <td>13</td>\n",
       "      <td>0.5</td>\n",
       "      <td>7.3</td>\n",
       "      <td>F</td>\n",
       "      <td>Y</td>\n",
       "      <td>흰</td>\n",
       "      <td>474.5</td>\n",
       "      <td>0</td>\n",
       "      <td>1</td>\n",
       "      <td>소</td>\n",
       "      <td>0</td>\n",
       "    </tr>\n",
       "    <tr>\n",
       "      <th>5673</th>\n",
       "      <td>휘펫</td>\n",
       "      <td>2</td>\n",
       "      <td>1.0</td>\n",
       "      <td>14.0</td>\n",
       "      <td>M</td>\n",
       "      <td>N</td>\n",
       "      <td>베이지</td>\n",
       "      <td>910.0</td>\n",
       "      <td>1</td>\n",
       "      <td>0</td>\n",
       "      <td>중</td>\n",
       "      <td>1</td>\n",
       "    </tr>\n",
       "  </tbody>\n",
       "</table>\n",
       "<p>5674 rows × 12 columns</p>\n",
       "</div>"
      ],
      "text/plain": [
       "           품종  나이  산책시간(시간)    체중 성별 중성화여부          색상     음수량  성별_라벨링  \\\n",
       "0     골든 리트리버  13       0.5  27.0  M     N          갈색  1755.0       1   \n",
       "1     골든 리트리버  10       0.5  25.0  F     N          갈색  1625.0       0   \n",
       "2     골든 리트리버   9       0.5  40.0  M     N          갈색  2600.0       1   \n",
       "3     골든 리트리버   8       0.5  28.0  F     N          갈색  1820.0       0   \n",
       "4     골든 리트리버   8       0.5  33.0  M     N          갈색  2145.0       1   \n",
       "...       ...  ..       ...   ... ..   ...         ...     ...     ...   \n",
       "5669    프렌치불독   1       0.8   4.0  M     N           흑   260.0       1   \n",
       "5670    프렌치불독   0       0.5   3.5  M     N          검정   227.5       1   \n",
       "5671    프렌치불독   0       0.5   5.2  M     N  백색, 갈색, 흑색   338.0       1   \n",
       "5672   화이트테리어  13       0.5   7.3  F     Y           흰   474.5       0   \n",
       "5673       휘펫   2       1.0  14.0  M     N         베이지   910.0       1   \n",
       "\n",
       "      중성화_라벨링 크기  크기_라벨링  \n",
       "0           0  대       2  \n",
       "1           0  대       2  \n",
       "2           0  대       2  \n",
       "3           0  대       2  \n",
       "4           0  대       2  \n",
       "...       ... ..     ...  \n",
       "5669        0  소       0  \n",
       "5670        0  소       0  \n",
       "5671        0  소       0  \n",
       "5672        1  소       0  \n",
       "5673        0  중       1  \n",
       "\n",
       "[5674 rows x 12 columns]"
      ]
     },
     "execution_count": 6,
     "metadata": {},
     "output_type": "execute_result"
    }
   ],
   "source": [
    "df = pd.read_csv(path[0], encoding = 'utf-8')\n",
    "df"
   ]
  },
  {
   "cell_type": "markdown",
   "id": "c0260e06-77e2-4f27-96cd-18b957ef2b7d",
   "metadata": {},
   "source": [
    "# 데이터 살펴보기 "
   ]
  },
  {
   "cell_type": "code",
   "execution_count": 7,
   "id": "838d37dd-01d6-4797-972e-cb245e97a241",
   "metadata": {},
   "outputs": [
    {
     "name": "stdout",
     "output_type": "stream",
     "text": [
      "<class 'pandas.core.frame.DataFrame'>\n",
      "RangeIndex: 5674 entries, 0 to 5673\n",
      "Data columns (total 12 columns):\n",
      " #   Column    Non-Null Count  Dtype  \n",
      "---  ------    --------------  -----  \n",
      " 0   품종        5674 non-null   object \n",
      " 1   나이        5674 non-null   int64  \n",
      " 2   산책시간(시간)  5674 non-null   float64\n",
      " 3   체중        5674 non-null   float64\n",
      " 4   성별        5674 non-null   object \n",
      " 5   중성화여부     5674 non-null   object \n",
      " 6   색상        5674 non-null   object \n",
      " 7   음수량       5674 non-null   float64\n",
      " 8   성별_라벨링    5674 non-null   int64  \n",
      " 9   중성화_라벨링   5674 non-null   int64  \n",
      " 10  크기        5674 non-null   object \n",
      " 11  크기_라벨링    5674 non-null   int64  \n",
      "dtypes: float64(3), int64(4), object(5)\n",
      "memory usage: 532.1+ KB\n"
     ]
    }
   ],
   "source": [
    "df.info()"
   ]
  },
  {
   "cell_type": "code",
   "execution_count": 8,
   "id": "19c251d1-2056-4b4c-a14b-92ad0805a8dc",
   "metadata": {},
   "outputs": [
    {
     "data": {
      "text/html": [
       "<div>\n",
       "<style scoped>\n",
       "    .dataframe tbody tr th:only-of-type {\n",
       "        vertical-align: middle;\n",
       "    }\n",
       "\n",
       "    .dataframe tbody tr th {\n",
       "        vertical-align: top;\n",
       "    }\n",
       "\n",
       "    .dataframe thead th {\n",
       "        text-align: right;\n",
       "    }\n",
       "</style>\n",
       "<table border=\"1\" class=\"dataframe\">\n",
       "  <thead>\n",
       "    <tr style=\"text-align: right;\">\n",
       "      <th></th>\n",
       "      <th>나이</th>\n",
       "      <th>산책시간(시간)</th>\n",
       "      <th>체중</th>\n",
       "      <th>음수량</th>\n",
       "      <th>성별_라벨링</th>\n",
       "      <th>중성화_라벨링</th>\n",
       "      <th>크기_라벨링</th>\n",
       "    </tr>\n",
       "  </thead>\n",
       "  <tbody>\n",
       "    <tr>\n",
       "      <th>count</th>\n",
       "      <td>5674.000000</td>\n",
       "      <td>5674.000000</td>\n",
       "      <td>5674.000000</td>\n",
       "      <td>5674.000000</td>\n",
       "      <td>5674.000000</td>\n",
       "      <td>5674.000000</td>\n",
       "      <td>5674.000000</td>\n",
       "    </tr>\n",
       "    <tr>\n",
       "      <th>mean</th>\n",
       "      <td>1.955939</td>\n",
       "      <td>0.892510</td>\n",
       "      <td>7.444949</td>\n",
       "      <td>483.921678</td>\n",
       "      <td>0.649806</td>\n",
       "      <td>0.087769</td>\n",
       "      <td>0.346493</td>\n",
       "    </tr>\n",
       "    <tr>\n",
       "      <th>std</th>\n",
       "      <td>2.603371</td>\n",
       "      <td>0.163133</td>\n",
       "      <td>6.894764</td>\n",
       "      <td>448.159680</td>\n",
       "      <td>0.477073</td>\n",
       "      <td>0.282983</td>\n",
       "      <td>0.610848</td>\n",
       "    </tr>\n",
       "    <tr>\n",
       "      <th>min</th>\n",
       "      <td>0.000000</td>\n",
       "      <td>0.500000</td>\n",
       "      <td>0.040000</td>\n",
       "      <td>2.600000</td>\n",
       "      <td>0.000000</td>\n",
       "      <td>0.000000</td>\n",
       "      <td>0.000000</td>\n",
       "    </tr>\n",
       "    <tr>\n",
       "      <th>25%</th>\n",
       "      <td>0.000000</td>\n",
       "      <td>0.800000</td>\n",
       "      <td>2.655000</td>\n",
       "      <td>172.575000</td>\n",
       "      <td>0.000000</td>\n",
       "      <td>0.000000</td>\n",
       "      <td>0.000000</td>\n",
       "    </tr>\n",
       "    <tr>\n",
       "      <th>50%</th>\n",
       "      <td>1.000000</td>\n",
       "      <td>0.800000</td>\n",
       "      <td>5.000000</td>\n",
       "      <td>325.000000</td>\n",
       "      <td>1.000000</td>\n",
       "      <td>0.000000</td>\n",
       "      <td>0.000000</td>\n",
       "    </tr>\n",
       "    <tr>\n",
       "      <th>75%</th>\n",
       "      <td>3.000000</td>\n",
       "      <td>1.000000</td>\n",
       "      <td>10.000000</td>\n",
       "      <td>650.000000</td>\n",
       "      <td>1.000000</td>\n",
       "      <td>0.000000</td>\n",
       "      <td>1.000000</td>\n",
       "    </tr>\n",
       "    <tr>\n",
       "      <th>max</th>\n",
       "      <td>18.000000</td>\n",
       "      <td>1.500000</td>\n",
       "      <td>60.000000</td>\n",
       "      <td>3900.000000</td>\n",
       "      <td>1.000000</td>\n",
       "      <td>1.000000</td>\n",
       "      <td>2.000000</td>\n",
       "    </tr>\n",
       "  </tbody>\n",
       "</table>\n",
       "</div>"
      ],
      "text/plain": [
       "                나이     산책시간(시간)           체중          음수량       성별_라벨링  \\\n",
       "count  5674.000000  5674.000000  5674.000000  5674.000000  5674.000000   \n",
       "mean      1.955939     0.892510     7.444949   483.921678     0.649806   \n",
       "std       2.603371     0.163133     6.894764   448.159680     0.477073   \n",
       "min       0.000000     0.500000     0.040000     2.600000     0.000000   \n",
       "25%       0.000000     0.800000     2.655000   172.575000     0.000000   \n",
       "50%       1.000000     0.800000     5.000000   325.000000     1.000000   \n",
       "75%       3.000000     1.000000    10.000000   650.000000     1.000000   \n",
       "max      18.000000     1.500000    60.000000  3900.000000     1.000000   \n",
       "\n",
       "           중성화_라벨링       크기_라벨링  \n",
       "count  5674.000000  5674.000000  \n",
       "mean      0.087769     0.346493  \n",
       "std       0.282983     0.610848  \n",
       "min       0.000000     0.000000  \n",
       "25%       0.000000     0.000000  \n",
       "50%       0.000000     0.000000  \n",
       "75%       0.000000     1.000000  \n",
       "max       1.000000     2.000000  "
      ]
     },
     "execution_count": 8,
     "metadata": {},
     "output_type": "execute_result"
    }
   ],
   "source": [
    "df.describe()"
   ]
  },
  {
   "cell_type": "code",
   "execution_count": 9,
   "id": "7b98eea1-36c2-40da-8247-592c3718c2e4",
   "metadata": {},
   "outputs": [
    {
     "data": {
      "image/png": "[encoded data removed]",
      "text/plain": [
       "<Figure size 576x360 with 2 Axes>"
      ]
     },
     "metadata": {
      "needs_background": "light"
     },
     "output_type": "display_data"
    }
   ],
   "source": [
    "#결측치 시각회\n",
    "plt.figure(figsize = (8, 5))\n",
    "sns.heatmap(df.isnull())\n",
    "plt.show()"
   ]
  },
  {
   "cell_type": "markdown",
   "id": "15f76483-4dc5-44a4-bade-4c297217186b",
   "metadata": {},
   "source": [
    "# 각 컬럼 별 히스토그램 그려서 데이터 분포 보기 \n",
    "df.hist(figsize = (12,8))\n",
    "plt.show()"
   ]
  },
  {
   "cell_type": "markdown",
   "id": "4f0730e7-ce7d-478d-84de-2614f2b380a7",
   "metadata": {},
   "source": [
    "# 범주형 변수 제외 - 전처리"
   ]
  },
  {
   "cell_type": "code",
   "execution_count": 10,
   "id": "72b70e56-85cd-495f-a3d3-9a76eef4de44",
   "metadata": {},
   "outputs": [
    {
     "data": {
      "text/plain": [
       "Index(['품종', '나이', '산책시간(시간)', '체중', '성별', '중성화여부', '색상', '음수량', '성별_라벨링',\n",
       "       '중성화_라벨링', '크기', '크기_라벨링'],\n",
       "      dtype='object')"
      ]
     },
     "execution_count": 10,
     "metadata": {},
     "output_type": "execute_result"
    }
   ],
   "source": [
    "df.columns"
   ]
  },
  {
   "cell_type": "code",
   "execution_count": 11,
   "id": "527f5d8a-f28d-4a27-95bb-07850b12265a",
   "metadata": {},
   "outputs": [],
   "source": [
    "#범주형 변수들은 제외하고 새로운 변수로 선언\n",
    "C1 = df[['나이','산책시간(시간)', '체중', '성별_라벨링',\n",
    "       '중성화_라벨링','크기_라벨링', '음수량']]"
   ]
  },
  {
   "cell_type": "code",
   "execution_count": 12,
   "id": "85304532-7419-41ad-8718-8433230f2b8d",
   "metadata": {},
   "outputs": [
    {
     "data": {
      "text/html": [
       "<div>\n",
       "<style scoped>\n",
       "    .dataframe tbody tr th:only-of-type {\n",
       "        vertical-align: middle;\n",
       "    }\n",
       "\n",
       "    .dataframe tbody tr th {\n",
       "        vertical-align: top;\n",
       "    }\n",
       "\n",
       "    .dataframe thead th {\n",
       "        text-align: right;\n",
       "    }\n",
       "</style>\n",
       "<table border=\"1\" class=\"dataframe\">\n",
       "  <thead>\n",
       "    <tr style=\"text-align: right;\">\n",
       "      <th></th>\n",
       "      <th>나이</th>\n",
       "      <th>산책시간(시간)</th>\n",
       "      <th>체중</th>\n",
       "      <th>성별_라벨링</th>\n",
       "      <th>중성화_라벨링</th>\n",
       "      <th>크기_라벨링</th>\n",
       "      <th>음수량</th>\n",
       "    </tr>\n",
       "  </thead>\n",
       "  <tbody>\n",
       "    <tr>\n",
       "      <th>0</th>\n",
       "      <td>13</td>\n",
       "      <td>0.5</td>\n",
       "      <td>27.0</td>\n",
       "      <td>1</td>\n",
       "      <td>0</td>\n",
       "      <td>2</td>\n",
       "      <td>1755.0</td>\n",
       "    </tr>\n",
       "    <tr>\n",
       "      <th>1</th>\n",
       "      <td>10</td>\n",
       "      <td>0.5</td>\n",
       "      <td>25.0</td>\n",
       "      <td>0</td>\n",
       "      <td>0</td>\n",
       "      <td>2</td>\n",
       "      <td>1625.0</td>\n",
       "    </tr>\n",
       "    <tr>\n",
       "      <th>2</th>\n",
       "      <td>9</td>\n",
       "      <td>0.5</td>\n",
       "      <td>40.0</td>\n",
       "      <td>1</td>\n",
       "      <td>0</td>\n",
       "      <td>2</td>\n",
       "      <td>2600.0</td>\n",
       "    </tr>\n",
       "    <tr>\n",
       "      <th>3</th>\n",
       "      <td>8</td>\n",
       "      <td>0.5</td>\n",
       "      <td>28.0</td>\n",
       "      <td>0</td>\n",
       "      <td>0</td>\n",
       "      <td>2</td>\n",
       "      <td>1820.0</td>\n",
       "    </tr>\n",
       "    <tr>\n",
       "      <th>4</th>\n",
       "      <td>8</td>\n",
       "      <td>0.5</td>\n",
       "      <td>33.0</td>\n",
       "      <td>1</td>\n",
       "      <td>0</td>\n",
       "      <td>2</td>\n",
       "      <td>2145.0</td>\n",
       "    </tr>\n",
       "    <tr>\n",
       "      <th>...</th>\n",
       "      <td>...</td>\n",
       "      <td>...</td>\n",
       "      <td>...</td>\n",
       "      <td>...</td>\n",
       "      <td>...</td>\n",
       "      <td>...</td>\n",
       "      <td>...</td>\n",
       "    </tr>\n",
       "    <tr>\n",
       "      <th>5669</th>\n",
       "      <td>1</td>\n",
       "      <td>0.8</td>\n",
       "      <td>4.0</td>\n",
       "      <td>1</td>\n",
       "      <td>0</td>\n",
       "      <td>0</td>\n",
       "      <td>260.0</td>\n",
       "    </tr>\n",
       "    <tr>\n",
       "      <th>5670</th>\n",
       "      <td>0</td>\n",
       "      <td>0.5</td>\n",
       "      <td>3.5</td>\n",
       "      <td>1</td>\n",
       "      <td>0</td>\n",
       "      <td>0</td>\n",
       "      <td>227.5</td>\n",
       "    </tr>\n",
       "    <tr>\n",
       "      <th>5671</th>\n",
       "      <td>0</td>\n",
       "      <td>0.5</td>\n",
       "      <td>5.2</td>\n",
       "      <td>1</td>\n",
       "      <td>0</td>\n",
       "      <td>0</td>\n",
       "      <td>338.0</td>\n",
       "    </tr>\n",
       "    <tr>\n",
       "      <th>5672</th>\n",
       "      <td>13</td>\n",
       "      <td>0.5</td>\n",
       "      <td>7.3</td>\n",
       "      <td>0</td>\n",
       "      <td>1</td>\n",
       "      <td>0</td>\n",
       "      <td>474.5</td>\n",
       "    </tr>\n",
       "    <tr>\n",
       "      <th>5673</th>\n",
       "      <td>2</td>\n",
       "      <td>1.0</td>\n",
       "      <td>14.0</td>\n",
       "      <td>1</td>\n",
       "      <td>0</td>\n",
       "      <td>1</td>\n",
       "      <td>910.0</td>\n",
       "    </tr>\n",
       "  </tbody>\n",
       "</table>\n",
       "<p>5674 rows × 7 columns</p>\n",
       "</div>"
      ],
      "text/plain": [
       "      나이  산책시간(시간)    체중  성별_라벨링  중성화_라벨링  크기_라벨링     음수량\n",
       "0     13       0.5  27.0       1        0       2  1755.0\n",
       "1     10       0.5  25.0       0        0       2  1625.0\n",
       "2      9       0.5  40.0       1        0       2  2600.0\n",
       "3      8       0.5  28.0       0        0       2  1820.0\n",
       "4      8       0.5  33.0       1        0       2  2145.0\n",
       "...   ..       ...   ...     ...      ...     ...     ...\n",
       "5669   1       0.8   4.0       1        0       0   260.0\n",
       "5670   0       0.5   3.5       1        0       0   227.5\n",
       "5671   0       0.5   5.2       1        0       0   338.0\n",
       "5672  13       0.5   7.3       0        1       0   474.5\n",
       "5673   2       1.0  14.0       1        0       1   910.0\n",
       "\n",
       "[5674 rows x 7 columns]"
      ]
     },
     "execution_count": 12,
     "metadata": {},
     "output_type": "execute_result"
    }
   ],
   "source": [
    "#잘 담겨있는지 확인\n",
    "C1"
   ]
  },
  {
   "cell_type": "markdown",
   "id": "9e05f8f2-beee-4b5a-85dd-8872b2802081",
   "metadata": {},
   "source": [
    "# Feature Selection"
   ]
  },
  {
   "cell_type": "markdown",
   "id": "ee5e93b5-9771-4c25-b431-bb7edc254808",
   "metadata": {},
   "source": [
    "## 상관분석"
   ]
  },
  {
   "cell_type": "code",
   "execution_count": 13,
   "id": "6e54397c-cdcb-4410-9937-65cd39bd2652",
   "metadata": {},
   "outputs": [
    {
     "data": {
      "text/html": [
       "<div>\n",
       "<style scoped>\n",
       "    .dataframe tbody tr th:only-of-type {\n",
       "        vertical-align: middle;\n",
       "    }\n",
       "\n",
       "    .dataframe tbody tr th {\n",
       "        vertical-align: top;\n",
       "    }\n",
       "\n",
       "    .dataframe thead th {\n",
       "        text-align: right;\n",
       "    }\n",
       "</style>\n",
       "<table border=\"1\" class=\"dataframe\">\n",
       "  <thead>\n",
       "    <tr style=\"text-align: right;\">\n",
       "      <th></th>\n",
       "      <th>나이</th>\n",
       "      <th>산책시간(시간)</th>\n",
       "      <th>체중</th>\n",
       "      <th>성별_라벨링</th>\n",
       "      <th>중성화_라벨링</th>\n",
       "      <th>크기_라벨링</th>\n",
       "      <th>음수량</th>\n",
       "    </tr>\n",
       "  </thead>\n",
       "  <tbody>\n",
       "    <tr>\n",
       "      <th>나이</th>\n",
       "      <td>1.000000</td>\n",
       "      <td>-0.056727</td>\n",
       "      <td>0.283098</td>\n",
       "      <td>0.097001</td>\n",
       "      <td>0.366550</td>\n",
       "      <td>0.202140</td>\n",
       "      <td>0.283098</td>\n",
       "    </tr>\n",
       "    <tr>\n",
       "      <th>산책시간(시간)</th>\n",
       "      <td>-0.056727</td>\n",
       "      <td>1.000000</td>\n",
       "      <td>0.537268</td>\n",
       "      <td>0.047376</td>\n",
       "      <td>-0.064798</td>\n",
       "      <td>0.477659</td>\n",
       "      <td>0.537268</td>\n",
       "    </tr>\n",
       "    <tr>\n",
       "      <th>체중</th>\n",
       "      <td>0.283098</td>\n",
       "      <td>0.537268</td>\n",
       "      <td>1.000000</td>\n",
       "      <td>0.127471</td>\n",
       "      <td>0.012856</td>\n",
       "      <td>0.916428</td>\n",
       "      <td>1.000000</td>\n",
       "    </tr>\n",
       "    <tr>\n",
       "      <th>성별_라벨링</th>\n",
       "      <td>0.097001</td>\n",
       "      <td>0.047376</td>\n",
       "      <td>0.127471</td>\n",
       "      <td>1.000000</td>\n",
       "      <td>0.183315</td>\n",
       "      <td>0.110984</td>\n",
       "      <td>0.127471</td>\n",
       "    </tr>\n",
       "    <tr>\n",
       "      <th>중성화_라벨링</th>\n",
       "      <td>0.366550</td>\n",
       "      <td>-0.064798</td>\n",
       "      <td>0.012856</td>\n",
       "      <td>0.183315</td>\n",
       "      <td>1.000000</td>\n",
       "      <td>-0.034216</td>\n",
       "      <td>0.012856</td>\n",
       "    </tr>\n",
       "    <tr>\n",
       "      <th>크기_라벨링</th>\n",
       "      <td>0.202140</td>\n",
       "      <td>0.477659</td>\n",
       "      <td>0.916428</td>\n",
       "      <td>0.110984</td>\n",
       "      <td>-0.034216</td>\n",
       "      <td>1.000000</td>\n",
       "      <td>0.916428</td>\n",
       "    </tr>\n",
       "    <tr>\n",
       "      <th>음수량</th>\n",
       "      <td>0.283098</td>\n",
       "      <td>0.537268</td>\n",
       "      <td>1.000000</td>\n",
       "      <td>0.127471</td>\n",
       "      <td>0.012856</td>\n",
       "      <td>0.916428</td>\n",
       "      <td>1.000000</td>\n",
       "    </tr>\n",
       "  </tbody>\n",
       "</table>\n",
       "</div>"
      ],
      "text/plain": [
       "                나이  산책시간(시간)        체중    성별_라벨링   중성화_라벨링    크기_라벨링       음수량\n",
       "나이        1.000000 -0.056727  0.283098  0.097001  0.366550  0.202140  0.283098\n",
       "산책시간(시간) -0.056727  1.000000  0.537268  0.047376 -0.064798  0.477659  0.537268\n",
       "체중        0.283098  0.537268  1.000000  0.127471  0.012856  0.916428  1.000000\n",
       "성별_라벨링    0.097001  0.047376  0.127471  1.000000  0.183315  0.110984  0.127471\n",
       "중성화_라벨링   0.366550 -0.064798  0.012856  0.183315  1.000000 -0.034216  0.012856\n",
       "크기_라벨링    0.202140  0.477659  0.916428  0.110984 -0.034216  1.000000  0.916428\n",
       "음수량       0.283098  0.537268  1.000000  0.127471  0.012856  0.916428  1.000000"
      ]
     },
     "execution_count": 13,
     "metadata": {},
     "output_type": "execute_result"
    }
   ],
   "source": [
    "C1.corr()"
   ]
  },
  {
   "cell_type": "code",
   "execution_count": 14,
   "id": "b1dee094-c38f-44d7-94cc-158614e81602",
   "metadata": {},
   "outputs": [
    {
     "data": {
      "text/plain": [
       "<AxesSubplot:>"
      ]
     },
     "execution_count": 14,
     "metadata": {},
     "output_type": "execute_result"
    },
    {
     "data": {
      "image/png": "[encoded data removed]",
      "text/plain": [
       "<Figure size 1152x648 with 2 Axes>"
      ]
     },
     "metadata": {
      "needs_background": "light"
     },
     "output_type": "display_data"
    }
   ],
   "source": [
    "plt.figure(figsize = (16,9))\n",
    "\n",
    "sns.heatmap(data = C1.corr(),\n",
    "           cmap = 'Blues', \n",
    "           annot = True, fmt = '0.4f')"
   ]
  },
  {
   "cell_type": "code",
   "execution_count": 15,
   "id": "e688d300-7539-4da5-ad58-48387413dd94",
   "metadata": {},
   "outputs": [
    {
     "name": "stdout",
     "output_type": "stream",
     "text": [
      "나이과 크기의 상관관계:0.2021404585500324\n",
      "산책시간(시간)과 크기의 상관관계:0.47765942510271586\n",
      "체중과 크기의 상관관계:0.9164284511703006\n",
      "성별_라벨링과 크기의 상관관계:0.1109842052361599\n",
      "중성화_라벨링과 크기의 상관관계:-0.03421605948347803\n",
      "크기_라벨링과 크기의 상관관계:1.0\n",
      "음수량과 크기의 상관관계:0.9164284511703032\n"
     ]
    }
   ],
   "source": [
    "corr_bar = []\n",
    "\n",
    "for column in C1.columns:\n",
    "    print(f\"{column}과 크기의 상관관계:{C1[column].corr(C1['크기_라벨링'])}\")\n",
    "    corr_bar.append(C1[column].corr(C1['크기_라벨링']))"
   ]
  },
  {
   "cell_type": "code",
   "execution_count": 16,
   "id": "cda9392f-dd9e-4f87-86bf-f9f142b3de61",
   "metadata": {},
   "outputs": [
    {
     "data": {
      "image/png": "[encoded data removed]",
      "text/plain": [
       "<Figure size 1080x576 with 1 Axes>"
      ]
     },
     "metadata": {
      "needs_background": "light"
     },
     "output_type": "display_data"
    }
   ],
   "source": [
    "plt.figure(figsize = (15,8))\n",
    "sns.barplot(C1.columns, corr_bar)\n",
    "plt.show()"
   ]
  },
  {
   "cell_type": "markdown",
   "id": "f6a8e745-667b-4642-a415-7ece4cee00c6",
   "metadata": {
    "tags": []
   },
   "source": [
    "# ElbowPoint"
   ]
  },
  {
   "cell_type": "code",
   "execution_count": 17,
   "id": "71c243d1-cad6-41b3-9bdc-67f9fe68a505",
   "metadata": {},
   "outputs": [],
   "source": [
    "# 군집화 라이브러리 불러오기 .\n",
    "from sklearn.preprocessing import StandardScaler\n",
    "from sklearn.decomposition import PCA\n",
    "from sklearn.cluster import KMeans\n",
    "from sklearn.manifold import TSNE"
   ]
  },
  {
   "cell_type": "code",
   "execution_count": 18,
   "id": "da070faf-28c4-492a-8547-65f64139eae4",
   "metadata": {},
   "outputs": [],
   "source": [
    "data = C1"
   ]
  },
  {
   "cell_type": "code",
   "execution_count": 19,
   "id": "8a3a5f65-6980-40c5-8d35-e365446859d9",
   "metadata": {},
   "outputs": [],
   "source": [
    "x = [] #k가 몇개인지 -\n",
    "y = [] #응집도가 몇인지 \n",
    "\n",
    "# 범위가 1~30인 이유\n",
    "for k in range (1,30): \n",
    "    kmeans = KMeans(n_clusters = k) # 1~ 29개의 군집화 된 객체를 kmeans라고 함   \n",
    "    kmeans.fit(data)               # kmeans에다가 data2를 학습시킬것임 \n",
    "    \n",
    "    x.append(k)\n",
    "    y.append(kmeans.inertia_)\n",
    "\n",
    "    \n",
    "#k가 n개 일 때 응집도는 a라고 이해하면 된다 "
   ]
  },
  {
   "cell_type": "code",
   "execution_count": 20,
   "id": "401f21a8-d123-47d6-95c9-1ca33fdb3255",
   "metadata": {},
   "outputs": [
    {
     "data": {
      "image/png": "[encoded data removed]",
      "text/plain": [
       "<Figure size 1080x576 with 1 Axes>"
      ]
     },
     "metadata": {
      "needs_background": "light"
     },
     "output_type": "display_data"
    }
   ],
   "source": [
    "# 그래프 그리기\n",
    "plt.figure(figsize = (15,8))\n",
    "plt.plot(x, y)\n",
    "plt.show()"
   ]
  },
  {
   "cell_type": "markdown",
   "id": "65851e4c-4798-49b5-988a-68f08e5586a4",
   "metadata": {
    "tags": []
   },
   "source": [
    "# 군집화(k = 4) with pca"
   ]
  },
  {
   "cell_type": "raw",
   "id": "9922c41a-36f5-4800-aaa9-fefbf33c3559",
   "metadata": {},
   "source": [
    "군집화를 통해서 비슷한 성향을 가진 그룹을 찾아보자"
   ]
  },
  {
   "cell_type": "code",
   "execution_count": 21,
   "id": "5864989c-548c-486c-b952-15e62e926182",
   "metadata": {},
   "outputs": [],
   "source": [
    "#정규화 진행 및 객체 생성\n",
    "scaler = StandardScaler()"
   ]
  },
  {
   "cell_type": "code",
   "execution_count": 22,
   "id": "026b0db9-39c8-4adb-a385-ff0fe061d38e",
   "metadata": {},
   "outputs": [
    {
     "data": {
      "text/plain": [
       "StandardScaler()"
      ]
     },
     "execution_count": 22,
     "metadata": {},
     "output_type": "execute_result"
    }
   ],
   "source": [
    "#데이터 학습 \n",
    "scaler.fit(data)"
   ]
  },
  {
   "cell_type": "code",
   "execution_count": 23,
   "id": "be5a7358-e3e1-40bf-9cad-016c97780c44",
   "metadata": {},
   "outputs": [],
   "source": [
    "scaler_data = scaler.transform(data)"
   ]
  },
  {
   "cell_type": "code",
   "execution_count": 24,
   "id": "a1786e4f-4701-4ae6-b889-4653484791ba",
   "metadata": {},
   "outputs": [],
   "source": [
    "#객체생성 (2개의 객체 만들것임)\n",
    "pca = PCA(n_components = 2)"
   ]
  },
  {
   "cell_type": "code",
   "execution_count": 25,
   "id": "eaaf0530-39f1-43e9-9ec9-7d293c66f926",
   "metadata": {},
   "outputs": [
    {
     "data": {
      "text/plain": [
       "PCA(n_components=2)"
      ]
     },
     "execution_count": 25,
     "metadata": {},
     "output_type": "execute_result"
    }
   ],
   "source": [
    "pca.fit(scaler_data)"
   ]
  },
  {
   "cell_type": "code",
   "execution_count": 26,
   "id": "4be45015-8853-45de-b3bd-cd24b9caedcf",
   "metadata": {},
   "outputs": [
    {
     "data": {
      "text/plain": [
       "array([[ 4.39382677,  2.8909703 ],\n",
       "       [ 3.67475571,  1.49538505],\n",
       "       [ 6.15164396,  1.89144286],\n",
       "       ...,\n",
       "       [-1.54345116,  0.29271046],\n",
       "       [-0.47274751,  4.90169183],\n",
       "       [ 1.86602492, -0.23976452]])"
      ]
     },
     "execution_count": 26,
     "metadata": {},
     "output_type": "execute_result"
    }
   ],
   "source": [
    "pca.transform(scaler_data)"
   ]
  },
  {
   "cell_type": "code",
   "execution_count": 27,
   "id": "53951683-44f5-42e5-839b-c4b257f68598",
   "metadata": {},
   "outputs": [
    {
     "data": {
      "text/html": [
       "<div>\n",
       "<style scoped>\n",
       "    .dataframe tbody tr th:only-of-type {\n",
       "        vertical-align: middle;\n",
       "    }\n",
       "\n",
       "    .dataframe tbody tr th {\n",
       "        vertical-align: top;\n",
       "    }\n",
       "\n",
       "    .dataframe thead th {\n",
       "        text-align: right;\n",
       "    }\n",
       "</style>\n",
       "<table border=\"1\" class=\"dataframe\">\n",
       "  <thead>\n",
       "    <tr style=\"text-align: right;\">\n",
       "      <th></th>\n",
       "      <th>pc1</th>\n",
       "      <th>pc2</th>\n",
       "    </tr>\n",
       "  </thead>\n",
       "  <tbody>\n",
       "    <tr>\n",
       "      <th>0</th>\n",
       "      <td>4.393827</td>\n",
       "      <td>2.890970</td>\n",
       "    </tr>\n",
       "    <tr>\n",
       "      <th>1</th>\n",
       "      <td>3.674756</td>\n",
       "      <td>1.495385</td>\n",
       "    </tr>\n",
       "    <tr>\n",
       "      <th>2</th>\n",
       "      <td>6.151644</td>\n",
       "      <td>1.891443</td>\n",
       "    </tr>\n",
       "    <tr>\n",
       "      <th>3</th>\n",
       "      <td>4.008568</td>\n",
       "      <td>1.018277</td>\n",
       "    </tr>\n",
       "    <tr>\n",
       "      <th>4</th>\n",
       "      <td>4.994746</td>\n",
       "      <td>1.707910</td>\n",
       "    </tr>\n",
       "  </tbody>\n",
       "</table>\n",
       "</div>"
      ],
      "text/plain": [
       "        pc1       pc2\n",
       "0  4.393827  2.890970\n",
       "1  3.674756  1.495385\n",
       "2  6.151644  1.891443\n",
       "3  4.008568  1.018277\n",
       "4  4.994746  1.707910"
      ]
     },
     "execution_count": 27,
     "metadata": {},
     "output_type": "execute_result"
    }
   ],
   "source": [
    "#2개의 피쳐로 학습된 데이터를 데이터프레임 형태로 변환해주자 \n",
    "data = pd.DataFrame(data = pca.transform(scaler_data), columns = ['pc1', 'pc2'])\n",
    "data.head()"
   ]
  },
  {
   "cell_type": "code",
   "execution_count": 28,
   "id": "07008098-1fed-4689-97fa-23cae1d0cdc4",
   "metadata": {},
   "outputs": [],
   "source": [
    "# 4개로 군집화 된 객체를 생성 \n",
    "kmeans = KMeans(n_clusters = 4)"
   ]
  },
  {
   "cell_type": "code",
   "execution_count": 29,
   "id": "874c73de-67fa-47cb-820f-e86a8a645669",
   "metadata": {},
   "outputs": [
    {
     "data": {
      "text/plain": [
       "KMeans(n_clusters=4)"
      ]
     },
     "execution_count": 29,
     "metadata": {},
     "output_type": "execute_result"
    }
   ],
   "source": [
    "# 군집화 할 데이터 'data'를 학습시키기 \n",
    "kmeans.fit(data)"
   ]
  },
  {
   "cell_type": "code",
   "execution_count": 30,
   "id": "3148f9f4-cbe3-44eb-9591-ea37d0f6b2b9",
   "metadata": {},
   "outputs": [],
   "source": [
    "# 학습된 kmeans의 응집도 확인 (각 데이터로부터 자신이 속한 군집의 중심까지의 거리)\n",
    "# 응집도가 낮을수록 군집화가 더 잘되어있는 것이다"
   ]
  },
  {
   "cell_type": "code",
   "execution_count": 31,
   "id": "d6955b62-3b75-41e0-a40c-bff1551b3f45",
   "metadata": {},
   "outputs": [],
   "source": [
    "# 학습된 데이터를  labels 라는 컬럼에 넣어주자 \n",
    "data['labels'] = kmeans.predict(data)"
   ]
  },
  {
   "cell_type": "code",
   "execution_count": 32,
   "id": "bbdc1746-b641-47a3-ad9e-a661ae948ca7",
   "metadata": {},
   "outputs": [
    {
     "name": "stdout",
     "output_type": "stream",
     "text": [
      "[-1.03723615 -0.37676573]\n",
      "[ 1.72768786 -0.26126972]\n",
      "[-0.32131805  3.08085234]\n",
      "[ 4.68657849 -0.31110814]\n"
     ]
    }
   ],
   "source": [
    "#각 군집 별 중앙 값 \n",
    "print(kmeans.cluster_centers_[0])\n",
    "print(kmeans.cluster_centers_[1])\n",
    "print(kmeans.cluster_centers_[2])\n",
    "print(kmeans.cluster_centers_[3])"
   ]
  },
  {
   "cell_type": "code",
   "execution_count": 33,
   "id": "20bc2b43-2253-4079-962c-fe36cfc74f5e",
   "metadata": {},
   "outputs": [
    {
     "data": {
      "text/html": [
       "<div>\n",
       "<style scoped>\n",
       "    .dataframe tbody tr th:only-of-type {\n",
       "        vertical-align: middle;\n",
       "    }\n",
       "\n",
       "    .dataframe tbody tr th {\n",
       "        vertical-align: top;\n",
       "    }\n",
       "\n",
       "    .dataframe thead th {\n",
       "        text-align: right;\n",
       "    }\n",
       "</style>\n",
       "<table border=\"1\" class=\"dataframe\">\n",
       "  <thead>\n",
       "    <tr style=\"text-align: right;\">\n",
       "      <th></th>\n",
       "      <th>pc1</th>\n",
       "      <th>pc2</th>\n",
       "      <th>labels</th>\n",
       "    </tr>\n",
       "  </thead>\n",
       "  <tbody>\n",
       "    <tr>\n",
       "      <th>0</th>\n",
       "      <td>4.393827</td>\n",
       "      <td>2.890970</td>\n",
       "      <td>3</td>\n",
       "    </tr>\n",
       "    <tr>\n",
       "      <th>1</th>\n",
       "      <td>3.674756</td>\n",
       "      <td>1.495385</td>\n",
       "      <td>3</td>\n",
       "    </tr>\n",
       "    <tr>\n",
       "      <th>2</th>\n",
       "      <td>6.151644</td>\n",
       "      <td>1.891443</td>\n",
       "      <td>3</td>\n",
       "    </tr>\n",
       "    <tr>\n",
       "      <th>3</th>\n",
       "      <td>4.008568</td>\n",
       "      <td>1.018277</td>\n",
       "      <td>3</td>\n",
       "    </tr>\n",
       "    <tr>\n",
       "      <th>4</th>\n",
       "      <td>4.994746</td>\n",
       "      <td>1.707910</td>\n",
       "      <td>3</td>\n",
       "    </tr>\n",
       "  </tbody>\n",
       "</table>\n",
       "</div>"
      ],
      "text/plain": [
       "        pc1       pc2  labels\n",
       "0  4.393827  2.890970       3\n",
       "1  3.674756  1.495385       3\n",
       "2  6.151644  1.891443       3\n",
       "3  4.008568  1.018277       3\n",
       "4  4.994746  1.707910       3"
      ]
     },
     "execution_count": 33,
     "metadata": {},
     "output_type": "execute_result"
    }
   ],
   "source": [
    "data.head()"
   ]
  },
  {
   "cell_type": "code",
   "execution_count": 34,
   "id": "f3c5aff4-7135-492c-ae6e-812fa1d91a3e",
   "metadata": {},
   "outputs": [],
   "source": [
    "# 위의 값들을 시각화 할거고 그래서 pca를 만든것 "
   ]
  },
  {
   "cell_type": "code",
   "execution_count": 35,
   "id": "261a8bc2-3276-4525-af48-a6871bb165cb",
   "metadata": {},
   "outputs": [
    {
     "data": {
      "text/plain": [
       "<AxesSubplot:xlabel='pc1', ylabel='pc2'>"
      ]
     },
     "execution_count": 35,
     "metadata": {},
     "output_type": "execute_result"
    },
    {
     "data": {
      "image/png": "[encoded data removed]",
      "text/plain": [
       "<Figure size 720x576 with 1 Axes>"
      ]
     },
     "metadata": {
      "needs_background": "light"
     },
     "output_type": "display_data"
    }
   ],
   "source": [
    "plt.figure(figsize = (10,8))\n",
    "sns.scatterplot(x = 'pc1', y = 'pc2', hue = 'labels', data = data)"
   ]
  },
  {
   "cell_type": "code",
   "execution_count": 36,
   "id": "e768c109-4eba-4fda-969e-8ff59df4c60f",
   "metadata": {},
   "outputs": [
    {
     "data": {
      "text/plain": [
       "<AxesSubplot:xlabel='pc1', ylabel='pc2'>"
      ]
     },
     "execution_count": 36,
     "metadata": {},
     "output_type": "execute_result"
    },
    {
     "data": {
      "image/png": "[encoded data removed]",
      "text/plain": [
       "<Figure size 432x288 with 1 Axes>"
      ]
     },
     "metadata": {
      "needs_background": "light"
     },
     "output_type": "display_data"
    }
   ],
   "source": [
    "sns.scatterplot(x = 'pc1', y = 'pc2', hue = 'labels', data = data)"
   ]
  },
  {
   "cell_type": "markdown",
   "id": "d6b44b49-4153-4581-811a-37a0e195162d",
   "metadata": {
    "tags": []
   },
   "source": [
    "# 결과해석 & 시각화\n",
    "## (1) 앞에 빼놨던 컬럼 붙이기"
   ]
  },
  {
   "cell_type": "code",
   "execution_count": 37,
   "id": "b451a81f-43ad-4acf-912f-2da4ab878fff",
   "metadata": {},
   "outputs": [
    {
     "data": {
      "text/html": [
       "<div>\n",
       "<style scoped>\n",
       "    .dataframe tbody tr th:only-of-type {\n",
       "        vertical-align: middle;\n",
       "    }\n",
       "\n",
       "    .dataframe tbody tr th {\n",
       "        vertical-align: top;\n",
       "    }\n",
       "\n",
       "    .dataframe thead th {\n",
       "        text-align: right;\n",
       "    }\n",
       "</style>\n",
       "<table border=\"1\" class=\"dataframe\">\n",
       "  <thead>\n",
       "    <tr style=\"text-align: right;\">\n",
       "      <th></th>\n",
       "      <th>pc1</th>\n",
       "      <th>pc2</th>\n",
       "      <th>labels</th>\n",
       "    </tr>\n",
       "  </thead>\n",
       "  <tbody>\n",
       "    <tr>\n",
       "      <th>0</th>\n",
       "      <td>4.393827</td>\n",
       "      <td>2.890970</td>\n",
       "      <td>3</td>\n",
       "    </tr>\n",
       "    <tr>\n",
       "      <th>1</th>\n",
       "      <td>3.674756</td>\n",
       "      <td>1.495385</td>\n",
       "      <td>3</td>\n",
       "    </tr>\n",
       "    <tr>\n",
       "      <th>2</th>\n",
       "      <td>6.151644</td>\n",
       "      <td>1.891443</td>\n",
       "      <td>3</td>\n",
       "    </tr>\n",
       "    <tr>\n",
       "      <th>3</th>\n",
       "      <td>4.008568</td>\n",
       "      <td>1.018277</td>\n",
       "      <td>3</td>\n",
       "    </tr>\n",
       "    <tr>\n",
       "      <th>4</th>\n",
       "      <td>4.994746</td>\n",
       "      <td>1.707910</td>\n",
       "      <td>3</td>\n",
       "    </tr>\n",
       "    <tr>\n",
       "      <th>...</th>\n",
       "      <td>...</td>\n",
       "      <td>...</td>\n",
       "      <td>...</td>\n",
       "    </tr>\n",
       "    <tr>\n",
       "      <th>5669</th>\n",
       "      <td>-1.022791</td>\n",
       "      <td>0.040083</td>\n",
       "      <td>0</td>\n",
       "    </tr>\n",
       "    <tr>\n",
       "      <th>5670</th>\n",
       "      <td>-1.808212</td>\n",
       "      <td>0.303715</td>\n",
       "      <td>0</td>\n",
       "    </tr>\n",
       "    <tr>\n",
       "      <th>5671</th>\n",
       "      <td>-1.543451</td>\n",
       "      <td>0.292710</td>\n",
       "      <td>0</td>\n",
       "    </tr>\n",
       "    <tr>\n",
       "      <th>5672</th>\n",
       "      <td>-0.472748</td>\n",
       "      <td>4.901692</td>\n",
       "      <td>2</td>\n",
       "    </tr>\n",
       "    <tr>\n",
       "      <th>5673</th>\n",
       "      <td>1.866025</td>\n",
       "      <td>-0.239765</td>\n",
       "      <td>1</td>\n",
       "    </tr>\n",
       "  </tbody>\n",
       "</table>\n",
       "<p>5674 rows × 3 columns</p>\n",
       "</div>"
      ],
      "text/plain": [
       "           pc1       pc2  labels\n",
       "0     4.393827  2.890970       3\n",
       "1     3.674756  1.495385       3\n",
       "2     6.151644  1.891443       3\n",
       "3     4.008568  1.018277       3\n",
       "4     4.994746  1.707910       3\n",
       "...        ...       ...     ...\n",
       "5669 -1.022791  0.040083       0\n",
       "5670 -1.808212  0.303715       0\n",
       "5671 -1.543451  0.292710       0\n",
       "5672 -0.472748  4.901692       2\n",
       "5673  1.866025 -0.239765       1\n",
       "\n",
       "[5674 rows x 3 columns]"
      ]
     },
     "execution_count": 37,
     "metadata": {},
     "output_type": "execute_result"
    }
   ],
   "source": [
    "data"
   ]
  },
  {
   "cell_type": "code",
   "execution_count": 38,
   "id": "bdec45b5-c231-48ef-9015-6ed496223d0d",
   "metadata": {},
   "outputs": [
    {
     "data": {
      "text/html": [
       "<div>\n",
       "<style scoped>\n",
       "    .dataframe tbody tr th:only-of-type {\n",
       "        vertical-align: middle;\n",
       "    }\n",
       "\n",
       "    .dataframe tbody tr th {\n",
       "        vertical-align: top;\n",
       "    }\n",
       "\n",
       "    .dataframe thead th {\n",
       "        text-align: right;\n",
       "    }\n",
       "</style>\n",
       "<table border=\"1\" class=\"dataframe\">\n",
       "  <thead>\n",
       "    <tr style=\"text-align: right;\">\n",
       "      <th></th>\n",
       "      <th>품종</th>\n",
       "      <th>나이</th>\n",
       "      <th>산책시간(시간)</th>\n",
       "      <th>체중</th>\n",
       "      <th>성별</th>\n",
       "      <th>중성화여부</th>\n",
       "      <th>색상</th>\n",
       "      <th>음수량</th>\n",
       "      <th>성별_라벨링</th>\n",
       "      <th>중성화_라벨링</th>\n",
       "      <th>크기</th>\n",
       "      <th>크기_라벨링</th>\n",
       "    </tr>\n",
       "  </thead>\n",
       "  <tbody>\n",
       "    <tr>\n",
       "      <th>0</th>\n",
       "      <td>골든 리트리버</td>\n",
       "      <td>13</td>\n",
       "      <td>0.5</td>\n",
       "      <td>27.0</td>\n",
       "      <td>M</td>\n",
       "      <td>N</td>\n",
       "      <td>갈색</td>\n",
       "      <td>1755.0</td>\n",
       "      <td>1</td>\n",
       "      <td>0</td>\n",
       "      <td>대</td>\n",
       "      <td>2</td>\n",
       "    </tr>\n",
       "    <tr>\n",
       "      <th>1</th>\n",
       "      <td>골든 리트리버</td>\n",
       "      <td>10</td>\n",
       "      <td>0.5</td>\n",
       "      <td>25.0</td>\n",
       "      <td>F</td>\n",
       "      <td>N</td>\n",
       "      <td>갈색</td>\n",
       "      <td>1625.0</td>\n",
       "      <td>0</td>\n",
       "      <td>0</td>\n",
       "      <td>대</td>\n",
       "      <td>2</td>\n",
       "    </tr>\n",
       "    <tr>\n",
       "      <th>2</th>\n",
       "      <td>골든 리트리버</td>\n",
       "      <td>9</td>\n",
       "      <td>0.5</td>\n",
       "      <td>40.0</td>\n",
       "      <td>M</td>\n",
       "      <td>N</td>\n",
       "      <td>갈색</td>\n",
       "      <td>2600.0</td>\n",
       "      <td>1</td>\n",
       "      <td>0</td>\n",
       "      <td>대</td>\n",
       "      <td>2</td>\n",
       "    </tr>\n",
       "    <tr>\n",
       "      <th>3</th>\n",
       "      <td>골든 리트리버</td>\n",
       "      <td>8</td>\n",
       "      <td>0.5</td>\n",
       "      <td>28.0</td>\n",
       "      <td>F</td>\n",
       "      <td>N</td>\n",
       "      <td>갈색</td>\n",
       "      <td>1820.0</td>\n",
       "      <td>0</td>\n",
       "      <td>0</td>\n",
       "      <td>대</td>\n",
       "      <td>2</td>\n",
       "    </tr>\n",
       "    <tr>\n",
       "      <th>4</th>\n",
       "      <td>골든 리트리버</td>\n",
       "      <td>8</td>\n",
       "      <td>0.5</td>\n",
       "      <td>33.0</td>\n",
       "      <td>M</td>\n",
       "      <td>N</td>\n",
       "      <td>갈색</td>\n",
       "      <td>2145.0</td>\n",
       "      <td>1</td>\n",
       "      <td>0</td>\n",
       "      <td>대</td>\n",
       "      <td>2</td>\n",
       "    </tr>\n",
       "    <tr>\n",
       "      <th>...</th>\n",
       "      <td>...</td>\n",
       "      <td>...</td>\n",
       "      <td>...</td>\n",
       "      <td>...</td>\n",
       "      <td>...</td>\n",
       "      <td>...</td>\n",
       "      <td>...</td>\n",
       "      <td>...</td>\n",
       "      <td>...</td>\n",
       "      <td>...</td>\n",
       "      <td>...</td>\n",
       "      <td>...</td>\n",
       "    </tr>\n",
       "    <tr>\n",
       "      <th>5669</th>\n",
       "      <td>프렌치불독</td>\n",
       "      <td>1</td>\n",
       "      <td>0.8</td>\n",
       "      <td>4.0</td>\n",
       "      <td>M</td>\n",
       "      <td>N</td>\n",
       "      <td>흑</td>\n",
       "      <td>260.0</td>\n",
       "      <td>1</td>\n",
       "      <td>0</td>\n",
       "      <td>소</td>\n",
       "      <td>0</td>\n",
       "    </tr>\n",
       "    <tr>\n",
       "      <th>5670</th>\n",
       "      <td>프렌치불독</td>\n",
       "      <td>0</td>\n",
       "      <td>0.5</td>\n",
       "      <td>3.5</td>\n",
       "      <td>M</td>\n",
       "      <td>N</td>\n",
       "      <td>검정</td>\n",
       "      <td>227.5</td>\n",
       "      <td>1</td>\n",
       "      <td>0</td>\n",
       "      <td>소</td>\n",
       "      <td>0</td>\n",
       "    </tr>\n",
       "    <tr>\n",
       "      <th>5671</th>\n",
       "      <td>프렌치불독</td>\n",
       "      <td>0</td>\n",
       "      <td>0.5</td>\n",
       "      <td>5.2</td>\n",
       "      <td>M</td>\n",
       "      <td>N</td>\n",
       "      <td>백색, 갈색, 흑색</td>\n",
       "      <td>338.0</td>\n",
       "      <td>1</td>\n",
       "      <td>0</td>\n",
       "      <td>소</td>\n",
       "      <td>0</td>\n",
       "    </tr>\n",
       "    <tr>\n",
       "      <th>5672</th>\n",
       "      <td>화이트테리어</td>\n",
       "      <td>13</td>\n",
       "      <td>0.5</td>\n",
       "      <td>7.3</td>\n",
       "      <td>F</td>\n",
       "      <td>Y</td>\n",
       "      <td>흰</td>\n",
       "      <td>474.5</td>\n",
       "      <td>0</td>\n",
       "      <td>1</td>\n",
       "      <td>소</td>\n",
       "      <td>0</td>\n",
       "    </tr>\n",
       "    <tr>\n",
       "      <th>5673</th>\n",
       "      <td>휘펫</td>\n",
       "      <td>2</td>\n",
       "      <td>1.0</td>\n",
       "      <td>14.0</td>\n",
       "      <td>M</td>\n",
       "      <td>N</td>\n",
       "      <td>베이지</td>\n",
       "      <td>910.0</td>\n",
       "      <td>1</td>\n",
       "      <td>0</td>\n",
       "      <td>중</td>\n",
       "      <td>1</td>\n",
       "    </tr>\n",
       "  </tbody>\n",
       "</table>\n",
       "<p>5674 rows × 12 columns</p>\n",
       "</div>"
      ],
      "text/plain": [
       "           품종  나이  산책시간(시간)    체중 성별 중성화여부          색상     음수량  성별_라벨링  \\\n",
       "0     골든 리트리버  13       0.5  27.0  M     N          갈색  1755.0       1   \n",
       "1     골든 리트리버  10       0.5  25.0  F     N          갈색  1625.0       0   \n",
       "2     골든 리트리버   9       0.5  40.0  M     N          갈색  2600.0       1   \n",
       "3     골든 리트리버   8       0.5  28.0  F     N          갈색  1820.0       0   \n",
       "4     골든 리트리버   8       0.5  33.0  M     N          갈색  2145.0       1   \n",
       "...       ...  ..       ...   ... ..   ...         ...     ...     ...   \n",
       "5669    프렌치불독   1       0.8   4.0  M     N           흑   260.0       1   \n",
       "5670    프렌치불독   0       0.5   3.5  M     N          검정   227.5       1   \n",
       "5671    프렌치불독   0       0.5   5.2  M     N  백색, 갈색, 흑색   338.0       1   \n",
       "5672   화이트테리어  13       0.5   7.3  F     Y           흰   474.5       0   \n",
       "5673       휘펫   2       1.0  14.0  M     N         베이지   910.0       1   \n",
       "\n",
       "      중성화_라벨링 크기  크기_라벨링  \n",
       "0           0  대       2  \n",
       "1           0  대       2  \n",
       "2           0  대       2  \n",
       "3           0  대       2  \n",
       "4           0  대       2  \n",
       "...       ... ..     ...  \n",
       "5669        0  소       0  \n",
       "5670        0  소       0  \n",
       "5671        0  소       0  \n",
       "5672        1  소       0  \n",
       "5673        0  중       1  \n",
       "\n",
       "[5674 rows x 12 columns]"
      ]
     },
     "execution_count": 38,
     "metadata": {},
     "output_type": "execute_result"
    }
   ],
   "source": [
    "df"
   ]
  },
  {
   "cell_type": "code",
   "execution_count": 39,
   "id": "2300cfc2-6c65-482f-8378-823c0f7a15d2",
   "metadata": {},
   "outputs": [],
   "source": [
    "df['labels'] = data['labels']"
   ]
  },
  {
   "cell_type": "code",
   "execution_count": 40,
   "id": "9d171979-4826-48e9-83b9-132198326807",
   "metadata": {},
   "outputs": [
    {
     "data": {
      "text/html": [
       "<div>\n",
       "<style scoped>\n",
       "    .dataframe tbody tr th:only-of-type {\n",
       "        vertical-align: middle;\n",
       "    }\n",
       "\n",
       "    .dataframe tbody tr th {\n",
       "        vertical-align: top;\n",
       "    }\n",
       "\n",
       "    .dataframe thead th {\n",
       "        text-align: right;\n",
       "    }\n",
       "</style>\n",
       "<table border=\"1\" class=\"dataframe\">\n",
       "  <thead>\n",
       "    <tr style=\"text-align: right;\">\n",
       "      <th></th>\n",
       "      <th>품종</th>\n",
       "      <th>나이</th>\n",
       "      <th>산책시간(시간)</th>\n",
       "      <th>체중</th>\n",
       "      <th>성별</th>\n",
       "      <th>중성화여부</th>\n",
       "      <th>색상</th>\n",
       "      <th>음수량</th>\n",
       "      <th>성별_라벨링</th>\n",
       "      <th>중성화_라벨링</th>\n",
       "      <th>크기</th>\n",
       "      <th>크기_라벨링</th>\n",
       "      <th>labels</th>\n",
       "    </tr>\n",
       "  </thead>\n",
       "  <tbody>\n",
       "    <tr>\n",
       "      <th>0</th>\n",
       "      <td>골든 리트리버</td>\n",
       "      <td>13</td>\n",
       "      <td>0.5</td>\n",
       "      <td>27.0</td>\n",
       "      <td>M</td>\n",
       "      <td>N</td>\n",
       "      <td>갈색</td>\n",
       "      <td>1755.0</td>\n",
       "      <td>1</td>\n",
       "      <td>0</td>\n",
       "      <td>대</td>\n",
       "      <td>2</td>\n",
       "      <td>3</td>\n",
       "    </tr>\n",
       "    <tr>\n",
       "      <th>1</th>\n",
       "      <td>골든 리트리버</td>\n",
       "      <td>10</td>\n",
       "      <td>0.5</td>\n",
       "      <td>25.0</td>\n",
       "      <td>F</td>\n",
       "      <td>N</td>\n",
       "      <td>갈색</td>\n",
       "      <td>1625.0</td>\n",
       "      <td>0</td>\n",
       "      <td>0</td>\n",
       "      <td>대</td>\n",
       "      <td>2</td>\n",
       "      <td>3</td>\n",
       "    </tr>\n",
       "    <tr>\n",
       "      <th>2</th>\n",
       "      <td>골든 리트리버</td>\n",
       "      <td>9</td>\n",
       "      <td>0.5</td>\n",
       "      <td>40.0</td>\n",
       "      <td>M</td>\n",
       "      <td>N</td>\n",
       "      <td>갈색</td>\n",
       "      <td>2600.0</td>\n",
       "      <td>1</td>\n",
       "      <td>0</td>\n",
       "      <td>대</td>\n",
       "      <td>2</td>\n",
       "      <td>3</td>\n",
       "    </tr>\n",
       "    <tr>\n",
       "      <th>3</th>\n",
       "      <td>골든 리트리버</td>\n",
       "      <td>8</td>\n",
       "      <td>0.5</td>\n",
       "      <td>28.0</td>\n",
       "      <td>F</td>\n",
       "      <td>N</td>\n",
       "      <td>갈색</td>\n",
       "      <td>1820.0</td>\n",
       "      <td>0</td>\n",
       "      <td>0</td>\n",
       "      <td>대</td>\n",
       "      <td>2</td>\n",
       "      <td>3</td>\n",
       "    </tr>\n",
       "    <tr>\n",
       "      <th>4</th>\n",
       "      <td>골든 리트리버</td>\n",
       "      <td>8</td>\n",
       "      <td>0.5</td>\n",
       "      <td>33.0</td>\n",
       "      <td>M</td>\n",
       "      <td>N</td>\n",
       "      <td>갈색</td>\n",
       "      <td>2145.0</td>\n",
       "      <td>1</td>\n",
       "      <td>0</td>\n",
       "      <td>대</td>\n",
       "      <td>2</td>\n",
       "      <td>3</td>\n",
       "    </tr>\n",
       "  </tbody>\n",
       "</table>\n",
       "</div>"
      ],
      "text/plain": [
       "        품종  나이  산책시간(시간)    체중 성별 중성화여부  색상     음수량  성별_라벨링  중성화_라벨링 크기  \\\n",
       "0  골든 리트리버  13       0.5  27.0  M     N  갈색  1755.0       1        0  대   \n",
       "1  골든 리트리버  10       0.5  25.0  F     N  갈색  1625.0       0        0  대   \n",
       "2  골든 리트리버   9       0.5  40.0  M     N  갈색  2600.0       1        0  대   \n",
       "3  골든 리트리버   8       0.5  28.0  F     N  갈색  1820.0       0        0  대   \n",
       "4  골든 리트리버   8       0.5  33.0  M     N  갈색  2145.0       1        0  대   \n",
       "\n",
       "   크기_라벨링  labels  \n",
       "0       2       3  \n",
       "1       2       3  \n",
       "2       2       3  \n",
       "3       2       3  \n",
       "4       2       3  "
      ]
     },
     "execution_count": 40,
     "metadata": {},
     "output_type": "execute_result"
    }
   ],
   "source": [
    "df.head()"
   ]
  },
  {
   "cell_type": "markdown",
   "id": "ce3ffacc-ac32-4e4e-b184-a8ee83c394d0",
   "metadata": {},
   "source": [
    "## (2) 그룹별 갯수 시각화"
   ]
  },
  {
   "cell_type": "code",
   "execution_count": 41,
   "id": "99a18de9-4297-4bbf-b716-d995cd82511d",
   "metadata": {},
   "outputs": [
    {
     "data": {
      "text/plain": [
       "0    62.8\n",
       "1    19.7\n",
       "2    10.1\n",
       "3     7.3\n",
       "Name: labels, dtype: float64"
      ]
     },
     "execution_count": 41,
     "metadata": {},
     "output_type": "execute_result"
    }
   ],
   "source": [
    "(df['labels'].value_counts(normalize = True)*100).round(1)"
   ]
  },
  {
   "cell_type": "code",
   "execution_count": 42,
   "id": "2cc3dc76-b3f1-4371-a15d-881a8b172614",
   "metadata": {},
   "outputs": [
    {
     "data": {
      "text/plain": [
       "<AxesSubplot:>"
      ]
     },
     "execution_count": 42,
     "metadata": {},
     "output_type": "execute_result"
    },
    {
     "data": {
      "image/png": "[encoded data removed]",
      "text/plain": [
       "<Figure size 432x288 with 1 Axes>"
      ]
     },
     "metadata": {
      "needs_background": "light"
     },
     "output_type": "display_data"
    }
   ],
   "source": [
    "(df['labels'].value_counts(normalize = True)*100).round(1).plot.bar()"
   ]
  },
  {
   "cell_type": "markdown",
   "id": "09619209-9e2f-490c-bc25-6773d6737db3",
   "metadata": {},
   "source": [
    "## (3) 그룹별 평균 크기 비교"
   ]
  },
  {
   "cell_type": "code",
   "execution_count": 43,
   "id": "3bd3c7b1-46a5-428f-b741-29dd11901021",
   "metadata": {},
   "outputs": [],
   "source": [
    "# 시각화를 위해서 각 그룹별 size을 따로 변수로 생성\n",
    "size0 = df[df['labels'] == 0]['크기_라벨링'].mean()\n",
    "size1 = df[df['labels'] == 1]['크기_라벨링'].mean()\n",
    "size2 = df[df['labels'] == 2]['크기_라벨링'].mean()\n",
    "size3 = df[df['labels'] == 3]['크기_라벨링'].mean()"
   ]
  },
  {
   "cell_type": "code",
   "execution_count": 44,
   "id": "f97ae894-15d1-45df-bcd1-ab018e8b0f6c",
   "metadata": {},
   "outputs": [
    {
     "data": {
      "image/png": "[encoded data removed]",
      "text/plain": [
       "<Figure size 1080x576 with 1 Axes>"
      ]
     },
     "metadata": {
      "needs_background": "light"
     },
     "output_type": "display_data"
    }
   ],
   "source": [
    "# 주의 모든 과정을 똑같이 하였어도 kmeans의 기본 중심값 설정은 랜덤임\n",
    "plt.figure(figsize = (15,8))\n",
    "sns.barplot(x = ['group_0', 'group_1', 'group_2', 'group_3'], y = [size0, size1, size2, size3] )\n",
    "plt.show()"
   ]
  },
  {
   "cell_type": "markdown",
   "id": "c43b59f6-cff4-4a1e-a546-85b88e2dc8ae",
   "metadata": {},
   "source": [
    "## (4) 그룹별 평균 나이 비교"
   ]
  },
  {
   "cell_type": "code",
   "execution_count": 45,
   "id": "74e18ee6-4566-4d11-b42f-a3628272a8de",
   "metadata": {},
   "outputs": [
    {
     "data": {
      "image/png": "[encoded data removed]",
      "text/plain": [
       "<Figure size 1080x576 with 1 Axes>"
      ]
     },
     "metadata": {
      "needs_background": "light"
     },
     "output_type": "display_data"
    }
   ],
   "source": [
    "# 시각화를 위해서 각 그룹별 size을 따로 변수로 생성\n",
    "age0 = df[df['labels'] == 0]['나이'].mean()\n",
    "age1 = df[df['labels'] == 1]['나이'].mean()\n",
    "age2 = df[df['labels'] == 2]['나이'].mean()\n",
    "age3 = df[df['labels'] == 3]['나이'].mean()\n",
    "# 주의 모든 과정을 똑같이 하였어도 kmeans의 기본 중심값 설정은 랜덤임\n",
    "plt.figure(figsize = (15,8))\n",
    "sns.barplot(x = ['group_0', 'group_1', 'group_2','group3'], y = [age0, age1, age2,age3] )\n",
    "plt.show()"
   ]
  },
  {
   "cell_type": "markdown",
   "id": "d588b2f6-e7f5-4e35-9167-6a5be5f336c3",
   "metadata": {},
   "source": [
    "## (5) 그룹별 평균 체중비교"
   ]
  },
  {
   "cell_type": "code",
   "execution_count": 46,
   "id": "19474e0b-ad56-4771-931b-c65817b4fe1d",
   "metadata": {},
   "outputs": [
    {
     "data": {
      "image/png": "[encoded data removed]",
      "text/plain": [
       "<Figure size 1080x576 with 1 Axes>"
      ]
     },
     "metadata": {
      "needs_background": "light"
     },
     "output_type": "display_data"
    }
   ],
   "source": [
    "# 시각화를 위해서 각 그룹별 size을 따로 변수로 생성\n",
    "wgt0 = df[df['labels'] == 0]['체중'].mean()\n",
    "wgt1 = df[df['labels'] == 1]['체중'].mean()\n",
    "wgt2 = df[df['labels'] == 2]['체중'].mean()\n",
    "wgt3 = df[df['labels'] == 3]['체중'].mean()\n",
    "# 주의 모든 과정을 똑같이 하였어도 kmeans의 기본 중심값 설정은 랜덤임\n",
    "plt.figure(figsize = (15,8))\n",
    "sns.barplot(x = ['group_0', 'group_1', 'group_2','group_3'], y = [wgt0, wgt1, wgt2, wgt3] )\n",
    "plt.show()"
   ]
  },
  {
   "cell_type": "markdown",
   "id": "1d7d1af2-6b09-442b-baf5-ee000ca3d46b",
   "metadata": {},
   "source": [
    "## (6) 그룹별 평균 권장 산책시간 비교"
   ]
  },
  {
   "cell_type": "code",
   "execution_count": 47,
   "id": "cbe9f29c-31e0-466d-8e1d-5ff0596e58aa",
   "metadata": {},
   "outputs": [
    {
     "data": {
      "image/png": "[encoded data removed]",
      "text/plain": [
       "<Figure size 1080x576 with 1 Axes>"
      ]
     },
     "metadata": {
      "needs_background": "light"
     },
     "output_type": "display_data"
    }
   ],
   "source": [
    "# 시각화를 위해서 각 그룹별 size을 따로 변수로 생성\n",
    "recom0 = df[df['labels'] == 0]['산책시간(시간)'].mean()\n",
    "recom1 = df[df['labels'] == 1]['산책시간(시간)'].mean()\n",
    "recom2 = df[df['labels'] == 2]['산책시간(시간)'].mean()\n",
    "recom3 = df[df['labels'] == 3]['산책시간(시간)'].mean()\n",
    "# 주의 모든 과정을 똑같이 하였어도 kmeans의 기본 중심값 설정은 랜덤임\n",
    "plt.figure(figsize = (15,8))\n",
    "sns.barplot(x = ['group_0', 'group_1', 'group_2','group_3'], y = [recom0, recom1, recom2,recom3] )\n",
    "plt.show()"
   ]
  },
  {
   "cell_type": "markdown",
   "id": "b3127021-bcd9-4692-9844-467a7c900ef4",
   "metadata": {},
   "source": [
    "## (7)그룹별 특징\n",
    "- 나이를 기준으로 비교"
   ]
  },
  {
   "cell_type": "code",
   "execution_count": 48,
   "id": "03379f4e-78ba-449e-8fb7-1ea1b0214993",
   "metadata": {},
   "outputs": [
    {
     "data": {
      "text/html": [
       "<div>\n",
       "<style scoped>\n",
       "    .dataframe tbody tr th:only-of-type {\n",
       "        vertical-align: middle;\n",
       "    }\n",
       "\n",
       "    .dataframe tbody tr th {\n",
       "        vertical-align: top;\n",
       "    }\n",
       "\n",
       "    .dataframe thead th {\n",
       "        text-align: right;\n",
       "    }\n",
       "</style>\n",
       "<table border=\"1\" class=\"dataframe\">\n",
       "  <thead>\n",
       "    <tr style=\"text-align: right;\">\n",
       "      <th></th>\n",
       "      <th>품종</th>\n",
       "      <th>나이</th>\n",
       "      <th>산책시간(시간)</th>\n",
       "      <th>체중</th>\n",
       "      <th>성별</th>\n",
       "      <th>중성화여부</th>\n",
       "      <th>색상</th>\n",
       "      <th>음수량</th>\n",
       "      <th>성별_라벨링</th>\n",
       "      <th>중성화_라벨링</th>\n",
       "      <th>크기</th>\n",
       "      <th>크기_라벨링</th>\n",
       "      <th>labels</th>\n",
       "    </tr>\n",
       "  </thead>\n",
       "  <tbody>\n",
       "    <tr>\n",
       "      <th>0</th>\n",
       "      <td>골든 리트리버</td>\n",
       "      <td>13</td>\n",
       "      <td>0.5</td>\n",
       "      <td>27.0</td>\n",
       "      <td>M</td>\n",
       "      <td>N</td>\n",
       "      <td>갈색</td>\n",
       "      <td>1755.0</td>\n",
       "      <td>1</td>\n",
       "      <td>0</td>\n",
       "      <td>대</td>\n",
       "      <td>2</td>\n",
       "      <td>3</td>\n",
       "    </tr>\n",
       "    <tr>\n",
       "      <th>1</th>\n",
       "      <td>골든 리트리버</td>\n",
       "      <td>10</td>\n",
       "      <td>0.5</td>\n",
       "      <td>25.0</td>\n",
       "      <td>F</td>\n",
       "      <td>N</td>\n",
       "      <td>갈색</td>\n",
       "      <td>1625.0</td>\n",
       "      <td>0</td>\n",
       "      <td>0</td>\n",
       "      <td>대</td>\n",
       "      <td>2</td>\n",
       "      <td>3</td>\n",
       "    </tr>\n",
       "    <tr>\n",
       "      <th>2</th>\n",
       "      <td>골든 리트리버</td>\n",
       "      <td>9</td>\n",
       "      <td>0.5</td>\n",
       "      <td>40.0</td>\n",
       "      <td>M</td>\n",
       "      <td>N</td>\n",
       "      <td>갈색</td>\n",
       "      <td>2600.0</td>\n",
       "      <td>1</td>\n",
       "      <td>0</td>\n",
       "      <td>대</td>\n",
       "      <td>2</td>\n",
       "      <td>3</td>\n",
       "    </tr>\n",
       "    <tr>\n",
       "      <th>3</th>\n",
       "      <td>골든 리트리버</td>\n",
       "      <td>8</td>\n",
       "      <td>0.5</td>\n",
       "      <td>28.0</td>\n",
       "      <td>F</td>\n",
       "      <td>N</td>\n",
       "      <td>갈색</td>\n",
       "      <td>1820.0</td>\n",
       "      <td>0</td>\n",
       "      <td>0</td>\n",
       "      <td>대</td>\n",
       "      <td>2</td>\n",
       "      <td>3</td>\n",
       "    </tr>\n",
       "    <tr>\n",
       "      <th>4</th>\n",
       "      <td>골든 리트리버</td>\n",
       "      <td>8</td>\n",
       "      <td>0.5</td>\n",
       "      <td>33.0</td>\n",
       "      <td>M</td>\n",
       "      <td>N</td>\n",
       "      <td>갈색</td>\n",
       "      <td>2145.0</td>\n",
       "      <td>1</td>\n",
       "      <td>0</td>\n",
       "      <td>대</td>\n",
       "      <td>2</td>\n",
       "      <td>3</td>\n",
       "    </tr>\n",
       "  </tbody>\n",
       "</table>\n",
       "</div>"
      ],
      "text/plain": [
       "        품종  나이  산책시간(시간)    체중 성별 중성화여부  색상     음수량  성별_라벨링  중성화_라벨링 크기  \\\n",
       "0  골든 리트리버  13       0.5  27.0  M     N  갈색  1755.0       1        0  대   \n",
       "1  골든 리트리버  10       0.5  25.0  F     N  갈색  1625.0       0        0  대   \n",
       "2  골든 리트리버   9       0.5  40.0  M     N  갈색  2600.0       1        0  대   \n",
       "3  골든 리트리버   8       0.5  28.0  F     N  갈색  1820.0       0        0  대   \n",
       "4  골든 리트리버   8       0.5  33.0  M     N  갈색  2145.0       1        0  대   \n",
       "\n",
       "   크기_라벨링  labels  \n",
       "0       2       3  \n",
       "1       2       3  \n",
       "2       2       3  \n",
       "3       2       3  \n",
       "4       2       3  "
      ]
     },
     "execution_count": 48,
     "metadata": {},
     "output_type": "execute_result"
    }
   ],
   "source": [
    "df.head()"
   ]
  },
  {
   "cell_type": "code",
   "execution_count": 49,
   "id": "12edcdaf-154c-4625-85d4-924c25e47fa4",
   "metadata": {},
   "outputs": [],
   "source": [
    "group = df[(df['labels']==0) | (df['labels']==1) | (df['labels']==2) | (df['labels']==3)]"
   ]
  },
  {
   "cell_type": "code",
   "execution_count": 50,
   "id": "c9b26061-297b-495b-b014-0e66d64b99f8",
   "metadata": {},
   "outputs": [
    {
     "data": {
      "text/plain": [
       "0    3565\n",
       "1    1120\n",
       "2     573\n",
       "3     416\n",
       "Name: labels, dtype: int64"
      ]
     },
     "execution_count": 50,
     "metadata": {},
     "output_type": "execute_result"
    }
   ],
   "source": [
    "group['labels'].value_counts()"
   ]
  },
  {
   "cell_type": "code",
   "execution_count": 51,
   "id": "6b92f59a-f1e6-43e8-a7ac-143965205429",
   "metadata": {},
   "outputs": [
    {
     "data": {
      "text/html": [
       "<div>\n",
       "<style scoped>\n",
       "    .dataframe tbody tr th:only-of-type {\n",
       "        vertical-align: middle;\n",
       "    }\n",
       "\n",
       "    .dataframe tbody tr th {\n",
       "        vertical-align: top;\n",
       "    }\n",
       "\n",
       "    .dataframe thead th {\n",
       "        text-align: right;\n",
       "    }\n",
       "</style>\n",
       "<table border=\"1\" class=\"dataframe\">\n",
       "  <thead>\n",
       "    <tr style=\"text-align: right;\">\n",
       "      <th></th>\n",
       "      <th>labels</th>\n",
       "      <th>나이</th>\n",
       "      <th>산책시간(시간)</th>\n",
       "      <th>체중</th>\n",
       "      <th>음수량</th>\n",
       "      <th>성별_라벨링</th>\n",
       "      <th>중성화_라벨링</th>\n",
       "      <th>크기_라벨링</th>\n",
       "    </tr>\n",
       "  </thead>\n",
       "  <tbody>\n",
       "    <tr>\n",
       "      <th>0</th>\n",
       "      <td>0</td>\n",
       "      <td>0.912482</td>\n",
       "      <td>0.859439</td>\n",
       "      <td>3.686895</td>\n",
       "      <td>239.648163</td>\n",
       "      <td>0.579523</td>\n",
       "      <td>0.000561</td>\n",
       "      <td>0.000000</td>\n",
       "    </tr>\n",
       "    <tr>\n",
       "      <th>1</th>\n",
       "      <td>1</td>\n",
       "      <td>2.470536</td>\n",
       "      <td>0.985804</td>\n",
       "      <td>13.713179</td>\n",
       "      <td>891.356607</td>\n",
       "      <td>0.704464</td>\n",
       "      <td>0.023214</td>\n",
       "      <td>0.956250</td>\n",
       "    </tr>\n",
       "    <tr>\n",
       "      <th>2</th>\n",
       "      <td>2</td>\n",
       "      <td>6.452007</td>\n",
       "      <td>0.753403</td>\n",
       "      <td>5.897208</td>\n",
       "      <td>383.318499</td>\n",
       "      <td>0.877836</td>\n",
       "      <td>0.773124</td>\n",
       "      <td>0.122164</td>\n",
       "    </tr>\n",
       "    <tr>\n",
       "      <th>3</th>\n",
       "      <td>3</td>\n",
       "      <td>3.319712</td>\n",
       "      <td>1.116346</td>\n",
       "      <td>24.906250</td>\n",
       "      <td>1618.906250</td>\n",
       "      <td>0.790865</td>\n",
       "      <td>0.064904</td>\n",
       "      <td>1.983173</td>\n",
       "    </tr>\n",
       "  </tbody>\n",
       "</table>\n",
       "</div>"
      ],
      "text/plain": [
       "   labels        나이  산책시간(시간)         체중          음수량    성별_라벨링   중성화_라벨링  \\\n",
       "0       0  0.912482  0.859439   3.686895   239.648163  0.579523  0.000561   \n",
       "1       1  2.470536  0.985804  13.713179   891.356607  0.704464  0.023214   \n",
       "2       2  6.452007  0.753403   5.897208   383.318499  0.877836  0.773124   \n",
       "3       3  3.319712  1.116346  24.906250  1618.906250  0.790865  0.064904   \n",
       "\n",
       "     크기_라벨링  \n",
       "0  0.000000  \n",
       "1  0.956250  \n",
       "2  0.122164  \n",
       "3  1.983173  "
      ]
     },
     "execution_count": 51,
     "metadata": {},
     "output_type": "execute_result"
    }
   ],
   "source": [
    "group = group.groupby('labels').mean().reset_index()\n",
    "group"
   ]
  },
  {
   "cell_type": "code",
   "execution_count": 52,
   "id": "87854ba4-f803-430a-8fdb-93dfd766a29f",
   "metadata": {},
   "outputs": [
    {
     "data": {
      "text/plain": [
       "Index(['labels', '나이', '산책시간(시간)', '체중', '음수량', '성별_라벨링', '중성화_라벨링', '크기_라벨링'], dtype='object')"
      ]
     },
     "execution_count": 52,
     "metadata": {},
     "output_type": "execute_result"
    }
   ],
   "source": [
    "column = group.columns\n",
    "column"
   ]
  },
  {
   "cell_type": "code",
   "execution_count": 53,
   "id": "bb256e6c-33aa-483e-b692-e25621f5ada8",
   "metadata": {},
   "outputs": [
    {
     "data": {
      "image/png": "[encoded data removed]",
      "text/plain": [
       "<Figure size 1440x936 with 9 Axes>"
      ]
     },
     "metadata": {
      "needs_background": "light"
     },
     "output_type": "display_data"
    }
   ],
   "source": [
    "# 반복문으로 그림그리기\n",
    "f, ax = plt.subplots(3,3,figsize=(20,13))\n",
    "\n",
    "for i in range(1,8):\n",
    "        sns.barplot(x='labels', y=column[i], data=group, ax = ax[i//3, i%3])\n",
    "\n",
    "# sns.barplot(x='labels', y='크기', data = group, ax = ax[0,0])\n",
    "# sns.barplot(x='labels', y='나이', data = group, ax = ax[0,1])\n",
    "# sns.barplot(x='labels', y='체중', data = group, ax = ax[1,0])\n",
    "\n",
    "plt.show()"
   ]
  },
  {
   "cell_type": "code",
   "execution_count": 54,
   "id": "6913544c-1f5a-4aa2-b54f-5c0fe9973bec",
   "metadata": {},
   "outputs": [
    {
     "data": {
      "text/html": [
       "<div>\n",
       "<style scoped>\n",
       "    .dataframe tbody tr th:only-of-type {\n",
       "        vertical-align: middle;\n",
       "    }\n",
       "\n",
       "    .dataframe tbody tr th {\n",
       "        vertical-align: top;\n",
       "    }\n",
       "\n",
       "    .dataframe thead th {\n",
       "        text-align: right;\n",
       "    }\n",
       "</style>\n",
       "<table border=\"1\" class=\"dataframe\">\n",
       "  <thead>\n",
       "    <tr style=\"text-align: right;\">\n",
       "      <th></th>\n",
       "      <th>나이</th>\n",
       "      <th>산책시간(시간)</th>\n",
       "      <th>체중</th>\n",
       "      <th>음수량</th>\n",
       "      <th>성별_라벨링</th>\n",
       "      <th>중성화_라벨링</th>\n",
       "      <th>크기_라벨링</th>\n",
       "      <th>labels</th>\n",
       "    </tr>\n",
       "  </thead>\n",
       "  <tbody>\n",
       "    <tr>\n",
       "      <th>count</th>\n",
       "      <td>3565.000000</td>\n",
       "      <td>3565.000000</td>\n",
       "      <td>3565.000000</td>\n",
       "      <td>3565.000000</td>\n",
       "      <td>3565.000000</td>\n",
       "      <td>3565.000000</td>\n",
       "      <td>3565.0</td>\n",
       "      <td>3565.0</td>\n",
       "    </tr>\n",
       "    <tr>\n",
       "      <th>mean</th>\n",
       "      <td>0.912482</td>\n",
       "      <td>0.859439</td>\n",
       "      <td>3.686895</td>\n",
       "      <td>239.648163</td>\n",
       "      <td>0.579523</td>\n",
       "      <td>0.000561</td>\n",
       "      <td>0.0</td>\n",
       "      <td>0.0</td>\n",
       "    </tr>\n",
       "    <tr>\n",
       "      <th>std</th>\n",
       "      <td>1.592341</td>\n",
       "      <td>0.102897</td>\n",
       "      <td>2.240599</td>\n",
       "      <td>145.638919</td>\n",
       "      <td>0.493705</td>\n",
       "      <td>0.023682</td>\n",
       "      <td>0.0</td>\n",
       "      <td>0.0</td>\n",
       "    </tr>\n",
       "    <tr>\n",
       "      <th>min</th>\n",
       "      <td>0.000000</td>\n",
       "      <td>0.500000</td>\n",
       "      <td>0.040000</td>\n",
       "      <td>2.600000</td>\n",
       "      <td>0.000000</td>\n",
       "      <td>0.000000</td>\n",
       "      <td>0.0</td>\n",
       "      <td>0.0</td>\n",
       "    </tr>\n",
       "    <tr>\n",
       "      <th>25%</th>\n",
       "      <td>0.000000</td>\n",
       "      <td>0.800000</td>\n",
       "      <td>2.000000</td>\n",
       "      <td>130.000000</td>\n",
       "      <td>0.000000</td>\n",
       "      <td>0.000000</td>\n",
       "      <td>0.0</td>\n",
       "      <td>0.0</td>\n",
       "    </tr>\n",
       "    <tr>\n",
       "      <th>50%</th>\n",
       "      <td>0.000000</td>\n",
       "      <td>0.800000</td>\n",
       "      <td>3.000000</td>\n",
       "      <td>195.000000</td>\n",
       "      <td>1.000000</td>\n",
       "      <td>0.000000</td>\n",
       "      <td>0.0</td>\n",
       "      <td>0.0</td>\n",
       "    </tr>\n",
       "    <tr>\n",
       "      <th>75%</th>\n",
       "      <td>1.000000</td>\n",
       "      <td>1.000000</td>\n",
       "      <td>5.000000</td>\n",
       "      <td>325.000000</td>\n",
       "      <td>1.000000</td>\n",
       "      <td>0.000000</td>\n",
       "      <td>0.0</td>\n",
       "      <td>0.0</td>\n",
       "    </tr>\n",
       "    <tr>\n",
       "      <th>max</th>\n",
       "      <td>8.000000</td>\n",
       "      <td>1.000000</td>\n",
       "      <td>9.800000</td>\n",
       "      <td>637.000000</td>\n",
       "      <td>1.000000</td>\n",
       "      <td>1.000000</td>\n",
       "      <td>0.0</td>\n",
       "      <td>0.0</td>\n",
       "    </tr>\n",
       "  </tbody>\n",
       "</table>\n",
       "</div>"
      ],
      "text/plain": [
       "                나이     산책시간(시간)           체중          음수량       성별_라벨링  \\\n",
       "count  3565.000000  3565.000000  3565.000000  3565.000000  3565.000000   \n",
       "mean      0.912482     0.859439     3.686895   239.648163     0.579523   \n",
       "std       1.592341     0.102897     2.240599   145.638919     0.493705   \n",
       "min       0.000000     0.500000     0.040000     2.600000     0.000000   \n",
       "25%       0.000000     0.800000     2.000000   130.000000     0.000000   \n",
       "50%       0.000000     0.800000     3.000000   195.000000     1.000000   \n",
       "75%       1.000000     1.000000     5.000000   325.000000     1.000000   \n",
       "max       8.000000     1.000000     9.800000   637.000000     1.000000   \n",
       "\n",
       "           중성화_라벨링  크기_라벨링  labels  \n",
       "count  3565.000000  3565.0  3565.0  \n",
       "mean      0.000561     0.0     0.0  \n",
       "std       0.023682     0.0     0.0  \n",
       "min       0.000000     0.0     0.0  \n",
       "25%       0.000000     0.0     0.0  \n",
       "50%       0.000000     0.0     0.0  \n",
       "75%       0.000000     0.0     0.0  \n",
       "max       1.000000     0.0     0.0  "
      ]
     },
     "execution_count": 54,
     "metadata": {},
     "output_type": "execute_result"
    }
   ],
   "source": [
    "df[df['labels']==0].describe()"
   ]
  },
  {
   "cell_type": "code",
   "execution_count": 55,
   "id": "1513c9c8-e628-4dcd-ab4b-19bf8cd51f11",
   "metadata": {},
   "outputs": [
    {
     "data": {
      "text/html": [
       "<div>\n",
       "<style scoped>\n",
       "    .dataframe tbody tr th:only-of-type {\n",
       "        vertical-align: middle;\n",
       "    }\n",
       "\n",
       "    .dataframe tbody tr th {\n",
       "        vertical-align: top;\n",
       "    }\n",
       "\n",
       "    .dataframe thead th {\n",
       "        text-align: right;\n",
       "    }\n",
       "</style>\n",
       "<table border=\"1\" class=\"dataframe\">\n",
       "  <thead>\n",
       "    <tr style=\"text-align: right;\">\n",
       "      <th></th>\n",
       "      <th>나이</th>\n",
       "      <th>산책시간(시간)</th>\n",
       "      <th>체중</th>\n",
       "      <th>음수량</th>\n",
       "      <th>성별_라벨링</th>\n",
       "      <th>중성화_라벨링</th>\n",
       "      <th>크기_라벨링</th>\n",
       "      <th>labels</th>\n",
       "    </tr>\n",
       "  </thead>\n",
       "  <tbody>\n",
       "    <tr>\n",
       "      <th>count</th>\n",
       "      <td>1120.000000</td>\n",
       "      <td>1120.000000</td>\n",
       "      <td>1120.000000</td>\n",
       "      <td>1120.000000</td>\n",
       "      <td>1120.000000</td>\n",
       "      <td>1120.000000</td>\n",
       "      <td>1120.00000</td>\n",
       "      <td>1120.0</td>\n",
       "    </tr>\n",
       "    <tr>\n",
       "      <th>mean</th>\n",
       "      <td>2.470536</td>\n",
       "      <td>0.985804</td>\n",
       "      <td>13.713179</td>\n",
       "      <td>891.356607</td>\n",
       "      <td>0.704464</td>\n",
       "      <td>0.023214</td>\n",
       "      <td>0.95625</td>\n",
       "      <td>1.0</td>\n",
       "    </tr>\n",
       "    <tr>\n",
       "      <th>std</th>\n",
       "      <td>1.714426</td>\n",
       "      <td>0.105710</td>\n",
       "      <td>2.992118</td>\n",
       "      <td>194.487677</td>\n",
       "      <td>0.456487</td>\n",
       "      <td>0.150651</td>\n",
       "      <td>0.22541</td>\n",
       "      <td>0.0</td>\n",
       "    </tr>\n",
       "    <tr>\n",
       "      <th>min</th>\n",
       "      <td>0.000000</td>\n",
       "      <td>0.500000</td>\n",
       "      <td>5.000000</td>\n",
       "      <td>325.000000</td>\n",
       "      <td>0.000000</td>\n",
       "      <td>0.000000</td>\n",
       "      <td>0.00000</td>\n",
       "      <td>1.0</td>\n",
       "    </tr>\n",
       "    <tr>\n",
       "      <th>25%</th>\n",
       "      <td>1.000000</td>\n",
       "      <td>1.000000</td>\n",
       "      <td>11.000000</td>\n",
       "      <td>715.000000</td>\n",
       "      <td>0.000000</td>\n",
       "      <td>0.000000</td>\n",
       "      <td>1.00000</td>\n",
       "      <td>1.0</td>\n",
       "    </tr>\n",
       "    <tr>\n",
       "      <th>50%</th>\n",
       "      <td>2.000000</td>\n",
       "      <td>1.000000</td>\n",
       "      <td>14.000000</td>\n",
       "      <td>910.000000</td>\n",
       "      <td>1.000000</td>\n",
       "      <td>0.000000</td>\n",
       "      <td>1.00000</td>\n",
       "      <td>1.0</td>\n",
       "    </tr>\n",
       "    <tr>\n",
       "      <th>75%</th>\n",
       "      <td>3.000000</td>\n",
       "      <td>1.000000</td>\n",
       "      <td>16.000000</td>\n",
       "      <td>1040.000000</td>\n",
       "      <td>1.000000</td>\n",
       "      <td>0.000000</td>\n",
       "      <td>1.00000</td>\n",
       "      <td>1.0</td>\n",
       "    </tr>\n",
       "    <tr>\n",
       "      <th>max</th>\n",
       "      <td>10.000000</td>\n",
       "      <td>1.500000</td>\n",
       "      <td>25.000000</td>\n",
       "      <td>1625.000000</td>\n",
       "      <td>1.000000</td>\n",
       "      <td>1.000000</td>\n",
       "      <td>2.00000</td>\n",
       "      <td>1.0</td>\n",
       "    </tr>\n",
       "  </tbody>\n",
       "</table>\n",
       "</div>"
      ],
      "text/plain": [
       "                나이     산책시간(시간)           체중          음수량       성별_라벨링  \\\n",
       "count  1120.000000  1120.000000  1120.000000  1120.000000  1120.000000   \n",
       "mean      2.470536     0.985804    13.713179   891.356607     0.704464   \n",
       "std       1.714426     0.105710     2.992118   194.487677     0.456487   \n",
       "min       0.000000     0.500000     5.000000   325.000000     0.000000   \n",
       "25%       1.000000     1.000000    11.000000   715.000000     0.000000   \n",
       "50%       2.000000     1.000000    14.000000   910.000000     1.000000   \n",
       "75%       3.000000     1.000000    16.000000  1040.000000     1.000000   \n",
       "max      10.000000     1.500000    25.000000  1625.000000     1.000000   \n",
       "\n",
       "           중성화_라벨링      크기_라벨링  labels  \n",
       "count  1120.000000  1120.00000  1120.0  \n",
       "mean      0.023214     0.95625     1.0  \n",
       "std       0.150651     0.22541     0.0  \n",
       "min       0.000000     0.00000     1.0  \n",
       "25%       0.000000     1.00000     1.0  \n",
       "50%       0.000000     1.00000     1.0  \n",
       "75%       0.000000     1.00000     1.0  \n",
       "max       1.000000     2.00000     1.0  "
      ]
     },
     "execution_count": 55,
     "metadata": {},
     "output_type": "execute_result"
    }
   ],
   "source": [
    "df[df['labels']==1].describe()"
   ]
  },
  {
   "cell_type": "code",
   "execution_count": 56,
   "id": "aeb2cbf4-4af9-43ae-8a8b-39868172e330",
   "metadata": {},
   "outputs": [
    {
     "data": {
      "text/html": [
       "<div>\n",
       "<style scoped>\n",
       "    .dataframe tbody tr th:only-of-type {\n",
       "        vertical-align: middle;\n",
       "    }\n",
       "\n",
       "    .dataframe tbody tr th {\n",
       "        vertical-align: top;\n",
       "    }\n",
       "\n",
       "    .dataframe thead th {\n",
       "        text-align: right;\n",
       "    }\n",
       "</style>\n",
       "<table border=\"1\" class=\"dataframe\">\n",
       "  <thead>\n",
       "    <tr style=\"text-align: right;\">\n",
       "      <th></th>\n",
       "      <th>나이</th>\n",
       "      <th>산책시간(시간)</th>\n",
       "      <th>체중</th>\n",
       "      <th>음수량</th>\n",
       "      <th>성별_라벨링</th>\n",
       "      <th>중성화_라벨링</th>\n",
       "      <th>크기_라벨링</th>\n",
       "      <th>labels</th>\n",
       "    </tr>\n",
       "  </thead>\n",
       "  <tbody>\n",
       "    <tr>\n",
       "      <th>count</th>\n",
       "      <td>573.000000</td>\n",
       "      <td>573.000000</td>\n",
       "      <td>573.000000</td>\n",
       "      <td>573.000000</td>\n",
       "      <td>573.000000</td>\n",
       "      <td>573.000000</td>\n",
       "      <td>573.000000</td>\n",
       "      <td>573.0</td>\n",
       "    </tr>\n",
       "    <tr>\n",
       "      <th>mean</th>\n",
       "      <td>6.452007</td>\n",
       "      <td>0.753403</td>\n",
       "      <td>5.897208</td>\n",
       "      <td>383.318499</td>\n",
       "      <td>0.877836</td>\n",
       "      <td>0.773124</td>\n",
       "      <td>0.122164</td>\n",
       "      <td>2.0</td>\n",
       "    </tr>\n",
       "    <tr>\n",
       "      <th>std</th>\n",
       "      <td>3.813834</td>\n",
       "      <td>0.228884</td>\n",
       "      <td>3.324697</td>\n",
       "      <td>216.105283</td>\n",
       "      <td>0.327761</td>\n",
       "      <td>0.419178</td>\n",
       "      <td>0.338261</td>\n",
       "      <td>0.0</td>\n",
       "    </tr>\n",
       "    <tr>\n",
       "      <th>min</th>\n",
       "      <td>0.000000</td>\n",
       "      <td>0.500000</td>\n",
       "      <td>1.200000</td>\n",
       "      <td>78.000000</td>\n",
       "      <td>0.000000</td>\n",
       "      <td>0.000000</td>\n",
       "      <td>0.000000</td>\n",
       "      <td>2.0</td>\n",
       "    </tr>\n",
       "    <tr>\n",
       "      <th>25%</th>\n",
       "      <td>3.000000</td>\n",
       "      <td>0.500000</td>\n",
       "      <td>3.600000</td>\n",
       "      <td>234.000000</td>\n",
       "      <td>1.000000</td>\n",
       "      <td>1.000000</td>\n",
       "      <td>0.000000</td>\n",
       "      <td>2.0</td>\n",
       "    </tr>\n",
       "    <tr>\n",
       "      <th>50%</th>\n",
       "      <td>6.000000</td>\n",
       "      <td>0.800000</td>\n",
       "      <td>5.000000</td>\n",
       "      <td>325.000000</td>\n",
       "      <td>1.000000</td>\n",
       "      <td>1.000000</td>\n",
       "      <td>0.000000</td>\n",
       "      <td>2.0</td>\n",
       "    </tr>\n",
       "    <tr>\n",
       "      <th>75%</th>\n",
       "      <td>10.000000</td>\n",
       "      <td>1.000000</td>\n",
       "      <td>7.300000</td>\n",
       "      <td>474.500000</td>\n",
       "      <td>1.000000</td>\n",
       "      <td>1.000000</td>\n",
       "      <td>0.000000</td>\n",
       "      <td>2.0</td>\n",
       "    </tr>\n",
       "    <tr>\n",
       "      <th>max</th>\n",
       "      <td>18.000000</td>\n",
       "      <td>1.500000</td>\n",
       "      <td>22.000000</td>\n",
       "      <td>1430.000000</td>\n",
       "      <td>1.000000</td>\n",
       "      <td>1.000000</td>\n",
       "      <td>2.000000</td>\n",
       "      <td>2.0</td>\n",
       "    </tr>\n",
       "  </tbody>\n",
       "</table>\n",
       "</div>"
      ],
      "text/plain": [
       "               나이    산책시간(시간)          체중          음수량      성별_라벨링  \\\n",
       "count  573.000000  573.000000  573.000000   573.000000  573.000000   \n",
       "mean     6.452007    0.753403    5.897208   383.318499    0.877836   \n",
       "std      3.813834    0.228884    3.324697   216.105283    0.327761   \n",
       "min      0.000000    0.500000    1.200000    78.000000    0.000000   \n",
       "25%      3.000000    0.500000    3.600000   234.000000    1.000000   \n",
       "50%      6.000000    0.800000    5.000000   325.000000    1.000000   \n",
       "75%     10.000000    1.000000    7.300000   474.500000    1.000000   \n",
       "max     18.000000    1.500000   22.000000  1430.000000    1.000000   \n",
       "\n",
       "          중성화_라벨링      크기_라벨링  labels  \n",
       "count  573.000000  573.000000   573.0  \n",
       "mean     0.773124    0.122164     2.0  \n",
       "std      0.419178    0.338261     0.0  \n",
       "min      0.000000    0.000000     2.0  \n",
       "25%      1.000000    0.000000     2.0  \n",
       "50%      1.000000    0.000000     2.0  \n",
       "75%      1.000000    0.000000     2.0  \n",
       "max      1.000000    2.000000     2.0  "
      ]
     },
     "execution_count": 56,
     "metadata": {},
     "output_type": "execute_result"
    }
   ],
   "source": [
    "df[df['labels']==2].describe()"
   ]
  },
  {
   "cell_type": "code",
   "execution_count": 57,
   "id": "5e3388f4-4a19-4e30-b7e5-e25b8a95f52d",
   "metadata": {},
   "outputs": [
    {
     "data": {
      "text/html": [
       "<div>\n",
       "<style scoped>\n",
       "    .dataframe tbody tr th:only-of-type {\n",
       "        vertical-align: middle;\n",
       "    }\n",
       "\n",
       "    .dataframe tbody tr th {\n",
       "        vertical-align: top;\n",
       "    }\n",
       "\n",
       "    .dataframe thead th {\n",
       "        text-align: right;\n",
       "    }\n",
       "</style>\n",
       "<table border=\"1\" class=\"dataframe\">\n",
       "  <thead>\n",
       "    <tr style=\"text-align: right;\">\n",
       "      <th></th>\n",
       "      <th>나이</th>\n",
       "      <th>산책시간(시간)</th>\n",
       "      <th>체중</th>\n",
       "      <th>음수량</th>\n",
       "      <th>성별_라벨링</th>\n",
       "      <th>중성화_라벨링</th>\n",
       "      <th>크기_라벨링</th>\n",
       "      <th>labels</th>\n",
       "    </tr>\n",
       "  </thead>\n",
       "  <tbody>\n",
       "    <tr>\n",
       "      <th>count</th>\n",
       "      <td>416.000000</td>\n",
       "      <td>416.000000</td>\n",
       "      <td>416.000000</td>\n",
       "      <td>416.000000</td>\n",
       "      <td>416.000000</td>\n",
       "      <td>416.000000</td>\n",
       "      <td>416.000000</td>\n",
       "      <td>416.0</td>\n",
       "    </tr>\n",
       "    <tr>\n",
       "      <th>mean</th>\n",
       "      <td>3.319712</td>\n",
       "      <td>1.116346</td>\n",
       "      <td>24.906250</td>\n",
       "      <td>1618.906250</td>\n",
       "      <td>0.790865</td>\n",
       "      <td>0.064904</td>\n",
       "      <td>1.983173</td>\n",
       "      <td>3.0</td>\n",
       "    </tr>\n",
       "    <tr>\n",
       "      <th>std</th>\n",
       "      <td>1.748306</td>\n",
       "      <td>0.246366</td>\n",
       "      <td>5.572075</td>\n",
       "      <td>362.184866</td>\n",
       "      <td>0.407180</td>\n",
       "      <td>0.246653</td>\n",
       "      <td>0.128777</td>\n",
       "      <td>0.0</td>\n",
       "    </tr>\n",
       "    <tr>\n",
       "      <th>min</th>\n",
       "      <td>0.000000</td>\n",
       "      <td>0.500000</td>\n",
       "      <td>16.000000</td>\n",
       "      <td>1040.000000</td>\n",
       "      <td>0.000000</td>\n",
       "      <td>0.000000</td>\n",
       "      <td>1.000000</td>\n",
       "      <td>3.0</td>\n",
       "    </tr>\n",
       "    <tr>\n",
       "      <th>25%</th>\n",
       "      <td>2.000000</td>\n",
       "      <td>1.000000</td>\n",
       "      <td>20.000000</td>\n",
       "      <td>1300.000000</td>\n",
       "      <td>1.000000</td>\n",
       "      <td>0.000000</td>\n",
       "      <td>2.000000</td>\n",
       "      <td>3.0</td>\n",
       "    </tr>\n",
       "    <tr>\n",
       "      <th>50%</th>\n",
       "      <td>3.000000</td>\n",
       "      <td>1.000000</td>\n",
       "      <td>23.000000</td>\n",
       "      <td>1495.000000</td>\n",
       "      <td>1.000000</td>\n",
       "      <td>0.000000</td>\n",
       "      <td>2.000000</td>\n",
       "      <td>3.0</td>\n",
       "    </tr>\n",
       "    <tr>\n",
       "      <th>75%</th>\n",
       "      <td>4.000000</td>\n",
       "      <td>1.500000</td>\n",
       "      <td>27.000000</td>\n",
       "      <td>1755.000000</td>\n",
       "      <td>1.000000</td>\n",
       "      <td>0.000000</td>\n",
       "      <td>2.000000</td>\n",
       "      <td>3.0</td>\n",
       "    </tr>\n",
       "    <tr>\n",
       "      <th>max</th>\n",
       "      <td>13.000000</td>\n",
       "      <td>1.500000</td>\n",
       "      <td>60.000000</td>\n",
       "      <td>3900.000000</td>\n",
       "      <td>1.000000</td>\n",
       "      <td>1.000000</td>\n",
       "      <td>2.000000</td>\n",
       "      <td>3.0</td>\n",
       "    </tr>\n",
       "  </tbody>\n",
       "</table>\n",
       "</div>"
      ],
      "text/plain": [
       "               나이    산책시간(시간)          체중          음수량      성별_라벨링  \\\n",
       "count  416.000000  416.000000  416.000000   416.000000  416.000000   \n",
       "mean     3.319712    1.116346   24.906250  1618.906250    0.790865   \n",
       "std      1.748306    0.246366    5.572075   362.184866    0.407180   \n",
       "min      0.000000    0.500000   16.000000  1040.000000    0.000000   \n",
       "25%      2.000000    1.000000   20.000000  1300.000000    1.000000   \n",
       "50%      3.000000    1.000000   23.000000  1495.000000    1.000000   \n",
       "75%      4.000000    1.500000   27.000000  1755.000000    1.000000   \n",
       "max     13.000000    1.500000   60.000000  3900.000000    1.000000   \n",
       "\n",
       "          중성화_라벨링      크기_라벨링  labels  \n",
       "count  416.000000  416.000000   416.0  \n",
       "mean     0.064904    1.983173     3.0  \n",
       "std      0.246653    0.128777     0.0  \n",
       "min      0.000000    1.000000     3.0  \n",
       "25%      0.000000    2.000000     3.0  \n",
       "50%      0.000000    2.000000     3.0  \n",
       "75%      0.000000    2.000000     3.0  \n",
       "max      1.000000    2.000000     3.0  "
      ]
     },
     "execution_count": 57,
     "metadata": {},
     "output_type": "execute_result"
    }
   ],
   "source": [
    "df[df['labels']==3].describe()"
   ]
  },
  {
   "cell_type": "code",
   "execution_count": 58,
   "id": "7838aef3-54e8-4683-a098-dabc86d90c31",
   "metadata": {},
   "outputs": [
    {
     "data": {
      "text/html": [
       "<div>\n",
       "<style scoped>\n",
       "    .dataframe tbody tr th:only-of-type {\n",
       "        vertical-align: middle;\n",
       "    }\n",
       "\n",
       "    .dataframe tbody tr th {\n",
       "        vertical-align: top;\n",
       "    }\n",
       "\n",
       "    .dataframe thead th {\n",
       "        text-align: right;\n",
       "    }\n",
       "</style>\n",
       "<table border=\"1\" class=\"dataframe\">\n",
       "  <thead>\n",
       "    <tr style=\"text-align: right;\">\n",
       "      <th></th>\n",
       "      <th>품종</th>\n",
       "      <th>나이</th>\n",
       "      <th>산책시간(시간)</th>\n",
       "      <th>체중</th>\n",
       "      <th>성별</th>\n",
       "      <th>중성화여부</th>\n",
       "      <th>색상</th>\n",
       "      <th>음수량</th>\n",
       "      <th>성별_라벨링</th>\n",
       "      <th>중성화_라벨링</th>\n",
       "      <th>크기</th>\n",
       "      <th>크기_라벨링</th>\n",
       "      <th>labels</th>\n",
       "    </tr>\n",
       "  </thead>\n",
       "  <tbody>\n",
       "    <tr>\n",
       "      <th>0</th>\n",
       "      <td>골든 리트리버</td>\n",
       "      <td>13</td>\n",
       "      <td>0.5</td>\n",
       "      <td>27.0</td>\n",
       "      <td>M</td>\n",
       "      <td>N</td>\n",
       "      <td>갈색</td>\n",
       "      <td>1755.0</td>\n",
       "      <td>1</td>\n",
       "      <td>0</td>\n",
       "      <td>대</td>\n",
       "      <td>2</td>\n",
       "      <td>3</td>\n",
       "    </tr>\n",
       "    <tr>\n",
       "      <th>1</th>\n",
       "      <td>골든 리트리버</td>\n",
       "      <td>10</td>\n",
       "      <td>0.5</td>\n",
       "      <td>25.0</td>\n",
       "      <td>F</td>\n",
       "      <td>N</td>\n",
       "      <td>갈색</td>\n",
       "      <td>1625.0</td>\n",
       "      <td>0</td>\n",
       "      <td>0</td>\n",
       "      <td>대</td>\n",
       "      <td>2</td>\n",
       "      <td>3</td>\n",
       "    </tr>\n",
       "    <tr>\n",
       "      <th>2</th>\n",
       "      <td>골든 리트리버</td>\n",
       "      <td>9</td>\n",
       "      <td>0.5</td>\n",
       "      <td>40.0</td>\n",
       "      <td>M</td>\n",
       "      <td>N</td>\n",
       "      <td>갈색</td>\n",
       "      <td>2600.0</td>\n",
       "      <td>1</td>\n",
       "      <td>0</td>\n",
       "      <td>대</td>\n",
       "      <td>2</td>\n",
       "      <td>3</td>\n",
       "    </tr>\n",
       "    <tr>\n",
       "      <th>3</th>\n",
       "      <td>골든 리트리버</td>\n",
       "      <td>8</td>\n",
       "      <td>0.5</td>\n",
       "      <td>28.0</td>\n",
       "      <td>F</td>\n",
       "      <td>N</td>\n",
       "      <td>갈색</td>\n",
       "      <td>1820.0</td>\n",
       "      <td>0</td>\n",
       "      <td>0</td>\n",
       "      <td>대</td>\n",
       "      <td>2</td>\n",
       "      <td>3</td>\n",
       "    </tr>\n",
       "    <tr>\n",
       "      <th>4</th>\n",
       "      <td>골든 리트리버</td>\n",
       "      <td>8</td>\n",
       "      <td>0.5</td>\n",
       "      <td>33.0</td>\n",
       "      <td>M</td>\n",
       "      <td>N</td>\n",
       "      <td>갈색</td>\n",
       "      <td>2145.0</td>\n",
       "      <td>1</td>\n",
       "      <td>0</td>\n",
       "      <td>대</td>\n",
       "      <td>2</td>\n",
       "      <td>3</td>\n",
       "    </tr>\n",
       "  </tbody>\n",
       "</table>\n",
       "</div>"
      ],
      "text/plain": [
       "        품종  나이  산책시간(시간)    체중 성별 중성화여부  색상     음수량  성별_라벨링  중성화_라벨링 크기  \\\n",
       "0  골든 리트리버  13       0.5  27.0  M     N  갈색  1755.0       1        0  대   \n",
       "1  골든 리트리버  10       0.5  25.0  F     N  갈색  1625.0       0        0  대   \n",
       "2  골든 리트리버   9       0.5  40.0  M     N  갈색  2600.0       1        0  대   \n",
       "3  골든 리트리버   8       0.5  28.0  F     N  갈색  1820.0       0        0  대   \n",
       "4  골든 리트리버   8       0.5  33.0  M     N  갈색  2145.0       1        0  대   \n",
       "\n",
       "   크기_라벨링  labels  \n",
       "0       2       3  \n",
       "1       2       3  \n",
       "2       2       3  \n",
       "3       2       3  \n",
       "4       2       3  "
      ]
     },
     "execution_count": 58,
     "metadata": {},
     "output_type": "execute_result"
    }
   ],
   "source": [
    "df.head()"
   ]
  },
  {
   "cell_type": "code",
   "execution_count": 59,
   "id": "bc4c72e9-bb3d-455c-b0f3-3ed1c30f71fa",
   "metadata": {},
   "outputs": [
    {
     "data": {
      "text/plain": [
       "<AxesSubplot:>"
      ]
     },
     "execution_count": 59,
     "metadata": {},
     "output_type": "execute_result"
    },
    {
     "data": {
      "image/png": "[encoded data removed]",
      "text/plain": [
       "<Figure size 432x288 with 1 Axes>"
      ]
     },
     "metadata": {
      "needs_background": "light"
     },
     "output_type": "display_data"
    }
   ],
   "source": [
    "df[df['labels']==0].std().plot()"
   ]
  },
  {
   "cell_type": "code",
   "execution_count": 60,
   "id": "78a725ae-597b-49ed-84fc-da6948117180",
   "metadata": {},
   "outputs": [
    {
     "data": {
      "text/html": [
       "<div>\n",
       "<style scoped>\n",
       "    .dataframe tbody tr th:only-of-type {\n",
       "        vertical-align: middle;\n",
       "    }\n",
       "\n",
       "    .dataframe tbody tr th {\n",
       "        vertical-align: top;\n",
       "    }\n",
       "\n",
       "    .dataframe thead th {\n",
       "        text-align: right;\n",
       "    }\n",
       "</style>\n",
       "<table border=\"1\" class=\"dataframe\">\n",
       "  <thead>\n",
       "    <tr style=\"text-align: right;\">\n",
       "      <th></th>\n",
       "      <th>나이</th>\n",
       "      <th>산책시간(시간)</th>\n",
       "      <th>체중</th>\n",
       "      <th>음수량</th>\n",
       "      <th>성별_라벨링</th>\n",
       "      <th>중성화_라벨링</th>\n",
       "      <th>크기_라벨링</th>\n",
       "      <th>labels</th>\n",
       "    </tr>\n",
       "  </thead>\n",
       "  <tbody>\n",
       "    <tr>\n",
       "      <th>count</th>\n",
       "      <td>5674.000000</td>\n",
       "      <td>5674.000000</td>\n",
       "      <td>5674.000000</td>\n",
       "      <td>5674.000000</td>\n",
       "      <td>5674.000000</td>\n",
       "      <td>5674.000000</td>\n",
       "      <td>5674.000000</td>\n",
       "      <td>5674.000000</td>\n",
       "    </tr>\n",
       "    <tr>\n",
       "      <th>mean</th>\n",
       "      <td>1.955939</td>\n",
       "      <td>0.892510</td>\n",
       "      <td>7.444949</td>\n",
       "      <td>483.921678</td>\n",
       "      <td>0.649806</td>\n",
       "      <td>0.087769</td>\n",
       "      <td>0.346493</td>\n",
       "      <td>0.619316</td>\n",
       "    </tr>\n",
       "    <tr>\n",
       "      <th>std</th>\n",
       "      <td>2.603371</td>\n",
       "      <td>0.163133</td>\n",
       "      <td>6.894764</td>\n",
       "      <td>448.159680</td>\n",
       "      <td>0.477073</td>\n",
       "      <td>0.282983</td>\n",
       "      <td>0.610848</td>\n",
       "      <td>0.936906</td>\n",
       "    </tr>\n",
       "    <tr>\n",
       "      <th>min</th>\n",
       "      <td>0.000000</td>\n",
       "      <td>0.500000</td>\n",
       "      <td>0.040000</td>\n",
       "      <td>2.600000</td>\n",
       "      <td>0.000000</td>\n",
       "      <td>0.000000</td>\n",
       "      <td>0.000000</td>\n",
       "      <td>0.000000</td>\n",
       "    </tr>\n",
       "    <tr>\n",
       "      <th>25%</th>\n",
       "      <td>0.000000</td>\n",
       "      <td>0.800000</td>\n",
       "      <td>2.655000</td>\n",
       "      <td>172.575000</td>\n",
       "      <td>0.000000</td>\n",
       "      <td>0.000000</td>\n",
       "      <td>0.000000</td>\n",
       "      <td>0.000000</td>\n",
       "    </tr>\n",
       "    <tr>\n",
       "      <th>50%</th>\n",
       "      <td>1.000000</td>\n",
       "      <td>0.800000</td>\n",
       "      <td>5.000000</td>\n",
       "      <td>325.000000</td>\n",
       "      <td>1.000000</td>\n",
       "      <td>0.000000</td>\n",
       "      <td>0.000000</td>\n",
       "      <td>0.000000</td>\n",
       "    </tr>\n",
       "    <tr>\n",
       "      <th>75%</th>\n",
       "      <td>3.000000</td>\n",
       "      <td>1.000000</td>\n",
       "      <td>10.000000</td>\n",
       "      <td>650.000000</td>\n",
       "      <td>1.000000</td>\n",
       "      <td>0.000000</td>\n",
       "      <td>1.000000</td>\n",
       "      <td>1.000000</td>\n",
       "    </tr>\n",
       "    <tr>\n",
       "      <th>max</th>\n",
       "      <td>18.000000</td>\n",
       "      <td>1.500000</td>\n",
       "      <td>60.000000</td>\n",
       "      <td>3900.000000</td>\n",
       "      <td>1.000000</td>\n",
       "      <td>1.000000</td>\n",
       "      <td>2.000000</td>\n",
       "      <td>3.000000</td>\n",
       "    </tr>\n",
       "  </tbody>\n",
       "</table>\n",
       "</div>"
      ],
      "text/plain": [
       "                나이     산책시간(시간)           체중          음수량       성별_라벨링  \\\n",
       "count  5674.000000  5674.000000  5674.000000  5674.000000  5674.000000   \n",
       "mean      1.955939     0.892510     7.444949   483.921678     0.649806   \n",
       "std       2.603371     0.163133     6.894764   448.159680     0.477073   \n",
       "min       0.000000     0.500000     0.040000     2.600000     0.000000   \n",
       "25%       0.000000     0.800000     2.655000   172.575000     0.000000   \n",
       "50%       1.000000     0.800000     5.000000   325.000000     1.000000   \n",
       "75%       3.000000     1.000000    10.000000   650.000000     1.000000   \n",
       "max      18.000000     1.500000    60.000000  3900.000000     1.000000   \n",
       "\n",
       "           중성화_라벨링       크기_라벨링       labels  \n",
       "count  5674.000000  5674.000000  5674.000000  \n",
       "mean      0.087769     0.346493     0.619316  \n",
       "std       0.282983     0.610848     0.936906  \n",
       "min       0.000000     0.000000     0.000000  \n",
       "25%       0.000000     0.000000     0.000000  \n",
       "50%       0.000000     0.000000     0.000000  \n",
       "75%       0.000000     1.000000     1.000000  \n",
       "max       1.000000     2.000000     3.000000  "
      ]
     },
     "execution_count": 60,
     "metadata": {},
     "output_type": "execute_result"
    }
   ],
   "source": [
    "df.describe()"
   ]
  },
  {
   "cell_type": "code",
   "execution_count": 61,
   "id": "ee3ac4de-ad66-4e66-9d97-9595ffa50562",
   "metadata": {},
   "outputs": [
    {
     "data": {
      "image/png": "[encoded data removed]",
      "text/plain": [
       "<Figure size 864x576 with 1 Axes>"
      ]
     },
     "metadata": {
      "needs_background": "light"
     },
     "output_type": "display_data"
    }
   ],
   "source": [
    "plt.figure(figsize=(12,8))\n",
    "df[df['labels']==0]['체중'].hist()\n",
    "plt.show()"
   ]
  },
  {
   "cell_type": "code",
   "execution_count": 62,
   "id": "a44a5701-68ed-4dd0-a499-d511946dc7fc",
   "metadata": {},
   "outputs": [
    {
     "data": {
      "image/png": "[encoded data removed]",
      "text/plain": [
       "<Figure size 864x576 with 1 Axes>"
      ]
     },
     "metadata": {
      "needs_background": "light"
     },
     "output_type": "display_data"
    }
   ],
   "source": [
    "plt.figure(figsize=(12,8))\n",
    "df[df['labels']==1]['체중'].hist()\n",
    "plt.show()"
   ]
  },
  {
   "cell_type": "code",
   "execution_count": 63,
   "id": "312afff3-8024-475f-9ef6-634c4d2d373f",
   "metadata": {},
   "outputs": [
    {
     "data": {
      "image/png": "[encoded data removed]",
      "text/plain": [
       "<Figure size 864x576 with 1 Axes>"
      ]
     },
     "metadata": {
      "needs_background": "light"
     },
     "output_type": "display_data"
    }
   ],
   "source": [
    "plt.figure(figsize=(12,8))\n",
    "df[df['labels']==2]['체중'].hist()\n",
    "plt.show()\n"
   ]
  },
  {
   "cell_type": "code",
   "execution_count": 64,
   "id": "22c9d93e-0d11-467a-9915-2bde50be7f17",
   "metadata": {},
   "outputs": [
    {
     "data": {
      "image/png": "[encoded data removed]",
      "text/plain": [
       "<Figure size 864x576 with 1 Axes>"
      ]
     },
     "metadata": {
      "needs_background": "light"
     },
     "output_type": "display_data"
    }
   ],
   "source": [
    "plt.figure(figsize=(12,8))\n",
    "df[df['labels']==3]['체중'].hist()\n",
    "plt.show()"
   ]
  },
  {
   "cell_type": "code",
   "execution_count": null,
   "id": "6090ee1b-ad3e-4d88-b5d0-68a928017f02",
   "metadata": {},
   "outputs": [],
   "source": []
  },
  {
   "cell_type": "code",
   "execution_count": null,
   "id": "329a8f84-443c-47a1-8d7a-c2f324a6f185",
   "metadata": {},
   "outputs": [],
   "source": []
  },
  {
   "cell_type": "code",
   "execution_count": null,
   "id": "d565603b-ce75-4e00-9327-b65331cbcfde",
   "metadata": {},
   "outputs": [],
   "source": []
  },
  {
   "cell_type": "code",
   "execution_count": null,
   "id": "3d699c77-0274-44f5-922c-a4e98dbf4482",
   "metadata": {},
   "outputs": [],
   "source": []
  }
 ],
 "metadata": {
  "kernelspec": {
   "display_name": "Python 3 (ipykernel)",
   "language": "python",
   "name": "python3"
  },
  "language_info": {
   "codemirror_mode": {
    "name": "ipython",
    "version": 3
   },
   "file_extension": ".py",
   "mimetype": "text/x-python",
   "name": "python",
   "nbconvert_exporter": "python",
   "pygments_lexer": "ipython3",
   "version": "3.9.7"
  }
 },
 "nbformat": 4,
 "nbformat_minor": 5
}
