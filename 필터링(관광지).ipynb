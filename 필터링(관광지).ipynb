{
 "cells": [
  {
   "cell_type": "markdown",
   "id": "0edf011b-e758-4f37-86e0-cd5fe27265e6",
   "metadata": {},
   "source": [
    "# 라이브러리를 불러옵니다"
   ]
  },
  {
   "cell_type": "code",
   "execution_count": 1,
   "id": "63c0b6f9-2a62-4bb7-8441-5ae518716d8b",
   "metadata": {},
   "outputs": [],
   "source": [
    "import pandas as pd\n",
    "import numpy as np\n",
    "import seaborn as sns\n",
    "import matplotlib.pyplot as plt"
   ]
  },
  {
   "cell_type": "code",
   "execution_count": 2,
   "id": "3006ea47-1266-4999-8a21-706449dd26a7",
   "metadata": {},
   "outputs": [],
   "source": [
    "# 핑크색 warning 안내문 방지 \n",
    "import warnings\n",
    "warnings.filterwarnings('ignore')"
   ]
  },
  {
   "cell_type": "markdown",
   "id": "48d2be15-c6dc-4418-bdd9-8f7a1a31698b",
   "metadata": {},
   "source": [
    "# 한글폰트 사용을 위한 세팅"
   ]
  },
  {
   "cell_type": "code",
   "execution_count": 3,
   "id": "a6ecca55-0448-4c29-8f38-cd8f37f4e980",
   "metadata": {},
   "outputs": [],
   "source": [
    "def get_font_family():\n",
    "    \"\"\"\n",
    "    시스템 환경에 따른 기본 폰트명을 반환하는 함수\n",
    "    \"\"\"\n",
    "    import platform\n",
    "    system_name = platform.system()\n",
    "\n",
    "    if system_name == \"Darwin\" :\n",
    "        font_family = \"AppleGothic\"\n",
    "    elif system_name == \"Windows\":\n",
    "        font_family = \"Malgun Gothic\"\n",
    "    else:\n",
    "        # Linux(Colab)\n",
    "        !apt-get install fonts-nanum -qq  > /dev/null\n",
    "        !fc-cache -fv\n",
    "\n",
    "        import matplotlib as mpl\n",
    "        mpl.font_manager._rebuild()\n",
    "        findfont = mpl.font_manager.fontManager.findfont\n",
    "        mpl.font_manager.findfont = findfont\n",
    "        mpl.backends.backend_agg.findfont = findfont\n",
    "        \n",
    "        font_family = \"NanumBarunGothic\"\n",
    "    return font_family\n",
    "\n",
    "plt.rc(\"font\", family=get_font_family())\n",
    "plt.rc(\"axes\", unicode_minus=False)"
   ]
  },
  {
   "cell_type": "markdown",
   "id": "40fd331d-91c6-419b-8cfe-a0b17ae89486",
   "metadata": {
    "tags": []
   },
   "source": [
    "# 데이터 셋 로드 "
   ]
  },
  {
   "cell_type": "code",
   "execution_count": 4,
   "id": "4da97cd7-ff50-490a-ad7c-6261f27fd465",
   "metadata": {},
   "outputs": [],
   "source": [
    "import glob "
   ]
  },
  {
   "cell_type": "code",
   "execution_count": 5,
   "id": "fd0d31a3-4de9-42d9-b64e-31360242a519",
   "metadata": {},
   "outputs": [
    {
     "data": {
      "text/plain": [
       "['data\\\\animal_raw.csv', 'data\\\\관광지.csv']"
      ]
     },
     "execution_count": 5,
     "metadata": {},
     "output_type": "execute_result"
    }
   ],
   "source": [
    "path = glob.glob('data/*.csv')\n",
    "path"
   ]
  },
  {
   "cell_type": "code",
   "execution_count": 6,
   "id": "baffbab6-001e-471d-b03f-328f0d8c3a61",
   "metadata": {},
   "outputs": [
    {
     "data": {
      "text/html": [
       "<div>\n",
       "<style scoped>\n",
       "    .dataframe tbody tr th:only-of-type {\n",
       "        vertical-align: middle;\n",
       "    }\n",
       "\n",
       "    .dataframe tbody tr th {\n",
       "        vertical-align: top;\n",
       "    }\n",
       "\n",
       "    .dataframe thead th {\n",
       "        text-align: right;\n",
       "    }\n",
       "</style>\n",
       "<table border=\"1\" class=\"dataframe\">\n",
       "  <thead>\n",
       "    <tr style=\"text-align: right;\">\n",
       "      <th></th>\n",
       "      <th>업체명</th>\n",
       "      <th>업체구분</th>\n",
       "      <th>도시</th>\n",
       "      <th>위도</th>\n",
       "      <th>경도</th>\n",
       "    </tr>\n",
       "  </thead>\n",
       "  <tbody>\n",
       "    <tr>\n",
       "      <th>0</th>\n",
       "      <td>미산분교캠핑장</td>\n",
       "      <td>숙박지</td>\n",
       "      <td>인제군</td>\n",
       "      <td>37.871057</td>\n",
       "      <td>128.3182</td>\n",
       "    </tr>\n",
       "    <tr>\n",
       "      <th>1</th>\n",
       "      <td>하얀여울캠프</td>\n",
       "      <td>숙박지</td>\n",
       "      <td>영월군</td>\n",
       "      <td>37.340286</td>\n",
       "      <td>128.2806</td>\n",
       "    </tr>\n",
       "    <tr>\n",
       "      <th>2</th>\n",
       "      <td>카리스펜션</td>\n",
       "      <td>숙박지</td>\n",
       "      <td>강릉시</td>\n",
       "      <td>37.857309</td>\n",
       "      <td>128.8528</td>\n",
       "    </tr>\n",
       "    <tr>\n",
       "      <th>3</th>\n",
       "      <td>슬로우캠프</td>\n",
       "      <td>숙박지</td>\n",
       "      <td>영월군</td>\n",
       "      <td>37.346167</td>\n",
       "      <td>128.1949</td>\n",
       "    </tr>\n",
       "    <tr>\n",
       "      <th>4</th>\n",
       "      <td>금방아 민박 캠핑장</td>\n",
       "      <td>숙박지</td>\n",
       "      <td>영월군</td>\n",
       "      <td>37.317860</td>\n",
       "      <td>128.2604</td>\n",
       "    </tr>\n",
       "    <tr>\n",
       "      <th>...</th>\n",
       "      <td>...</td>\n",
       "      <td>...</td>\n",
       "      <td>...</td>\n",
       "      <td>...</td>\n",
       "      <td>...</td>\n",
       "    </tr>\n",
       "    <tr>\n",
       "      <th>257</th>\n",
       "      <td>사근진해중공원 전망대</td>\n",
       "      <td>관광지</td>\n",
       "      <td>강릉시</td>\n",
       "      <td>37.812722</td>\n",
       "      <td>128.8989</td>\n",
       "    </tr>\n",
       "    <tr>\n",
       "      <th>258</th>\n",
       "      <td>속초 관광수산시장</td>\n",
       "      <td>관광지</td>\n",
       "      <td>속초시</td>\n",
       "      <td>38.203989</td>\n",
       "      <td>128.5906</td>\n",
       "    </tr>\n",
       "    <tr>\n",
       "      <th>259</th>\n",
       "      <td>아라리공원</td>\n",
       "      <td>관광지</td>\n",
       "      <td>정선군</td>\n",
       "      <td>37.379147</td>\n",
       "      <td>128.6667</td>\n",
       "    </tr>\n",
       "    <tr>\n",
       "      <th>260</th>\n",
       "      <td>아름들 반려견쉼터</td>\n",
       "      <td>관광지</td>\n",
       "      <td>원주시</td>\n",
       "      <td>37.295665</td>\n",
       "      <td>127.9251</td>\n",
       "    </tr>\n",
       "    <tr>\n",
       "      <th>261</th>\n",
       "      <td>파로호 하트섬</td>\n",
       "      <td>관광지</td>\n",
       "      <td>화천군</td>\n",
       "      <td>38.064636</td>\n",
       "      <td>127.7952</td>\n",
       "    </tr>\n",
       "  </tbody>\n",
       "</table>\n",
       "<p>262 rows × 5 columns</p>\n",
       "</div>"
      ],
      "text/plain": [
       "             업체명 업체구분   도시         위도        경도\n",
       "0        미산분교캠핑장  숙박지  인제군  37.871057  128.3182\n",
       "1         하얀여울캠프  숙박지  영월군  37.340286  128.2806\n",
       "2          카리스펜션  숙박지  강릉시  37.857309  128.8528\n",
       "3          슬로우캠프  숙박지  영월군  37.346167  128.1949\n",
       "4     금방아 민박 캠핑장  숙박지  영월군  37.317860  128.2604\n",
       "..           ...  ...  ...        ...       ...\n",
       "257  사근진해중공원 전망대  관광지  강릉시  37.812722  128.8989\n",
       "258    속초 관광수산시장  관광지  속초시  38.203989  128.5906\n",
       "259        아라리공원  관광지  정선군  37.379147  128.6667\n",
       "260    아름들 반려견쉼터  관광지  원주시  37.295665  127.9251\n",
       "261      파로호 하트섬  관광지  화천군  38.064636  127.7952\n",
       "\n",
       "[262 rows x 5 columns]"
      ]
     },
     "execution_count": 6,
     "metadata": {},
     "output_type": "execute_result"
    }
   ],
   "source": [
    "df = pd.read_csv(path[1], encoding = 'utf-8')\n",
    "df"
   ]
  },
  {
   "cell_type": "markdown",
   "id": "e308b7e3-b782-4c1b-b0a9-8be807c14433",
   "metadata": {},
   "source": [
    "# 데이터 살펴보기 "
   ]
  },
  {
   "cell_type": "code",
   "execution_count": 7,
   "id": "9b7a005d-86f4-44aa-b908-854ab935e6dc",
   "metadata": {},
   "outputs": [
    {
     "name": "stdout",
     "output_type": "stream",
     "text": [
      "<class 'pandas.core.frame.DataFrame'>\n",
      "RangeIndex: 262 entries, 0 to 261\n",
      "Data columns (total 5 columns):\n",
      " #   Column  Non-Null Count  Dtype  \n",
      "---  ------  --------------  -----  \n",
      " 0   업체명     262 non-null    object \n",
      " 1   업체구분    262 non-null    object \n",
      " 2   도시      262 non-null    object \n",
      " 3   위도      262 non-null    float64\n",
      " 4   경도      262 non-null    float64\n",
      "dtypes: float64(2), object(3)\n",
      "memory usage: 10.4+ KB\n"
     ]
    }
   ],
   "source": [
    "df.info()"
   ]
  },
  {
   "cell_type": "code",
   "execution_count": 8,
   "id": "a70294f7-d5ba-46cd-84e3-803af4c9bed5",
   "metadata": {},
   "outputs": [
    {
     "data": {
      "text/html": [
       "<div>\n",
       "<style scoped>\n",
       "    .dataframe tbody tr th:only-of-type {\n",
       "        vertical-align: middle;\n",
       "    }\n",
       "\n",
       "    .dataframe tbody tr th {\n",
       "        vertical-align: top;\n",
       "    }\n",
       "\n",
       "    .dataframe thead th {\n",
       "        text-align: right;\n",
       "    }\n",
       "</style>\n",
       "<table border=\"1\" class=\"dataframe\">\n",
       "  <thead>\n",
       "    <tr style=\"text-align: right;\">\n",
       "      <th></th>\n",
       "      <th>위도</th>\n",
       "      <th>경도</th>\n",
       "    </tr>\n",
       "  </thead>\n",
       "  <tbody>\n",
       "    <tr>\n",
       "      <th>count</th>\n",
       "      <td>262.000000</td>\n",
       "      <td>262.000000</td>\n",
       "    </tr>\n",
       "    <tr>\n",
       "      <th>mean</th>\n",
       "      <td>37.741387</td>\n",
       "      <td>128.437169</td>\n",
       "    </tr>\n",
       "    <tr>\n",
       "      <th>std</th>\n",
       "      <td>0.335162</td>\n",
       "      <td>0.527109</td>\n",
       "    </tr>\n",
       "    <tr>\n",
       "      <th>min</th>\n",
       "      <td>37.174236</td>\n",
       "      <td>127.202000</td>\n",
       "    </tr>\n",
       "    <tr>\n",
       "      <th>25%</th>\n",
       "      <td>37.436111</td>\n",
       "      <td>128.074875</td>\n",
       "    </tr>\n",
       "    <tr>\n",
       "      <th>50%</th>\n",
       "      <td>37.791281</td>\n",
       "      <td>128.578100</td>\n",
       "    </tr>\n",
       "    <tr>\n",
       "      <th>75%</th>\n",
       "      <td>38.004308</td>\n",
       "      <td>128.834875</td>\n",
       "    </tr>\n",
       "    <tr>\n",
       "      <th>max</th>\n",
       "      <td>38.576247</td>\n",
       "      <td>129.317900</td>\n",
       "    </tr>\n",
       "  </tbody>\n",
       "</table>\n",
       "</div>"
      ],
      "text/plain": [
       "               위도          경도\n",
       "count  262.000000  262.000000\n",
       "mean    37.741387  128.437169\n",
       "std      0.335162    0.527109\n",
       "min     37.174236  127.202000\n",
       "25%     37.436111  128.074875\n",
       "50%     37.791281  128.578100\n",
       "75%     38.004308  128.834875\n",
       "max     38.576247  129.317900"
      ]
     },
     "execution_count": 8,
     "metadata": {},
     "output_type": "execute_result"
    }
   ],
   "source": [
    "df.describe()"
   ]
  },
  {
   "cell_type": "code",
   "execution_count": 9,
   "id": "0b3b6777-ee9a-41c0-9a55-facb151c58f3",
   "metadata": {},
   "outputs": [
    {
     "data": {
      "text/plain": [
       "업체명     0\n",
       "업체구분    0\n",
       "도시      0\n",
       "위도      0\n",
       "경도      0\n",
       "dtype: int64"
      ]
     },
     "execution_count": 9,
     "metadata": {},
     "output_type": "execute_result"
    }
   ],
   "source": [
    "#결측치 확인\n",
    "df.isna().sum()"
   ]
  },
  {
   "cell_type": "raw",
   "id": "4321f055-e1a8-4c40-858c-01c9b63d53c6",
   "metadata": {},
   "source": [
    "https://wooiljeong.github.io/python/count_by_wgs84/"
   ]
  },
  {
   "cell_type": "code",
   "execution_count": null,
   "id": "88e01a59-187b-4832-8bf3-fa0486ad6e44",
   "metadata": {},
   "outputs": [],
   "source": []
  },
  {
   "cell_type": "code",
   "execution_count": null,
   "id": "2e0271b4-bb48-4808-acf6-f5a44028fc7c",
   "metadata": {},
   "outputs": [],
   "source": []
  },
  {
   "cell_type": "code",
   "execution_count": null,
   "id": "b99a562e-6553-4ffc-a562-a51b30429266",
   "metadata": {},
   "outputs": [],
   "source": []
  },
  {
   "cell_type": "code",
   "execution_count": null,
   "id": "b1a06128-eb95-4a17-be6f-249762968db7",
   "metadata": {},
   "outputs": [],
   "source": []
  },
  {
   "cell_type": "code",
   "execution_count": null,
   "id": "df7586b4-c3c6-401d-bf38-f20c6dc4f326",
   "metadata": {},
   "outputs": [],
   "source": []
  },
  {
   "cell_type": "code",
   "execution_count": null,
   "id": "b0c7021e-ced1-484b-8901-31198d926f64",
   "metadata": {},
   "outputs": [],
   "source": []
  },
  {
   "cell_type": "code",
   "execution_count": null,
   "id": "a30168c4-2b6a-4df4-9dfc-f9d38ae3d497",
   "metadata": {},
   "outputs": [],
   "source": []
  },
  {
   "cell_type": "code",
   "execution_count": 10,
   "id": "1286e90b-8226-4e2d-a02b-96e45b9fa094",
   "metadata": {},
   "outputs": [],
   "source": [
    "from sklearn.preprocessing import LabelEncoder"
   ]
  },
  {
   "cell_type": "raw",
   "id": "8bfe5d42-e9e4-4a36-97c7-cf15c3adfabb",
   "metadata": {},
   "source": []
  }
 ],
 "metadata": {
  "kernelspec": {
   "display_name": "Python 3 (ipykernel)",
   "language": "python",
   "name": "python3"
  },
  "language_info": {
   "codemirror_mode": {
    "name": "ipython",
    "version": 3
   },
   "file_extension": ".py",
   "mimetype": "text/x-python",
   "name": "python",
   "nbconvert_exporter": "python",
   "pygments_lexer": "ipython3",
   "version": "3.9.7"
  }
 },
 "nbformat": 4,
 "nbformat_minor": 5
}
