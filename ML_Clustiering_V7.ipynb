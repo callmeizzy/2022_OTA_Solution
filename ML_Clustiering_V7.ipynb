{
 "cells": [
  {
   "cell_type": "markdown",
   "id": "1f465a81-7649-4552-bf7d-34550f8514ad",
   "metadata": {},
   "source": [
    "# 라이브러리를 불러옵니다"
   ]
  },
  {
   "cell_type": "code",
   "execution_count": 1,
   "id": "0f62649f-1c1d-4516-a935-81de6a24b924",
   "metadata": {},
   "outputs": [],
   "source": [
    "import pandas as pd\n",
    "import numpy as np\n",
    "import seaborn as sns\n",
    "import matplotlib.pyplot as plt"
   ]
  },
  {
   "cell_type": "code",
   "execution_count": 2,
   "id": "56185f88-5df3-4a6c-bd72-8f3096e91c49",
   "metadata": {},
   "outputs": [],
   "source": [
    "# 핑크색 warning 안내문 방지 \n",
    "import warnings\n",
    "warnings.filterwarnings('ignore')"
   ]
  },
  {
   "cell_type": "markdown",
   "id": "6db3739e-c592-4a85-aa42-62701d911353",
   "metadata": {
    "tags": []
   },
   "source": [
    "# 한글폰트 사용을 위한 세팅"
   ]
  },
  {
   "cell_type": "code",
   "execution_count": 3,
   "id": "ade2b48b-1998-48d9-b98c-4cff267f0b73",
   "metadata": {},
   "outputs": [],
   "source": [
    "def get_font_family():\n",
    "    \"\"\"\n",
    "    시스템 환경에 따른 기본 폰트명을 반환하는 함수\n",
    "    \"\"\"\n",
    "    import platform\n",
    "    system_name = platform.system()\n",
    "\n",
    "    if system_name == \"Darwin\" :\n",
    "        font_family = \"AppleGothic\"\n",
    "    elif system_name == \"Windows\":\n",
    "        font_family = \"Malgun Gothic\"\n",
    "    else:\n",
    "        # Linux(Colab)\n",
    "        !apt-get install fonts-nanum -qq  > /dev/null\n",
    "        !fc-cache -fv\n",
    "\n",
    "        import matplotlib as mpl\n",
    "        mpl.font_manager._rebuild()\n",
    "        findfont = mpl.font_manager.fontManager.findfont\n",
    "        mpl.font_manager.findfont = findfont\n",
    "        mpl.backends.backend_agg.findfont = findfont\n",
    "        \n",
    "        font_family = \"NanumBarunGothic\"\n",
    "    return font_family\n",
    "\n",
    "plt.rc(\"font\", family=get_font_family())\n",
    "plt.rc(\"axes\", unicode_minus=False)"
   ]
  },
  {
   "cell_type": "markdown",
   "id": "8bbe05da-eb21-49ee-9605-038deecac028",
   "metadata": {
    "tags": []
   },
   "source": [
    "# 데이터 셋 로드 "
   ]
  },
  {
   "cell_type": "code",
   "execution_count": 4,
   "id": "06718f5a-8d02-4e95-9e79-bc794083d5df",
   "metadata": {},
   "outputs": [],
   "source": [
    "import glob "
   ]
  },
  {
   "cell_type": "code",
   "execution_count": 5,
   "id": "9a750b0e-8fc5-4d33-b342-a94ab1df9921",
   "metadata": {},
   "outputs": [
    {
     "data": {
      "text/plain": [
       "['pets_cleansed.csv']"
      ]
     },
     "execution_count": 5,
     "metadata": {},
     "output_type": "execute_result"
    }
   ],
   "source": [
    "path = glob.glob('*.csv')\n",
    "path"
   ]
  },
  {
   "cell_type": "code",
   "execution_count": 6,
   "id": "6eb9909e-f4b5-4a90-a742-053d823ea978",
   "metadata": {},
   "outputs": [
    {
     "data": {
      "text/html": [
       "<div>\n",
       "<style scoped>\n",
       "    .dataframe tbody tr th:only-of-type {\n",
       "        vertical-align: middle;\n",
       "    }\n",
       "\n",
       "    .dataframe tbody tr th {\n",
       "        vertical-align: top;\n",
       "    }\n",
       "\n",
       "    .dataframe thead th {\n",
       "        text-align: right;\n",
       "    }\n",
       "</style>\n",
       "<table border=\"1\" class=\"dataframe\">\n",
       "  <thead>\n",
       "    <tr style=\"text-align: right;\">\n",
       "      <th></th>\n",
       "      <th>품종</th>\n",
       "      <th>나이</th>\n",
       "      <th>산책시간(시간)</th>\n",
       "      <th>체중</th>\n",
       "      <th>성별</th>\n",
       "      <th>중성화여부</th>\n",
       "      <th>색상</th>\n",
       "      <th>음수량</th>\n",
       "      <th>성별_라벨링</th>\n",
       "      <th>중성화_라벨링</th>\n",
       "      <th>크기</th>\n",
       "      <th>크기_라벨링</th>\n",
       "    </tr>\n",
       "  </thead>\n",
       "  <tbody>\n",
       "    <tr>\n",
       "      <th>0</th>\n",
       "      <td>골든 리트리버</td>\n",
       "      <td>13</td>\n",
       "      <td>0.5</td>\n",
       "      <td>27.0</td>\n",
       "      <td>M</td>\n",
       "      <td>N</td>\n",
       "      <td>갈색</td>\n",
       "      <td>1755.0</td>\n",
       "      <td>1</td>\n",
       "      <td>0</td>\n",
       "      <td>대</td>\n",
       "      <td>2</td>\n",
       "    </tr>\n",
       "    <tr>\n",
       "      <th>1</th>\n",
       "      <td>골든 리트리버</td>\n",
       "      <td>10</td>\n",
       "      <td>0.5</td>\n",
       "      <td>25.0</td>\n",
       "      <td>F</td>\n",
       "      <td>N</td>\n",
       "      <td>갈색</td>\n",
       "      <td>1625.0</td>\n",
       "      <td>0</td>\n",
       "      <td>0</td>\n",
       "      <td>대</td>\n",
       "      <td>2</td>\n",
       "    </tr>\n",
       "    <tr>\n",
       "      <th>2</th>\n",
       "      <td>골든 리트리버</td>\n",
       "      <td>9</td>\n",
       "      <td>0.5</td>\n",
       "      <td>40.0</td>\n",
       "      <td>M</td>\n",
       "      <td>N</td>\n",
       "      <td>갈색</td>\n",
       "      <td>2600.0</td>\n",
       "      <td>1</td>\n",
       "      <td>0</td>\n",
       "      <td>대</td>\n",
       "      <td>2</td>\n",
       "    </tr>\n",
       "    <tr>\n",
       "      <th>3</th>\n",
       "      <td>골든 리트리버</td>\n",
       "      <td>8</td>\n",
       "      <td>0.5</td>\n",
       "      <td>28.0</td>\n",
       "      <td>F</td>\n",
       "      <td>N</td>\n",
       "      <td>갈색</td>\n",
       "      <td>1820.0</td>\n",
       "      <td>0</td>\n",
       "      <td>0</td>\n",
       "      <td>대</td>\n",
       "      <td>2</td>\n",
       "    </tr>\n",
       "    <tr>\n",
       "      <th>4</th>\n",
       "      <td>골든 리트리버</td>\n",
       "      <td>8</td>\n",
       "      <td>0.5</td>\n",
       "      <td>33.0</td>\n",
       "      <td>M</td>\n",
       "      <td>N</td>\n",
       "      <td>갈색</td>\n",
       "      <td>2145.0</td>\n",
       "      <td>1</td>\n",
       "      <td>0</td>\n",
       "      <td>대</td>\n",
       "      <td>2</td>\n",
       "    </tr>\n",
       "    <tr>\n",
       "      <th>...</th>\n",
       "      <td>...</td>\n",
       "      <td>...</td>\n",
       "      <td>...</td>\n",
       "      <td>...</td>\n",
       "      <td>...</td>\n",
       "      <td>...</td>\n",
       "      <td>...</td>\n",
       "      <td>...</td>\n",
       "      <td>...</td>\n",
       "      <td>...</td>\n",
       "      <td>...</td>\n",
       "      <td>...</td>\n",
       "    </tr>\n",
       "    <tr>\n",
       "      <th>5669</th>\n",
       "      <td>프렌치불독</td>\n",
       "      <td>1</td>\n",
       "      <td>0.8</td>\n",
       "      <td>4.0</td>\n",
       "      <td>M</td>\n",
       "      <td>N</td>\n",
       "      <td>흑</td>\n",
       "      <td>260.0</td>\n",
       "      <td>1</td>\n",
       "      <td>0</td>\n",
       "      <td>소</td>\n",
       "      <td>0</td>\n",
       "    </tr>\n",
       "    <tr>\n",
       "      <th>5670</th>\n",
       "      <td>프렌치불독</td>\n",
       "      <td>0</td>\n",
       "      <td>0.5</td>\n",
       "      <td>3.5</td>\n",
       "      <td>M</td>\n",
       "      <td>N</td>\n",
       "      <td>검정</td>\n",
       "      <td>227.5</td>\n",
       "      <td>1</td>\n",
       "      <td>0</td>\n",
       "      <td>소</td>\n",
       "      <td>0</td>\n",
       "    </tr>\n",
       "    <tr>\n",
       "      <th>5671</th>\n",
       "      <td>프렌치불독</td>\n",
       "      <td>0</td>\n",
       "      <td>0.5</td>\n",
       "      <td>5.2</td>\n",
       "      <td>M</td>\n",
       "      <td>N</td>\n",
       "      <td>백색, 갈색, 흑색</td>\n",
       "      <td>338.0</td>\n",
       "      <td>1</td>\n",
       "      <td>0</td>\n",
       "      <td>소</td>\n",
       "      <td>0</td>\n",
       "    </tr>\n",
       "    <tr>\n",
       "      <th>5672</th>\n",
       "      <td>화이트테리어</td>\n",
       "      <td>13</td>\n",
       "      <td>0.5</td>\n",
       "      <td>7.3</td>\n",
       "      <td>F</td>\n",
       "      <td>Y</td>\n",
       "      <td>흰</td>\n",
       "      <td>474.5</td>\n",
       "      <td>0</td>\n",
       "      <td>1</td>\n",
       "      <td>소</td>\n",
       "      <td>0</td>\n",
       "    </tr>\n",
       "    <tr>\n",
       "      <th>5673</th>\n",
       "      <td>휘펫</td>\n",
       "      <td>2</td>\n",
       "      <td>1.0</td>\n",
       "      <td>14.0</td>\n",
       "      <td>M</td>\n",
       "      <td>N</td>\n",
       "      <td>베이지</td>\n",
       "      <td>910.0</td>\n",
       "      <td>1</td>\n",
       "      <td>0</td>\n",
       "      <td>중</td>\n",
       "      <td>1</td>\n",
       "    </tr>\n",
       "  </tbody>\n",
       "</table>\n",
       "<p>5674 rows × 12 columns</p>\n",
       "</div>"
      ],
      "text/plain": [
       "           품종  나이  산책시간(시간)    체중 성별 중성화여부          색상     음수량  성별_라벨링  \\\n",
       "0     골든 리트리버  13       0.5  27.0  M     N          갈색  1755.0       1   \n",
       "1     골든 리트리버  10       0.5  25.0  F     N          갈색  1625.0       0   \n",
       "2     골든 리트리버   9       0.5  40.0  M     N          갈색  2600.0       1   \n",
       "3     골든 리트리버   8       0.5  28.0  F     N          갈색  1820.0       0   \n",
       "4     골든 리트리버   8       0.5  33.0  M     N          갈색  2145.0       1   \n",
       "...       ...  ..       ...   ... ..   ...         ...     ...     ...   \n",
       "5669    프렌치불독   1       0.8   4.0  M     N           흑   260.0       1   \n",
       "5670    프렌치불독   0       0.5   3.5  M     N          검정   227.5       1   \n",
       "5671    프렌치불독   0       0.5   5.2  M     N  백색, 갈색, 흑색   338.0       1   \n",
       "5672   화이트테리어  13       0.5   7.3  F     Y           흰   474.5       0   \n",
       "5673       휘펫   2       1.0  14.0  M     N         베이지   910.0       1   \n",
       "\n",
       "      중성화_라벨링 크기  크기_라벨링  \n",
       "0           0  대       2  \n",
       "1           0  대       2  \n",
       "2           0  대       2  \n",
       "3           0  대       2  \n",
       "4           0  대       2  \n",
       "...       ... ..     ...  \n",
       "5669        0  소       0  \n",
       "5670        0  소       0  \n",
       "5671        0  소       0  \n",
       "5672        1  소       0  \n",
       "5673        0  중       1  \n",
       "\n",
       "[5674 rows x 12 columns]"
      ]
     },
     "execution_count": 6,
     "metadata": {},
     "output_type": "execute_result"
    }
   ],
   "source": [
    "df = pd.read_csv(path[0], encoding = 'utf-8')\n",
    "df"
   ]
  },
  {
   "cell_type": "markdown",
   "id": "c0260e06-77e2-4f27-96cd-18b957ef2b7d",
   "metadata": {},
   "source": [
    "# 데이터 살펴보기 "
   ]
  },
  {
   "cell_type": "code",
   "execution_count": 7,
   "id": "838d37dd-01d6-4797-972e-cb245e97a241",
   "metadata": {},
   "outputs": [
    {
     "name": "stdout",
     "output_type": "stream",
     "text": [
      "<class 'pandas.core.frame.DataFrame'>\n",
      "RangeIndex: 5674 entries, 0 to 5673\n",
      "Data columns (total 12 columns):\n",
      " #   Column    Non-Null Count  Dtype  \n",
      "---  ------    --------------  -----  \n",
      " 0   품종        5674 non-null   object \n",
      " 1   나이        5674 non-null   int64  \n",
      " 2   산책시간(시간)  5674 non-null   float64\n",
      " 3   체중        5674 non-null   float64\n",
      " 4   성별        5674 non-null   object \n",
      " 5   중성화여부     5674 non-null   object \n",
      " 6   색상        5674 non-null   object \n",
      " 7   음수량       5674 non-null   float64\n",
      " 8   성별_라벨링    5674 non-null   int64  \n",
      " 9   중성화_라벨링   5674 non-null   int64  \n",
      " 10  크기        5674 non-null   object \n",
      " 11  크기_라벨링    5674 non-null   int64  \n",
      "dtypes: float64(3), int64(4), object(5)\n",
      "memory usage: 532.1+ KB\n"
     ]
    }
   ],
   "source": [
    "df.info()"
   ]
  },
  {
   "cell_type": "code",
   "execution_count": 8,
   "id": "19c251d1-2056-4b4c-a14b-92ad0805a8dc",
   "metadata": {},
   "outputs": [
    {
     "data": {
      "text/html": [
       "<div>\n",
       "<style scoped>\n",
       "    .dataframe tbody tr th:only-of-type {\n",
       "        vertical-align: middle;\n",
       "    }\n",
       "\n",
       "    .dataframe tbody tr th {\n",
       "        vertical-align: top;\n",
       "    }\n",
       "\n",
       "    .dataframe thead th {\n",
       "        text-align: right;\n",
       "    }\n",
       "</style>\n",
       "<table border=\"1\" class=\"dataframe\">\n",
       "  <thead>\n",
       "    <tr style=\"text-align: right;\">\n",
       "      <th></th>\n",
       "      <th>나이</th>\n",
       "      <th>산책시간(시간)</th>\n",
       "      <th>체중</th>\n",
       "      <th>음수량</th>\n",
       "      <th>성별_라벨링</th>\n",
       "      <th>중성화_라벨링</th>\n",
       "      <th>크기_라벨링</th>\n",
       "    </tr>\n",
       "  </thead>\n",
       "  <tbody>\n",
       "    <tr>\n",
       "      <th>count</th>\n",
       "      <td>5674.000000</td>\n",
       "      <td>5674.000000</td>\n",
       "      <td>5674.000000</td>\n",
       "      <td>5674.000000</td>\n",
       "      <td>5674.000000</td>\n",
       "      <td>5674.000000</td>\n",
       "      <td>5674.000000</td>\n",
       "    </tr>\n",
       "    <tr>\n",
       "      <th>mean</th>\n",
       "      <td>1.955939</td>\n",
       "      <td>0.892510</td>\n",
       "      <td>7.444949</td>\n",
       "      <td>483.921678</td>\n",
       "      <td>0.649806</td>\n",
       "      <td>0.087769</td>\n",
       "      <td>0.346493</td>\n",
       "    </tr>\n",
       "    <tr>\n",
       "      <th>std</th>\n",
       "      <td>2.603371</td>\n",
       "      <td>0.163133</td>\n",
       "      <td>6.894764</td>\n",
       "      <td>448.159680</td>\n",
       "      <td>0.477073</td>\n",
       "      <td>0.282983</td>\n",
       "      <td>0.610848</td>\n",
       "    </tr>\n",
       "    <tr>\n",
       "      <th>min</th>\n",
       "      <td>0.000000</td>\n",
       "      <td>0.500000</td>\n",
       "      <td>0.040000</td>\n",
       "      <td>2.600000</td>\n",
       "      <td>0.000000</td>\n",
       "      <td>0.000000</td>\n",
       "      <td>0.000000</td>\n",
       "    </tr>\n",
       "    <tr>\n",
       "      <th>25%</th>\n",
       "      <td>0.000000</td>\n",
       "      <td>0.800000</td>\n",
       "      <td>2.655000</td>\n",
       "      <td>172.575000</td>\n",
       "      <td>0.000000</td>\n",
       "      <td>0.000000</td>\n",
       "      <td>0.000000</td>\n",
       "    </tr>\n",
       "    <tr>\n",
       "      <th>50%</th>\n",
       "      <td>1.000000</td>\n",
       "      <td>0.800000</td>\n",
       "      <td>5.000000</td>\n",
       "      <td>325.000000</td>\n",
       "      <td>1.000000</td>\n",
       "      <td>0.000000</td>\n",
       "      <td>0.000000</td>\n",
       "    </tr>\n",
       "    <tr>\n",
       "      <th>75%</th>\n",
       "      <td>3.000000</td>\n",
       "      <td>1.000000</td>\n",
       "      <td>10.000000</td>\n",
       "      <td>650.000000</td>\n",
       "      <td>1.000000</td>\n",
       "      <td>0.000000</td>\n",
       "      <td>1.000000</td>\n",
       "    </tr>\n",
       "    <tr>\n",
       "      <th>max</th>\n",
       "      <td>18.000000</td>\n",
       "      <td>1.500000</td>\n",
       "      <td>60.000000</td>\n",
       "      <td>3900.000000</td>\n",
       "      <td>1.000000</td>\n",
       "      <td>1.000000</td>\n",
       "      <td>2.000000</td>\n",
       "    </tr>\n",
       "  </tbody>\n",
       "</table>\n",
       "</div>"
      ],
      "text/plain": [
       "                나이     산책시간(시간)           체중          음수량       성별_라벨링  \\\n",
       "count  5674.000000  5674.000000  5674.000000  5674.000000  5674.000000   \n",
       "mean      1.955939     0.892510     7.444949   483.921678     0.649806   \n",
       "std       2.603371     0.163133     6.894764   448.159680     0.477073   \n",
       "min       0.000000     0.500000     0.040000     2.600000     0.000000   \n",
       "25%       0.000000     0.800000     2.655000   172.575000     0.000000   \n",
       "50%       1.000000     0.800000     5.000000   325.000000     1.000000   \n",
       "75%       3.000000     1.000000    10.000000   650.000000     1.000000   \n",
       "max      18.000000     1.500000    60.000000  3900.000000     1.000000   \n",
       "\n",
       "           중성화_라벨링       크기_라벨링  \n",
       "count  5674.000000  5674.000000  \n",
       "mean      0.087769     0.346493  \n",
       "std       0.282983     0.610848  \n",
       "min       0.000000     0.000000  \n",
       "25%       0.000000     0.000000  \n",
       "50%       0.000000     0.000000  \n",
       "75%       0.000000     1.000000  \n",
       "max       1.000000     2.000000  "
      ]
     },
     "execution_count": 8,
     "metadata": {},
     "output_type": "execute_result"
    }
   ],
   "source": [
    "df.describe()"
   ]
  },
  {
   "cell_type": "code",
   "execution_count": 9,
   "id": "7b98eea1-36c2-40da-8247-592c3718c2e4",
   "metadata": {},
   "outputs": [
    {
     "data": {
      "image/png": "[encoded data removed]",
      "text/plain": [
       "<Figure size 576x360 with 2 Axes>"
      ]
     },
     "metadata": {
      "needs_background": "light"
     },
     "output_type": "display_data"
    }
   ],
   "source": [
    "#결측치 시각회\n",
    "plt.figure(figsize = (8, 5))\n",
    "sns.heatmap(df.isnull())\n",
    "plt.show()"
   ]
  },
  {
   "cell_type": "markdown",
   "id": "15f76483-4dc5-44a4-bade-4c297217186b",
   "metadata": {},
   "source": [
    "# 각 컬럼 별 히스토그램 그려서 데이터 분포 보기 \n",
    "df.hist(figsize = (12,8))\n",
    "plt.show()"
   ]
  },
  {
   "cell_type": "markdown",
   "id": "4f0730e7-ce7d-478d-84de-2614f2b380a7",
   "metadata": {},
   "source": [
    "# 범주형 변수 제외 - 전처리"
   ]
  },
  {
   "cell_type": "code",
   "execution_count": 10,
   "id": "72b70e56-85cd-495f-a3d3-9a76eef4de44",
   "metadata": {},
   "outputs": [
    {
     "data": {
      "text/plain": [
       "Index(['품종', '나이', '산책시간(시간)', '체중', '성별', '중성화여부', '색상', '음수량', '성별_라벨링',\n",
       "       '중성화_라벨링', '크기', '크기_라벨링'],\n",
       "      dtype='object')"
      ]
     },
     "execution_count": 10,
     "metadata": {},
     "output_type": "execute_result"
    }
   ],
   "source": [
    "df.columns"
   ]
  },
  {
   "cell_type": "code",
   "execution_count": 11,
   "id": "527f5d8a-f28d-4a27-95bb-07850b12265a",
   "metadata": {},
   "outputs": [],
   "source": [
    "#범주형 변수들은 제외하고 새로운 변수로 선언\n",
    "C1 = df[['나이','산책시간(시간)', '체중', '성별_라벨링',\n",
    "       '중성화_라벨링','크기_라벨링', '음수량']]"
   ]
  },
  {
   "cell_type": "code",
   "execution_count": 12,
   "id": "85304532-7419-41ad-8718-8433230f2b8d",
   "metadata": {},
   "outputs": [
    {
     "data": {
      "text/html": [
       "<div>\n",
       "<style scoped>\n",
       "    .dataframe tbody tr th:only-of-type {\n",
       "        vertical-align: middle;\n",
       "    }\n",
       "\n",
       "    .dataframe tbody tr th {\n",
       "        vertical-align: top;\n",
       "    }\n",
       "\n",
       "    .dataframe thead th {\n",
       "        text-align: right;\n",
       "    }\n",
       "</style>\n",
       "<table border=\"1\" class=\"dataframe\">\n",
       "  <thead>\n",
       "    <tr style=\"text-align: right;\">\n",
       "      <th></th>\n",
       "      <th>나이</th>\n",
       "      <th>산책시간(시간)</th>\n",
       "      <th>체중</th>\n",
       "      <th>성별_라벨링</th>\n",
       "      <th>중성화_라벨링</th>\n",
       "      <th>크기_라벨링</th>\n",
       "      <th>음수량</th>\n",
       "    </tr>\n",
       "  </thead>\n",
       "  <tbody>\n",
       "    <tr>\n",
       "      <th>0</th>\n",
       "      <td>13</td>\n",
       "      <td>0.5</td>\n",
       "      <td>27.0</td>\n",
       "      <td>1</td>\n",
       "      <td>0</td>\n",
       "      <td>2</td>\n",
       "      <td>1755.0</td>\n",
       "    </tr>\n",
       "    <tr>\n",
       "      <th>1</th>\n",
       "      <td>10</td>\n",
       "      <td>0.5</td>\n",
       "      <td>25.0</td>\n",
       "      <td>0</td>\n",
       "      <td>0</td>\n",
       "      <td>2</td>\n",
       "      <td>1625.0</td>\n",
       "    </tr>\n",
       "    <tr>\n",
       "      <th>2</th>\n",
       "      <td>9</td>\n",
       "      <td>0.5</td>\n",
       "      <td>40.0</td>\n",
       "      <td>1</td>\n",
       "      <td>0</td>\n",
       "      <td>2</td>\n",
       "      <td>2600.0</td>\n",
       "    </tr>\n",
       "    <tr>\n",
       "      <th>3</th>\n",
       "      <td>8</td>\n",
       "      <td>0.5</td>\n",
       "      <td>28.0</td>\n",
       "      <td>0</td>\n",
       "      <td>0</td>\n",
       "      <td>2</td>\n",
       "      <td>1820.0</td>\n",
       "    </tr>\n",
       "    <tr>\n",
       "      <th>4</th>\n",
       "      <td>8</td>\n",
       "      <td>0.5</td>\n",
       "      <td>33.0</td>\n",
       "      <td>1</td>\n",
       "      <td>0</td>\n",
       "      <td>2</td>\n",
       "      <td>2145.0</td>\n",
       "    </tr>\n",
       "    <tr>\n",
       "      <th>...</th>\n",
       "      <td>...</td>\n",
       "      <td>...</td>\n",
       "      <td>...</td>\n",
       "      <td>...</td>\n",
       "      <td>...</td>\n",
       "      <td>...</td>\n",
       "      <td>...</td>\n",
       "    </tr>\n",
       "    <tr>\n",
       "      <th>5669</th>\n",
       "      <td>1</td>\n",
       "      <td>0.8</td>\n",
       "      <td>4.0</td>\n",
       "      <td>1</td>\n",
       "      <td>0</td>\n",
       "      <td>0</td>\n",
       "      <td>260.0</td>\n",
       "    </tr>\n",
       "    <tr>\n",
       "      <th>5670</th>\n",
       "      <td>0</td>\n",
       "      <td>0.5</td>\n",
       "      <td>3.5</td>\n",
       "      <td>1</td>\n",
       "      <td>0</td>\n",
       "      <td>0</td>\n",
       "      <td>227.5</td>\n",
       "    </tr>\n",
       "    <tr>\n",
       "      <th>5671</th>\n",
       "      <td>0</td>\n",
       "      <td>0.5</td>\n",
       "      <td>5.2</td>\n",
       "      <td>1</td>\n",
       "      <td>0</td>\n",
       "      <td>0</td>\n",
       "      <td>338.0</td>\n",
       "    </tr>\n",
       "    <tr>\n",
       "      <th>5672</th>\n",
       "      <td>13</td>\n",
       "      <td>0.5</td>\n",
       "      <td>7.3</td>\n",
       "      <td>0</td>\n",
       "      <td>1</td>\n",
       "      <td>0</td>\n",
       "      <td>474.5</td>\n",
       "    </tr>\n",
       "    <tr>\n",
       "      <th>5673</th>\n",
       "      <td>2</td>\n",
       "      <td>1.0</td>\n",
       "      <td>14.0</td>\n",
       "      <td>1</td>\n",
       "      <td>0</td>\n",
       "      <td>1</td>\n",
       "      <td>910.0</td>\n",
       "    </tr>\n",
       "  </tbody>\n",
       "</table>\n",
       "<p>5674 rows × 7 columns</p>\n",
       "</div>"
      ],
      "text/plain": [
       "      나이  산책시간(시간)    체중  성별_라벨링  중성화_라벨링  크기_라벨링     음수량\n",
       "0     13       0.5  27.0       1        0       2  1755.0\n",
       "1     10       0.5  25.0       0        0       2  1625.0\n",
       "2      9       0.5  40.0       1        0       2  2600.0\n",
       "3      8       0.5  28.0       0        0       2  1820.0\n",
       "4      8       0.5  33.0       1        0       2  2145.0\n",
       "...   ..       ...   ...     ...      ...     ...     ...\n",
       "5669   1       0.8   4.0       1        0       0   260.0\n",
       "5670   0       0.5   3.5       1        0       0   227.5\n",
       "5671   0       0.5   5.2       1        0       0   338.0\n",
       "5672  13       0.5   7.3       0        1       0   474.5\n",
       "5673   2       1.0  14.0       1        0       1   910.0\n",
       "\n",
       "[5674 rows x 7 columns]"
      ]
     },
     "execution_count": 12,
     "metadata": {},
     "output_type": "execute_result"
    }
   ],
   "source": [
    "#잘 담겨있는지 확인\n",
    "C1"
   ]
  },
  {
   "cell_type": "markdown",
   "id": "9e05f8f2-beee-4b5a-85dd-8872b2802081",
   "metadata": {},
   "source": [
    "# Feature Selection"
   ]
  },
  {
   "cell_type": "markdown",
   "id": "ee5e93b5-9771-4c25-b431-bb7edc254808",
   "metadata": {},
   "source": [
    "## 상관분석"
   ]
  },
  {
   "cell_type": "code",
   "execution_count": 13,
   "id": "6e54397c-cdcb-4410-9937-65cd39bd2652",
   "metadata": {},
   "outputs": [
    {
     "data": {
      "text/html": [
       "<div>\n",
       "<style scoped>\n",
       "    .dataframe tbody tr th:only-of-type {\n",
       "        vertical-align: middle;\n",
       "    }\n",
       "\n",
       "    .dataframe tbody tr th {\n",
       "        vertical-align: top;\n",
       "    }\n",
       "\n",
       "    .dataframe thead th {\n",
       "        text-align: right;\n",
       "    }\n",
       "</style>\n",
       "<table border=\"1\" class=\"dataframe\">\n",
       "  <thead>\n",
       "    <tr style=\"text-align: right;\">\n",
       "      <th></th>\n",
       "      <th>나이</th>\n",
       "      <th>산책시간(시간)</th>\n",
       "      <th>체중</th>\n",
       "      <th>성별_라벨링</th>\n",
       "      <th>중성화_라벨링</th>\n",
       "      <th>크기_라벨링</th>\n",
       "      <th>음수량</th>\n",
       "    </tr>\n",
       "  </thead>\n",
       "  <tbody>\n",
       "    <tr>\n",
       "      <th>나이</th>\n",
       "      <td>1.000000</td>\n",
       "      <td>-0.056727</td>\n",
       "      <td>0.283098</td>\n",
       "      <td>0.097001</td>\n",
       "      <td>0.366550</td>\n",
       "      <td>0.202140</td>\n",
       "      <td>0.283098</td>\n",
       "    </tr>\n",
       "    <tr>\n",
       "      <th>산책시간(시간)</th>\n",
       "      <td>-0.056727</td>\n",
       "      <td>1.000000</td>\n",
       "      <td>0.537268</td>\n",
       "      <td>0.047376</td>\n",
       "      <td>-0.064798</td>\n",
       "      <td>0.477659</td>\n",
       "      <td>0.537268</td>\n",
       "    </tr>\n",
       "    <tr>\n",
       "      <th>체중</th>\n",
       "      <td>0.283098</td>\n",
       "      <td>0.537268</td>\n",
       "      <td>1.000000</td>\n",
       "      <td>0.127471</td>\n",
       "      <td>0.012856</td>\n",
       "      <td>0.916428</td>\n",
       "      <td>1.000000</td>\n",
       "    </tr>\n",
       "    <tr>\n",
       "      <th>성별_라벨링</th>\n",
       "      <td>0.097001</td>\n",
       "      <td>0.047376</td>\n",
       "      <td>0.127471</td>\n",
       "      <td>1.000000</td>\n",
       "      <td>0.183315</td>\n",
       "      <td>0.110984</td>\n",
       "      <td>0.127471</td>\n",
       "    </tr>\n",
       "    <tr>\n",
       "      <th>중성화_라벨링</th>\n",
       "      <td>0.366550</td>\n",
       "      <td>-0.064798</td>\n",
       "      <td>0.012856</td>\n",
       "      <td>0.183315</td>\n",
       "      <td>1.000000</td>\n",
       "      <td>-0.034216</td>\n",
       "      <td>0.012856</td>\n",
       "    </tr>\n",
       "    <tr>\n",
       "      <th>크기_라벨링</th>\n",
       "      <td>0.202140</td>\n",
       "      <td>0.477659</td>\n",
       "      <td>0.916428</td>\n",
       "      <td>0.110984</td>\n",
       "      <td>-0.034216</td>\n",
       "      <td>1.000000</td>\n",
       "      <td>0.916428</td>\n",
       "    </tr>\n",
       "    <tr>\n",
       "      <th>음수량</th>\n",
       "      <td>0.283098</td>\n",
       "      <td>0.537268</td>\n",
       "      <td>1.000000</td>\n",
       "      <td>0.127471</td>\n",
       "      <td>0.012856</td>\n",
       "      <td>0.916428</td>\n",
       "      <td>1.000000</td>\n",
       "    </tr>\n",
       "  </tbody>\n",
       "</table>\n",
       "</div>"
      ],
      "text/plain": [
       "                나이  산책시간(시간)        체중    성별_라벨링   중성화_라벨링    크기_라벨링       음수량\n",
       "나이        1.000000 -0.056727  0.283098  0.097001  0.366550  0.202140  0.283098\n",
       "산책시간(시간) -0.056727  1.000000  0.537268  0.047376 -0.064798  0.477659  0.537268\n",
       "체중        0.283098  0.537268  1.000000  0.127471  0.012856  0.916428  1.000000\n",
       "성별_라벨링    0.097001  0.047376  0.127471  1.000000  0.183315  0.110984  0.127471\n",
       "중성화_라벨링   0.366550 -0.064798  0.012856  0.183315  1.000000 -0.034216  0.012856\n",
       "크기_라벨링    0.202140  0.477659  0.916428  0.110984 -0.034216  1.000000  0.916428\n",
       "음수량       0.283098  0.537268  1.000000  0.127471  0.012856  0.916428  1.000000"
      ]
     },
     "execution_count": 13,
     "metadata": {},
     "output_type": "execute_result"
    }
   ],
   "source": [
    "C1.corr()"
   ]
  },
  {
   "cell_type": "code",
   "execution_count": 14,
   "id": "b1dee094-c38f-44d7-94cc-158614e81602",
   "metadata": {},
   "outputs": [
    {
     "data": {
      "text/plain": [
       "<AxesSubplot:>"
      ]
     },
     "execution_count": 14,
     "metadata": {},
     "output_type": "execute_result"
    },
    {
     "data": {
      "image/png": "[encoded data removed]",
      "text/plain": [
       "<Figure size 1152x648 with 2 Axes>"
      ]
     },
     "metadata": {
      "needs_background": "light"
     },
     "output_type": "display_data"
    }
   ],
   "source": [
    "plt.figure(figsize = (16,9))\n",
    "\n",
    "sns.heatmap(data = C1.corr(),\n",
    "           cmap = 'Blues', \n",
    "           annot = True, fmt = '0.4f')"
   ]
  },
  {
   "cell_type": "code",
   "execution_count": 15,
   "id": "e688d300-7539-4da5-ad58-48387413dd94",
   "metadata": {},
   "outputs": [
    {
     "name": "stdout",
     "output_type": "stream",
     "text": [
      "나이과 크기의 상관관계:0.2021404585500324\n",
      "산책시간(시간)과 크기의 상관관계:0.47765942510271586\n",
      "체중과 크기의 상관관계:0.9164284511703006\n",
      "성별_라벨링과 크기의 상관관계:0.1109842052361599\n",
      "중성화_라벨링과 크기의 상관관계:-0.03421605948347803\n",
      "크기_라벨링과 크기의 상관관계:1.0\n",
      "음수량과 크기의 상관관계:0.9164284511703032\n"
     ]
    }
   ],
   "source": [
    "corr_bar = []\n",
    "\n",
    "for column in C1.columns:\n",
    "    print(f\"{column}과 크기의 상관관계:{C1[column].corr(C1['크기_라벨링'])}\")\n",
    "    corr_bar.append(C1[column].corr(C1['크기_라벨링']))"
   ]
  },
  {
   "cell_type": "code",
   "execution_count": 16,
   "id": "cda9392f-dd9e-4f87-86bf-f9f142b3de61",
   "metadata": {},
   "outputs": [
    {
     "data": {
      "image/png": "[encoded data removed]",
      "text/plain": [
       "<Figure size 1080x576 with 1 Axes>"
      ]
     },
     "metadata": {
      "needs_background": "light"
     },
     "output_type": "display_data"
    }
   ],
   "source": [
    "plt.figure(figsize = (15,8))\n",
    "sns.barplot(C1.columns, corr_bar)\n",
    "plt.show()"
   ]
  },
  {
   "cell_type": "code",
   "execution_count": null,
   "id": "acca219c-bdb5-4829-ad82-117bb639a05e",
   "metadata": {},
   "outputs": [],
   "source": []
  },
  {
   "cell_type": "code",
   "execution_count": 17,
   "id": "2c981039-15ae-433e-95e1-bd65484856f4",
   "metadata": {},
   "outputs": [
    {
     "name": "stdout",
     "output_type": "stream",
     "text": [
      "(5674, 7)\n"
     ]
    }
   ],
   "source": [
    "# 반려동물 데이터는 7개의 차원으로 이루어져 있음 \n",
    "print(C1.shape)"
   ]
  },
  {
   "cell_type": "code",
   "execution_count": null,
   "id": "7d42e332-00e6-4bbb-9cf1-6a5768aa9798",
   "metadata": {},
   "outputs": [],
   "source": []
  },
  {
   "cell_type": "markdown",
   "id": "f6a8e745-667b-4642-a415-7ece4cee00c6",
   "metadata": {
    "tags": []
   },
   "source": [
    "# ElbowPoint"
   ]
  },
  {
   "cell_type": "code",
   "execution_count": 18,
   "id": "71c243d1-cad6-41b3-9bdc-67f9fe68a505",
   "metadata": {},
   "outputs": [],
   "source": [
    "# 군집화 라이브러리 불러오기 .\n",
    "from sklearn.preprocessing import StandardScaler\n",
    "from sklearn.decomposition import PCA\n",
    "from sklearn.cluster import KMeans\n",
    "from sklearn.manifold import TSNE"
   ]
  },
  {
   "cell_type": "code",
   "execution_count": 19,
   "id": "79d98985-0502-4da8-812f-bf226d6675c9",
   "metadata": {},
   "outputs": [],
   "source": [
    "y = C1['크기_라벨링']"
   ]
  },
  {
   "cell_type": "code",
   "execution_count": 20,
   "id": "da070faf-28c4-492a-8547-65f64139eae4",
   "metadata": {},
   "outputs": [],
   "source": [
    "data = C1.drop(['크기_라벨링'], axis = 1)"
   ]
  },
  {
   "cell_type": "code",
   "execution_count": 21,
   "id": "527b6efe-6292-43c3-bd0b-85125767e91e",
   "metadata": {},
   "outputs": [],
   "source": [
    "kmc = KMeans(n_clusters = 3,\n",
    "             init = 'random',\n",
    "             max_iter = 100,\n",
    "             random_state = 0)\n",
    "kmc.fit(data)\n",
    "label_kmc = kmc.labels_"
   ]
  },
  {
   "cell_type": "code",
   "execution_count": 22,
   "id": "808a4f2d-3917-49da-8687-5c816ba087a4",
   "metadata": {},
   "outputs": [
    {
     "data": {
      "text/html": [
       "<div>\n",
       "<style scoped>\n",
       "    .dataframe tbody tr th:only-of-type {\n",
       "        vertical-align: middle;\n",
       "    }\n",
       "\n",
       "    .dataframe tbody tr th {\n",
       "        vertical-align: top;\n",
       "    }\n",
       "\n",
       "    .dataframe thead th {\n",
       "        text-align: right;\n",
       "    }\n",
       "</style>\n",
       "<table border=\"1\" class=\"dataframe\">\n",
       "  <thead>\n",
       "    <tr style=\"text-align: right;\">\n",
       "      <th></th>\n",
       "      <th>kmc_comp1</th>\n",
       "      <th>kmc_comp2</th>\n",
       "      <th>target</th>\n",
       "      <th>label_kmc</th>\n",
       "    </tr>\n",
       "  </thead>\n",
       "  <tbody>\n",
       "    <tr>\n",
       "      <th>0</th>\n",
       "      <td>NaN</td>\n",
       "      <td>NaN</td>\n",
       "      <td>2</td>\n",
       "      <td>2</td>\n",
       "    </tr>\n",
       "    <tr>\n",
       "      <th>1</th>\n",
       "      <td>NaN</td>\n",
       "      <td>NaN</td>\n",
       "      <td>2</td>\n",
       "      <td>2</td>\n",
       "    </tr>\n",
       "    <tr>\n",
       "      <th>2</th>\n",
       "      <td>NaN</td>\n",
       "      <td>NaN</td>\n",
       "      <td>2</td>\n",
       "      <td>2</td>\n",
       "    </tr>\n",
       "    <tr>\n",
       "      <th>3</th>\n",
       "      <td>NaN</td>\n",
       "      <td>NaN</td>\n",
       "      <td>2</td>\n",
       "      <td>2</td>\n",
       "    </tr>\n",
       "    <tr>\n",
       "      <th>4</th>\n",
       "      <td>NaN</td>\n",
       "      <td>NaN</td>\n",
       "      <td>2</td>\n",
       "      <td>2</td>\n",
       "    </tr>\n",
       "    <tr>\n",
       "      <th>...</th>\n",
       "      <td>...</td>\n",
       "      <td>...</td>\n",
       "      <td>...</td>\n",
       "      <td>...</td>\n",
       "    </tr>\n",
       "    <tr>\n",
       "      <th>5669</th>\n",
       "      <td>NaN</td>\n",
       "      <td>NaN</td>\n",
       "      <td>0</td>\n",
       "      <td>0</td>\n",
       "    </tr>\n",
       "    <tr>\n",
       "      <th>5670</th>\n",
       "      <td>NaN</td>\n",
       "      <td>NaN</td>\n",
       "      <td>0</td>\n",
       "      <td>0</td>\n",
       "    </tr>\n",
       "    <tr>\n",
       "      <th>5671</th>\n",
       "      <td>NaN</td>\n",
       "      <td>NaN</td>\n",
       "      <td>0</td>\n",
       "      <td>0</td>\n",
       "    </tr>\n",
       "    <tr>\n",
       "      <th>5672</th>\n",
       "      <td>NaN</td>\n",
       "      <td>NaN</td>\n",
       "      <td>0</td>\n",
       "      <td>0</td>\n",
       "    </tr>\n",
       "    <tr>\n",
       "      <th>5673</th>\n",
       "      <td>NaN</td>\n",
       "      <td>NaN</td>\n",
       "      <td>1</td>\n",
       "      <td>1</td>\n",
       "    </tr>\n",
       "  </tbody>\n",
       "</table>\n",
       "<p>5674 rows × 4 columns</p>\n",
       "</div>"
      ],
      "text/plain": [
       "      kmc_comp1  kmc_comp2  target  label_kmc\n",
       "0           NaN        NaN       2          2\n",
       "1           NaN        NaN       2          2\n",
       "2           NaN        NaN       2          2\n",
       "3           NaN        NaN       2          2\n",
       "4           NaN        NaN       2          2\n",
       "...         ...        ...     ...        ...\n",
       "5669        NaN        NaN       0          0\n",
       "5670        NaN        NaN       0          0\n",
       "5671        NaN        NaN       0          0\n",
       "5672        NaN        NaN       0          0\n",
       "5673        NaN        NaN       1          1\n",
       "\n",
       "[5674 rows x 4 columns]"
      ]
     },
     "execution_count": 22,
     "metadata": {},
     "output_type": "execute_result"
    }
   ],
   "source": [
    "kmc_columns = ['kmc_comp1','kmc_comp2']\n",
    "data_kmc_df = pd.DataFrame(data, columns = kmc_columns)\n",
    "data_kmc_df['target'] = y\n",
    "data_kmc_df['label_kmc'] = label_kmc\n",
    "data_kmc_df"
   ]
  },
  {
   "cell_type": "code",
   "execution_count": null,
   "id": "ff40e298-d6ef-4db4-9aae-f1eff18c850c",
   "metadata": {},
   "outputs": [],
   "source": []
  },
  {
   "cell_type": "code",
   "execution_count": null,
   "id": "48d84541-7476-4baa-8699-21f86958bb53",
   "metadata": {},
   "outputs": [],
   "source": []
  },
  {
   "cell_type": "code",
   "execution_count": null,
   "id": "885b0a77-f6bf-41ba-a44d-adf62c11c010",
   "metadata": {},
   "outputs": [],
   "source": []
  },
  {
   "cell_type": "code",
   "execution_count": 23,
   "id": "401f21a8-d123-47d6-95c9-1ca33fdb3255",
   "metadata": {},
   "outputs": [
    {
     "ename": "NameError",
     "evalue": "name 'x' is not defined",
     "output_type": "error",
     "traceback": [
      "\u001b[1;31m---------------------------------------------------------------------------\u001b[0m",
      "\u001b[1;31mNameError\u001b[0m                                 Traceback (most recent call last)",
      "\u001b[1;32m~\\AppData\\Local\\Temp/ipykernel_14364/2447799806.py\u001b[0m in \u001b[0;36m<module>\u001b[1;34m\u001b[0m\n\u001b[0;32m      1\u001b[0m \u001b[1;31m# 그래프 그리기\u001b[0m\u001b[1;33m\u001b[0m\u001b[1;33m\u001b[0m\u001b[0m\n\u001b[0;32m      2\u001b[0m \u001b[0mplt\u001b[0m\u001b[1;33m.\u001b[0m\u001b[0mfigure\u001b[0m\u001b[1;33m(\u001b[0m\u001b[0mfigsize\u001b[0m \u001b[1;33m=\u001b[0m \u001b[1;33m(\u001b[0m\u001b[1;36m15\u001b[0m\u001b[1;33m,\u001b[0m\u001b[1;36m8\u001b[0m\u001b[1;33m)\u001b[0m\u001b[1;33m)\u001b[0m\u001b[1;33m\u001b[0m\u001b[1;33m\u001b[0m\u001b[0m\n\u001b[1;32m----> 3\u001b[1;33m \u001b[0mplt\u001b[0m\u001b[1;33m.\u001b[0m\u001b[0mplot\u001b[0m\u001b[1;33m(\u001b[0m\u001b[0mx\u001b[0m\u001b[1;33m,\u001b[0m \u001b[0my\u001b[0m\u001b[1;33m)\u001b[0m\u001b[1;33m\u001b[0m\u001b[1;33m\u001b[0m\u001b[0m\n\u001b[0m\u001b[0;32m      4\u001b[0m \u001b[0mplt\u001b[0m\u001b[1;33m.\u001b[0m\u001b[0mshow\u001b[0m\u001b[1;33m(\u001b[0m\u001b[1;33m)\u001b[0m\u001b[1;33m\u001b[0m\u001b[1;33m\u001b[0m\u001b[0m\n",
      "\u001b[1;31mNameError\u001b[0m: name 'x' is not defined"
     ]
    },
    {
     "data": {
      "text/plain": [
       "<Figure size 1080x576 with 0 Axes>"
      ]
     },
     "metadata": {},
     "output_type": "display_data"
    }
   ],
   "source": [
    "# 그래프 그리기\n",
    "plt.figure(figsize = (15,8))\n",
    "plt.plot(x, y)\n",
    "plt.show()"
   ]
  },
  {
   "cell_type": "code",
   "execution_count": null,
   "id": "f2f62cc2-88b9-4ed1-9b8a-f5bc30af5cd8",
   "metadata": {},
   "outputs": [],
   "source": []
  },
  {
   "cell_type": "code",
   "execution_count": null,
   "id": "ee1067d3-cb79-4cfb-9eda-ad67efb21022",
   "metadata": {},
   "outputs": [],
   "source": []
  },
  {
   "cell_type": "raw",
   "id": "9922c41a-36f5-4800-aaa9-fefbf33c3559",
   "metadata": {},
   "source": [
    "군집화를 통해서 비슷한 성향을 가진 그룹을 찾아보자"
   ]
  },
  {
   "cell_type": "code",
   "execution_count": null,
   "id": "5864989c-548c-486c-b952-15e62e926182",
   "metadata": {},
   "outputs": [],
   "source": [
    "#정규화 진행 및 객체 생성\n",
    "scaler = StandardScaler()"
   ]
  },
  {
   "cell_type": "code",
   "execution_count": null,
   "id": "026b0db9-39c8-4adb-a385-ff0fe061d38e",
   "metadata": {},
   "outputs": [],
   "source": [
    "#데이터 학습 \n",
    "scaler.fit(data)"
   ]
  },
  {
   "cell_type": "code",
   "execution_count": null,
   "id": "be5a7358-e3e1-40bf-9cad-016c97780c44",
   "metadata": {},
   "outputs": [],
   "source": [
    "scaler_data = scaler.transform(data)"
   ]
  },
  {
   "cell_type": "code",
   "execution_count": null,
   "id": "a1786e4f-4701-4ae6-b889-4653484791ba",
   "metadata": {},
   "outputs": [],
   "source": [
    "#객체생성 (2개의 객체 만들것임)\n",
    "pca = PCA(n_components = 2)"
   ]
  },
  {
   "cell_type": "code",
   "execution_count": null,
   "id": "eaaf0530-39f1-43e9-9ec9-7d293c66f926",
   "metadata": {},
   "outputs": [],
   "source": [
    "pca.fit(scaler_data)"
   ]
  },
  {
   "cell_type": "code",
   "execution_count": null,
   "id": "4be45015-8853-45de-b3bd-cd24b9caedcf",
   "metadata": {},
   "outputs": [],
   "source": [
    "pca.transform(scaler_data)"
   ]
  },
  {
   "cell_type": "code",
   "execution_count": null,
   "id": "53951683-44f5-42e5-839b-c4b257f68598",
   "metadata": {},
   "outputs": [],
   "source": [
    "#2개의 피쳐로 학습된 데이터를 데이터프레임 형태로 변환해주자 \n",
    "data = pd.DataFrame(data = pca.transform(scaler_data), columns = ['pc1', 'pc2'])\n",
    "data.head()"
   ]
  },
  {
   "cell_type": "code",
   "execution_count": null,
   "id": "e9c1b888-9128-4f6c-8030-f35b95d8a9d9",
   "metadata": {},
   "outputs": [],
   "source": [
    "x = [] #k가 몇개인지 -\n",
    "y = [] #응집도가 몇인지 \n",
    "\n",
    "# 범위가 1~30인 이유\n",
    "for k in range (1,30): \n",
    "    kmeans = KMeans(n_clusters = k) # 1~ 29개의 군집화 된 객체를 kmeans라고 함   \n",
    "    kmeans.fit(data)               # kmeans에다가 data2를 학습시킬것임 \n",
    "    \n",
    "    x.append(k)\n",
    "    y.append(kmeans.inertia_)\n",
    "\n",
    "    \n",
    "#k가 n개 일 때 응집도는 a라고 이해하면 된다 "
   ]
  },
  {
   "cell_type": "code",
   "execution_count": null,
   "id": "cbce6dbe-a904-410b-a221-302521326e0e",
   "metadata": {},
   "outputs": [],
   "source": [
    "#그래프 그리기\n",
    "plt.plot(x,y)"
   ]
  },
  {
   "cell_type": "code",
   "execution_count": null,
   "id": "07008098-1fed-4689-97fa-23cae1d0cdc4",
   "metadata": {},
   "outputs": [],
   "source": [
    "# 3개로 군집화 된 객체를 생성 \n",
    "kmeans = KMeans(n_clusters = 3)"
   ]
  },
  {
   "cell_type": "code",
   "execution_count": null,
   "id": "874c73de-67fa-47cb-820f-e86a8a645669",
   "metadata": {},
   "outputs": [],
   "source": [
    "# 군집화 할 데이터 'data'를 학습시키기 \n",
    "kmeans.fit(data)"
   ]
  },
  {
   "cell_type": "code",
   "execution_count": null,
   "id": "3148f9f4-cbe3-44eb-9591-ea37d0f6b2b9",
   "metadata": {},
   "outputs": [],
   "source": [
    "# 학습된 kmeans의 응집도 확인 (각 데이터로부터 자신이 속한 군집의 중심까지의 거리)\n",
    "# 응집도가 낮을수록 군집화가 더 잘되어있는 것이다"
   ]
  },
  {
   "cell_type": "code",
   "execution_count": null,
   "id": "d6955b62-3b75-41e0-a40c-bff1551b3f45",
   "metadata": {},
   "outputs": [],
   "source": [
    "# 학습된 데이터를  labels 라는 컬럼에 넣어주자 \n",
    "data['labels'] = kmeans.predict(data)"
   ]
  },
  {
   "cell_type": "code",
   "execution_count": null,
   "id": "20bc2b43-2253-4079-962c-fe36cfc74f5e",
   "metadata": {},
   "outputs": [],
   "source": [
    "data.head()"
   ]
  },
  {
   "cell_type": "code",
   "execution_count": null,
   "id": "f3c5aff4-7135-492c-ae6e-812fa1d91a3e",
   "metadata": {},
   "outputs": [],
   "source": [
    "# 위의 값들을 시각화 할거고 그래서 pca를 만든것 "
   ]
  },
  {
   "cell_type": "code",
   "execution_count": null,
   "id": "261a8bc2-3276-4525-af48-a6871bb165cb",
   "metadata": {},
   "outputs": [],
   "source": [
    "sns.scatterplot(x = 'pc1', y = 'pc2', hue = 'labels', data = data)"
   ]
  },
  {
   "cell_type": "code",
   "execution_count": null,
   "id": "a491a0ec-21e5-48e8-a192-f06997ba0641",
   "metadata": {},
   "outputs": [],
   "source": []
  },
  {
   "cell_type": "code",
   "execution_count": null,
   "id": "e768c109-4eba-4fda-969e-8ff59df4c60f",
   "metadata": {},
   "outputs": [],
   "source": []
  },
  {
   "cell_type": "code",
   "execution_count": null,
   "id": "6090ee1b-ad3e-4d88-b5d0-68a928017f02",
   "metadata": {},
   "outputs": [],
   "source": []
  }
 ],
 "metadata": {
  "kernelspec": {
   "display_name": "Python 3 (ipykernel)",
   "language": "python",
   "name": "python3"
  },
  "language_info": {
   "codemirror_mode": {
    "name": "ipython",
    "version": 3
   },
   "file_extension": ".py",
   "mimetype": "text/x-python",
   "name": "python",
   "nbconvert_exporter": "python",
   "pygments_lexer": "ipython3",
   "version": "3.9.7"
  }
 },
 "nbformat": 4,
 "nbformat_minor": 5
}
